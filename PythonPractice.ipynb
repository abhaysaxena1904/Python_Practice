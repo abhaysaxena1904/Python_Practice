{
  "cells": [
    {
      "cell_type": "markdown",
      "metadata": {
        "colab_type": "text",
        "id": "view-in-github"
      },
      "source": [
        "<a href=\"https://colab.research.google.com/github/abhaysaxena1904/Python_Practice/blob/main/PythonPractice.ipynb\" target=\"_parent\"><img src=\"https://colab.research.google.com/assets/colab-badge.svg\" alt=\"Open In Colab\"/></a>"
      ]
    },
    {
      "attachments": {},
      "cell_type": "markdown",
      "metadata": {
        "id": "szIheDRwOSQn"
      },
      "source": [
        "# Python Notebook from GitHub\n",
        "Github First_branch merge "
      ]
    },
    {
      "cell_type": "markdown",
      "metadata": {
        "id": "wsfwnNELn-jQ"
      },
      "source": [
        "## Problems"
      ]
    },
    {
      "cell_type": "markdown",
      "metadata": {
        "id": "x2HR_sNcn-jS"
      },
      "source": [
        "##### Factorial"
      ]
    },
    {
      "cell_type": "code",
      "execution_count": null,
      "metadata": {
        "colab": {
          "base_uri": "https://localhost:8080/"
        },
        "id": "1S3XbHL_4-js",
        "outputId": "97814f54-fdcb-44e0-d1a6-d296295e464a"
      },
      "outputs": [
        {
          "data": {
            "text/plain": [
              "120"
            ]
          },
          "execution_count": 1,
          "metadata": {},
          "output_type": "execute_result"
        }
      ],
      "source": [
        "# factorial with multiplication operator\n",
        "\n",
        "def fact(x):\n",
        "  if x==1:\n",
        "    return 1\n",
        "  return x*fact(x-1)\n",
        "\n",
        "fact(5)"
      ]
    },
    {
      "cell_type": "markdown",
      "metadata": {
        "id": "BaH3LZFsn-jd"
      },
      "source": [
        "##### Palindrome"
      ]
    },
    {
      "cell_type": "code",
      "execution_count": null,
      "metadata": {
        "colab": {
          "base_uri": "https://localhost:8080/"
        },
        "id": "s4yBpaUh5CU-",
        "outputId": "688c82d1-1805-44a1-f795-300ec7bb5606"
      },
      "outputs": [
        {
          "data": {
            "text/plain": [
              "True"
            ]
          },
          "metadata": {},
          "output_type": "display_data"
        }
      ],
      "source": [
        "# Palindrome\n",
        "x  = \"121\"\n",
        "def pal(x):\n",
        "  l = [i for i in x]  \n",
        "  for i in range(len(l)):\n",
        "    if l[i] == l[-i-1]:\n",
        "      pass\n",
        "    else:\n",
        "      return False\n",
        "  return True\n",
        "pal(x)"
      ]
    },
    {
      "cell_type": "markdown",
      "metadata": {
        "id": "iWtAEZ0on-ji"
      },
      "source": [
        "##### Lists to Dict"
      ]
    },
    {
      "cell_type": "code",
      "execution_count": null,
      "metadata": {
        "colab": {
          "base_uri": "https://localhost:8080/"
        },
        "id": "VvSNq3qJ5CPZ",
        "outputId": "ade23d08-b293-44a0-c870-4083f9229242"
      },
      "outputs": [
        {
          "data": {
            "text/plain": [
              "{1: 'a', 2: 'b', 3: 'c'}"
            ]
          },
          "execution_count": 2,
          "metadata": {},
          "output_type": "execute_result"
        }
      ],
      "source": [
        "l1 = [1,2,3]\n",
        "l2 = ['a','b','c']\n",
        "l3 = {}\n",
        "for k,v in zip(l1,l2):\n",
        "  l3[k] = v\n",
        "l3\n",
        "\n",
        "\n",
        "\"\"\"\n",
        "d1 = {}\n",
        "for i in range(len(l1)):\n",
        "  d1[l1[i]] = l2[i]\n",
        "d1\n",
        "\"\"\"\n",
        "\n",
        "\"\"\"\n",
        "dict(zip(l1,l2))\n",
        "\"\"\""
      ]
    },
    {
      "cell_type": "markdown",
      "metadata": {
        "id": "H68WPV8bn-jn"
      },
      "source": [
        "##### Reverse a list"
      ]
    },
    {
      "cell_type": "code",
      "execution_count": null,
      "metadata": {
        "id": "fgikwi-PELkx",
        "outputId": "c5be5935-9c73-48a6-a23c-16b685fe696f"
      },
      "outputs": [
        {
          "data": {
            "text/plain": [
              "[5, 4, 3, 2, 1]"
            ]
          },
          "execution_count": 6,
          "metadata": {},
          "output_type": "execute_result"
        }
      ],
      "source": [
        "# reverse a list\n",
        "l= [1,2,3,4,5]\n",
        "#l[::-1]\n",
        "#l[len(l)::-1]\n",
        "l.reverse()\n",
        "l"
      ]
    },
    {
      "cell_type": "markdown",
      "metadata": {
        "id": "rZ07NR_Vn-jv"
      },
      "source": [
        "### Map, Reduce, Filter Function"
      ]
    },
    {
      "cell_type": "markdown",
      "metadata": {
        "id": "1guL5bVin-jx"
      },
      "source": [
        "##### using map function"
      ]
    },
    {
      "cell_type": "code",
      "execution_count": null,
      "metadata": {
        "colab": {
          "base_uri": "https://localhost:8080/"
        },
        "id": "qPyhBYNvE8PK",
        "outputId": "39b89d95-60af-4ce9-a89b-f6447882bf99"
      },
      "outputs": [
        {
          "data": {
            "text/plain": [
              "[1, 4, 9]"
            ]
          },
          "execution_count": 6,
          "metadata": {},
          "output_type": "execute_result"
        }
      ],
      "source": [
        "list(map(lambda x:x**2,[1,2,3]))"
      ]
    },
    {
      "cell_type": "markdown",
      "metadata": {
        "id": "qrUIFK-an-j1"
      },
      "source": [
        "### Lambda Function"
      ]
    },
    {
      "cell_type": "code",
      "execution_count": null,
      "metadata": {
        "colab": {
          "base_uri": "https://localhost:8080/"
        },
        "id": "JrbQMXNq3uH8",
        "outputId": "cf2a011a-9240-44b4-9a7f-1a16d06ca563"
      },
      "outputs": [
        {
          "data": {
            "text/plain": [
              "[1, 3, 5, 7, 9]"
            ]
          },
          "execution_count": 8,
          "metadata": {},
          "output_type": "execute_result"
        }
      ],
      "source": [
        "l = list(range(1,11))\n",
        "f = lambda l: [x for x in l if x%2!=0] \n",
        "f(l)"
      ]
    },
    {
      "cell_type": "code",
      "execution_count": null,
      "metadata": {
        "colab": {
          "base_uri": "https://localhost:8080/"
        },
        "id": "vgewyW0_YTQb",
        "outputId": "44989e47-ea8a-42f1-b2fc-69eb4965c70b"
      },
      "outputs": [
        {
          "data": {
            "text/plain": [
              "[2, 4, 6, 8, 10]"
            ]
          },
          "execution_count": 87,
          "metadata": {},
          "output_type": "execute_result"
        }
      ],
      "source": [
        "t = list(range(1,11))\n",
        "f = lambda x: [x for x in t if x%2==0] \n",
        "a = 'ram'\n",
        "f(a)"
      ]
    },
    {
      "cell_type": "code",
      "execution_count": null,
      "metadata": {
        "colab": {
          "base_uri": "https://localhost:8080/",
          "height": 187
        },
        "id": "lkbmZeYbcN6d",
        "outputId": "f0f30459-e5ed-452f-e5dc-1c599fc5156c"
      },
      "outputs": [
        {
          "data": {
            "text/plain": [
              "63"
            ]
          },
          "execution_count": 9,
          "metadata": {},
          "output_type": "execute_result"
        }
      ],
      "source": [
        "f = lambda x,y: x*y\n",
        "f(7,9)"
      ]
    },
    {
      "cell_type": "markdown",
      "metadata": {
        "id": "YuAejlwyn-j_"
      },
      "source": [
        "### List Comprehension"
      ]
    },
    {
      "cell_type": "code",
      "execution_count": null,
      "metadata": {
        "id": "Tz-4W2zLZXUF"
      },
      "outputs": [],
      "source": [
        "p = [x%2!=0 for x in l]"
      ]
    },
    {
      "cell_type": "code",
      "execution_count": null,
      "metadata": {
        "colab": {
          "base_uri": "https://localhost:8080/"
        },
        "id": "FbuxmbeVewKV",
        "outputId": "5afc9d5f-e898-4807-f03d-d04cad989b83"
      },
      "outputs": [
        {
          "data": {
            "text/plain": [
              "4"
            ]
          },
          "execution_count": 14,
          "metadata": {},
          "output_type": "execute_result"
        }
      ],
      "source": [
        "# Return the value of 4 to the power of 3, modulus 5 (same as (4 * 4 * 4) % 5):\n",
        "\n",
        "\n",
        "pow(4,3,5)"
      ]
    },
    {
      "cell_type": "code",
      "execution_count": null,
      "metadata": {
        "colab": {
          "base_uri": "https://localhost:8080/"
        },
        "id": "9pt-SHB_ewCx",
        "outputId": "2886d626-6c8f-4ab8-bfed-31673778d8ec"
      },
      "outputs": [
        {
          "name": "stdout",
          "output_type": "stream",
          "text": [
            "b\n"
          ]
        }
      ],
      "source": [
        "func = (lambda x, y, z: x if x > y & x > z else y if y > z else z)\n",
        "print(chr(func(ord('b'), ord('a'), ord('C'))))"
      ]
    },
    {
      "cell_type": "code",
      "execution_count": null,
      "metadata": {
        "colab": {
          "base_uri": "https://localhost:8080/"
        },
        "id": "7AhhwxvlnUPq",
        "outputId": "6ad5c9de-597b-4ce2-9426-7f9789748ccc"
      },
      "outputs": [
        {
          "data": {
            "text/plain": [
              "5"
            ]
          },
          "execution_count": 17,
          "metadata": {},
          "output_type": "execute_result"
        }
      ],
      "source": [
        "t = (3)\n",
        "#t+(2,)\n",
        "\n",
        "t+2"
      ]
    },
    {
      "cell_type": "code",
      "execution_count": null,
      "metadata": {
        "colab": {
          "base_uri": "https://localhost:8080/"
        },
        "id": "F3n7yN3_nXov",
        "outputId": "7451f050-bb6c-4a70-c76c-e9395934ccd7"
      },
      "outputs": [
        {
          "data": {
            "text/plain": [
              "5040"
            ]
          },
          "execution_count": 6,
          "metadata": {},
          "output_type": "execute_result"
        }
      ],
      "source": [
        "n = 7\n",
        "from functools import reduce\n",
        "l = list(range(1,n+1))\n",
        "reduce(lambda x,y: x*y, l)"
      ]
    },
    {
      "cell_type": "code",
      "execution_count": null,
      "metadata": {
        "id": "0Z07LpphnXdw"
      },
      "outputs": [],
      "source": [
        "a='''''''''hfiuayefiwaeyu%8754'''''''''"
      ]
    },
    {
      "cell_type": "code",
      "execution_count": null,
      "metadata": {
        "colab": {
          "base_uri": "https://localhost:8080/"
        },
        "id": "6UKiFwox0otU",
        "outputId": "4dd9d373-e9d2-48e9-d348-17f84051c16f"
      },
      "outputs": [
        {
          "data": {
            "text/plain": [
              "False"
            ]
          },
          "execution_count": 14,
          "metadata": {},
          "output_type": "execute_result"
        }
      ],
      "source": [
        "bool(-7) \n",
        "bool(0)"
      ]
    },
    {
      "cell_type": "code",
      "execution_count": null,
      "metadata": {
        "colab": {
          "base_uri": "https://localhost:8080/"
        },
        "id": "AUsK8bTeK9Zy",
        "outputId": "0176d271-aec7-43a0-b388-b689feca3244"
      },
      "outputs": [
        {
          "name": "stdout",
          "output_type": "stream",
          "text": [
            "0 0\n",
            "0 Abhay\n",
            "1 0\n",
            "1 Chetan\n",
            "2 Chetan\n",
            "2 ...... ['Chetan', 'CJ']\n",
            "2 ['Chetan', 'CJ']\n",
            "3 ['Chetan', 'CJ']\n",
            "3 ['Chetan', 'CJ', 'Abhi']\n",
            "4 Abhay\n",
            "4 ...... ['Abhay', 'mj']\n",
            "4 ['Abhay', 'mj']\n",
            "{'Team2': ['Abhay', 'mj'], 'Team1': ['Chetan', 'CJ', 'Abhi']}\n"
          ]
        }
      ],
      "source": [
        "d = {'Abhay':'Team2','Chetan':'Team1','CJ':'Team1','Abhi':'Team1','mj':'Team2'}\n",
        "# d = {1:6,2:7,3:6,4:7,5:6}\n",
        "l1 = list(d.keys()) \n",
        "l2 = list(d.values())\n",
        "d2 = {k:0 for k in l2}\n",
        "for i in range(len(l1)):\n",
        "  print(i, d2[l2[i]])\n",
        "  if d2[l2[i]] == 0:\n",
        "     d2[l2[i]] = l1[i]\n",
        "  elif type(d2[l2[i]]) != list:\n",
        "    x = [d2[l2[i]]]\n",
        "    x.append(l1[i])\n",
        "    d2[l2[i]] = x\n",
        "    print(i,'......',x)\n",
        "  else : \n",
        "    y = d2[l2[i]]\n",
        "    y.append(l1[i])\n",
        "    d2[l2[i]] = y\n",
        "  print(i, d2[l2[i]])\n",
        "print(d2)"
      ]
    },
    {
      "cell_type": "code",
      "execution_count": null,
      "metadata": {
        "colab": {
          "base_uri": "https://localhost:8080/"
        },
        "id": "HwfJa1wqMs8E",
        "outputId": "ec4cdef1-7df1-413d-dbbc-cd64fe38588f"
      },
      "outputs": [
        {
          "name": "stdout",
          "output_type": "stream",
          "text": [
            "[1, 2, 3, 4, 5]\n",
            "[6, 7, 6, 7, 6]\n"
          ]
        }
      ],
      "source": [
        "print(l1)\n",
        "print(l2)\n",
        "# print(d)\n",
        "# print(len([d[l1[1]]]))\n",
        "# print(d3.append(8))\n",
        "# print(len(['Abhay', 'Chetan']))"
      ]
    },
    {
      "cell_type": "code",
      "execution_count": null,
      "metadata": {
        "colab": {
          "base_uri": "https://localhost:8080/"
        },
        "id": "sCWmF5Rs0o2c",
        "outputId": "2b2aab84-bd95-4520-e6c1-e726b339737b"
      },
      "outputs": [
        {
          "data": {
            "text/plain": [
              "[1, 2, 8]"
            ]
          },
          "execution_count": 100,
          "metadata": {},
          "output_type": "execute_result"
        }
      ],
      "source": [
        "l = [1,2]\n",
        "p = l.append(8)\n",
        "l"
      ]
    },
    {
      "cell_type": "code",
      "execution_count": null,
      "metadata": {
        "colab": {
          "base_uri": "https://localhost:8080/"
        },
        "id": "VSNOMvKU0o77",
        "outputId": "1fb5d79c-82d9-429d-bc5d-8505338cc1d6"
      },
      "outputs": [
        {
          "data": {
            "text/plain": [
              "2"
            ]
          },
          "execution_count": 80,
          "metadata": {},
          "output_type": "execute_result"
        }
      ],
      "source": [
        "len([1,2])"
      ]
    },
    {
      "cell_type": "code",
      "execution_count": null,
      "metadata": {
        "colab": {
          "base_uri": "https://localhost:8080/"
        },
        "id": "s7oi0v0_0pBf",
        "outputId": "c6befef6-a5dd-406f-d6bb-e257372d1b23"
      },
      "outputs": [
        {
          "data": {
            "text/plain": [
              "str"
            ]
          },
          "execution_count": 175,
          "metadata": {},
          "output_type": "execute_result"
        }
      ],
      "source": [
        "type('a')"
      ]
    },
    {
      "cell_type": "code",
      "execution_count": null,
      "metadata": {
        "colab": {
          "base_uri": "https://localhost:8080/"
        },
        "id": "VYkY8P2S9xpB",
        "outputId": "b00f12bc-793e-4665-9f55-0720de65b42a"
      },
      "outputs": [
        {
          "name": "stdout",
          "output_type": "stream",
          "text": [
            "{(4, 2), (3, 1), (4, 1), (5, 2)}\n"
          ]
        }
      ],
      "source": [
        "s1={3, 4}\n",
        "s2={1, 2}\n",
        "s3=set()\n",
        "i=0\n",
        "j=0\n",
        "for i in s1:\n",
        "    for j in s2:\n",
        "        s3.add((i,j))\n",
        "        i+=1\n",
        "        j+=1\n",
        "print(s3)\n"
      ]
    },
    {
      "cell_type": "code",
      "execution_count": null,
      "metadata": {
        "colab": {
          "base_uri": "https://localhost:8080/"
        },
        "id": "Qs_Vi07gA4kt",
        "outputId": "dd8121b6-674e-4f66-e307-bf92163a4214"
      },
      "outputs": [
        {
          "name": "stdout",
          "output_type": "stream",
          "text": [
            "1\n",
            "1\n",
            "1\n",
            "2\n",
            "2\n",
            "2\n"
          ]
        }
      ],
      "source": [
        "i=1\n",
        "\n",
        "while(i<3):\n",
        "\n",
        "  j=0\n",
        "\n",
        "  while(j<3):\n",
        "    print(i%3)\n",
        "    j=j+1\n",
        "\n",
        "  i=i+1"
      ]
    },
    {
      "cell_type": "code",
      "execution_count": null,
      "metadata": {
        "colab": {
          "background_save": true,
          "base_uri": "https://localhost:8080/"
        },
        "id": "f02WCneSA5ZN",
        "outputId": "168e538e-3449-49b5-e0b9-b2d4e33c74dc"
      },
      "outputs": [
        {
          "name": "stdout",
          "output_type": "stream",
          "text": [
            "<list_iterator object at 0x7f25dab96650>\n",
            "1\n",
            "2\n",
            "3\n"
          ]
        },
        {
          "data": {
            "text/plain": [
              "4"
            ]
          },
          "execution_count": null,
          "metadata": {},
          "output_type": "execute_result"
        }
      ],
      "source": [
        "# iterator\n",
        "\n",
        "l = [1,2,3,4]\n",
        "ilst = iter(l)\n",
        "print(ilst)\n",
        "print(next(ilst))\n",
        "print(next(ilst))\n",
        "print(next(ilst))\n"
      ]
    },
    {
      "cell_type": "code",
      "execution_count": null,
      "metadata": {
        "id": "PhLeH5NU0om0"
      },
      "outputs": [],
      "source": [
        "# n = int(input())\n",
        "# 5 = 3 x 1 + 2\n",
        "# 6 = 3 x 2 + 0\n",
        "# 7 = 3 x 2 + 1\n",
        "print(\"Enter the total no of candies : \")\n",
        "n = int(input())\n",
        "if n == 1:\n",
        "  packet = 1\n",
        "elif n == 2:\n",
        "  packet = 2\n",
        "elif n == 2\n"
      ]
    },
    {
      "cell_type": "code",
      "execution_count": null,
      "metadata": {
        "colab": {
          "base_uri": "https://localhost:8080/"
        },
        "id": "0vx95tJ99xl0",
        "outputId": "c610093a-317f-4d45-ee79-a9f970b10239"
      },
      "outputs": [
        {
          "name": "stdout",
          "output_type": "stream",
          "text": [
            "First Day :  3000\n",
            "Second Day :  6000\n",
            "Third Day :  1500\n"
          ]
        }
      ],
      "source": [
        "n = 10500 #= x + 2x + x/2 = 7x/2\n",
        "\n",
        "print(\"First Day : \", int(2*n/7) )\n",
        "print(\"Second Day : \", int(4*n/7) )\n",
        "print(\"Third Day : \", int(2*n/14) )"
      ]
    },
    {
      "cell_type": "code",
      "execution_count": null,
      "metadata": {
        "colab": {
          "base_uri": "https://localhost:8080/"
        },
        "id": "bpMstU8r9xi2",
        "outputId": "cd35b136-456d-4869-900d-3eb60c2c4ca3"
      },
      "outputs": [
        {
          "name": "stdout",
          "output_type": "stream",
          "text": [
            "210\n"
          ]
        }
      ],
      "source": [
        "b = 1/3\n",
        "g = 1/2\n",
        "x = 70  #int(input()) =g-a = 0.5y - 0.1667y\n",
        "a = 1-b-g\n",
        "#y = total\n",
        "y  = x/(0.5-0.1667)\n",
        "print(int(y))"
      ]
    },
    {
      "cell_type": "code",
      "execution_count": null,
      "metadata": {
        "colab": {
          "base_uri": "https://localhost:8080/"
        },
        "id": "gjolM2F-9xgD",
        "outputId": "ac1caf71-f202-4832-8c6c-be8ca249dcfc"
      },
      "outputs": [
        {
          "name": "stdout",
          "output_type": "stream",
          "text": [
            "[1, 2, 3, 4, 5]\n",
            "[1, 2, 3, 9]\n",
            "[1, 2, 4, 8]\n",
            "[1, 2, 5, 7]\n",
            "[1, 3, 4, 7]\n",
            "[1, 3, 5, 6]\n",
            "[2, 3, 4, 6]\n",
            "[1, 5, 9]\n",
            "[1, 6, 8]\n",
            "[2, 4, 9]\n",
            "[2, 5, 8]\n",
            "[2, 6, 7]\n",
            "[3, 4, 8]\n",
            "[3, 5, 7]\n",
            "[4, 5, 6]\n",
            "[6, 9]\n",
            "[7, 8]\n"
          ]
        }
      ],
      "source": [
        "l = list(range(1,10))      #[1, 2, 3, 4, 5, 6, 7, 8, 9, 10]\n",
        "n = 15\n",
        "l.sort()\n",
        "l1 = []\n",
        "\n",
        "import itertools\n",
        "for L in range(len(l)+1,0,-1):\n",
        "    for subset in itertools.combinations(l, L):\n",
        "    # for subset in itertools.combinations_with_replacement(l, L):\n",
        "        l1.append(subset)\n",
        "        # print(L,'...',subset)\n",
        "\n",
        "for i in l1:\n",
        "  if sum(list(i)) == n:\n",
        "    print(list(i))\n",
        "\n"
      ]
    },
    {
      "cell_type": "code",
      "execution_count": null,
      "metadata": {
        "id": "QrtCH6QOjub7"
      },
      "outputs": [],
      "source": [
        "l = list(range(1,11))      #[1, 2, 3, 4, 5, 6, 7, 8, 9, 10]\n",
        "n = 3\n",
        "l.sort()\n",
        "l1 = []"
      ]
    },
    {
      "cell_type": "code",
      "execution_count": null,
      "metadata": {
        "colab": {
          "base_uri": "https://localhost:8080/"
        },
        "id": "rVzAJM4Dhhgm",
        "outputId": "ffdb7321-4aac-482e-a6c3-93c020f96969"
      },
      "outputs": [
        {
          "data": {
            "text/plain": [
              "16"
            ]
          },
          "execution_count": 102,
          "metadata": {},
          "output_type": "execute_result"
        }
      ],
      "source": [
        "sum([2, 2, 3, 4, 5])"
      ]
    },
    {
      "cell_type": "code",
      "execution_count": null,
      "metadata": {
        "colab": {
          "base_uri": "https://localhost:8080/"
        },
        "id": "ahi3lYB4hhdJ",
        "outputId": "6efc2303-5e29-4e23-c455-e84f72f2533a"
      },
      "outputs": [
        {
          "name": "stdout",
          "output_type": "stream",
          "text": [
            "1 2 3\n",
            "1 2 3\n"
          ]
        }
      ],
      "source": [
        "l=list(map(int,input().split()))\n",
        "x = l[0]\n",
        "y= l[1]\n",
        "z = l[2]\n",
        "\n",
        "print(x,y,z)"
      ]
    },
    {
      "cell_type": "code",
      "execution_count": null,
      "metadata": {
        "colab": {
          "base_uri": "https://localhost:8080/"
        },
        "id": "2fZInb5Thhaz",
        "outputId": "63047e42-d85c-489f-ef2d-294ebfcc2aa0"
      },
      "outputs": [
        {
          "data": {
            "text/plain": [
              "[6, 5, 2, 1, 0, -1, -5, -34]"
            ]
          },
          "execution_count": 174,
          "metadata": {},
          "output_type": "execute_result"
        }
      ],
      "source": [
        "l = [1,2,-1,5,-5,6,-34,0]\n",
        "for i in range(len(l)):\n",
        "  for j in range(len(l)-i-1):\n",
        "    if l[j]<l[j+1]:\n",
        "      l[j],l[j+1] = l[j+1],l[j]\n",
        "\n",
        "l"
      ]
    },
    {
      "cell_type": "code",
      "execution_count": null,
      "metadata": {
        "colab": {
          "base_uri": "https://localhost:8080/"
        },
        "id": "1n_q4VipngQ3",
        "outputId": "aa5b3daf-88b1-4f5e-82ae-1188f3450c70"
      },
      "outputs": [
        {
          "data": {
            "text/plain": [
              "[-34, -5, -1, 0, 1, 2, 5, 6]"
            ]
          },
          "execution_count": 172,
          "metadata": {},
          "output_type": "execute_result"
        }
      ],
      "source": [
        "for i in range(len(l)):\n",
        "  for j in range(len(l)):\n",
        "    if l[i]<l[j]:\n",
        "      l[i],l[j] = l[j],l[i]\n",
        "l"
      ]
    },
    {
      "cell_type": "code",
      "execution_count": null,
      "metadata": {
        "colab": {
          "base_uri": "https://localhost:8080/"
        },
        "id": "nVEpRwtjngNX",
        "outputId": "78b25a86-b894-496f-fd14-10e4a2489d54"
      },
      "outputs": [
        {
          "data": {
            "text/plain": [
              "3"
            ]
          },
          "execution_count": 196,
          "metadata": {},
          "output_type": "execute_result"
        }
      ],
      "source": [
        "# 10 - 1010\n",
        "# 7  - 0111\n",
        "#      1101\n",
        "\n",
        "bin(10^7).count('1')\n",
        "# c=s.count('1')\n",
        "# l = [i for i in s]\n",
        "# c = 0\n",
        "# for i in l:\n",
        "#   if i == '1':\n",
        "#     c +=1\n",
        "\n",
        "# print(c)"
      ]
    },
    {
      "cell_type": "code",
      "execution_count": null,
      "metadata": {
        "colab": {
          "base_uri": "https://localhost:8080/",
          "height": 36
        },
        "id": "vyUBTutzhhX6",
        "outputId": "ff26ff72-d33d-4bb8-bcfe-4790151c783c"
      },
      "outputs": [
        {
          "data": {
            "application/vnd.google.colaboratory.intrinsic+json": {
              "type": "string"
            },
            "text/plain": [
              "'0b1010'"
            ]
          },
          "execution_count": 199,
          "metadata": {},
          "output_type": "execute_result"
        }
      ],
      "source": [
        "bin(10)"
      ]
    },
    {
      "cell_type": "code",
      "execution_count": null,
      "metadata": {
        "id": "npZ4QUrRhhVY"
      },
      "outputs": [],
      "source": [
        "l = [1,2,3,4]\n",
        "m = 3\n",
        "l1 = [0,0,0,0]\n",
        "for i in range(len(l)):\n",
        "  if sum(l)<l:\n",
        "    if sum(l[i:])\n",
        "\n",
        "for i in lc:\n",
        "  print('# of pink is {l1[0]} # of green is {l1[1]} # of red is {l1[2]} # of orange is {l1[3]}')"
      ]
    },
    {
      "cell_type": "code",
      "execution_count": null,
      "metadata": {
        "colab": {
          "base_uri": "https://localhost:8080/"
        },
        "id": "xPuwjOkzhhTF",
        "outputId": "428f8c32-ec9c-4647-8a24-1a08d272d907"
      },
      "outputs": [
        {
          "data": {
            "text/plain": [
              "{1: 1, 2: 1, 3: 1, 4: 1}"
            ]
          },
          "execution_count": 15,
          "metadata": {},
          "output_type": "execute_result"
        }
      ],
      "source": [
        "l1 = [1,2,3,4]\n",
        "l2 = [7,7,8,8]\n",
        "d = {}\n",
        "d = d.fromkeys(l1, next(iter(l2)))\n",
        "d"
      ]
    },
    {
      "cell_type": "code",
      "execution_count": null,
      "metadata": {
        "colab": {
          "base_uri": "https://localhost:8080/"
        },
        "id": "N-UzQ0C-hhQe",
        "outputId": "e24e154e-864f-47fc-e435-850db44c204e"
      },
      "outputs": [
        {
          "data": {
            "text/plain": [
              "True"
            ]
          },
          "execution_count": 12,
          "metadata": {},
          "output_type": "execute_result"
        }
      ],
      "source": [
        "s1 = {1,2,3}\n",
        "s2 = {1,2,3,4,5}\n",
        "s1.issubset(s2)\n",
        "s2.issuperset(s1)"
      ]
    },
    {
      "cell_type": "code",
      "execution_count": null,
      "metadata": {
        "colab": {
          "base_uri": "https://localhost:8080/"
        },
        "id": "IuziQJi4hhN_",
        "outputId": "8aad8b26-1e3c-4aff-bb07-4cea0f7a81b5"
      },
      "outputs": [
        {
          "name": "stdout",
          "output_type": "stream",
          "text": [
            "2 2\n",
            "3 2\n"
          ]
        }
      ],
      "source": [
        "# memory mgmt\n",
        "a = 2\n",
        "b=a\n",
        "print(a,b)\n",
        "\n",
        "a = 3\n",
        "print(a,b)\n"
      ]
    },
    {
      "cell_type": "code",
      "execution_count": null,
      "metadata": {
        "colab": {
          "base_uri": "https://localhost:8080/"
        },
        "id": "OHNSRES09pko",
        "outputId": "7e2d04c8-9b3c-4b21-f86e-f8ed3512efbb"
      },
      "outputs": [
        {
          "data": {
            "text/plain": [
              "range"
            ]
          },
          "execution_count": 7,
          "metadata": {},
          "output_type": "execute_result"
        }
      ],
      "source": [
        "type(range(0,10))"
      ]
    },
    {
      "cell_type": "code",
      "execution_count": null,
      "metadata": {
        "colab": {
          "base_uri": "https://localhost:8080/"
        },
        "id": "hwMBfrsJtQP1",
        "outputId": "3333dde7-5f03-4838-da41-150ce501fe3a"
      },
      "outputs": [
        {
          "name": "stdout",
          "output_type": "stream",
          "text": [
            "[range(0, 10)]\n"
          ]
        }
      ],
      "source": [
        "print([range(10)])"
      ]
    },
    {
      "cell_type": "code",
      "execution_count": null,
      "metadata": {
        "id": "OL8x9hmotQMu"
      },
      "outputs": [],
      "source": [
        "class Cal():\n",
        "  name='abhay'\n",
        "\n",
        "  def __init__(self,a,b):\n",
        "    self.a=a\n",
        "    self.b=b\n",
        "\n",
        "  def add(self):\n",
        "    return self.name"
      ]
    },
    {
      "cell_type": "code",
      "execution_count": null,
      "metadata": {
        "id": "A20WtJwZtQKE"
      },
      "outputs": [],
      "source": [
        "cal_obj=Cal(2,4)"
      ]
    },
    {
      "cell_type": "code",
      "execution_count": null,
      "metadata": {
        "colab": {
          "base_uri": "https://localhost:8080/"
        },
        "id": "Qz7t5nfFtQHl",
        "outputId": "45538b57-5fe6-48dc-d9a8-627e388337b3"
      },
      "outputs": [
        {
          "name": "stdout",
          "output_type": "stream",
          "text": [
            "abhay\n"
          ]
        }
      ],
      "source": [
        "print(cal_obj.add())\n"
      ]
    },
    {
      "cell_type": "code",
      "execution_count": null,
      "metadata": {
        "colab": {
          "base_uri": "https://localhost:8080/",
          "height": 36
        },
        "id": "Z2Z9Y63F86_-",
        "outputId": "b45b061b-d569-4c00-aae3-b96c6b948f96"
      },
      "outputs": [
        {
          "data": {
            "application/vnd.google.colaboratory.intrinsic+json": {
              "type": "string"
            },
            "text/plain": [
              "'abhay'"
            ]
          },
          "execution_count": 78,
          "metadata": {},
          "output_type": "execute_result"
        }
      ],
      "source": [
        "# cal_obj.name\n",
        "\n",
        "Cal().name"
      ]
    },
    {
      "cell_type": "code",
      "execution_count": null,
      "metadata": {
        "id": "yLZ1LOr4tQFC"
      },
      "outputs": [],
      "source": [
        "class Adv_cal(Cal):\n",
        "\n",
        "    def mn(self):\n",
        "\n",
        "      return self.add(1,2) \n"
      ]
    },
    {
      "cell_type": "code",
      "execution_count": null,
      "metadata": {
        "id": "i5EBcZ17yNUb"
      },
      "outputs": [],
      "source": [
        "cal_adv_obj=Adv_cal()"
      ]
    },
    {
      "cell_type": "code",
      "execution_count": null,
      "metadata": {
        "colab": {
          "base_uri": "https://localhost:8080/",
          "height": 184
        },
        "id": "-oxYn1MVybxI",
        "outputId": "67292fb9-b896-4de9-d846-ae1c877ded50"
      },
      "outputs": [
        {
          "ename": "TypeError",
          "evalue": "ignored",
          "output_type": "error",
          "traceback": [
            "\u001b[0;31m---------------------------------------------------------------------------\u001b[0m",
            "\u001b[0;31mTypeError\u001b[0m                                 Traceback (most recent call last)",
            "\u001b[0;32m<ipython-input-22-717689cc4f20>\u001b[0m in \u001b[0;36m<module>\u001b[0;34m()\u001b[0m\n\u001b[0;32m----> 1\u001b[0;31m \u001b[0mprint\u001b[0m\u001b[0;34m(\u001b[0m\u001b[0mcal_adv_obj\u001b[0m\u001b[0;34m.\u001b[0m\u001b[0madd\u001b[0m\u001b[0;34m(\u001b[0m\u001b[0;36m2\u001b[0m\u001b[0;34m,\u001b[0m\u001b[0;36m4\u001b[0m\u001b[0;34m)\u001b[0m\u001b[0;34m)\u001b[0m\u001b[0;34m\u001b[0m\u001b[0;34m\u001b[0m\u001b[0m\n\u001b[0m\u001b[1;32m      2\u001b[0m \u001b[0;31m# print(cal_adv_obj.mal(1,2,4))\u001b[0m\u001b[0;34m\u001b[0m\u001b[0;34m\u001b[0m\u001b[0;34m\u001b[0m\u001b[0m\n",
            "\u001b[0;31mTypeError\u001b[0m: add() missing 1 required positional argument: 'c'"
          ]
        }
      ],
      "source": [
        "print(cal_adv_obj.add(1,2,4))\n",
        "# print(cal_adv_obj.mal(1,2,4))\n"
      ]
    },
    {
      "cell_type": "code",
      "execution_count": null,
      "metadata": {
        "colab": {
          "base_uri": "https://localhost:8080/"
        },
        "id": "vv6tsVE8yj94",
        "outputId": "29493432-b3e8-4972-c57d-d20a65b5f3eb"
      },
      "outputs": [
        {
          "data": {
            "text/plain": [
              "3"
            ]
          },
          "execution_count": 31,
          "metadata": {},
          "output_type": "execute_result"
        }
      ],
      "source": [
        "cal_adv_obj.mn()"
      ]
    },
    {
      "cell_type": "code",
      "execution_count": null,
      "metadata": {
        "id": "mZyfBkR80XfM"
      },
      "outputs": [],
      "source": [
        "class A:\n",
        "  def M1(self,x,y):\n",
        "    return x+y\n",
        "\n",
        "class B(A):\n",
        "  def M2(self,x,y):\n",
        "    return 4*self.M1(x,y)\n",
        "\n",
        "class C(B):\n",
        "  def M3(self,x,y):\n",
        "    return self.M1(x,y) + self.M2(x,y)"
      ]
    },
    {
      "cell_type": "code",
      "execution_count": null,
      "metadata": {
        "id": "-kQZnz4g0XWc"
      },
      "outputs": [],
      "source": [
        "obj = C()\n",
        "obj.M3(2,3)"
      ]
    },
    {
      "cell_type": "code",
      "execution_count": null,
      "metadata": {
        "colab": {
          "base_uri": "https://localhost:8080/"
        },
        "id": "Kb3yxNUv0XTu",
        "outputId": "45b6f392-95e1-4362-8987-35abd4add8ca"
      },
      "outputs": [
        {
          "data": {
            "text/plain": [
              "__main__.C"
            ]
          },
          "execution_count": 9,
          "metadata": {},
          "output_type": "execute_result"
        }
      ],
      "source": [
        "type(obj)"
      ]
    },
    {
      "cell_type": "code",
      "execution_count": null,
      "metadata": {
        "colab": {
          "base_uri": "https://localhost:8080/"
        },
        "id": "GFmrZ7fi0XRQ",
        "outputId": "2d0f088e-6f7e-416d-e5c0-010ca87f35a3"
      },
      "outputs": [
        {
          "data": {
            "text/plain": [
              "(2, 3, 1, 4)"
            ]
          },
          "execution_count": 5,
          "metadata": {},
          "output_type": "execute_result"
        }
      ],
      "source": [
        "((2,3)+(1,4))"
      ]
    },
    {
      "cell_type": "code",
      "execution_count": null,
      "metadata": {
        "colab": {
          "base_uri": "https://localhost:8080/"
        },
        "id": "fomjUGea0XOS",
        "outputId": "81f2bffa-30e9-435b-8adb-f03ca73036fe"
      },
      "outputs": [
        {
          "name": "stdout",
          "output_type": "stream",
          "text": [
            "[4, 8, 18]\n"
          ]
        }
      ],
      "source": [
        "list1 = [1, 2, 3]\n",
        "list2 = [4, 4, 6]\n",
        "products = []\n",
        "# initialize result list\n",
        "\n",
        "\n",
        "for num1, num2 in zip(list1, list2):\n",
        "  products.append(num1 * num2)\n",
        " \n",
        "print(products)\n"
      ]
    },
    {
      "cell_type": "code",
      "execution_count": null,
      "metadata": {
        "colab": {
          "base_uri": "https://localhost:8080/"
        },
        "id": "yR9hkX826f5Y",
        "outputId": "ab8ea5fb-bfdc-40ca-da52-5a20c01e0877"
      },
      "outputs": [
        {
          "name": "stdout",
          "output_type": "stream",
          "text": [
            "abcd\n",
            "efgh\n",
            "ijkl\n",
            "mnop\n",
            "qrst\n",
            "uvwx\n",
            "yz\n"
          ]
        }
      ],
      "source": [
        "s = 'abcdefghijklmnopqrstuvwxyz'\n",
        "max_width = 4\n",
        "\n",
        "def wrap(string, max_width):\n",
        "    return \"\\n\".join([string[i:i+max_width] for i in range(0, len(string), max_width)])\n",
        "\n",
        "    # for i in range(0,len(string),max_width):\n",
        "    #   return \"\\n\".join([string[i:i+max_width]])\n",
        "\n",
        "print(wrap(s,4))"
      ]
    },
    {
      "cell_type": "code",
      "execution_count": null,
      "metadata": {
        "colab": {
          "base_uri": "https://localhost:8080/",
          "height": 36
        },
        "id": "f6WmvlAk6fu3",
        "outputId": "737209f3-7521-460d-ef23-880075ec4c4d"
      },
      "outputs": [
        {
          "data": {
            "application/vnd.google.colaboratory.intrinsic+json": {
              "type": "string"
            },
            "text/plain": [
              "'A1bzC'"
            ]
          },
          "execution_count": 70,
          "metadata": {},
          "output_type": "execute_result"
        }
      ],
      "source": [
        "s = 'a1BZc'\n",
        "k=\"\"\n",
        "for i in s:\n",
        "  if i.islower()==True:\n",
        "    k=k+(i.upper())\n",
        "  elif i.isupper():\n",
        "    k=k+(i.lower())\n",
        "  else: \n",
        "    k=k+i\n",
        "# print(k)\n",
        "k"
      ]
    },
    {
      "cell_type": "code",
      "execution_count": null,
      "metadata": {
        "colab": {
          "base_uri": "https://localhost:8080/"
        },
        "id": "zx7nV1HkuZHT",
        "outputId": "88a791af-6083-43d0-fb49-36f785f0924f"
      },
      "outputs": [
        {
          "data": {
            "text/plain": [
              "True"
            ]
          },
          "execution_count": 46,
          "metadata": {},
          "output_type": "execute_result"
        }
      ],
      "source": [
        "s='a'\n",
        "s.islower()"
      ]
    },
    {
      "cell_type": "code",
      "execution_count": null,
      "metadata": {
        "colab": {
          "base_uri": "https://localhost:8080/"
        },
        "id": "KzYrUoo4uZEc",
        "outputId": "d471b2a1-0da2-4ebc-c103-bfc18bcb28e5"
      },
      "outputs": [
        {
          "data": {
            "text/plain": [
              "False"
            ]
          },
          "execution_count": 69,
          "metadata": {},
          "output_type": "execute_result"
        }
      ],
      "source": [
        "'1'.isupper()"
      ]
    },
    {
      "cell_type": "code",
      "execution_count": null,
      "metadata": {
        "id": "VpeiQc8BGdN2"
      },
      "outputs": [],
      "source": [
        "s = 'Twinkle, twinkle, little star, How I wonder what you are, Up above high in the sky, Like a diamond in the sky '"
      ]
    },
    {
      "cell_type": "code",
      "execution_count": null,
      "metadata": {
        "colab": {
          "base_uri": "https://localhost:8080/"
        },
        "id": "qsywNwqnuZCS",
        "outputId": "7c675745-27bc-42c0-9c90-aaa932b9650f"
      },
      "outputs": [
        {
          "name": "stdout",
          "output_type": "stream",
          "text": [
            "('m1', 'w1', 'w2')\n",
            "('m1', 'w1', 'w3')\n",
            "('m1', 'w2', 'w3')\n"
          ]
        }
      ],
      "source": [
        "m = 1\n",
        "w = 3\n",
        "# diverse is when atleast 1m and 1w in group of 3\n",
        "# from itertools import product, combinations\n",
        "# def diverseDeputation(m, w):\n",
        "#     for n in range(max(3-w,1), min(3,m)):\n",
        "#         for x in product(combinations(range(1,m+1),n), combinations(range(1,w+1),3-n)):\n",
        "#             print(x) #print IDs of men and women\n",
        "def diverseDeputation(m,w):\n",
        "    for im in range(m):\n",
        "        for iw in range(w):\n",
        "            for iw3 in range(iw+1,w):\n",
        "                yield (f\"m{im+1}\",f\"w{iw+1}\",f\"w{iw3+1}\")\n",
        "            for im3 in range(im+1,m):\n",
        "                yield (f\"m{im+1}\",f\"w{iw+1}\",f\"m{im3+1}\")\n",
        "\n",
        "for c in diverseDeputation(m,w): print(c)\n",
        "\n"
      ]
    },
    {
      "cell_type": "code",
      "execution_count": null,
      "metadata": {
        "id": "fzBvdpa3GdEY"
      },
      "outputs": [],
      "source": [
        "s =  'ababx'\n",
        "# min no of deletion required to get that \n",
        "from itertools import combinations\n",
        "l=[]\n",
        "dl = []\n",
        "c = 0\n",
        "for i in range(1,len(s)):\n",
        "  for x in combinations(s,i):\n",
        "    l.append(''.join(x))\n",
        "for i in range(len(l)):\n",
        "  for j in range(i,len(l)):\n",
        "    if sorted(l[i]) == sorted(l[j]) and i!=j:\n",
        "      c=c+1\n",
        "      dl.append(l[i])\n",
        "\n",
        "print(l)\n",
        "print(c)                      # no. of duplicates\n",
        "print(dl)\n",
        "c2=0\n",
        "for i in s:\n",
        "  c1=0\n",
        " \n",
        "  for j in range(len(dl)):\n",
        "    if i in dl[j]:\n",
        "      c1=c1+1\n",
        "  if c1 == 20:\n",
        "    c2=c2+1\n",
        "    print(i,c2)\n"
      ]
    },
    {
      "cell_type": "code",
      "execution_count": null,
      "metadata": {
        "colab": {
          "base_uri": "https://localhost:8080/"
        },
        "id": "fO3S8AkzGc7E",
        "outputId": "29f40787-d320-401b-bcba-a13e7a0231f0"
      },
      "outputs": [
        {
          "data": {
            "text/plain": [
              "False"
            ]
          },
          "execution_count": 24,
          "metadata": {},
          "output_type": "execute_result"
        }
      ],
      "source": [
        "s='aba'\n",
        "sorted_s = ''.join(sorted(s))\n",
        "s== sorted_s"
      ]
    },
    {
      "cell_type": "code",
      "execution_count": null,
      "metadata": {
        "colab": {
          "base_uri": "https://localhost:8080/"
        },
        "id": "HLp1eVQdGcyh",
        "outputId": "a6a10198-43ba-45c9-f315-c1014f6e04b9"
      },
      "outputs": [
        {
          "data": {
            "text/plain": [
              "['a', 'b', 'a', 'b', 'x']"
            ]
          },
          "execution_count": 53,
          "metadata": {},
          "output_type": "execute_result"
        }
      ],
      "source": [
        "[i for i in s]"
      ]
    },
    {
      "cell_type": "code",
      "execution_count": null,
      "metadata": {
        "colab": {
          "base_uri": "https://localhost:8080/"
        },
        "id": "x-02Rk0iGco0",
        "outputId": "c7d76848-b321-4a08-8d1e-3eca28f7595c"
      },
      "outputs": [
        {
          "data": {
            "text/plain": [
              "True"
            ]
          },
          "execution_count": 54,
          "metadata": {},
          "output_type": "execute_result"
        }
      ],
      "source": [
        "'a' in s"
      ]
    },
    {
      "cell_type": "code",
      "execution_count": null,
      "metadata": {
        "colab": {
          "base_uri": "https://localhost:8080/"
        },
        "id": "hZIoHRnQntjN",
        "outputId": "40de1d36-8892-4cc1-e471-fa866a6bb4cc"
      },
      "outputs": [
        {
          "name": "stdout",
          "output_type": "stream",
          "text": [
            "<generator object <genexpr> at 0x7fdf43b0e6d0>\n",
            "True\n",
            "True\n",
            "True\n",
            "True\n"
          ]
        }
      ],
      "source": [
        "s = 'qA2'\n",
        "print(any(c.isalnum() for c in s))\n",
        "print(any(c.isalpha() for c in s))\n",
        "print(any(c.isdigit() for c in s))\n",
        "print(any(c.isupper() for c in s))\n",
        "print(any(c.islower() for c in s))"
      ]
    },
    {
      "cell_type": "code",
      "execution_count": null,
      "metadata": {
        "colab": {
          "base_uri": "https://localhost:8080/"
        },
        "id": "hrXfNLZMntgZ",
        "outputId": "948628d6-68fb-48c5-d2c0-cabd3f1e8365"
      },
      "outputs": [
        {
          "name": "stdout",
          "output_type": "stream",
          "text": [
            "True\n",
            "True\n",
            "True\n",
            "True\n",
            "True\n"
          ]
        }
      ],
      "source": [
        "for test in ('isalnum', 'isalpha', 'isdigit', 'islower', 'isupper'):\n",
        "        print(any(eval(\"c.\" + test + \"()\") for c in s))"
      ]
    },
    {
      "cell_type": "code",
      "execution_count": null,
      "metadata": {
        "colab": {
          "base_uri": "https://localhost:8080/"
        },
        "id": "HoYOteSWntdr",
        "outputId": "f6650ddd-31da-4257-eceb-96bf430f89e5"
      },
      "outputs": [
        {
          "name": "stdout",
          "output_type": "stream",
          "text": [
            "-----HackerRank-----\n"
          ]
        }
      ],
      "source": [
        "width = 20\n",
        "print('HackerRank'.center(width,'-'))"
      ]
    },
    {
      "cell_type": "code",
      "execution_count": null,
      "metadata": {
        "id": "j-7e6j1io5d6"
      },
      "outputs": [],
      "source": [
        "import itertools"
      ]
    },
    {
      "cell_type": "code",
      "execution_count": null,
      "metadata": {
        "id": "en7cxfnvo5jC"
      },
      "outputs": [],
      "source": []
    },
    {
      "cell_type": "code",
      "execution_count": null,
      "metadata": {
        "colab": {
          "base_uri": "https://localhost:8080/"
        },
        "id": "FcRR15lPo5lj",
        "outputId": "0270366b-d585-4864-85c9-e2e0c7a66c4e"
      },
      "outputs": [
        {
          "name": "stdout",
          "output_type": "stream",
          "text": [
            "(1, 2, 5)\n",
            "(1, 3, 4)\n"
          ]
        }
      ],
      "source": [
        "l=[1,2,3,4,5,6,7,8,9]\n",
        "s= 15\n",
        "\n",
        "for subset in itertools.combinations(l, 3):\n",
        "  if sum(subset)==8:\n",
        "    print(subset)"
      ]
    },
    {
      "cell_type": "markdown",
      "metadata": {
        "id": "YB2gVSf9dHeU"
      },
      "source": [
        "### Decorator"
      ]
    },
    {
      "cell_type": "code",
      "execution_count": null,
      "metadata": {
        "id": "t6xm4-NndIuH"
      },
      "outputs": [],
      "source": [
        "def add_num(func):\n",
        "  def inner(x,y):\n",
        "    x=x-1\n",
        "    y=y-1\n",
        "    return func(x,y)\n",
        "  return inner\n",
        "\n",
        "@add_num\n",
        "def sum(x,y):\n",
        "  return x+y"
      ]
    },
    {
      "cell_type": "code",
      "execution_count": null,
      "metadata": {
        "colab": {
          "base_uri": "https://localhost:8080/"
        },
        "id": "xbOCZvS4hysj",
        "outputId": "7b00d36e-b265-4ee7-8781-6bd5c16c10a6"
      },
      "outputs": [
        {
          "data": {
            "text/plain": [
              "12"
            ]
          },
          "execution_count": 12,
          "metadata": {},
          "output_type": "execute_result"
        }
      ],
      "source": [
        "sum(4,5)"
      ]
    },
    {
      "cell_type": "code",
      "execution_count": null,
      "metadata": {
        "id": "yF5jJpz9fyHc"
      },
      "outputs": [],
      "source": [
        "def sub_num(myfun):\n",
        "  def innerop(x,y):\n",
        "    x = x\n",
        "    y = -1*y\n",
        "    return myfun(x,y)\n",
        "  return innerop\n",
        "\n",
        "\n",
        "@sub_num\n",
        "def subt(x,y):\n",
        "  return x+y"
      ]
    },
    {
      "cell_type": "code",
      "execution_count": null,
      "metadata": {
        "colab": {
          "base_uri": "https://localhost:8080/"
        },
        "id": "ulcJNp9cdHMb",
        "outputId": "81895c5a-0e09-467d-bc76-d792862493ac"
      },
      "outputs": [
        {
          "data": {
            "text/plain": [
              "-1"
            ]
          },
          "execution_count": 11,
          "metadata": {},
          "output_type": "execute_result"
        }
      ],
      "source": [
        "subt(4,5)"
      ]
    },
    {
      "cell_type": "markdown",
      "metadata": {
        "id": "2zATeJxVXCac"
      },
      "source": [
        "### Numpy"
      ]
    },
    {
      "cell_type": "code",
      "execution_count": null,
      "metadata": {
        "colab": {
          "base_uri": "https://localhost:8080/"
        },
        "id": "q6FcCl2Co5ok",
        "outputId": "2d18bbc9-fbfb-4ac8-9107-adf3e76b9380"
      },
      "outputs": [
        {
          "data": {
            "text/plain": [
              "array([ 4,  8, 12, 16, 20, 24, 28, 32, 36, 40])"
            ]
          },
          "execution_count": 1,
          "metadata": {},
          "output_type": "execute_result"
        }
      ],
      "source": [
        "n=4\n",
        "import numpy as np\n",
        "tableofn= np.arange(n,11*n,n)\n",
        "tableofn"
      ]
    },
    {
      "cell_type": "code",
      "execution_count": null,
      "metadata": {
        "id": "bncAlzBX7tYA"
      },
      "outputs": [],
      "source": [
        "np.eye()"
      ]
    },
    {
      "cell_type": "code",
      "execution_count": null,
      "metadata": {
        "colab": {
          "base_uri": "https://localhost:8080/"
        },
        "id": "RlTsPNqZw0IE",
        "outputId": "4ed65a6c-6d47-47b0-b134-43cf358e9e77"
      },
      "outputs": [
        {
          "data": {
            "text/plain": [
              "array([0., 0., 0., 0., 0.])"
            ]
          },
          "execution_count": 6,
          "metadata": {},
          "output_type": "execute_result"
        }
      ],
      "source": [
        "np.zeros(5)"
      ]
    },
    {
      "cell_type": "code",
      "execution_count": null,
      "metadata": {
        "colab": {
          "base_uri": "https://localhost:8080/"
        },
        "id": "KPs3QZXJxbYS",
        "outputId": "aaaff7c4-6a5e-485a-a7d3-723070ae1390"
      },
      "outputs": [
        {
          "data": {
            "text/plain": [
              "array([1., 1., 1., 1., 1.])"
            ]
          },
          "execution_count": 4,
          "metadata": {},
          "output_type": "execute_result"
        }
      ],
      "source": [
        "np.ones(5)"
      ]
    },
    {
      "cell_type": "code",
      "execution_count": null,
      "metadata": {
        "colab": {
          "base_uri": "https://localhost:8080/"
        },
        "id": "ZPq1pd48o5rX",
        "outputId": "215329c6-2fb6-4c52-e991-9fdc5be9d8fc"
      },
      "outputs": [
        {
          "data": {
            "text/plain": [
              "array([ 1.  ,  3.25,  5.5 ,  7.75, 10.  ])"
            ]
          },
          "execution_count": 8,
          "metadata": {},
          "output_type": "execute_result"
        }
      ],
      "source": [
        "np.linspace(1,10,5)"
      ]
    },
    {
      "cell_type": "code",
      "execution_count": null,
      "metadata": {
        "colab": {
          "base_uri": "https://localhost:8080/"
        },
        "id": "cgWqo6Tlo5tv",
        "outputId": "a7aef980-d6bc-47c5-91d1-01e7dff5614e"
      },
      "outputs": [
        {
          "name": "stdout",
          "output_type": "stream",
          "text": [
            "[1 1 1 1 1 1]\n",
            "[1 0 0 0 0 1]\n",
            "[1 0 0 0 0 1]\n",
            "[1 0 0 0 0 1]\n",
            "[1 0 0 0 0 1]\n",
            "[1 1 1 1 1 1]\n"
          ]
        }
      ],
      "source": [
        "n=6\n",
        "o = np.ones(n,int)\n",
        "z = np.zeros(n,int)\n",
        "for i in range(n):\n",
        "  if i==0 or i==n-1:\n",
        "    print(o)\n",
        "  else: \n",
        "    z[0] =1 \n",
        "    z[-1] =1\n",
        "    print(z)"
      ]
    },
    {
      "cell_type": "code",
      "execution_count": null,
      "metadata": {
        "colab": {
          "base_uri": "https://localhost:8080/"
        },
        "id": "-vxgY8R0ydms",
        "outputId": "670e9a4c-0d7c-4bab-f97d-8ae2bb7194c7"
      },
      "outputs": [
        {
          "data": {
            "text/plain": [
              "array([[1, 1, 1, 1],\n",
              "       [1, 0, 0, 1],\n",
              "       [1, 0, 0, 1],\n",
              "       [1, 1, 1, 1]])"
            ]
          },
          "execution_count": 39,
          "metadata": {},
          "output_type": "execute_result"
        }
      ],
      "source": [
        "n=4\n",
        "a = np.full((n,n),0,int)\n",
        "a[0,]=1\n",
        "a[n-1,]=1\n",
        "# a[,0]=1\n",
        "a[:,0]=1\n",
        "a[:,n-1]=1\n",
        "a"
      ]
    },
    {
      "cell_type": "markdown",
      "metadata": {
        "id": "JhKgIfH_BLLH"
      },
      "source": [
        "np.full(): Create a constant array of any number ‘n’.\n",
        "\n",
        "np.tile(): Create a new array, by repeating an existing array, for a fixed number of times.\n",
        "\n",
        "np.eye(): Create an identity matrix of any dimension.\n",
        "\n",
        "np.random.random(): Create an array of random numbers between 0 and 1.\n",
        "\n",
        "np.random.randint(): Create a random array of integers within a particular range.\n"
      ]
    },
    {
      "cell_type": "code",
      "execution_count": null,
      "metadata": {
        "colab": {
          "base_uri": "https://localhost:8080/"
        },
        "id": "YKl_1AArydjI",
        "outputId": "feec2228-3fb3-4038-c49d-f376a833a0b0"
      },
      "outputs": [
        {
          "data": {
            "text/plain": [
              "array([5, 5, 5, 5, 5, 5])"
            ]
          },
          "execution_count": 42,
          "metadata": {},
          "output_type": "execute_result"
        }
      ],
      "source": [
        "np.tile(5,6)"
      ]
    },
    {
      "cell_type": "code",
      "execution_count": null,
      "metadata": {
        "colab": {
          "base_uri": "https://localhost:8080/"
        },
        "id": "6Q-IBTUEBHy2",
        "outputId": "e2bbcb20-2a82-4859-9e18-b734775f125c"
      },
      "outputs": [
        {
          "data": {
            "text/plain": [
              "array([[1., 0., 0., 0.],\n",
              "       [0., 1., 0., 0.],\n",
              "       [0., 0., 1., 0.],\n",
              "       [0., 0., 0., 1.]])"
            ]
          },
          "execution_count": 45,
          "metadata": {},
          "output_type": "execute_result"
        }
      ],
      "source": [
        "np.eye(4)"
      ]
    },
    {
      "cell_type": "code",
      "execution_count": null,
      "metadata": {
        "colab": {
          "base_uri": "https://localhost:8080/"
        },
        "id": "6oyClJh_BHwD",
        "outputId": "1ac5cf83-e7cf-4164-decc-8e8c95cafef4"
      },
      "outputs": [
        {
          "data": {
            "text/plain": [
              "array([4, 3, 4])"
            ]
          },
          "execution_count": 54,
          "metadata": {},
          "output_type": "execute_result"
        }
      ],
      "source": [
        "# (lower,upper, no. of values)\n",
        "np.random.randint(2,5,3)\n"
      ]
    },
    {
      "cell_type": "code",
      "execution_count": null,
      "metadata": {
        "colab": {
          "base_uri": "https://localhost:8080/"
        },
        "id": "2APhSQm0BHuE",
        "outputId": "bc3ccdbb-fd4b-4fc2-a7f7-33a802a0b7ff"
      },
      "outputs": [
        {
          "data": {
            "text/plain": [
              "array([0.04355683, 0.95264481, 0.98385519, 0.58476061, 0.05850023])"
            ]
          },
          "execution_count": 48,
          "metadata": {},
          "output_type": "execute_result"
        }
      ],
      "source": [
        "np.random.random(5)"
      ]
    },
    {
      "cell_type": "markdown",
      "metadata": {
        "id": "J5EN8DW8CECe"
      },
      "source": [
        "np.power(): Calculating powers of the array elements.\n",
        "\n",
        "np.absolute(): Converting all the elements in the absolute form.\n",
        "\n",
        "np.sin()or np.cos(): Takes the sine/cosine of elements present in the array.\n",
        "\n",
        "np.log(): Takes the log of the elements in the array."
      ]
    },
    {
      "cell_type": "code",
      "execution_count": null,
      "metadata": {
        "id": "c8CEtfaCBHq2"
      },
      "outputs": [],
      "source": [
        "n = np.array([1,-2,3,4])"
      ]
    },
    {
      "cell_type": "code",
      "execution_count": null,
      "metadata": {
        "colab": {
          "base_uri": "https://localhost:8080/"
        },
        "id": "673_26s7BHoG",
        "outputId": "1759df95-7e79-40d4-a226-c58b65c40f54"
      },
      "outputs": [
        {
          "data": {
            "text/plain": [
              "array([ 1,  4,  9, 16])"
            ]
          },
          "execution_count": 58,
          "metadata": {},
          "output_type": "execute_result"
        }
      ],
      "source": [
        "np.power(n,2)"
      ]
    },
    {
      "cell_type": "code",
      "execution_count": null,
      "metadata": {
        "colab": {
          "base_uri": "https://localhost:8080/"
        },
        "id": "BxAeF3k8BHlO",
        "outputId": "67a82b8b-580f-40a4-e0a6-45dd4dfb880e"
      },
      "outputs": [
        {
          "data": {
            "text/plain": [
              "array([1, 2, 3, 4])"
            ]
          },
          "execution_count": 62,
          "metadata": {},
          "output_type": "execute_result"
        }
      ],
      "source": [
        "# all element positive\n",
        "np.absolute(n)"
      ]
    },
    {
      "cell_type": "code",
      "execution_count": null,
      "metadata": {
        "colab": {
          "base_uri": "https://localhost:8080/"
        },
        "id": "S9JTsia5BHii",
        "outputId": "8b8f013c-3937-42da-8f78-b79b71afaa2a"
      },
      "outputs": [
        {
          "data": {
            "text/plain": [
              "array([ 0.84147098, -0.90929743,  0.14112001, -0.7568025 ])"
            ]
          },
          "execution_count": 63,
          "metadata": {},
          "output_type": "execute_result"
        }
      ],
      "source": [
        "np.sin(n)"
      ]
    },
    {
      "cell_type": "code",
      "execution_count": null,
      "metadata": {
        "colab": {
          "base_uri": "https://localhost:8080/"
        },
        "id": "GhXczRAVBHf3",
        "outputId": "488991a8-a9cd-4325-a370-cabe11113add"
      },
      "outputs": [
        {
          "data": {
            "text/plain": [
              "array([2.39789527, 2.48490665])"
            ]
          },
          "execution_count": 65,
          "metadata": {},
          "output_type": "execute_result"
        }
      ],
      "source": [
        "np.log([11,12])"
      ]
    },
    {
      "cell_type": "code",
      "execution_count": null,
      "metadata": {
        "colab": {
          "base_uri": "https://localhost:8080/"
        },
        "id": "0UWEUgNHChyC",
        "outputId": "cce07888-cfd5-4ad6-98d0-258cdad3a134"
      },
      "outputs": [
        {
          "name": "stdout",
          "output_type": "stream",
          "text": [
            "[[9, 9, 3], [5, 7, 0], [9, 9, 3], [8, 2, 4]]\n"
          ]
        }
      ],
      "source": [
        "# swap mth and nth row\n",
        "a = [[4, 3 ,1],[5, 7, 0], [9, 9, 3],[8, 2, 4]]\n",
        "m=2\n",
        "n=0\n",
        "x = a[n]\n",
        "a[n] = a[m]\n",
        "a[m]=a[n]\n",
        "print(a)"
      ]
    },
    {
      "cell_type": "code",
      "execution_count": null,
      "metadata": {
        "colab": {
          "base_uri": "https://localhost:8080/"
        },
        "id": "y09sg5TvCh07",
        "outputId": "06e58adf-5824-4092-f774-ed86b5418ba6"
      },
      "outputs": [
        {
          "data": {
            "text/plain": [
              "array([10., 20., 30., 40., 50.])"
            ]
          },
          "execution_count": 83,
          "metadata": {},
          "output_type": "execute_result"
        }
      ],
      "source": [
        "x = np.arange(1,6)\n",
        "y = np.empty(5)\n",
        "np.multiply(x,10,out = y)"
      ]
    },
    {
      "cell_type": "code",
      "execution_count": null,
      "metadata": {
        "colab": {
          "base_uri": "https://localhost:8080/"
        },
        "id": "H0Y_XQqVCh4i",
        "outputId": "38071e76-7a43-48f1-f2b8-22ec6c6ceb73"
      },
      "outputs": [
        {
          "data": {
            "text/plain": [
              "array([10., 20., 30., 40., 50.])"
            ]
          },
          "execution_count": 84,
          "metadata": {},
          "output_type": "execute_result"
        }
      ],
      "source": [
        "# outtput saved to y\n",
        "y"
      ]
    },
    {
      "cell_type": "code",
      "execution_count": null,
      "metadata": {
        "colab": {
          "base_uri": "https://localhost:8080/"
        },
        "id": "AXFjXf0ICh7T",
        "outputId": "b0e87609-08f9-4e8e-9350-30ae70c1364d"
      },
      "outputs": [
        {
          "data": {
            "text/plain": [
              "array([ 1,  3,  6, 10])"
            ]
          },
          "execution_count": 87,
          "metadata": {},
          "output_type": "execute_result"
        }
      ],
      "source": [
        "n=[1,2,3,4]\n",
        "np.add.reduce(n)          # sum\n",
        "np.add.accumulate(n)      # running total / moving avg"
      ]
    },
    {
      "cell_type": "code",
      "execution_count": null,
      "metadata": {
        "id": "TKx_VgyHCh-G"
      },
      "outputs": [],
      "source": [
        "help(np.linalg)"
      ]
    },
    {
      "cell_type": "code",
      "execution_count": null,
      "metadata": {
        "colab": {
          "base_uri": "https://localhost:8080/"
        },
        "id": "wNKEgRnwCiCA",
        "outputId": "24cbd0fe-d780-4866-d9ee-e98cf533de40"
      },
      "outputs": [
        {
          "data": {
            "text/plain": [
              "array([[0, 1, 0, 1, 0, 1],\n",
              "       [1, 0, 1, 0, 1, 0],\n",
              "       [0, 1, 0, 1, 0, 1],\n",
              "       [1, 0, 1, 0, 1, 0],\n",
              "       [0, 1, 0, 1, 0, 1],\n",
              "       [1, 0, 1, 0, 1, 0]])"
            ]
          },
          "execution_count": 99,
          "metadata": {},
          "output_type": "execute_result"
        }
      ],
      "source": [
        "n=6       # even integer\n",
        "x = [[0,1],[1,0]]\n",
        "a = np.tile(x,(n//2,n//2))\n",
        "a \n"
      ]
    },
    {
      "cell_type": "code",
      "execution_count": null,
      "metadata": {
        "id": "3hLEQwBNE_b1"
      },
      "outputs": [],
      "source": [
        "arr_1 = np.arange(0,5)\n",
        "arr_2 = np.arange(5,10)"
      ]
    },
    {
      "cell_type": "code",
      "execution_count": null,
      "metadata": {
        "colab": {
          "base_uri": "https://localhost:8080/"
        },
        "id": "ldJwH9X0E_Yx",
        "outputId": "34de47fd-0a0f-4045-9586-3e2b56de5d33"
      },
      "outputs": [
        {
          "data": {
            "text/plain": [
              "array([0, 1, 2, 3, 4, 5, 6, 7, 8, 9])"
            ]
          },
          "execution_count": 107,
          "metadata": {},
          "output_type": "execute_result"
        }
      ],
      "source": [
        "np.hstack((arr_1,arr_2))"
      ]
    },
    {
      "cell_type": "code",
      "execution_count": null,
      "metadata": {
        "colab": {
          "base_uri": "https://localhost:8080/"
        },
        "id": "N_lPpPbHE_WP",
        "outputId": "7ef5de71-7392-40b3-e3d4-706b74f7e391"
      },
      "outputs": [
        {
          "data": {
            "text/plain": [
              "array([[0, 1, 2, 3, 4],\n",
              "       [5, 6, 7, 8, 9]])"
            ]
          },
          "execution_count": 124,
          "metadata": {},
          "output_type": "execute_result"
        }
      ],
      "source": [
        "a = np.vstack((arr_1,arr_2))\n",
        "a"
      ]
    },
    {
      "cell_type": "code",
      "execution_count": null,
      "metadata": {
        "colab": {
          "base_uri": "https://localhost:8080/"
        },
        "id": "A_gUgoS7HUZ6",
        "outputId": "fe52dce5-0944-433a-acf3-3711b4bf1b86"
      },
      "outputs": [
        {
          "data": {
            "text/plain": [
              "(2, 5)"
            ]
          },
          "execution_count": 112,
          "metadata": {},
          "output_type": "execute_result"
        }
      ],
      "source": [
        "a.shape"
      ]
    },
    {
      "cell_type": "code",
      "execution_count": null,
      "metadata": {
        "colab": {
          "base_uri": "https://localhost:8080/"
        },
        "id": "leX9tknOE_T_",
        "outputId": "31a28008-338b-41d8-d11b-7e01ccb1f427"
      },
      "outputs": [
        {
          "data": {
            "text/plain": [
              "2"
            ]
          },
          "execution_count": 113,
          "metadata": {},
          "output_type": "execute_result"
        }
      ],
      "source": [
        "a.ndim"
      ]
    },
    {
      "cell_type": "code",
      "execution_count": null,
      "metadata": {
        "colab": {
          "base_uri": "https://localhost:8080/"
        },
        "id": "vfGzBR1PE_RT",
        "outputId": "f61376ca-88a8-49a9-8343-14f802afed57"
      },
      "outputs": [
        {
          "data": {
            "text/plain": [
              "array([[0, 1],\n",
              "       [2, 3],\n",
              "       [4, 5],\n",
              "       [6, 7],\n",
              "       [8, 9]])"
            ]
          },
          "execution_count": 117,
          "metadata": {},
          "output_type": "execute_result"
        }
      ],
      "source": [
        "a4 = np.arange(0,10)\n",
        "a4.reshape(5,2)"
      ]
    },
    {
      "cell_type": "code",
      "execution_count": null,
      "metadata": {
        "colab": {
          "base_uri": "https://localhost:8080/"
        },
        "id": "ilL5Dv7gCiC_",
        "outputId": "c59e97a9-1d55-4043-fb2f-ab2fc2e9fdc6"
      },
      "outputs": [
        {
          "data": {
            "text/plain": [
              "array([[0, 1, 2, 3, 4],\n",
              "       [5, 6, 7, 8, 9]])"
            ]
          },
          "execution_count": 119,
          "metadata": {},
          "output_type": "execute_result"
        }
      ],
      "source": [
        "a4.reshape(2,5)"
      ]
    },
    {
      "cell_type": "code",
      "execution_count": null,
      "metadata": {
        "colab": {
          "base_uri": "https://localhost:8080/"
        },
        "id": "jvC_-i55IRq2",
        "outputId": "f89275d3-e13d-4a85-c461-8cb8bf202307"
      },
      "outputs": [
        {
          "data": {
            "text/plain": [
              "array([[ 7, 13, 14,  5],\n",
              "       [18, 10, 17,  8],\n",
              "       [11, 12, 19,  4],\n",
              "       [16,  6,  1,  3]])"
            ]
          },
          "execution_count": 143,
          "metadata": {},
          "output_type": "execute_result"
        }
      ],
      "source": [
        "a1 = [[7, 13, 14],[18, 10, 17],[11, 12, 19]]\n",
        "a2 = np.array([16, 6, 1])\n",
        "a3 = np.array([[5, 8, 4, 3]])\n",
        "\n",
        "x= np.vstack((a1,a2))\n",
        "# np.hstack((x,np.transpose(a3)))\n",
        "np.hstack((x,a3.T))\n",
        "# x.shape"
      ]
    },
    {
      "cell_type": "markdown",
      "metadata": {
        "id": "FQxG2h7l0tnq"
      },
      "source": [
        "### Numpy Question"
      ]
    },
    {
      "cell_type": "markdown",
      "metadata": {
        "id": "yWds_XSB2bgz"
      },
      "source": [
        "#### Prob 1\n",
        "Given a single positive integer 'n' greater than 2, create a NumPy array of size (n x n) will all zeros and ones such that the ones make a shape like 'Z'.\n"
      ]
    },
    {
      "cell_type": "code",
      "execution_count": null,
      "metadata": {
        "colab": {
          "base_uri": "https://localhost:8080/"
        },
        "id": "6j-smCzt0tNw",
        "outputId": "dc9bc809-2587-481d-d98c-39a26faeb570"
      },
      "outputs": [
        {
          "name": "stdout",
          "output_type": "stream",
          "text": [
            "[[1 1 1 1]\n",
            " [0 0 1 0]\n",
            " [0 1 0 0]\n",
            " [1 1 1 1]]\n"
          ]
        }
      ],
      "source": [
        "import numpy as np\n",
        "\n",
        "n=4\n",
        "\n",
        "a=np.eye(n,dtype=int)\n",
        "a[[0,-1]]=1\n",
        "print(a[::-1])\n",
        "# print(a)"
      ]
    },
    {
      "cell_type": "code",
      "execution_count": null,
      "metadata": {
        "colab": {
          "base_uri": "https://localhost:8080/"
        },
        "id": "GvshC1Nf0tIz",
        "outputId": "1f705d3c-52f6-4ccc-fc15-7b68bd9513e5"
      },
      "outputs": [
        {
          "name": "stdout",
          "output_type": "stream",
          "text": [
            "3\n",
            "[[1 1 1]\n",
            " [0 1 0]\n",
            " [1 1 1]]\n"
          ]
        }
      ],
      "source": [
        "n = int(input())\n",
        "\n",
        "# Import the NumPy package\n",
        "import numpy as np \n",
        "\n",
        "# Create an (n x n) array with all zeros\n",
        "z = np.zeros((n, n), dtype = int)\n",
        "\n",
        "# Make the first and last rows all 1s\n",
        "z[0] = np.ones(1, dtype = int)\n",
        "z[n-1] = np.ones(1, dtype = int)\n",
        "\n",
        "# Run a loop from the second row (index 1) till the second last row.\n",
        "for i in range(1, n):\n",
        "# Fill the 1s in appropriate indices. Notice that for every row index i, the 1 \n",
        "# will be in the (n-i-1)th row\n",
        "    z[i][n-i-1] = 1\n",
        "    \n",
        "# Print the final value of z    \n",
        "print(z)\n"
      ]
    },
    {
      "cell_type": "markdown",
      "metadata": {
        "id": "ess-EUb42P0M"
      },
      "source": [
        "#### Prob 2\n",
        "Given a 2D NumPy array, sort it by the 1st column. Print the final sorted array as a NumPy array only.\n",
        "\n",
        "Note: If two values in the 1st column are equal then the column in which the 2nd column value is lesser should come first. If the value in the second column is also the same then go to the third value and so on.\n"
      ]
    },
    {
      "cell_type": "code",
      "execution_count": null,
      "metadata": {
        "colab": {
          "base_uri": "https://localhost:8080/"
        },
        "id": "x7hL5Pm60tFa",
        "outputId": "60409e47-7550-40fc-e720-cd2fe05140bd"
      },
      "outputs": [
        {
          "name": "stdout",
          "output_type": "stream",
          "text": [
            "[[4 0 1]\n",
            " [9 3 6]\n",
            " [9 8 2]]\n"
          ]
        }
      ],
      "source": [
        "import numpy as np\n",
        "\n",
        "inp_lst = [[9,3,6],[4,0,1],[9,8,2]]\n",
        "inp_arr = np.array(inp_lst)\n",
        "# print(inp_arr)\n",
        "\n",
        "# Get Rows\n",
        "# inp_arr[0]\n",
        "# Get columns\n",
        "# inp_arr[:,0]\n",
        "# get no of (rows, col)\n",
        "# inp_arr.shape[1]\n",
        "\n",
        "'''\n",
        "# lexsort to sort with multiple conditions\n",
        "a = [1,4,2,4]\n",
        "b = [7,4,5,6]\n",
        "[(a[i],b[i]) for i in np.lexsort((b,a))]   # Sort by a, then by b\n",
        "'''\n",
        "\n",
        "# sort rows by col values\n",
        "\n",
        "out_arr = inp_arr[inp_arr[:,0].argsort()]\n",
        "for i in range(1,inp_arr.shape[0]):\n",
        "  if len(inp_arr[:,i-1]) != len(set(inp_arr[:,i-1])):\n",
        "\n",
        "    out_arr = inp_arr[inp_arr[:,i].argsort()]\n",
        "print(out_arr)\n",
        "\n"
      ]
    },
    {
      "cell_type": "code",
      "execution_count": null,
      "metadata": {
        "id": "NO_UDKMX3FMN"
      },
      "outputs": [],
      "source": []
    },
    {
      "cell_type": "code",
      "execution_count": null,
      "metadata": {
        "id": "53UYyVyv3FIn"
      },
      "outputs": [],
      "source": []
    },
    {
      "cell_type": "markdown",
      "metadata": {
        "id": "7_gpS2NfXI8W"
      },
      "source": [
        "### Matplotlib"
      ]
    },
    {
      "cell_type": "code",
      "execution_count": null,
      "metadata": {
        "id": "qsTKcxGMxV4q"
      },
      "outputs": [],
      "source": [
        "import matplotlib.pyplot as plt\n",
        "import numpy as np"
      ]
    },
    {
      "cell_type": "markdown",
      "metadata": {
        "id": "q9juazFQH5oD"
      },
      "source": [
        "Bar Graph"
      ]
    },
    {
      "cell_type": "code",
      "execution_count": null,
      "metadata": {
        "id": "nan_RvoKXL8G"
      },
      "outputs": [],
      "source": [
        "prod_cat = np.array(['Furniture','OfficeSupplies','Technology'])\n",
        "sales_amt = np.array([4110451.90,3787492.52,4744557.50])"
      ]
    },
    {
      "cell_type": "code",
      "execution_count": null,
      "metadata": {
        "colab": {
          "base_uri": "https://localhost:8080/",
          "height": 276
        },
        "id": "MdB6uw1OKgl8",
        "outputId": "de42741b-82f3-40a4-9799-355394aae15b"
      },
      "outputs": [
        {
          "data": {
            "image/png": "[encoded data removed]",
            "text/plain": [
              "<Figure size 432x288 with 1 Axes>"
            ]
          },
          "metadata": {
            "needs_background": "light"
          },
          "output_type": "display_data"
        }
      ],
      "source": [
        "# plotting the bar graph with product categories on x-axis and sales amount of y-axis\n",
        "plt.bar(prod_cat,sales_amt)\n",
        "\n",
        "# necessary command to display the created graph\n",
        "plt.show()"
      ]
    },
    {
      "cell_type": "code",
      "execution_count": null,
      "metadata": {
        "colab": {
          "base_uri": "https://localhost:8080/",
          "height": 300
        },
        "id": "W4tbCsMSKgj7",
        "outputId": "9bceb00f-308e-463c-94c0-20a9950e229c"
      },
      "outputs": [
        {
          "data": {
            "image/png": "[encoded data removed]",
            "text/plain": [
              "<Figure size 432x288 with 1 Axes>"
            ]
          },
          "metadata": {
            "needs_background": "light"
          },
          "output_type": "display_data"
        }
      ],
      "source": [
        "# plotting the bar graph with product categories on x-axis and sales amount of y-axis\n",
        "plt.bar(prod_cat,sales_amt,color='cyan',edgecolor='orange')\n",
        "\n",
        "# adding title to the graph\n",
        "plt.title('Sales', fontdict={'fontsize':20,'fontweight':5,'color':'Green'})\n",
        "\n",
        "# labeling axes\n",
        "plt.xlabel('Product Categories',fontdict={'fontsize':10,'fontweight':3,'color':'Red'})\n",
        "plt.ylabel('Sales Amount',fontdict={'fontsize':10,'fontweight':3,'color':'Red'})\n",
        "\n",
        "# necessary command to display the created graph\n",
        "plt.show()\n"
      ]
    },
    {
      "cell_type": "code",
      "execution_count": null,
      "metadata": {
        "colab": {
          "base_uri": "https://localhost:8080/",
          "height": 300
        },
        "id": "ybwr1alAKggn",
        "outputId": "389f6d34-7280-449e-ff33-162d5cc0b5f2"
      },
      "outputs": [
        {
          "data": {
            "image/png": "[encoded data removed]",
            "text/plain": [
              "<Figure size 432x288 with 1 Axes>"
            ]
          },
          "metadata": {
            "needs_background": "light"
          },
          "output_type": "display_data"
        }
      ],
      "source": [
        "# plotting the bar graph with product categories on x-axis and sales amount of y-axis\n",
        "plt.bar(prod_cat,sales_amt,color='cyan',edgecolor='orange')\n",
        "\n",
        "# adding title to the graph\n",
        "plt.title('Sales', fontdict={'fontsize':20,'fontweight':5,'color':'Green'})\n",
        "\n",
        "# labeling axes\n",
        "plt.xlabel('Product Categories',fontdict={'fontsize':10,'fontweight':3,'color':'Red'})\n",
        "plt.ylabel('Sales Amount',fontdict={'fontsize':10,'fontweight':3,'color':'Red'})\n",
        "\n",
        "tick_values = np.arange(0,7000000,1000000)\n",
        "tick_labels=['10L','20L','30L','40L','50L','60L','70L']\n",
        "plt.yticks(tick_values, tick_labels)\n",
        "# necessary command to display the created graph\n",
        "plt.show()"
      ]
    },
    {
      "cell_type": "markdown",
      "metadata": {
        "id": "rZUP-B9tH2st"
      },
      "source": [
        "Scatter Plt\n"
      ]
    },
    {
      "cell_type": "code",
      "execution_count": null,
      "metadata": {
        "id": "ds2EpqTcKgd6"
      },
      "outputs": [],
      "source": [
        "sales = np.array ([1013.14, 8298.48, 875.51, 22320.83, 9251.6, 4516.86, 585.16, 836154.03, 216748.48, 174.2, 27557.79, 563.25, 558.11, 37117.45, 357.36, 2206.96, 709.5, 35064.03, 7230.78, 235.33, 148.32, 3973.27, 11737.8, 7104.63, 83.67, 5569.83, 92.34, 107104.36, 1045.62, 9072.51, 42485.82, 5093.82, 14846.16, 943.92, 684.36, 15012.03, 38196.18, 2448.75, 28881.96, 13912.14, 4507.2, 4931.06, 12805.05, 67912.73, 4492.2, 1740.01, 458.04, 16904.32, 21744.53, 10417.26, 18665.33, 2808.42, 54195.57, 67332.5, 24390.95, 1790.43, 2234.19, 9917.5, 7408.14, 36051.99, 1352.22, 1907.7, 245722.14, 2154.66, 1078.21, 3391.65, 28262.73, 5177.04, 66.51, 2031.34, 1683.72, 1970.01, 6515.82, 1055.31, 1029.48, 5303.4, 1850.96, 1159.41, 39989.13, 1183.87, 96365.09, 8356.68, 7010.24, 23119.23, 46109.28, 146071.84, 242259.03, 9058.95, 1313.67, 31525.06, 2019.94, 703.04, 1868.79, 700.5, 55512.02, 243.5, 2113.18, 11781.81, 262189.49, 3487.29, 513.12, 312050.42, 5000.7, 121.02, 1302.78, 169.92, 124.29, 57366.05, 29445.93, 4614.3, 45009.98, 309.24, 3353.67, 41348.34, 2280.27, 61193.7, 1466.79, 12419.94, 445.12, 25188.65, 263514.92, 12351.23, 1152.3, 26298.81, 9900.78, 5355.57, 2325.66, 6282.81, 127707.92, 1283.1, 3560.15, 3723.84, 13715.01, 4887.9, 3396.89, 33348.42, 625.02, 1665.48, 32486.97, 340212.44, 20516.22, 8651.16, 13590.06, 2440.35, 6462.57, 1770.13, 7527.18, 1433.65, 423.3, 21601.72, 10035.72, 2378.49, 3062.38, 719469.32, 179366.79, 345.17, 30345.78, 300.71, 940.81, 36468.08, 1352.85, 1755.72, 2391.96, 19.98, 19792.8, 15633.88, 7.45, 521.67, 1118.24, 7231.68, 12399.32, 204.36, 23.64, 5916.48, 313.98, 108181.5, 9212.42, 27476.91, 1761.33, 289.5, 780.3, 15098.46, 813.27, 47.55, 8323.23, 22634.64, 1831.02, 28808.1, 10539.78, 588.99, 939.78, 7212.41, 15683.01, 41369.09, 5581.6, 403.36, 375.26, 12276.66, 15393.56, 76.65, 5884.38, 18005.49, 3094.71, 43642.78, 35554.83, 22977.11, 1026.33, 665.28, 9712.49, 6038.52, 30756.51, 3758.25, 4769.49, 2463.3, 160153.16, 967.11, 2311.74, 1414.83, 12764.91, 4191.24, 110.76, 637.34, 1195.12, 2271.63, 804.12, 196.17, 167.67, 131.77, 2842.05, 9969.12, 1784.35, 3098.49, 25005.54, 1300.1, 118697.39, 7920.54, 6471.78, 31707.57, 37636.47, 118777.77, 131170.76, 3980.88, 3339.39, 26563.9, 4038.73, 124.8, 196.65, 2797.77, 29832.76, 184.84, 79.08, 8047.83, 205313.25, 1726.98, 899.73, 224.06, 304763.54, 6101.31, 729.6, 896.07, 17.82, 26.22, 46429.78, 31167.27, 2455.94, 37714.3, 1506.93, 3812.78, 25223.34, 3795.96, 437.31, 41278.86, 2091.81, 6296.61, 468.82, 23629.64, 160435.53, 9725.46, 1317.03, 1225.26, 30034.08, 7893.45, 2036.07, 215.52, 3912.42, 82783.43, 253.14, 966.96, 3381.26, 164.07, 1984.23, 75.12, 25168.17, 3295.53, 991.12, 10772.1, 44.16, 1311.45, 35352.57, 245783.54, 20.49, 13471.06, 8171.16, 14075.67, 611.82, 3925.56, 981.84, 10209.84, 156.56, 243.06, 21287.52, 7300.51, 434.52, 6065.0, 741577.51, 132461.03, 224.75, 28953.6, 757.98, 528.15, 34922.41, 50.58, 2918.48, 1044.96, 22195.13, 3951.48, 6977.64, 219.12, 5908.38, 10987.46, 4852.26, 445.5, 71860.82, 14840.45, 24712.08, 1329.9, 1180.44, 85.02, 10341.63, 690.48, 1939.53, 20010.51, 914.31, 25223.82, 12804.66, 2124.24, 602.82, 2961.66, 15740.79, 74138.35, 7759.39, 447.0, 2094.84, 22358.95, 21734.53, 4223.73, 17679.53, 1019.85, 51848.72, 69133.3, 30146.9, 705.48, 14508.88, 7489.38, 20269.44, 246.12, 668.13, 768.93, 215677.35, 899.16, 2578.2, 4107.99, 20334.57, 366.84, 3249.27, 98.88, 3497.88, 3853.05, 786.75, 1573.68, 458.36, 1234.77, 1094.22, 2300.61, 970.14, 3068.25, 35792.85, 4277.82, 71080.28, 3016.86, 3157.49, 15888.0, 30000.36, 140037.89, 216056.25, 1214.22, 1493.94, 32036.69, 4979.66, 106.02, 46257.68, 1033.3, 937.32, 3442.62, 160633.45, 213.15, 338.88, 242117.13, 9602.34, 2280.99, 73759.08, 23526.12, 6272.74, 43416.3, 576.78, 1471.61, 20844.9, 3497.7, 56382.38, 902.58, 6235.26, 48.91, 32684.24, 276611.58, 13370.38, 10595.28, 4555.14, 10084.38, 267.72, 1012.95, 4630.5, 149433.51, 364.32, 349.2, 4647.56, 504.0, 10343.52, 5202.66, 2786.26, 34135.95, 2654.58, 24699.51, 339239.87, 136.26, 23524.51, 8731.68, 8425.86, 835.95, 11285.19])\n",
        "profit = np.array([-1213.46, 1814.13, -1485.7, -2286.73, -2872.12, 946.8, 198.48, 145454.95, 49476.1, -245.56, 5980.77, -790.47, -895.72, -34572.08, 117.9, 561.96, 152.85, 1426.05, 1873.17, -251.03, 68.22, 635.11, 3722.4, -3168.63, 27.6, 952.11, 7.38, 20931.13, 186.36, -5395.38, 9738.45, 525.27, 3351.99, 120.78, 266.88, 3795.21, 8615.97, 609.54, 7710.57, 2930.43, 1047.96, -2733.32, 2873.73, -5957.89, -909.6, 163.41, -376.02, -6322.68, -10425.86, 2340.36, -28430.53, 756.12, 12633.33, 7382.54, -14327.69, 436.44, 683.85, -694.91, 1960.56, 10925.82, 334.08, 425.49, 53580.2, 1024.56, 110.93, 632.22, 8492.58, 1418.88, 19.26, -2567.57, 346.26, 601.86, 1318.68, 304.05, 428.37, 1416.24, -2878.18, 283.41, 12611.04, 261.95, -648.43, 1112.88, -2640.29, 6154.32, 11558.79, 15291.4, 56092.65, 1515.39, 342.03, -10865.66, -902.8, 351.52, 364.17, 87.72, 11565.66, 75.4, 289.33, 3129.63, 50795.72, 783.72, 215.46, 29196.89, 1147.26, 53.22, 286.56, 73.02, 42.24, 13914.85, 5754.54, 998.04, -1476.04, 86.58, -1636.35, 10511.91, 647.34, 13768.62, 338.67, 3095.67, 173.84, 5632.93, 64845.11, 3297.33, 338.61, 7246.62, 2255.52, 1326.36, 827.64, 1100.58, 9051.36, 412.23, 1063.91, 940.59, 3891.84, 1599.51, 1129.57, 8792.64, 6.24, 592.77, 8792.85, 47727.5, -4597.68, 2242.56, 3546.45, 321.87, 1536.72, -2463.29, 1906.08, -1916.99, 186.24, 3002.05, -3250.98, 554.7, 830.64, 122612.79, 33894.21, -559.03, 7528.05, -477.67, -1660.25, -33550.96, 481.68, 425.08, 450.3, 9.57, -3025.29, 2924.62, -11.84, 87.36, 26.51, 1727.19, -6131.18, 59.16, 3.06, 1693.47, 74.67, 24729.21, -4867.94, 6705.18, 410.79, 70.74, 101.7, 3264.3, 137.01, 6.18, 2100.21, 5295.24, 520.29, 7205.52, 2602.65, 116.67, 224.91, -5153.93, 3882.69, -6535.24, -1254.1, 84.56, -186.38, -3167.2, -7935.59, 37.02, 1908.06, -27087.84, 829.32, 8727.44, 2011.47, -11629.64, 234.96, 53.1, 1248.14, 1511.07, 7374.24, 1193.28, 1090.23, 553.86, 38483.86, 255.81, 528.54, 326.07, 3924.36, 1018.92, 36.48, 113.24, -1770.05, 527.64, 224.49, 79.53, 64.77, 38.08, 868.08, 2265.06, -2643.62, 833.73, 5100.03, 326.44, 18158.84, 1682.01, -3290.22, 8283.33, 7926.18, 1694.41, 30522.92, 1214.07, 900.6, -6860.8, -865.91, 26.16, 47.22, 863.52, 7061.26, 73.92, 33.12, 1801.23, 38815.44, 431.13, 216.81, 16.5, 53688.2, 1210.32, 236.94, 210.84, 3.18, 2.22, 10265.64, 7212.3, 343.56, 3898.28, 568.11, -1867.85, 5782.38, 697.29, -192.06, 10179.02, 616.32, 1090.47, 165.84, 6138.28, 39723.06, 2085.14, 90.0, 129.93, 7957.53, 2131.86, 562.44, 99.12, 1298.37, 7580.33, 113.73, 139.71, 456.0, 21.24, 292.68, 30.34, 5817.15, 1060.89, 252.9, 3060.61, 6.6, 219.09, 8735.82, 31481.09, 2.85, -3124.72, 2195.94, 3464.7, 141.12, 1125.69, -1752.03, 3281.52, -303.77, 114.18, -2412.63, -5099.61, 146.64, 660.22, 18329.28, 28529.84, -232.27, 7435.41, -1157.94, -746.73, -30324.2, 2.52, 1313.44, 213.72, -5708.95, 930.18, 1663.02, 31.59, 1787.88, -8219.56, 973.92, 4.32, 8729.78, -2529.52, 5361.06, 69.21, 519.3, 13.56, 2236.77, 213.96, 367.98, 5074.2, 206.61, 7620.36, 2093.19, 164.07, 230.01, -815.82, 4226.7, -3635.09, -3344.17, 167.26, 143.79, -8233.57, -4085.21, 919.35, -25232.35, 234.33, 12040.68, 7206.28, -15112.76, 206.04, -2662.49, 2346.81, 4461.36, 93.48, 82.11, 147.87, 10389.53, 395.58, 474.74, 1333.26, 3913.02, 117.36, 858.78, 6.9, -4628.49, 1170.6, 218.55, 539.58, -211.0, 438.87, 317.16, 310.8, -1578.09, 706.56, 6617.4, 803.84, 2475.26, 764.34, -1461.88, 3805.56, 7371.27, -1377.13, 42435.03, 472.47, 315.48, -11755.91, -2418.6, 6.36, 9317.76, 326.88, -287.31, 637.68, 17579.17, 70.83, 47.4, 26143.92, 1548.15, 612.78, 17842.76, 6735.39, 1206.5, -10035.74, 149.4, -777.85, 5566.29, 748.92, 14941.58, 348.93, 1944.06, -5.51, 7026.84, 46114.92, 2361.86, 2613.24, 1277.37, 2587.74, 103.08, 311.43, 1250.58, 13055.21, 18.21, 108.24, 709.44, 115.92, 1863.6, 1873.86, 817.32, 7577.64, 1019.19, 6813.03, 24698.84, 66.24, -10971.39, 2056.47, 2095.35, 246.33, 2797.89])\n"
      ]
    },
    {
      "cell_type": "code",
      "execution_count": null,
      "metadata": {
        "colab": {
          "base_uri": "https://localhost:8080/",
          "height": 283
        },
        "id": "xm70aIlSKgbJ",
        "outputId": "c47f0ac6-6b46-4e41-c5bf-0f67603508f5"
      },
      "outputs": [
        {
          "data": {
            "text/plain": [
              "<matplotlib.collections.PathCollection at 0x7fac545b5bd0>"
            ]
          },
          "execution_count": 160,
          "metadata": {},
          "output_type": "execute_result"
        },
        {
          "data": {
            "image/png": "[encoded data removed]",
            "text/plain": [
              "<Figure size 432x288 with 1 Axes>"
            ]
          },
          "metadata": {
            "needs_background": "light"
          },
          "output_type": "display_data"
        }
      ],
      "source": [
        "plt.scatter(profit, sales)"
      ]
    },
    {
      "cell_type": "code",
      "execution_count": null,
      "metadata": {
        "id": "NoxXWzfUKgYZ"
      },
      "outputs": [],
      "source": [
        "# Sales and Profit data for different product categories across different countries\n",
        "sales = np.array ([1013.14, 8298.48, 875.51, 22320.83, 9251.6, 4516.86, 585.16, 836154.03, 216748.48, 174.2, 27557.79, 563.25, 558.11, 37117.45, 357.36, 2206.96, 709.5, 35064.03, 7230.78, 235.33, 148.32, 3973.27, 11737.8, 7104.63, 83.67, 5569.83, 92.34, 107104.36, 1045.62, 9072.51, 42485.82, 5093.82, 14846.16, 943.92, 684.36, 15012.03, 38196.18, 2448.75, 28881.96, 13912.14, 4507.2, 4931.06, 12805.05, 67912.73, 4492.2, 1740.01, 458.04, 16904.32, 21744.53, 10417.26, 18665.33, 2808.42, 54195.57, 67332.5, 24390.95, 1790.43, 2234.19, 9917.5, 7408.14, 36051.99, 1352.22, 1907.7, 245722.14, 2154.66, 1078.21, 3391.65, 28262.73, 5177.04, 66.51, 2031.34, 1683.72, 1970.01, 6515.82, 1055.31, 1029.48, 5303.4, 1850.96, 1159.41, 39989.13, 1183.87, 96365.09, 8356.68, 7010.24, 23119.23, 46109.28, 146071.84, 242259.03, 9058.95, 1313.67, 31525.06, 2019.94, 703.04, 1868.79, 700.5, 55512.02, 243.5, 2113.18, 11781.81, 262189.49, 3487.29, 513.12, 312050.42, 5000.7, 121.02, 1302.78, 169.92, 124.29, 57366.05, 29445.93, 4614.3, 45009.98, 309.24, 3353.67, 41348.34, 2280.27, 61193.7, 1466.79, 12419.94, 445.12, 25188.65, 263514.92, 12351.23, 1152.3, 26298.81, 9900.78, 5355.57, 2325.66, 6282.81, 127707.92, 1283.1, 3560.15, 3723.84, 13715.01, 4887.9, 3396.89, 33348.42, 625.02, 1665.48, 32486.97, 340212.44, 20516.22, 8651.16, 13590.06, 2440.35, 6462.57, 1770.13, 7527.18, 1433.65, 423.3, 21601.72, 10035.72, 2378.49, 3062.38, 719469.32, 179366.79, 345.17, 30345.78, 300.71, 940.81, 36468.08, 1352.85, 1755.72, 2391.96, 19.98, 19792.8, 15633.88, 7.45, 521.67, 1118.24, 7231.68, 12399.32, 204.36, 23.64, 5916.48, 313.98, 108181.5, 9212.42, 27476.91, 1761.33, 289.5, 780.3, 15098.46, 813.27, 47.55, 8323.23, 22634.64, 1831.02, 28808.1, 10539.78, 588.99, 939.78, 7212.41, 15683.01, 41369.09, 5581.6, 403.36, 375.26, 12276.66, 15393.56, 76.65, 5884.38, 18005.49, 3094.71, 43642.78, 35554.83, 22977.11, 1026.33, 665.28, 9712.49, 6038.52, 30756.51, 3758.25, 4769.49, 2463.3, 160153.16, 967.11, 2311.74, 1414.83, 12764.91, 4191.24, 110.76, 637.34, 1195.12, 2271.63, 804.12, 196.17, 167.67, 131.77, 2842.05, 9969.12, 1784.35, 3098.49, 25005.54, 1300.1, 118697.39, 7920.54, 6471.78, 31707.57, 37636.47, 118777.77, 131170.76, 3980.88, 3339.39, 26563.9, 4038.73, 124.8, 196.65, 2797.77, 29832.76, 184.84, 79.08, 8047.83, 205313.25, 1726.98, 899.73, 224.06, 304763.54, 6101.31, 729.6, 896.07, 17.82, 26.22, 46429.78, 31167.27, 2455.94, 37714.3, 1506.93, 3812.78, 25223.34, 3795.96, 437.31, 41278.86, 2091.81, 6296.61, 468.82, 23629.64, 160435.53, 9725.46, 1317.03, 1225.26, 30034.08, 7893.45, 2036.07, 215.52, 3912.42, 82783.43, 253.14, 966.96, 3381.26, 164.07, 1984.23, 75.12, 25168.17, 3295.53, 991.12, 10772.1, 44.16, 1311.45, 35352.57, 245783.54, 20.49, 13471.06, 8171.16, 14075.67, 611.82, 3925.56, 981.84, 10209.84, 156.56, 243.06, 21287.52, 7300.51, 434.52, 6065.0, 741577.51, 132461.03, 224.75, 28953.6, 757.98, 528.15, 34922.41, 50.58, 2918.48, 1044.96, 22195.13, 3951.48, 6977.64, 219.12, 5908.38, 10987.46, 4852.26, 445.5, 71860.82, 14840.45, 24712.08, 1329.9, 1180.44, 85.02, 10341.63, 690.48, 1939.53, 20010.51, 914.31, 25223.82, 12804.66, 2124.24, 602.82, 2961.66, 15740.79, 74138.35, 7759.39, 447.0, 2094.84, 22358.95, 21734.53, 4223.73, 17679.53, 1019.85, 51848.72, 69133.3, 30146.9, 705.48, 14508.88, 7489.38, 20269.44, 246.12, 668.13, 768.93, 215677.35, 899.16, 2578.2, 4107.99, 20334.57, 366.84, 3249.27, 98.88, 3497.88, 3853.05, 786.75, 1573.68, 458.36, 1234.77, 1094.22, 2300.61, 970.14, 3068.25, 35792.85, 4277.82, 71080.28, 3016.86, 3157.49, 15888.0, 30000.36, 140037.89, 216056.25, 1214.22, 1493.94, 32036.69, 4979.66, 106.02, 46257.68, 1033.3, 937.32, 3442.62, 160633.45, 213.15, 338.88, 242117.13, 9602.34, 2280.99, 73759.08, 23526.12, 6272.74, 43416.3, 576.78, 1471.61, 20844.9, 3497.7, 56382.38, 902.58, 6235.26, 48.91, 32684.24, 276611.58, 13370.38, 10595.28, 4555.14, 10084.38, 267.72, 1012.95, 4630.5, 149433.51, 364.32, 349.2, 4647.56, 504.0, 10343.52, 5202.66, 2786.26, 34135.95, 2654.58, 24699.51, 339239.87, 136.26, 23524.51, 8731.68, 8425.86, 835.95, 11285.19])\n",
        "profit = np.array([-1213.46, 1814.13, -1485.7, -2286.73, -2872.12, 946.8, 198.48, 145454.95, 49476.1, -245.56, 5980.77, -790.47, -895.72, -34572.08, 117.9, 561.96, 152.85, 1426.05, 1873.17, -251.03, 68.22, 635.11, 3722.4, -3168.63, 27.6, 952.11, 7.38, 20931.13, 186.36, -5395.38, 9738.45, 525.27, 3351.99, 120.78, 266.88, 3795.21, 8615.97, 609.54, 7710.57, 2930.43, 1047.96, -2733.32, 2873.73, -5957.89, -909.6, 163.41, -376.02, -6322.68, -10425.86, 2340.36, -28430.53, 756.12, 12633.33, 7382.54, -14327.69, 436.44, 683.85, -694.91, 1960.56, 10925.82, 334.08, 425.49, 53580.2, 1024.56, 110.93, 632.22, 8492.58, 1418.88, 19.26, -2567.57, 346.26, 601.86, 1318.68, 304.05, 428.37, 1416.24, -2878.18, 283.41, 12611.04, 261.95, -648.43, 1112.88, -2640.29, 6154.32, 11558.79, 15291.4, 56092.65, 1515.39, 342.03, -10865.66, -902.8, 351.52, 364.17, 87.72, 11565.66, 75.4, 289.33, 3129.63, 50795.72, 783.72, 215.46, 29196.89, 1147.26, 53.22, 286.56, 73.02, 42.24, 13914.85, 5754.54, 998.04, -1476.04, 86.58, -1636.35, 10511.91, 647.34, 13768.62, 338.67, 3095.67, 173.84, 5632.93, 64845.11, 3297.33, 338.61, 7246.62, 2255.52, 1326.36, 827.64, 1100.58, 9051.36, 412.23, 1063.91, 940.59, 3891.84, 1599.51, 1129.57, 8792.64, 6.24, 592.77, 8792.85, 47727.5, -4597.68, 2242.56, 3546.45, 321.87, 1536.72, -2463.29, 1906.08, -1916.99, 186.24, 3002.05, -3250.98, 554.7, 830.64, 122612.79, 33894.21, -559.03, 7528.05, -477.67, -1660.25, -33550.96, 481.68, 425.08, 450.3, 9.57, -3025.29, 2924.62, -11.84, 87.36, 26.51, 1727.19, -6131.18, 59.16, 3.06, 1693.47, 74.67, 24729.21, -4867.94, 6705.18, 410.79, 70.74, 101.7, 3264.3, 137.01, 6.18, 2100.21, 5295.24, 520.29, 7205.52, 2602.65, 116.67, 224.91, -5153.93, 3882.69, -6535.24, -1254.1, 84.56, -186.38, -3167.2, -7935.59, 37.02, 1908.06, -27087.84, 829.32, 8727.44, 2011.47, -11629.64, 234.96, 53.1, 1248.14, 1511.07, 7374.24, 1193.28, 1090.23, 553.86, 38483.86, 255.81, 528.54, 326.07, 3924.36, 1018.92, 36.48, 113.24, -1770.05, 527.64, 224.49, 79.53, 64.77, 38.08, 868.08, 2265.06, -2643.62, 833.73, 5100.03, 326.44, 18158.84, 1682.01, -3290.22, 8283.33, 7926.18, 1694.41, 30522.92, 1214.07, 900.6, -6860.8, -865.91, 26.16, 47.22, 863.52, 7061.26, 73.92, 33.12, 1801.23, 38815.44, 431.13, 216.81, 16.5, 53688.2, 1210.32, 236.94, 210.84, 3.18, 2.22, 10265.64, 7212.3, 343.56, 3898.28, 568.11, -1867.85, 5782.38, 697.29, -192.06, 10179.02, 616.32, 1090.47, 165.84, 6138.28, 39723.06, 2085.14, 90.0, 129.93, 7957.53, 2131.86, 562.44, 99.12, 1298.37, 7580.33, 113.73, 139.71, 456.0, 21.24, 292.68, 30.34, 5817.15, 1060.89, 252.9, 3060.61, 6.6, 219.09, 8735.82, 31481.09, 2.85, -3124.72, 2195.94, 3464.7, 141.12, 1125.69, -1752.03, 3281.52, -303.77, 114.18, -2412.63, -5099.61, 146.64, 660.22, 18329.28, 28529.84, -232.27, 7435.41, -1157.94, -746.73, -30324.2, 2.52, 1313.44, 213.72, -5708.95, 930.18, 1663.02, 31.59, 1787.88, -8219.56, 973.92, 4.32, 8729.78, -2529.52, 5361.06, 69.21, 519.3, 13.56, 2236.77, 213.96, 367.98, 5074.2, 206.61, 7620.36, 2093.19, 164.07, 230.01, -815.82, 4226.7, -3635.09, -3344.17, 167.26, 143.79, -8233.57, -4085.21, 919.35, -25232.35, 234.33, 12040.68, 7206.28, -15112.76, 206.04, -2662.49, 2346.81, 4461.36, 93.48, 82.11, 147.87, 10389.53, 395.58, 474.74, 1333.26, 3913.02, 117.36, 858.78, 6.9, -4628.49, 1170.6, 218.55, 539.58, -211.0, 438.87, 317.16, 310.8, -1578.09, 706.56, 6617.4, 803.84, 2475.26, 764.34, -1461.88, 3805.56, 7371.27, -1377.13, 42435.03, 472.47, 315.48, -11755.91, -2418.6, 6.36, 9317.76, 326.88, -287.31, 637.68, 17579.17, 70.83, 47.4, 26143.92, 1548.15, 612.78, 17842.76, 6735.39, 1206.5, -10035.74, 149.4, -777.85, 5566.29, 748.92, 14941.58, 348.93, 1944.06, -5.51, 7026.84, 46114.92, 2361.86, 2613.24, 1277.37, 2587.74, 103.08, 311.43, 1250.58, 13055.21, 18.21, 108.24, 709.44, 115.92, 1863.6, 1873.86, 817.32, 7577.64, 1019.19, 6813.03, 24698.84, 66.24, -10971.39, 2056.47, 2095.35, 246.33, 2797.89])\n",
        "\n",
        "# corresponding category and country value to the above arrays\n",
        "product_category = np.array(['Technology', 'Technology', 'Technology', 'Technology', 'Technology', 'Technology', 'Technology', 'Technology', 'Technology', 'Technology', 'Technology', 'Technology', 'Technology', 'Technology', 'Technology', 'Technology', 'Technology', 'Technology', 'Technology', 'Technology', 'Technology', 'Technology', 'Technology', 'Technology', 'Technology', 'Technology', 'Technology', 'Technology', 'Technology', 'Technology', 'Technology', 'Technology', 'Technology', 'Technology', 'Technology', 'Technology', 'Technology', 'Technology', 'Technology', 'Technology', 'Technology', 'Technology', 'Technology', 'Technology', 'Technology', 'Technology', 'Technology', 'Technology', 'Technology', 'Technology', 'Technology', 'Technology', 'Technology', 'Technology', 'Technology', 'Technology', 'Technology', 'Technology', 'Technology', 'Technology', 'Technology', 'Technology', 'Technology', 'Technology', 'Technology', 'Technology', 'Technology', 'Technology', 'Technology', 'Technology', 'Technology', 'Technology', 'Technology', 'Technology', 'Technology', 'Technology', 'Technology', 'Technology', 'Technology', 'Technology', 'Technology', 'Technology', 'Technology', 'Technology', 'Technology', 'Technology', 'Technology', 'Technology', 'Technology', 'Technology', 'Technology', 'Technology', 'Technology', 'Technology', 'Technology', 'Technology', 'Technology', 'Technology', 'Technology', 'Technology', 'Technology', 'Technology', 'Technology', 'Technology', 'Technology', 'Technology', 'Technology', 'Technology', 'Technology', 'Technology', 'Technology', 'Technology', 'Technology', 'Technology', 'Technology', 'Technology', 'Technology', 'Technology', 'Technology', 'Technology', 'Technology', 'Technology', 'Technology', 'Technology', 'Technology', 'Technology', 'Technology', 'Technology', 'Technology', 'Technology', 'Technology', 'Technology', 'Technology', 'Technology', 'Technology', 'Technology', 'Technology', 'Technology', 'Technology', 'Technology', 'Technology', 'Technology', 'Technology', 'Technology', 'Technology', 'Office Supplies', 'Office Supplies', 'Office Supplies', 'Office Supplies', 'Office Supplies', 'Office Supplies', 'Office Supplies', 'Office Supplies', 'Office Supplies', 'Office Supplies', 'Office Supplies', 'Office Supplies', 'Office Supplies', 'Office Supplies', 'Office Supplies', 'Office Supplies', 'Office Supplies', 'Office Supplies', 'Office Supplies', 'Office Supplies', 'Office Supplies', 'Office Supplies', 'Office Supplies', 'Office Supplies', 'Office Supplies', 'Office Supplies', 'Office Supplies', 'Office Supplies', 'Office Supplies', 'Office Supplies', 'Office Supplies', 'Office Supplies', 'Office Supplies', 'Office Supplies', 'Office Supplies', 'Office Supplies', 'Office Supplies', 'Office Supplies', 'Office Supplies', 'Office Supplies', 'Office Supplies', 'Office Supplies', 'Office Supplies', 'Office Supplies', 'Office Supplies', 'Office Supplies', 'Office Supplies', 'Office Supplies', 'Office Supplies', 'Office Supplies', 'Office Supplies', 'Office Supplies', 'Office Supplies', 'Office Supplies', 'Office Supplies', 'Office Supplies', 'Office Supplies', 'Office Supplies', 'Office Supplies', 'Office Supplies', 'Office Supplies', 'Office Supplies', 'Office Supplies', 'Office Supplies', 'Office Supplies', 'Office Supplies', 'Office Supplies', 'Office Supplies', 'Office Supplies', 'Office Supplies', 'Office Supplies', 'Office Supplies', 'Office Supplies', 'Office Supplies', 'Office Supplies', 'Office Supplies', 'Office Supplies', 'Office Supplies', 'Office Supplies', 'Office Supplies', 'Office Supplies', 'Office Supplies', 'Office Supplies', 'Office Supplies', 'Office Supplies', 'Office Supplies', 'Office Supplies', 'Office Supplies', 'Office Supplies', 'Office Supplies', 'Office Supplies', 'Office Supplies', 'Office Supplies', 'Office Supplies', 'Office Supplies', 'Office Supplies', 'Office Supplies', 'Office Supplies', 'Office Supplies', 'Office Supplies', 'Office Supplies', 'Office Supplies', 'Office Supplies', 'Office Supplies', 'Office Supplies', 'Office Supplies', 'Office Supplies', 'Office Supplies', 'Office Supplies', 'Office Supplies', 'Office Supplies', 'Office Supplies', 'Office Supplies', 'Office Supplies', 'Office Supplies', 'Office Supplies', 'Office Supplies', 'Office Supplies', 'Office Supplies', 'Office Supplies', 'Office Supplies', 'Office Supplies', 'Office Supplies', 'Office Supplies', 'Office Supplies', 'Office Supplies', 'Office Supplies', 'Office Supplies', 'Office Supplies', 'Office Supplies', 'Office Supplies', 'Office Supplies', 'Office Supplies', 'Office Supplies', 'Office Supplies', 'Office Supplies', 'Office Supplies', 'Office Supplies', 'Office Supplies', 'Office Supplies', 'Office Supplies', 'Office Supplies', 'Office Supplies', 'Office Supplies', 'Office Supplies', 'Office Supplies', 'Office Supplies', 'Office Supplies', 'Office Supplies', 'Office Supplies', 'Office Supplies', 'Office Supplies', 'Office Supplies', 'Office Supplies', 'Office Supplies', 'Office Supplies', 'Office Supplies', 'Office Supplies', 'Office Supplies', 'Office Supplies', 'Office Supplies', 'Furniture', 'Furniture', 'Furniture', 'Furniture', 'Furniture', 'Furniture', 'Furniture', 'Furniture', 'Furniture', 'Furniture', 'Furniture', 'Furniture', 'Furniture', 'Furniture', 'Furniture', 'Furniture', 'Furniture', 'Furniture', 'Furniture', 'Furniture', 'Furniture', 'Furniture', 'Furniture', 'Furniture', 'Furniture', 'Furniture', 'Furniture', 'Furniture', 'Furniture', 'Furniture', 'Furniture', 'Furniture', 'Furniture', 'Furniture', 'Furniture', 'Furniture', 'Furniture', 'Furniture', 'Furniture', 'Furniture', 'Furniture', 'Furniture', 'Furniture', 'Furniture', 'Furniture', 'Furniture', 'Furniture', 'Furniture', 'Furniture', 'Furniture', 'Furniture', 'Furniture', 'Furniture', 'Furniture', 'Furniture', 'Furniture', 'Furniture', 'Furniture', 'Furniture', 'Furniture', 'Furniture', 'Furniture', 'Furniture', 'Furniture', 'Furniture', 'Furniture', 'Furniture', 'Furniture', 'Furniture', 'Furniture', 'Furniture', 'Furniture', 'Furniture', 'Furniture', 'Furniture', 'Furniture', 'Furniture', 'Furniture', 'Furniture', 'Furniture', 'Furniture', 'Furniture', 'Furniture', 'Furniture', 'Furniture', 'Furniture', 'Furniture', 'Furniture', 'Furniture', 'Furniture', 'Furniture', 'Furniture', 'Furniture', 'Furniture', 'Furniture', 'Furniture', 'Furniture', 'Furniture', 'Furniture', 'Furniture', 'Furniture', 'Furniture', 'Furniture', 'Furniture', 'Furniture', 'Furniture', 'Furniture', 'Furniture', 'Furniture', 'Furniture', 'Furniture', 'Furniture', 'Furniture', 'Furniture', 'Furniture', 'Furniture', 'Furniture', 'Furniture', 'Furniture', 'Furniture', 'Furniture', 'Furniture', 'Furniture', 'Furniture', 'Furniture', 'Furniture', 'Furniture', 'Furniture', 'Furniture', 'Furniture', 'Furniture', 'Furniture', 'Furniture', 'Furniture', 'Furniture', 'Furniture', 'Furniture', 'Furniture', 'Furniture', 'Furniture', 'Furniture', 'Furniture', 'Furniture'])\n",
        "country = np.array(['Zimbabwe', 'Zambia', 'Yemen', 'Vietnam', 'Venezuela', 'Uzbekistan', 'Uruguay', 'United States', 'United Kingdom', 'United Arab Emirates', 'Ukraine', 'Uganda', 'Turkmenistan', 'Turkey', 'Tunisia', 'Trinidad and Tobago', 'Togo', 'Thailand', 'Tanzania', 'Tajikistan', 'Taiwan', 'Syria', 'Switzerland', 'Sweden', 'Swaziland', 'Sudan', 'Sri Lanka', 'Spain', 'South Sudan', 'South Korea', 'South Africa', 'Somalia', 'Singapore', 'Sierra Leone', 'Serbia', 'Senegal', 'Saudi Arabia', 'Rwanda', 'Russia', 'Romania', 'Qatar', 'Portugal', 'Poland', 'Philippines', 'Peru', 'Paraguay', 'Papua New Guinea', 'Panama', 'Pakistan', 'Norway', 'Nigeria', 'Niger', 'Nicaragua', 'New Zealand', 'Netherlands', 'Nepal', 'Namibia', 'Myanmar (Burma)', 'Mozambique', 'Morocco', 'Mongolia', 'Moldova', 'Mexico', 'Mauritania', 'Martinique', 'Mali', 'Malaysia', 'Madagascar', 'Luxembourg', 'Lithuania', 'Libya', 'Liberia', 'Lesotho', 'Lebanon', 'Kyrgyzstan', 'Kenya', 'Kazakhstan', 'Jordan', 'Japan', 'Jamaica', 'Italy', 'Israel', 'Ireland', 'Iraq', 'Iran', 'Indonesia', 'India', 'Hungary', 'Hong Kong', 'Honduras', 'Haiti', 'Guyana', 'Guinea-Bissau', 'Guinea', 'Guatemala', 'Guadeloupe', 'Greece', 'Ghana', 'Germany', 'Georgia', 'Gabon', 'France', 'Finland', 'Ethiopia', 'Estonia', 'Eritrea', 'Equatorial Guinea', 'El Salvador', 'Egypt', 'Ecuador', 'Dominican Republic', 'Djibouti', 'Denmark', 'Democratic Republic of the Congo', 'Czech Republic', 'Cuba', 'Croatia', \"Cote d'Ivoire\", 'Costa Rica', 'Colombia', 'China', 'Chile', 'Central African Republic', 'Canada', 'Cameroon', 'Cambodia', 'Burkina Faso', 'Bulgaria', 'Brazil', 'Bosnia and Herzegovina', 'Bolivia', 'Benin', 'Belgium', 'Belarus', 'Barbados', 'Bangladesh', 'Bahrain', 'Azerbaijan', 'Austria', 'Australia', 'Argentina', 'Angola', 'Algeria', 'Albania', 'Afghanistan', 'Zimbabwe', 'Zambia', 'Yemen', 'Western Sahara', 'Vietnam', 'Venezuela', 'Uzbekistan', 'Uruguay', 'United States', 'United Kingdom', 'United Arab Emirates', 'Ukraine', 'Uganda', 'Turkmenistan', 'Turkey', 'Tunisia', 'Trinidad and Tobago', 'Togo', 'The Gambia', 'Thailand', 'Tanzania', 'Tajikistan', 'Taiwan', 'Syria', 'Switzerland', 'Sweden', 'Swaziland', 'Suriname', 'Sudan', 'Sri Lanka', 'Spain', 'South Korea', 'South Africa', 'Somalia', 'Slovenia', 'Slovakia', 'Singapore', 'Sierra Leone', 'Serbia', 'Senegal', 'Saudi Arabia', 'Rwanda', 'Russia', 'Romania', 'Republic of the Congo', 'Qatar', 'Portugal', 'Poland', 'Philippines', 'Peru', 'Paraguay', 'Papua New Guinea', 'Panama', 'Pakistan', 'Oman', 'Norway', 'Nigeria', 'Niger', 'Nicaragua', 'New Zealand', 'Netherlands', 'Nepal', 'Namibia', 'Myanmar (Burma)', 'Mozambique', 'Morocco', 'Montenegro', 'Mongolia', 'Moldova', 'Mexico', 'Mauritania', 'Martinique', 'Mali', 'Malaysia', 'Madagascar', 'Macedonia', 'Luxembourg', 'Lithuania', 'Libya', 'Liberia', 'Lesotho', 'Lebanon', 'Laos', 'Kyrgyzstan', 'Kenya', 'Kazakhstan', 'Jordan', 'Japan', 'Jamaica', 'Italy', 'Israel', 'Ireland', 'Iraq', 'Iran', 'Indonesia', 'India', 'Hungary', 'Hong Kong', 'Honduras', 'Haiti', 'Guyana', 'Guinea-Bissau', 'Guinea', 'Guatemala', 'Guadeloupe', 'Greece', 'Ghana', 'Germany', 'Georgia', 'Gabon', 'French Guiana', 'France', 'Finland', 'Ethiopia', 'Estonia', 'Eritrea', 'Equatorial Guinea', 'El Salvador', 'Egypt', 'Ecuador', 'Dominican Republic', 'Djibouti', 'Denmark', 'Democratic Republic of the Congo', 'Czech Republic', 'Cyprus', 'Cuba', 'Croatia', \"Cote d'Ivoire\", 'Costa Rica', 'Colombia', 'China', 'Chile', 'Chad', 'Central African Republic', 'Canada', 'Cameroon', 'Cambodia', 'Burkina Faso', 'Bulgaria', 'Brazil', 'Botswana', 'Bosnia and Herzegovina', 'Bolivia', 'Bhutan', 'Benin', 'Belize', 'Belgium', 'Belarus', 'Barbados', 'Bangladesh', 'Bahrain', 'Azerbaijan', 'Austria', 'Australia', 'Armenia', 'Argentina', 'Angola', 'Algeria', 'Albania', 'Afghanistan', 'Zimbabwe', 'Zambia', 'Yemen', 'Western Sahara', 'Vietnam', 'Venezuela', 'Uzbekistan', 'Uruguay', 'United States', 'United Kingdom', 'United Arab Emirates', 'Ukraine', 'Uganda', 'Turkmenistan', 'Turkey', 'Tunisia', 'Trinidad and Tobago', 'Togo', 'Thailand', 'Tanzania', 'Taiwan', 'Syria', 'Switzerland', 'Sweden', 'Sudan', 'Sri Lanka', 'Spain', 'South Korea', 'South Africa', 'Somalia', 'Slovenia', 'Slovakia', 'Singapore', 'Sierra Leone', 'Senegal', 'Saudi Arabia', 'Rwanda', 'Russia', 'Romania', 'Republic of the Congo', 'Qatar', 'Portugal', 'Poland', 'Philippines', 'Peru', 'Paraguay', 'Papua New Guinea', 'Panama', 'Pakistan', 'Norway', 'Nigeria', 'Niger', 'Nicaragua', 'New Zealand', 'Netherlands', 'Nepal', 'Myanmar (Burma)', 'Mozambique', 'Morocco', 'Montenegro', 'Mongolia', 'Moldova', 'Mexico', 'Mauritania', 'Martinique', 'Mali', 'Malaysia', 'Malawi', 'Madagascar', 'Macedonia', 'Lithuania', 'Libya', 'Liberia', 'Lebanon', 'Laos', 'Kyrgyzstan', 'Kuwait', 'Kenya', 'Kazakhstan', 'Jordan', 'Japan', 'Jamaica', 'Italy', 'Israel', 'Ireland', 'Iraq', 'Iran', 'Indonesia', 'India', 'Hungary', 'Hong Kong', 'Honduras', 'Haiti', 'Guyana', 'Guatemala', 'Guadeloupe', 'Greece', 'Ghana', 'Germany', 'Georgia', 'Gabon', 'France', 'Finland', 'Estonia', 'El Salvador', 'Egypt', 'Ecuador', 'Dominican Republic', 'Djibouti', 'Denmark', 'Democratic Republic of the Congo', 'Czech Republic', 'Cuba', 'Croatia', \"Cote d'Ivoire\", 'Costa Rica', 'Colombia', 'China', 'Chile', 'Canada', 'Cameroon', 'Cambodia', 'Burundi', 'Burkina Faso', 'Bulgaria', 'Brazil', 'Botswana', 'Bosnia and Herzegovina', 'Bolivia', 'Benin', 'Belgium', 'Belarus', 'Barbados', 'Bangladesh', 'Azerbaijan', 'Austria', 'Australia', 'Armenia', 'Argentina', 'Angola', 'Algeria', 'Albania', 'Afghanistan'])"
      ]
    },
    {
      "cell_type": "code",
      "execution_count": null,
      "metadata": {
        "colab": {
          "base_uri": "https://localhost:8080/",
          "height": 300
        },
        "id": "YgxTNtlh30Yi",
        "outputId": "d9e7557f-9ff1-4e35-f706-271ff8ba6da8"
      },
      "outputs": [
        {
          "data": {
            "image/png": "[encoded data removed]",
            "text/plain": [
              "<Figure size 432x288 with 1 Axes>"
            ]
          },
          "metadata": {
            "needs_background": "light"
          },
          "output_type": "display_data"
        }
      ],
      "source": [
        "product_categories = np.array([\"Technology\", \"Furniture\", \"Office Supplies\"])\n",
        "colors = np.array([\"red\", \"green\", \"blue\"])\n",
        "\n",
        "# plotting the scatterplot with color coding the points belonging to different categories \n",
        "for color, categories in zip(colors, product_categories) :\n",
        "  sales_category = sales[product_category == categories]\n",
        "  profit_category = profit[product_category == categories]\n",
        "  plt.scatter(profit_category, sales_category,c = color, label = categories)\n",
        "\n",
        "\n",
        "# adding title to the graph\n",
        "plt.title('Sales vs Profit wrt categories', fontdict={'fontsize':20,'fontweight':5,'color':'Green'})\n",
        "\n",
        "# labeling axes\n",
        "plt.xlabel('Sales',fontdict={'fontsize':10,'fontweight':3,'color':'Red'})\n",
        "plt.ylabel('Profit',fontdict={'fontsize':10,'fontweight':3,'color':'Red'})\n",
        "\n",
        "plt.legend()\n",
        "plt.show()"
      ]
    },
    {
      "cell_type": "code",
      "execution_count": null,
      "metadata": {
        "colab": {
          "base_uri": "https://localhost:8080/",
          "height": 300
        },
        "id": "XnLxNm5_30U2",
        "outputId": "2d4a7919-67f7-4aa8-8ad3-3fa9a9e1d2bb"
      },
      "outputs": [
        {
          "data": {
            "image/png": "[encoded data removed]",
            "text/plain": [
              "<Figure size 432x288 with 1 Axes>"
            ]
          },
          "metadata": {
            "needs_background": "light"
          },
          "output_type": "display_data"
        }
      ],
      "source": [
        "product_categories = np.array([\"Technology\", \"Furniture\", \"Office Supplies\"])\n",
        "colors = np.array([\"red\", \"green\", \"blue\"])\n",
        "\n",
        "# plotting the scatterplot with color coding the points belonging to different categories \n",
        "for color, categories in zip(colors, product_categories) :\n",
        "  sales_category = sales[product_category == categories]\n",
        "  profit_category = profit[product_category == categories]\n",
        "  plt.scatter(profit_category, sales_category,c = color, label = categories)\n",
        "\n",
        "for xy in zip(profit[country=='India'],sales[country=='India']):\n",
        "  plt.annotate(s='India',xy =xy)\n",
        "\n",
        "# adding title to the graph\n",
        "plt.title('Sales vs Profit wrt categories and country is India', fontdict={'fontsize':20,'fontweight':5,'color':'Green'})\n",
        "\n",
        "# labeling axes\n",
        "plt.xlabel('Sales',fontdict={'fontsize':10,'fontweight':3,'color':'Red'})\n",
        "plt.ylabel('Profit',fontdict={'fontsize':10,'fontweight':3,'color':'Red'})\n",
        "\n",
        "\n",
        "plt.legend()\n",
        "plt.show()"
      ]
    },
    {
      "cell_type": "markdown",
      "metadata": {
        "id": "s48tLABwH9Bs"
      },
      "source": [
        "Line Graph and Histogram"
      ]
    },
    {
      "cell_type": "code",
      "execution_count": null,
      "metadata": {
        "id": "RUfDL4Wz30Q_"
      },
      "outputs": [],
      "source": [
        "# importing the required libraries\n",
        "import numpy as np\n",
        "import matplotlib.pyplot as plt\n",
        "\n",
        "# Sales data across months\n",
        "months = np.array(['January', 'February', 'March', 'April', 'May', 'June', 'July', 'August', 'September', 'October', 'November', 'December'])\n",
        "sales = np.array([241268.56, 184837.36, 263100.77, 242771.86, 288401.05, 401814.06, 258705.68, 456619.94, 481157.24, 422766.63, 555279.03, 503143.69])"
      ]
    },
    {
      "cell_type": "code",
      "execution_count": null,
      "metadata": {
        "colab": {
          "base_uri": "https://localhost:8080/",
          "height": 345
        },
        "id": "li9cTmTQ30JS",
        "outputId": "c8ec8c39-e0e5-4e22-c084-6f1cf66c84ff"
      },
      "outputs": [
        {
          "data": {
            "image/png": "[encoded data removed]",
            "text/plain": [
              "<Figure size 432x288 with 1 Axes>"
            ]
          },
          "metadata": {
            "needs_background": "light"
          },
          "output_type": "display_data"
        }
      ],
      "source": [
        "plt.plot(months, sales)\n",
        "# adding title to the graph\n",
        "plt.title('monthly sales', fontdict={'fontsize':20,'fontweight':5,'color':'Green'})\n",
        "\n",
        "# labeling axes\n",
        "plt.xlabel('Months',fontdict={'fontsize':10,'fontweight':3,'color':'Red'})\n",
        "plt.ylabel('Sales',fontdict={'fontsize':10,'fontweight':3,'color':'Red'})\n",
        "plt.xticks(rotation=90)\n",
        "plt.show()"
      ]
    },
    {
      "cell_type": "code",
      "execution_count": null,
      "metadata": {
        "id": "z29nXpb130CD"
      },
      "outputs": [],
      "source": [
        "# importing the required libraries - numpy, matplotlib.pyplot \n",
        "\n",
        "\n",
        "# data corresponding to age of the employees in the company\n",
        "age = np.array([23, 22, 24, 24, 23, 23, 22, 23, 24, 24, 24, 22, 24, 23, 24, 23, 22, 24, 23, 23, 22, 23, 23, 24, 23, 24, 23, 22, 24, 22, 23, 24, 23, 24, 22, 22, 24, 23, 22, 24, 24, 24, 23, 24, 24, 22, 23, 23, 24, 22, 22, 24, 22, 23, 22, 23, 22, 23, 23, 23, 23, 22, 22, 23, 23, 23, 23, 23, 23, 22, 29, 29, 27, 28, 28, 29, 28, 27, 26, 27, 28, 29, 26, 28, 26, 28, 27, 27, 28, 28, 26, 29, 28, 28, 26, 27, 26, 28, 27, 29, 29, 27, 27, 27, 28, 29, 29, 29, 27, 28, 28, 26, 28, 27, 26, 26, 27, 26, 29, 28, 28, 28, 29, 26, 26, 26, 29, 26, 28, 26, 28, 28, 27, 27, 27, 29, 27, 28, 27, 26, 29, 29, 27, 29, 26, 29, 26, 29, 29, 27, 28, 28, 27, 29, 26, 28, 26, 28, 27, 29, 29, 29, 27, 27, 29, 29, 26, 26, 26, 27, 28, 27, 28, 28, 29, 27, 26, 27, 29, 28, 29, 27, 27, 26, 26, 26, 26, 29, 28, 28, 33, 34, 33, 33, 34, 33, 31, 32, 33, 33, 32, 34, 32, 31, 33, 34, 31, 33, 34, 33, 34, 33, 32, 33, 31, 33, 32, 32, 31, 34, 33, 31, 34, 32, 32, 31, 32, 31, 32, 34, 33, 33, 31, 32, 32, 31, 32, 33, 34, 32, 34, 31, 32, 31, 33, 32, 34, 31, 32, 34, 31, 31, 34, 34, 34, 32, 34, 33, 33, 32, 32, 33, 31, 33, 31, 32, 34, 32, 32, 31, 34, 32, 32, 31, 32, 34, 32, 33, 31, 34, 31, 31, 32, 31, 33, 34, 34, 34, 31, 33, 34, 33, 34, 31, 34, 34, 33, 31, 32, 33, 31, 31, 33, 32, 34, 32, 34, 31, 31, 34, 32, 32, 31, 31, 32, 31, 31, 32, 33, 32, 31, 32, 32, 31, 31, 34, 31, 34, 33, 32, 31, 34, 34, 31, 34, 31, 32, 34, 33, 33, 34, 32, 33, 31, 31, 33, 32, 31, 31, 31, 37, 38, 37, 37, 36, 37, 36, 39, 37, 39, 37, 39, 38, 36, 37, 36, 38, 38, 36, 39, 39, 37, 39, 36, 37, 36, 36, 37, 38, 36, 38, 39, 39, 36, 38, 37, 39, 38, 39, 39, 36, 38, 37, 38, 39, 36, 37, 36, 36, 38, 38, 38, 39, 36, 37, 37, 39, 37, 37, 36, 36, 39, 37, 36, 36, 36, 39, 37, 37, 37, 37, 39, 36, 39, 37, 38, 37, 36, 36, 39, 39, 36, 36, 39, 39, 39, 37, 38, 36, 36, 37, 38, 37, 38, 37, 39, 39, 37, 39, 36, 36, 39, 39, 39, 36, 38, 39, 39, 39, 39, 38, 36, 37, 37, 38, 38, 39, 36, 37, 37, 39, 36, 37, 37, 36, 36, 36, 38, 39, 38, 36, 38, 36, 39, 38, 36, 36, 37, 39, 39, 37, 37, 37, 36, 37, 36, 36, 38, 38, 39, 36, 39, 36, 37, 37, 39, 39, 36, 38, 39, 39, 39, 37, 37, 37, 37, 39, 36, 37, 39, 38, 39, 36, 37, 38, 39, 38, 36, 37, 38, 42, 43, 44, 43, 41, 42, 41, 41, 42, 41, 43, 44, 43, 44, 44, 42, 43, 44, 43, 41, 44, 42, 43, 42, 42, 44, 43, 42, 41, 42, 41, 41, 41, 44, 44, 44, 41, 43, 42, 42, 43, 43, 44, 44, 44, 44, 44, 41, 42, 44, 43, 42, 42, 43, 44, 44, 44, 44, 41, 42, 43, 43, 43, 41, 43, 41, 42, 41, 42, 42, 41, 42, 44, 41, 43, 42, 41, 43, 41, 44, 44, 43, 43, 43, 41, 41, 41, 42, 43, 42, 48, 48, 48, 49, 47, 45, 46, 49, 46, 49, 49, 46, 47, 45, 47, 45, 47, 49, 47, 46, 46, 47, 45, 49, 49, 49, 45, 46, 47, 46, 45, 46, 45, 48, 48, 45, 49, 46, 48, 49, 47, 48, 45, 48, 46, 45, 48, 45, 46, 46, 48, 47, 46, 45, 48, 46, 49, 47, 46, 49, 48, 46, 47, 47, 46, 48, 47, 46, 46, 49, 50, 54, 53, 55, 51, 50, 51, 54, 54, 53, 53, 51, 51, 50, 54, 51, 51, 55, 50, 51, 50, 50, 53, 52, 54, 53, 55, 52, 52, 50, 52, 55, 54, 50, 50, 55, 52, 54, 52, 54])"
      ]
    },
    {
      "cell_type": "code",
      "execution_count": null,
      "metadata": {
        "colab": {
          "base_uri": "https://localhost:8080/",
          "height": 265
        },
        "id": "ymuEkNX2LS23",
        "outputId": "58625ef9-dd69-42f1-db62-c49b71e053d7"
      },
      "outputs": [
        {
          "data": {
            "image/png": "[encoded data removed]",
            "text/plain": [
              "<Figure size 432x288 with 1 Axes>"
            ]
          },
          "metadata": {
            "needs_background": "light"
          },
          "output_type": "display_data"
        }
      ],
      "source": [
        "# plt.hist(age,edgecolor = 'orange')\n",
        "plt.hist(age,edgecolor = 'orange',bins = 5)\n",
        "plt.show()"
      ]
    },
    {
      "cell_type": "markdown",
      "metadata": {
        "id": "D3OPCoblL3B5"
      },
      "source": [
        "BoxPlot"
      ]
    },
    {
      "cell_type": "markdown",
      "metadata": {
        "id": "0xpFvPxKL0vn"
      },
      "source": [
        "![image.png](data:image/png;base64,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)"
      ]
    },
    {
      "cell_type": "code",
      "execution_count": null,
      "metadata": {
        "id": "m1-HVjoTL1sT"
      },
      "outputs": [],
      "source": [
        "# importing numpy and the pyplot package of matplotlib\n",
        "\n",
        "\n",
        "# Creating arrays with sales in different countries across each category: 'Furniture', 'Technology' and 'Office Supplies'\n",
        "sales_technology = np.array ([1013.14, 8298.48, 875.51, 22320.83, 9251.6, 4516.86, 585.16, 174.2, 27557.79, 563.25, 558.11, 37117.45, 357.36, 2206.96, 709.5, 35064.03, 7230.78, 235.33, 148.32, 3973.27, 11737.8, 7104.63, 83.67, 5569.83, 92.34, 1045.62, 9072.51, 42485.82, 5093.82, 14846.16, 943.92, 684.36, 15012.03, 38196.18, 2448.75, 28881.96, 13912.14, 4507.2, 4931.06, 12805.05, 67912.73, 4492.2, 1740.01, 458.04, 16904.32, 21744.53, 10417.26, 18665.33, 2808.42, 54195.57, 67332.5, 24390.95, 1790.43, 2234.19, 9917.5, 7408.14, 36051.99, 1352.22, 1907.7, 2154.66, 1078.21, 3391.65, 28262.73, 5177.04, 66.51, 2031.34, 1683.72, 1970.01, 6515.82, 1055.31, 1029.48, 5303.4, 1850.96, 1159.41, 39989.13, 1183.87, 96365.09, 8356.68, 7010.24, 23119.23, 46109.28, 9058.95, 1313.67, 31525.06, 2019.94, 703.04, 1868.79, 700.5, 55512.02, 243.5, 2113.18, 11781.81, 3487.29, 513.12, 5000.7, 121.02, 1302.78, 169.92, 124.29, 57366.05, 29445.93, 4614.3, 45009.98, 309.24, 3353.67, 41348.34, 2280.27, 61193.7, 1466.79, 12419.94, 445.12, 25188.65, 12351.23, 1152.3, 26298.81, 9900.78, 5355.57, 2325.66, 6282.81, 1283.1, 3560.15, 3723.84, 13715.01, 4887.9, 3396.89, 33348.42, 625.02, 1665.48, 32486.97, 20516.22, 8651.16, 13590.06, 2440.35, 6462.57])\n",
        "sales_office_supplies = np.array ([1770.13, 7527.18, 1433.65, 423.3, 21601.72, 10035.72, 2378.49, 3062.38, 345.17, 30345.78, 300.71, 940.81, 36468.08, 1352.85, 1755.72, 2391.96, 19.98, 19792.8, 15633.88, 7.45, 521.67, 1118.24, 7231.68, 12399.32, 204.36, 23.64, 5916.48, 313.98, 9212.42, 27476.91, 1761.33, 289.5, 780.3, 15098.46, 813.27, 47.55, 8323.23, 22634.64, 1831.02, 28808.1, 10539.78, 588.99, 939.78, 7212.41, 15683.01, 41369.09, 5581.6, 403.36, 375.26, 12276.66, 15393.56, 76.65, 5884.38, 18005.49, 3094.71, 43642.78, 35554.83, 22977.11, 1026.33, 665.28, 9712.49, 6038.52, 30756.51, 3758.25, 4769.49, 2463.3, 967.11, 2311.74, 1414.83, 12764.91, 4191.24, 110.76, 637.34, 1195.12, 2271.63, 804.12, 196.17, 167.67, 131.77, 2842.05, 9969.12, 1784.35, 3098.49, 25005.54, 1300.1, 7920.54, 6471.78, 31707.57, 37636.47, 3980.88, 3339.39, 26563.9, 4038.73, 124.8, 196.65, 2797.77, 29832.76, 184.84, 79.08, 8047.83, 1726.98, 899.73, 224.06, 6101.31, 729.6, 896.07, 17.82, 26.22, 46429.78, 31167.27, 2455.94, 37714.3, 1506.93, 3812.78, 25223.34, 3795.96, 437.31, 41278.86, 2091.81, 6296.61, 468.82, 23629.64, 9725.46, 1317.03, 1225.26, 30034.08, 7893.45, 2036.07, 215.52, 3912.42, 82783.43, 253.14, 966.96, 3381.26, 164.07, 1984.23, 75.12, 25168.17, 3295.53, 991.12, 10772.1, 44.16, 1311.45, 35352.57, 20.49, 13471.06, 8171.16, 14075.67, 611.82, 3925.56])\n",
        "sales_furniture = np.array ([981.84, 10209.84, 156.56, 243.06, 21287.52, 7300.51, 434.52, 6065.0, 224.75, 28953.6, 757.98, 528.15, 34922.41, 50.58, 2918.48, 1044.96, 22195.13, 3951.48, 6977.64, 219.12, 5908.38, 10987.46, 4852.26, 445.5, 71860.82, 14840.45, 24712.08, 1329.9, 1180.44, 85.02, 10341.63, 690.48, 1939.53, 20010.51, 914.31, 25223.82, 12804.66, 2124.24, 602.82, 2961.66, 15740.79, 74138.35, 7759.39, 447.0, 2094.84, 22358.95, 21734.53, 4223.73, 17679.53, 1019.85, 51848.72, 69133.3, 30146.9, 705.48, 14508.88, 7489.38, 20269.44, 246.12, 668.13, 768.93, 899.16, 2578.2, 4107.99, 20334.57, 366.84, 3249.27, 98.88, 3497.88, 3853.05, 786.75, 1573.68, 458.36, 1234.77, 1094.22, 2300.61, 970.14, 3068.25, 35792.85, 4277.82, 71080.28, 3016.86, 3157.49, 15888.0, 30000.36, 1214.22, 1493.94, 32036.69, 4979.66, 106.02, 46257.68, 1033.3, 937.32, 3442.62, 213.15, 338.88, 9602.34, 2280.99, 73759.08, 23526.12, 6272.74, 43416.3, 576.78, 1471.61, 20844.9, 3497.7, 56382.38, 902.58, 6235.26, 48.91, 32684.24, 13370.38, 10595.28, 4555.14, 10084.38, 267.72, 1012.95, 4630.5, 364.32, 349.2, 4647.56, 504.0, 10343.52, 5202.66, 2786.26, 34135.95, 2654.58, 24699.51, 136.26, 23524.51, 8731.68, 8425.86, 835.95, 11285.19])"
      ]
    },
    {
      "cell_type": "code",
      "execution_count": null,
      "metadata": {
        "colab": {
          "base_uri": "https://localhost:8080/",
          "height": 323
        },
        "id": "gS9J7PbHLS6I",
        "outputId": "d9772e9b-1225-4aa0-ac8e-1dd37291ae13"
      },
      "outputs": [
        {
          "name": "stderr",
          "output_type": "stream",
          "text": [
            "/usr/local/lib/python3.7/dist-packages/numpy/core/_asarray.py:83: VisibleDeprecationWarning: Creating an ndarray from ragged nested sequences (which is a list-or-tuple of lists-or-tuples-or ndarrays with different lengths or shapes) is deprecated. If you meant to do this, you must specify 'dtype=object' when creating the ndarray\n",
            "  return array(a, dtype, copy=False, order=order)\n"
          ]
        },
        {
          "data": {
            "image/png": "[encoded data removed]",
            "text/plain": [
              "<Figure size 432x288 with 1 Axes>"
            ]
          },
          "metadata": {
            "needs_background": "light"
          },
          "output_type": "display_data"
        }
      ],
      "source": [
        "plt.boxplot([sales_technology, sales_office_supplies,sales_furniture])\n",
        "plt.xticks((1,2,3),['Technology', 'office_supplies','furniture'])\n",
        "plt.show()"
      ]
    },
    {
      "cell_type": "markdown",
      "metadata": {
        "id": "B6hqFwOGNMgl"
      },
      "source": [
        "SubPlots"
      ]
    },
    {
      "cell_type": "code",
      "execution_count": null,
      "metadata": {
        "id": "KH-fbn8fLS8l"
      },
      "outputs": [],
      "source": [
        "# importing numpy and the pyplot package of matplotlib\n",
        "\n",
        "\n",
        "# Data for sales made by the company across three regions over the years 2012 to 2015\n",
        "years = np.array(['2012', '2013', '2014', '2015'])\n",
        "sales_Africa = np.array([127187.27, 144480.70, 229068.79, 283036.44])\n",
        "sales_Asia_Pacific = np.array([713658.22, 863983.97, 1092231.65, 1372784.40])\n",
        "sales_Europe = np.array([540750.63, 717611.40, 848670.24, 1180303.95])"
      ]
    },
    {
      "cell_type": "code",
      "execution_count": null,
      "metadata": {
        "colab": {
          "base_uri": "https://localhost:8080/",
          "height": 265
        },
        "id": "QcaW_tz_NRQs",
        "outputId": "90b7ae3f-adfd-4919-aa59-8318c9518e0c"
      },
      "outputs": [
        {
          "data": {
            "image/png": "[encoded data removed]",
            "text/plain": [
              "<Figure size 432x288 with 1 Axes>"
            ]
          },
          "metadata": {
            "needs_background": "light"
          },
          "output_type": "display_data"
        }
      ],
      "source": [
        "plt.plot(years,sales_Africa )\n",
        "plt.show()"
      ]
    },
    {
      "cell_type": "code",
      "execution_count": null,
      "metadata": {
        "colab": {
          "base_uri": "https://localhost:8080/",
          "height": 276
        },
        "id": "0uvpLbBRLS_e",
        "outputId": "b7c92d93-87ef-4107-b7c0-db306e5947cf"
      },
      "outputs": [
        {
          "data": {
            "image/png": "[encoded data removed]",
            "text/plain": [
              "<Figure size 432x288 with 1 Axes>"
            ]
          },
          "metadata": {
            "needs_background": "light"
          },
          "output_type": "display_data"
        }
      ],
      "source": [
        "fig ,ax = plt.subplots()\n",
        "africa, = ax.plot(years,sales_Africa)\n",
        "africa.set_label('Africa')\n",
        "\n",
        "aspac, = ax.plot(years,sales_Asia_Pacific)\n",
        "aspac.set_label('Asia_Pacifica')\n",
        "\n",
        "europe, = ax.plot(years,sales_Europe)\n",
        "europe.set_label('Europe')\n",
        "europe.set_dashes([2,2,5,2])\n",
        "\n",
        "plt.legend()\n",
        "\n",
        "plt.show()"
      ]
    },
    {
      "cell_type": "code",
      "execution_count": null,
      "metadata": {
        "colab": {
          "base_uri": "https://localhost:8080/",
          "height": 276
        },
        "id": "RYYuh89nLTDM",
        "outputId": "1c0a5d86-ddc3-4be1-d723-f6a1a7d9b582"
      },
      "outputs": [
        {
          "data": {
            "image/png": "[encoded data removed]",
            "text/plain": [
              "<Figure size 432x288 with 3 Axes>"
            ]
          },
          "metadata": {
            "needs_background": "light"
          },
          "output_type": "display_data"
        }
      ],
      "source": [
        "fig ,ax = plt.subplots(ncols = 3)\n",
        "africa, = ax[0].plot(years,sales_Africa)\n",
        "africa.set_label('Africa')\n",
        "\n",
        "aspac, = ax[1].plot(years,sales_Asia_Pacific)\n",
        "aspac.set_label('Asia_Pacifica')\n",
        "\n",
        "europe, = ax[2].plot(years,sales_Europe)\n",
        "europe.set_label('Europe')\n",
        "europe.set_dashes([2,2,5,2])\n",
        "\n",
        "plt.legend()\n",
        "plt.show()"
      ]
    },
    {
      "cell_type": "markdown",
      "metadata": {
        "id": "Nu2VCLWhPW9v"
      },
      "source": [
        "### Pandas"
      ]
    },
    {
      "cell_type": "code",
      "execution_count": null,
      "metadata": {
        "id": "AgVin1_-LTFK"
      },
      "outputs": [],
      "source": [
        "import pandas as pd\n",
        "import numpy as np"
      ]
    },
    {
      "cell_type": "code",
      "execution_count": null,
      "metadata": {
        "colab": {
          "base_uri": "https://localhost:8080/"
        },
        "id": "EGO7WS4Iq_02",
        "outputId": "67e4c8b7-164d-4cea-9439-58d68de9d6c5"
      },
      "outputs": [
        {
          "name": "stdout",
          "output_type": "stream",
          "text": [
            "       number\n",
            "index        \n",
            "0           2\n",
            "1           4\n",
            "2           5\n",
            "3           6\n",
            "4           9\n",
            "<class 'pandas.core.frame.DataFrame'>\n"
          ]
        }
      ],
      "source": [
        "# Creating a numeric pandas series\n",
        "# s = pd.Series([2, 4, 5, 6, 9])\n",
        "s = pd.DataFrame([2, 4, 5, 6, 9])\n",
        "s.columns=['number']\n",
        "s.index.name='index'\n",
        "print(s)\n",
        "print(type(s))"
      ]
    },
    {
      "cell_type": "code",
      "execution_count": null,
      "metadata": {
        "colab": {
          "base_uri": "https://localhost:8080/"
        },
        "id": "GTZMaCfdrAVO",
        "outputId": "519cede4-99ef-4cbf-b5b4-430e35b59c99"
      },
      "outputs": [
        {
          "data": {
            "text/plain": [
              "DatetimeIndex(['2017-11-09', '2017-11-10', '2017-11-11', '2017-11-12',\n",
              "               '2017-11-13', '2017-11-14', '2017-11-15', '2017-11-16',\n",
              "               '2017-11-17', '2017-11-18', '2017-11-19', '2017-11-20',\n",
              "               '2017-11-21', '2017-11-22', '2017-11-23', '2017-11-24',\n",
              "               '2017-11-25', '2017-11-26', '2017-11-27', '2017-11-28',\n",
              "               '2017-11-29', '2017-11-30', '2017-12-01', '2017-12-02',\n",
              "               '2017-12-03', '2017-12-04', '2017-12-05', '2017-12-06',\n",
              "               '2017-12-07', '2017-12-08', '2017-12-09', '2017-12-10',\n",
              "               '2017-12-11', '2017-12-12'],\n",
              "              dtype='datetime64[ns]', freq='D')"
            ]
          },
          "execution_count": 4,
          "metadata": {},
          "output_type": "execute_result"
        }
      ],
      "source": [
        "# creating a series of type datetime\n",
        "date_series = pd.date_range(start = '11-09-2017', end = '12-12-2017')\n",
        "date_series\n",
        "# type(date_series)"
      ]
    },
    {
      "cell_type": "code",
      "execution_count": null,
      "metadata": {
        "id": "MGPlS9PfrLrU"
      },
      "outputs": [],
      "source": [
        "# Defining data to create lists for dictionary\n",
        "cars_per_cap = [809, 731, 588, 18, 200, 70, 45]\n",
        "country = ['United States', 'Australia', 'Japan', 'India', 'Russia', 'Morocco', 'Egypt']\n",
        "drives_right = [False, True, True, True, False, False, False]\n"
      ]
    },
    {
      "cell_type": "code",
      "execution_count": null,
      "metadata": {
        "colab": {
          "base_uri": "https://localhost:8080/",
          "height": 257
        },
        "id": "byPGyZxGrMM9",
        "outputId": "0cc73f6f-2a27-4299-a63c-c4d3a5862b9a"
      },
      "outputs": [
        {
          "data": {
            "text/html": [
              "\n",
              "  <div id=\"df-a9e50455-0914-40f1-a6b6-df7731c6def4\">\n",
              "    <div class=\"colab-df-container\">\n",
              "      <div>\n",
              "<style scoped>\n",
              "    .dataframe tbody tr th:only-of-type {\n",
              "        vertical-align: middle;\n",
              "    }\n",
              "\n",
              "    .dataframe tbody tr th {\n",
              "        vertical-align: top;\n",
              "    }\n",
              "\n",
              "    .dataframe thead th {\n",
              "        text-align: right;\n",
              "    }\n",
              "</style>\n",
              "<table border=\"1\" class=\"dataframe\">\n",
              "  <thead>\n",
              "    <tr style=\"text-align: right;\">\n",
              "      <th></th>\n",
              "      <th>cars_per_cap</th>\n",
              "      <th>country</th>\n",
              "      <th>drives_right</th>\n",
              "    </tr>\n",
              "  </thead>\n",
              "  <tbody>\n",
              "    <tr>\n",
              "      <th>0</th>\n",
              "      <td>809</td>\n",
              "      <td>United States</td>\n",
              "      <td>False</td>\n",
              "    </tr>\n",
              "    <tr>\n",
              "      <th>1</th>\n",
              "      <td>731</td>\n",
              "      <td>Australia</td>\n",
              "      <td>True</td>\n",
              "    </tr>\n",
              "    <tr>\n",
              "      <th>2</th>\n",
              "      <td>588</td>\n",
              "      <td>Japan</td>\n",
              "      <td>True</td>\n",
              "    </tr>\n",
              "    <tr>\n",
              "      <th>3</th>\n",
              "      <td>18</td>\n",
              "      <td>India</td>\n",
              "      <td>True</td>\n",
              "    </tr>\n",
              "    <tr>\n",
              "      <th>4</th>\n",
              "      <td>200</td>\n",
              "      <td>Russia</td>\n",
              "      <td>False</td>\n",
              "    </tr>\n",
              "    <tr>\n",
              "      <th>5</th>\n",
              "      <td>70</td>\n",
              "      <td>Morocco</td>\n",
              "      <td>False</td>\n",
              "    </tr>\n",
              "    <tr>\n",
              "      <th>6</th>\n",
              "      <td>45</td>\n",
              "      <td>Egypt</td>\n",
              "      <td>False</td>\n",
              "    </tr>\n",
              "  </tbody>\n",
              "</table>\n",
              "</div>\n",
              "      <button class=\"colab-df-convert\" onclick=\"convertToInteractive('df-a9e50455-0914-40f1-a6b6-df7731c6def4')\"\n",
              "              title=\"Convert this dataframe to an interactive table.\"\n",
              "              style=\"display:none;\">\n",
              "        \n",
              "  <svg xmlns=\"http://www.w3.org/2000/svg\" height=\"24px\"viewBox=\"0 0 24 24\"\n",
              "       width=\"24px\">\n",
              "    <path d=\"M0 0h24v24H0V0z\" fill=\"none\"/>\n",
              "    <path d=\"M18.56 5.44l.94 2.06.94-2.06 2.06-.94-2.06-.94-.94-2.06-.94 2.06-2.06.94zm-11 1L8.5 8.5l.94-2.06 2.06-.94-2.06-.94L8.5 2.5l-.94 2.06-2.06.94zm10 10l.94 2.06.94-2.06 2.06-.94-2.06-.94-.94-2.06-.94 2.06-2.06.94z\"/><path d=\"M17.41 7.96l-1.37-1.37c-.4-.4-.92-.59-1.43-.59-.52 0-1.04.2-1.43.59L10.3 9.45l-7.72 7.72c-.78.78-.78 2.05 0 2.83L4 21.41c.39.39.9.59 1.41.59.51 0 1.02-.2 1.41-.59l7.78-7.78 2.81-2.81c.8-.78.8-2.07 0-2.86zM5.41 20L4 18.59l7.72-7.72 1.47 1.35L5.41 20z\"/>\n",
              "  </svg>\n",
              "      </button>\n",
              "      \n",
              "  <style>\n",
              "    .colab-df-container {\n",
              "      display:flex;\n",
              "      flex-wrap:wrap;\n",
              "      gap: 12px;\n",
              "    }\n",
              "\n",
              "    .colab-df-convert {\n",
              "      background-color: #E8F0FE;\n",
              "      border: none;\n",
              "      border-radius: 50%;\n",
              "      cursor: pointer;\n",
              "      display: none;\n",
              "      fill: #1967D2;\n",
              "      height: 32px;\n",
              "      padding: 0 0 0 0;\n",
              "      width: 32px;\n",
              "    }\n",
              "\n",
              "    .colab-df-convert:hover {\n",
              "      background-color: #E2EBFA;\n",
              "      box-shadow: 0px 1px 2px rgba(60, 64, 67, 0.3), 0px 1px 3px 1px rgba(60, 64, 67, 0.15);\n",
              "      fill: #174EA6;\n",
              "    }\n",
              "\n",
              "    [theme=dark] .colab-df-convert {\n",
              "      background-color: #3B4455;\n",
              "      fill: #D2E3FC;\n",
              "    }\n",
              "\n",
              "    [theme=dark] .colab-df-convert:hover {\n",
              "      background-color: #434B5C;\n",
              "      box-shadow: 0px 1px 3px 1px rgba(0, 0, 0, 0.15);\n",
              "      filter: drop-shadow(0px 1px 2px rgba(0, 0, 0, 0.3));\n",
              "      fill: #FFFFFF;\n",
              "    }\n",
              "  </style>\n",
              "\n",
              "      <script>\n",
              "        const buttonEl =\n",
              "          document.querySelector('#df-a9e50455-0914-40f1-a6b6-df7731c6def4 button.colab-df-convert');\n",
              "        buttonEl.style.display =\n",
              "          google.colab.kernel.accessAllowed ? 'block' : 'none';\n",
              "\n",
              "        async function convertToInteractive(key) {\n",
              "          const element = document.querySelector('#df-a9e50455-0914-40f1-a6b6-df7731c6def4');\n",
              "          const dataTable =\n",
              "            await google.colab.kernel.invokeFunction('convertToInteractive',\n",
              "                                                     [key], {});\n",
              "          if (!dataTable) return;\n",
              "\n",
              "          const docLinkHtml = 'Like what you see? Visit the ' +\n",
              "            '<a target=\"_blank\" href=https://colab.research.google.com/notebooks/data_table.ipynb>data table notebook</a>'\n",
              "            + ' to learn more about interactive tables.';\n",
              "          element.innerHTML = '';\n",
              "          dataTable['output_type'] = 'display_data';\n",
              "          await google.colab.output.renderOutput(dataTable, element);\n",
              "          const docLink = document.createElement('div');\n",
              "          docLink.innerHTML = docLinkHtml;\n",
              "          element.appendChild(docLink);\n",
              "        }\n",
              "      </script>\n",
              "    </div>\n",
              "  </div>\n",
              "  "
            ],
            "text/plain": [
              "   cars_per_cap        country  drives_right\n",
              "0           809  United States         False\n",
              "1           731      Australia          True\n",
              "2           588          Japan          True\n",
              "3            18          India          True\n",
              "4           200         Russia         False\n",
              "5            70        Morocco         False\n",
              "6            45          Egypt         False"
            ]
          },
          "execution_count": 11,
          "metadata": {},
          "output_type": "execute_result"
        }
      ],
      "source": [
        "# Creating the dictionaries to store the entries as key-value pair.\n",
        "cars_dict = {\"cars_per_cap\" : cars_per_cap, \"country\" : country, \"drives_right\" : drives_right }\n",
        "\n",
        "# Create the dataframe 'cars'\n",
        "cars = pd.DataFrame(cars_dict)\n",
        "cars"
      ]
    },
    {
      "cell_type": "code",
      "execution_count": null,
      "metadata": {
        "colab": {
          "base_uri": "https://localhost:8080/",
          "height": 300
        },
        "id": "UWG_o7SHqvLm",
        "outputId": "1efb5371-e804-4da6-d7d4-99f35ce869fd"
      },
      "outputs": [
        {
          "data": {
            "text/html": [
              "\n",
              "  <div id=\"df-278e3b49-774d-4a4b-afcb-b7b6f6bbbca7\">\n",
              "    <div class=\"colab-df-container\">\n",
              "      <div>\n",
              "<style scoped>\n",
              "    .dataframe tbody tr th:only-of-type {\n",
              "        vertical-align: middle;\n",
              "    }\n",
              "\n",
              "    .dataframe tbody tr th {\n",
              "        vertical-align: top;\n",
              "    }\n",
              "\n",
              "    .dataframe thead th {\n",
              "        text-align: right;\n",
              "    }\n",
              "</style>\n",
              "<table border=\"1\" class=\"dataframe\">\n",
              "  <thead>\n",
              "    <tr style=\"text-align: right;\">\n",
              "      <th></th>\n",
              "      <th>0</th>\n",
              "      <th>1</th>\n",
              "      <th>2</th>\n",
              "      <th>3</th>\n",
              "      <th>4</th>\n",
              "    </tr>\n",
              "  </thead>\n",
              "  <tbody>\n",
              "    <tr>\n",
              "      <th>0</th>\n",
              "      <td>USCA</td>\n",
              "      <td>US</td>\n",
              "      <td>United States</td>\n",
              "      <td>809.0</td>\n",
              "      <td>False</td>\n",
              "    </tr>\n",
              "    <tr>\n",
              "      <th>1</th>\n",
              "      <td>ASPAC</td>\n",
              "      <td>AUS</td>\n",
              "      <td>Australia</td>\n",
              "      <td>731.0</td>\n",
              "      <td>True</td>\n",
              "    </tr>\n",
              "    <tr>\n",
              "      <th>2</th>\n",
              "      <td>ASPAC</td>\n",
              "      <td>JAP</td>\n",
              "      <td>Japan</td>\n",
              "      <td>588.0</td>\n",
              "      <td>True</td>\n",
              "    </tr>\n",
              "    <tr>\n",
              "      <th>3</th>\n",
              "      <td>ASPAC</td>\n",
              "      <td>IN</td>\n",
              "      <td>India</td>\n",
              "      <td>18.0</td>\n",
              "      <td>True</td>\n",
              "    </tr>\n",
              "    <tr>\n",
              "      <th>4</th>\n",
              "      <td>ASPAC</td>\n",
              "      <td>RU</td>\n",
              "      <td>Russia</td>\n",
              "      <td>200.0</td>\n",
              "      <td>False</td>\n",
              "    </tr>\n",
              "    <tr>\n",
              "      <th>5</th>\n",
              "      <td>LATAM</td>\n",
              "      <td>MOR</td>\n",
              "      <td>Morocco</td>\n",
              "      <td>70.0</td>\n",
              "      <td>False</td>\n",
              "    </tr>\n",
              "    <tr>\n",
              "      <th>6</th>\n",
              "      <td>AFR</td>\n",
              "      <td>EG</td>\n",
              "      <td>Egypt</td>\n",
              "      <td>45.0</td>\n",
              "      <td>False</td>\n",
              "    </tr>\n",
              "    <tr>\n",
              "      <th>7</th>\n",
              "      <td>EUR</td>\n",
              "      <td>ENG</td>\n",
              "      <td>England</td>\n",
              "      <td>NaN</td>\n",
              "      <td>True</td>\n",
              "    </tr>\n",
              "  </tbody>\n",
              "</table>\n",
              "</div>\n",
              "      <button class=\"colab-df-convert\" onclick=\"convertToInteractive('df-278e3b49-774d-4a4b-afcb-b7b6f6bbbca7')\"\n",
              "              title=\"Convert this dataframe to an interactive table.\"\n",
              "              style=\"display:none;\">\n",
              "        \n",
              "  <svg xmlns=\"http://www.w3.org/2000/svg\" height=\"24px\"viewBox=\"0 0 24 24\"\n",
              "       width=\"24px\">\n",
              "    <path d=\"M0 0h24v24H0V0z\" fill=\"none\"/>\n",
              "    <path d=\"M18.56 5.44l.94 2.06.94-2.06 2.06-.94-2.06-.94-.94-2.06-.94 2.06-2.06.94zm-11 1L8.5 8.5l.94-2.06 2.06-.94-2.06-.94L8.5 2.5l-.94 2.06-2.06.94zm10 10l.94 2.06.94-2.06 2.06-.94-2.06-.94-.94-2.06-.94 2.06-2.06.94z\"/><path d=\"M17.41 7.96l-1.37-1.37c-.4-.4-.92-.59-1.43-.59-.52 0-1.04.2-1.43.59L10.3 9.45l-7.72 7.72c-.78.78-.78 2.05 0 2.83L4 21.41c.39.39.9.59 1.41.59.51 0 1.02-.2 1.41-.59l7.78-7.78 2.81-2.81c.8-.78.8-2.07 0-2.86zM5.41 20L4 18.59l7.72-7.72 1.47 1.35L5.41 20z\"/>\n",
              "  </svg>\n",
              "      </button>\n",
              "      \n",
              "  <style>\n",
              "    .colab-df-container {\n",
              "      display:flex;\n",
              "      flex-wrap:wrap;\n",
              "      gap: 12px;\n",
              "    }\n",
              "\n",
              "    .colab-df-convert {\n",
              "      background-color: #E8F0FE;\n",
              "      border: none;\n",
              "      border-radius: 50%;\n",
              "      cursor: pointer;\n",
              "      display: none;\n",
              "      fill: #1967D2;\n",
              "      height: 32px;\n",
              "      padding: 0 0 0 0;\n",
              "      width: 32px;\n",
              "    }\n",
              "\n",
              "    .colab-df-convert:hover {\n",
              "      background-color: #E2EBFA;\n",
              "      box-shadow: 0px 1px 2px rgba(60, 64, 67, 0.3), 0px 1px 3px 1px rgba(60, 64, 67, 0.15);\n",
              "      fill: #174EA6;\n",
              "    }\n",
              "\n",
              "    [theme=dark] .colab-df-convert {\n",
              "      background-color: #3B4455;\n",
              "      fill: #D2E3FC;\n",
              "    }\n",
              "\n",
              "    [theme=dark] .colab-df-convert:hover {\n",
              "      background-color: #434B5C;\n",
              "      box-shadow: 0px 1px 3px 1px rgba(0, 0, 0, 0.15);\n",
              "      filter: drop-shadow(0px 1px 2px rgba(0, 0, 0, 0.3));\n",
              "      fill: #FFFFFF;\n",
              "    }\n",
              "  </style>\n",
              "\n",
              "      <script>\n",
              "        const buttonEl =\n",
              "          document.querySelector('#df-278e3b49-774d-4a4b-afcb-b7b6f6bbbca7 button.colab-df-convert');\n",
              "        buttonEl.style.display =\n",
              "          google.colab.kernel.accessAllowed ? 'block' : 'none';\n",
              "\n",
              "        async function convertToInteractive(key) {\n",
              "          const element = document.querySelector('#df-278e3b49-774d-4a4b-afcb-b7b6f6bbbca7');\n",
              "          const dataTable =\n",
              "            await google.colab.kernel.invokeFunction('convertToInteractive',\n",
              "                                                     [key], {});\n",
              "          if (!dataTable) return;\n",
              "\n",
              "          const docLinkHtml = 'Like what you see? Visit the ' +\n",
              "            '<a target=\"_blank\" href=https://colab.research.google.com/notebooks/data_table.ipynb>data table notebook</a>'\n",
              "            + ' to learn more about interactive tables.';\n",
              "          element.innerHTML = '';\n",
              "          dataTable['output_type'] = 'display_data';\n",
              "          await google.colab.output.renderOutput(dataTable, element);\n",
              "          const docLink = document.createElement('div');\n",
              "          docLink.innerHTML = docLinkHtml;\n",
              "          element.appendChild(docLink);\n",
              "        }\n",
              "      </script>\n",
              "    </div>\n",
              "  </div>\n",
              "  "
            ],
            "text/plain": [
              "       0    1              2      3      4\n",
              "0   USCA   US  United States  809.0  False\n",
              "1  ASPAC  AUS      Australia  731.0   True\n",
              "2  ASPAC  JAP          Japan  588.0   True\n",
              "3  ASPAC   IN          India   18.0   True\n",
              "4  ASPAC   RU         Russia  200.0  False\n",
              "5  LATAM  MOR        Morocco   70.0  False\n",
              "6    AFR   EG          Egypt   45.0  False\n",
              "7    EUR  ENG        England    NaN   True"
            ]
          },
          "execution_count": 223,
          "metadata": {},
          "output_type": "execute_result"
        }
      ],
      "source": [
        "# import csv data\n",
        "\n",
        "df = pd.read_csv('/content/cars.csv',header = None)\n",
        "df"
      ]
    },
    {
      "cell_type": "code",
      "execution_count": null,
      "metadata": {
        "colab": {
          "base_uri": "https://localhost:8080/",
          "height": 331
        },
        "id": "dcJOMO0FqvJn",
        "outputId": "5851ba5e-585e-41bc-88f4-2c1c02be1d19"
      },
      "outputs": [
        {
          "data": {
            "text/html": [
              "\n",
              "  <div id=\"df-84e4d79d-bd02-46ba-9faa-9c24ea804d0e\">\n",
              "    <div class=\"colab-df-container\">\n",
              "      <div>\n",
              "<style scoped>\n",
              "    .dataframe tbody tr th:only-of-type {\n",
              "        vertical-align: middle;\n",
              "    }\n",
              "\n",
              "    .dataframe tbody tr th {\n",
              "        vertical-align: top;\n",
              "    }\n",
              "\n",
              "    .dataframe thead th {\n",
              "        text-align: right;\n",
              "    }\n",
              "</style>\n",
              "<table border=\"1\" class=\"dataframe\">\n",
              "  <thead>\n",
              "    <tr style=\"text-align: right;\">\n",
              "      <th></th>\n",
              "      <th>0</th>\n",
              "      <th>2</th>\n",
              "      <th>3</th>\n",
              "      <th>4</th>\n",
              "    </tr>\n",
              "    <tr>\n",
              "      <th>1</th>\n",
              "      <th></th>\n",
              "      <th></th>\n",
              "      <th></th>\n",
              "      <th></th>\n",
              "    </tr>\n",
              "  </thead>\n",
              "  <tbody>\n",
              "    <tr>\n",
              "      <th>US</th>\n",
              "      <td>USCA</td>\n",
              "      <td>United States</td>\n",
              "      <td>809.0</td>\n",
              "      <td>False</td>\n",
              "    </tr>\n",
              "    <tr>\n",
              "      <th>AUS</th>\n",
              "      <td>ASPAC</td>\n",
              "      <td>Australia</td>\n",
              "      <td>731.0</td>\n",
              "      <td>True</td>\n",
              "    </tr>\n",
              "    <tr>\n",
              "      <th>JAP</th>\n",
              "      <td>ASPAC</td>\n",
              "      <td>Japan</td>\n",
              "      <td>588.0</td>\n",
              "      <td>True</td>\n",
              "    </tr>\n",
              "    <tr>\n",
              "      <th>IN</th>\n",
              "      <td>ASPAC</td>\n",
              "      <td>India</td>\n",
              "      <td>18.0</td>\n",
              "      <td>True</td>\n",
              "    </tr>\n",
              "    <tr>\n",
              "      <th>RU</th>\n",
              "      <td>ASPAC</td>\n",
              "      <td>Russia</td>\n",
              "      <td>200.0</td>\n",
              "      <td>False</td>\n",
              "    </tr>\n",
              "    <tr>\n",
              "      <th>MOR</th>\n",
              "      <td>LATAM</td>\n",
              "      <td>Morocco</td>\n",
              "      <td>70.0</td>\n",
              "      <td>False</td>\n",
              "    </tr>\n",
              "    <tr>\n",
              "      <th>EG</th>\n",
              "      <td>AFR</td>\n",
              "      <td>Egypt</td>\n",
              "      <td>45.0</td>\n",
              "      <td>False</td>\n",
              "    </tr>\n",
              "    <tr>\n",
              "      <th>ENG</th>\n",
              "      <td>EUR</td>\n",
              "      <td>England</td>\n",
              "      <td>NaN</td>\n",
              "      <td>True</td>\n",
              "    </tr>\n",
              "  </tbody>\n",
              "</table>\n",
              "</div>\n",
              "      <button class=\"colab-df-convert\" onclick=\"convertToInteractive('df-84e4d79d-bd02-46ba-9faa-9c24ea804d0e')\"\n",
              "              title=\"Convert this dataframe to an interactive table.\"\n",
              "              style=\"display:none;\">\n",
              "        \n",
              "  <svg xmlns=\"http://www.w3.org/2000/svg\" height=\"24px\"viewBox=\"0 0 24 24\"\n",
              "       width=\"24px\">\n",
              "    <path d=\"M0 0h24v24H0V0z\" fill=\"none\"/>\n",
              "    <path d=\"M18.56 5.44l.94 2.06.94-2.06 2.06-.94-2.06-.94-.94-2.06-.94 2.06-2.06.94zm-11 1L8.5 8.5l.94-2.06 2.06-.94-2.06-.94L8.5 2.5l-.94 2.06-2.06.94zm10 10l.94 2.06.94-2.06 2.06-.94-2.06-.94-.94-2.06-.94 2.06-2.06.94z\"/><path d=\"M17.41 7.96l-1.37-1.37c-.4-.4-.92-.59-1.43-.59-.52 0-1.04.2-1.43.59L10.3 9.45l-7.72 7.72c-.78.78-.78 2.05 0 2.83L4 21.41c.39.39.9.59 1.41.59.51 0 1.02-.2 1.41-.59l7.78-7.78 2.81-2.81c.8-.78.8-2.07 0-2.86zM5.41 20L4 18.59l7.72-7.72 1.47 1.35L5.41 20z\"/>\n",
              "  </svg>\n",
              "      </button>\n",
              "      \n",
              "  <style>\n",
              "    .colab-df-container {\n",
              "      display:flex;\n",
              "      flex-wrap:wrap;\n",
              "      gap: 12px;\n",
              "    }\n",
              "\n",
              "    .colab-df-convert {\n",
              "      background-color: #E8F0FE;\n",
              "      border: none;\n",
              "      border-radius: 50%;\n",
              "      cursor: pointer;\n",
              "      display: none;\n",
              "      fill: #1967D2;\n",
              "      height: 32px;\n",
              "      padding: 0 0 0 0;\n",
              "      width: 32px;\n",
              "    }\n",
              "\n",
              "    .colab-df-convert:hover {\n",
              "      background-color: #E2EBFA;\n",
              "      box-shadow: 0px 1px 2px rgba(60, 64, 67, 0.3), 0px 1px 3px 1px rgba(60, 64, 67, 0.15);\n",
              "      fill: #174EA6;\n",
              "    }\n",
              "\n",
              "    [theme=dark] .colab-df-convert {\n",
              "      background-color: #3B4455;\n",
              "      fill: #D2E3FC;\n",
              "    }\n",
              "\n",
              "    [theme=dark] .colab-df-convert:hover {\n",
              "      background-color: #434B5C;\n",
              "      box-shadow: 0px 1px 3px 1px rgba(0, 0, 0, 0.15);\n",
              "      filter: drop-shadow(0px 1px 2px rgba(0, 0, 0, 0.3));\n",
              "      fill: #FFFFFF;\n",
              "    }\n",
              "  </style>\n",
              "\n",
              "      <script>\n",
              "        const buttonEl =\n",
              "          document.querySelector('#df-84e4d79d-bd02-46ba-9faa-9c24ea804d0e button.colab-df-convert');\n",
              "        buttonEl.style.display =\n",
              "          google.colab.kernel.accessAllowed ? 'block' : 'none';\n",
              "\n",
              "        async function convertToInteractive(key) {\n",
              "          const element = document.querySelector('#df-84e4d79d-bd02-46ba-9faa-9c24ea804d0e');\n",
              "          const dataTable =\n",
              "            await google.colab.kernel.invokeFunction('convertToInteractive',\n",
              "                                                     [key], {});\n",
              "          if (!dataTable) return;\n",
              "\n",
              "          const docLinkHtml = 'Like what you see? Visit the ' +\n",
              "            '<a target=\"_blank\" href=https://colab.research.google.com/notebooks/data_table.ipynb>data table notebook</a>'\n",
              "            + ' to learn more about interactive tables.';\n",
              "          element.innerHTML = '';\n",
              "          dataTable['output_type'] = 'display_data';\n",
              "          await google.colab.output.renderOutput(dataTable, element);\n",
              "          const docLink = document.createElement('div');\n",
              "          docLink.innerHTML = docLinkHtml;\n",
              "          element.appendChild(docLink);\n",
              "        }\n",
              "      </script>\n",
              "    </div>\n",
              "  </div>\n",
              "  "
            ],
            "text/plain": [
              "         0              2      3      4\n",
              "1                                      \n",
              "US    USCA  United States  809.0  False\n",
              "AUS  ASPAC      Australia  731.0   True\n",
              "JAP  ASPAC          Japan  588.0   True\n",
              "IN   ASPAC          India   18.0   True\n",
              "RU   ASPAC         Russia  200.0  False\n",
              "MOR  LATAM        Morocco   70.0  False\n",
              "EG     AFR          Egypt   45.0  False\n",
              "ENG    EUR        England    NaN   True"
            ]
          },
          "execution_count": 229,
          "metadata": {},
          "output_type": "execute_result"
        }
      ],
      "source": [
        "df2 = pd.read_csv('/content/cars.csv',header = None, index_col = 1)\n",
        "df2"
      ]
    },
    {
      "cell_type": "code",
      "execution_count": null,
      "metadata": {
        "id": "HO0nGv3AqvHX"
      },
      "outputs": [],
      "source": [
        "df2.index.name = None"
      ]
    },
    {
      "cell_type": "code",
      "execution_count": null,
      "metadata": {
        "colab": {
          "base_uri": "https://localhost:8080/",
          "height": 300
        },
        "id": "XQCTm9BmqvD-",
        "outputId": "d9994d06-34c8-4bae-83d2-81dad33c2a5e"
      },
      "outputs": [
        {
          "data": {
            "text/html": [
              "\n",
              "  <div id=\"df-4c53bbb6-64b7-48d2-b772-1bdefc8c41b4\">\n",
              "    <div class=\"colab-df-container\">\n",
              "      <div>\n",
              "<style scoped>\n",
              "    .dataframe tbody tr th:only-of-type {\n",
              "        vertical-align: middle;\n",
              "    }\n",
              "\n",
              "    .dataframe tbody tr th {\n",
              "        vertical-align: top;\n",
              "    }\n",
              "\n",
              "    .dataframe thead th {\n",
              "        text-align: right;\n",
              "    }\n",
              "</style>\n",
              "<table border=\"1\" class=\"dataframe\">\n",
              "  <thead>\n",
              "    <tr style=\"text-align: right;\">\n",
              "      <th></th>\n",
              "      <th>region_code</th>\n",
              "      <th>country</th>\n",
              "      <th>cars_per_capita</th>\n",
              "      <th>drives_right</th>\n",
              "    </tr>\n",
              "  </thead>\n",
              "  <tbody>\n",
              "    <tr>\n",
              "      <th>US</th>\n",
              "      <td>USCA</td>\n",
              "      <td>United States</td>\n",
              "      <td>809.0</td>\n",
              "      <td>False</td>\n",
              "    </tr>\n",
              "    <tr>\n",
              "      <th>AUS</th>\n",
              "      <td>ASPAC</td>\n",
              "      <td>Australia</td>\n",
              "      <td>731.0</td>\n",
              "      <td>True</td>\n",
              "    </tr>\n",
              "    <tr>\n",
              "      <th>JAP</th>\n",
              "      <td>ASPAC</td>\n",
              "      <td>Japan</td>\n",
              "      <td>588.0</td>\n",
              "      <td>True</td>\n",
              "    </tr>\n",
              "    <tr>\n",
              "      <th>IN</th>\n",
              "      <td>ASPAC</td>\n",
              "      <td>India</td>\n",
              "      <td>18.0</td>\n",
              "      <td>True</td>\n",
              "    </tr>\n",
              "    <tr>\n",
              "      <th>RU</th>\n",
              "      <td>ASPAC</td>\n",
              "      <td>Russia</td>\n",
              "      <td>200.0</td>\n",
              "      <td>False</td>\n",
              "    </tr>\n",
              "    <tr>\n",
              "      <th>MOR</th>\n",
              "      <td>LATAM</td>\n",
              "      <td>Morocco</td>\n",
              "      <td>70.0</td>\n",
              "      <td>False</td>\n",
              "    </tr>\n",
              "    <tr>\n",
              "      <th>EG</th>\n",
              "      <td>AFR</td>\n",
              "      <td>Egypt</td>\n",
              "      <td>45.0</td>\n",
              "      <td>False</td>\n",
              "    </tr>\n",
              "    <tr>\n",
              "      <th>ENG</th>\n",
              "      <td>EUR</td>\n",
              "      <td>England</td>\n",
              "      <td>NaN</td>\n",
              "      <td>True</td>\n",
              "    </tr>\n",
              "  </tbody>\n",
              "</table>\n",
              "</div>\n",
              "      <button class=\"colab-df-convert\" onclick=\"convertToInteractive('df-4c53bbb6-64b7-48d2-b772-1bdefc8c41b4')\"\n",
              "              title=\"Convert this dataframe to an interactive table.\"\n",
              "              style=\"display:none;\">\n",
              "        \n",
              "  <svg xmlns=\"http://www.w3.org/2000/svg\" height=\"24px\"viewBox=\"0 0 24 24\"\n",
              "       width=\"24px\">\n",
              "    <path d=\"M0 0h24v24H0V0z\" fill=\"none\"/>\n",
              "    <path d=\"M18.56 5.44l.94 2.06.94-2.06 2.06-.94-2.06-.94-.94-2.06-.94 2.06-2.06.94zm-11 1L8.5 8.5l.94-2.06 2.06-.94-2.06-.94L8.5 2.5l-.94 2.06-2.06.94zm10 10l.94 2.06.94-2.06 2.06-.94-2.06-.94-.94-2.06-.94 2.06-2.06.94z\"/><path d=\"M17.41 7.96l-1.37-1.37c-.4-.4-.92-.59-1.43-.59-.52 0-1.04.2-1.43.59L10.3 9.45l-7.72 7.72c-.78.78-.78 2.05 0 2.83L4 21.41c.39.39.9.59 1.41.59.51 0 1.02-.2 1.41-.59l7.78-7.78 2.81-2.81c.8-.78.8-2.07 0-2.86zM5.41 20L4 18.59l7.72-7.72 1.47 1.35L5.41 20z\"/>\n",
              "  </svg>\n",
              "      </button>\n",
              "      \n",
              "  <style>\n",
              "    .colab-df-container {\n",
              "      display:flex;\n",
              "      flex-wrap:wrap;\n",
              "      gap: 12px;\n",
              "    }\n",
              "\n",
              "    .colab-df-convert {\n",
              "      background-color: #E8F0FE;\n",
              "      border: none;\n",
              "      border-radius: 50%;\n",
              "      cursor: pointer;\n",
              "      display: none;\n",
              "      fill: #1967D2;\n",
              "      height: 32px;\n",
              "      padding: 0 0 0 0;\n",
              "      width: 32px;\n",
              "    }\n",
              "\n",
              "    .colab-df-convert:hover {\n",
              "      background-color: #E2EBFA;\n",
              "      box-shadow: 0px 1px 2px rgba(60, 64, 67, 0.3), 0px 1px 3px 1px rgba(60, 64, 67, 0.15);\n",
              "      fill: #174EA6;\n",
              "    }\n",
              "\n",
              "    [theme=dark] .colab-df-convert {\n",
              "      background-color: #3B4455;\n",
              "      fill: #D2E3FC;\n",
              "    }\n",
              "\n",
              "    [theme=dark] .colab-df-convert:hover {\n",
              "      background-color: #434B5C;\n",
              "      box-shadow: 0px 1px 3px 1px rgba(0, 0, 0, 0.15);\n",
              "      filter: drop-shadow(0px 1px 2px rgba(0, 0, 0, 0.3));\n",
              "      fill: #FFFFFF;\n",
              "    }\n",
              "  </style>\n",
              "\n",
              "      <script>\n",
              "        const buttonEl =\n",
              "          document.querySelector('#df-4c53bbb6-64b7-48d2-b772-1bdefc8c41b4 button.colab-df-convert');\n",
              "        buttonEl.style.display =\n",
              "          google.colab.kernel.accessAllowed ? 'block' : 'none';\n",
              "\n",
              "        async function convertToInteractive(key) {\n",
              "          const element = document.querySelector('#df-4c53bbb6-64b7-48d2-b772-1bdefc8c41b4');\n",
              "          const dataTable =\n",
              "            await google.colab.kernel.invokeFunction('convertToInteractive',\n",
              "                                                     [key], {});\n",
              "          if (!dataTable) return;\n",
              "\n",
              "          const docLinkHtml = 'Like what you see? Visit the ' +\n",
              "            '<a target=\"_blank\" href=https://colab.research.google.com/notebooks/data_table.ipynb>data table notebook</a>'\n",
              "            + ' to learn more about interactive tables.';\n",
              "          element.innerHTML = '';\n",
              "          dataTable['output_type'] = 'display_data';\n",
              "          await google.colab.output.renderOutput(dataTable, element);\n",
              "          const docLink = document.createElement('div');\n",
              "          docLink.innerHTML = docLinkHtml;\n",
              "          element.appendChild(docLink);\n",
              "        }\n",
              "      </script>\n",
              "    </div>\n",
              "  </div>\n",
              "  "
            ],
            "text/plain": [
              "    region_code        country  cars_per_capita  drives_right\n",
              "US         USCA  United States            809.0         False\n",
              "AUS       ASPAC      Australia            731.0          True\n",
              "JAP       ASPAC          Japan            588.0          True\n",
              "IN        ASPAC          India             18.0          True\n",
              "RU        ASPAC         Russia            200.0         False\n",
              "MOR       LATAM        Morocco             70.0         False\n",
              "EG          AFR          Egypt             45.0         False\n",
              "ENG         EUR        England              NaN          True"
            ]
          },
          "execution_count": 241,
          "metadata": {},
          "output_type": "execute_result"
        }
      ],
      "source": [
        "df2.columns = ['region_code','country','cars_per_capita','drives_right']\n",
        "df2"
      ]
    },
    {
      "cell_type": "code",
      "execution_count": null,
      "metadata": {
        "colab": {
          "base_uri": "https://localhost:8080/",
          "height": 331
        },
        "id": "m36zOVSmqu-L",
        "outputId": "aab07148-2d51-4c29-994f-0d1e9092e1b6"
      },
      "outputs": [
        {
          "data": {
            "text/html": [
              "\n",
              "  <div id=\"df-ab089d62-c88d-409c-b85a-13390d5466eb\">\n",
              "    <div class=\"colab-df-container\">\n",
              "      <div>\n",
              "<style scoped>\n",
              "    .dataframe tbody tr th:only-of-type {\n",
              "        vertical-align: middle;\n",
              "    }\n",
              "\n",
              "    .dataframe tbody tr th {\n",
              "        vertical-align: top;\n",
              "    }\n",
              "\n",
              "    .dataframe thead th {\n",
              "        text-align: right;\n",
              "    }\n",
              "</style>\n",
              "<table border=\"1\" class=\"dataframe\">\n",
              "  <thead>\n",
              "    <tr style=\"text-align: right;\">\n",
              "      <th></th>\n",
              "      <th></th>\n",
              "      <th>2</th>\n",
              "      <th>3</th>\n",
              "      <th>4</th>\n",
              "    </tr>\n",
              "    <tr>\n",
              "      <th>0</th>\n",
              "      <th>1</th>\n",
              "      <th></th>\n",
              "      <th></th>\n",
              "      <th></th>\n",
              "    </tr>\n",
              "  </thead>\n",
              "  <tbody>\n",
              "    <tr>\n",
              "      <th>USCA</th>\n",
              "      <th>US</th>\n",
              "      <td>United States</td>\n",
              "      <td>809.0</td>\n",
              "      <td>False</td>\n",
              "    </tr>\n",
              "    <tr>\n",
              "      <th rowspan=\"4\" valign=\"top\">ASPAC</th>\n",
              "      <th>AUS</th>\n",
              "      <td>Australia</td>\n",
              "      <td>731.0</td>\n",
              "      <td>True</td>\n",
              "    </tr>\n",
              "    <tr>\n",
              "      <th>JAP</th>\n",
              "      <td>Japan</td>\n",
              "      <td>588.0</td>\n",
              "      <td>True</td>\n",
              "    </tr>\n",
              "    <tr>\n",
              "      <th>IN</th>\n",
              "      <td>India</td>\n",
              "      <td>18.0</td>\n",
              "      <td>True</td>\n",
              "    </tr>\n",
              "    <tr>\n",
              "      <th>RU</th>\n",
              "      <td>Russia</td>\n",
              "      <td>200.0</td>\n",
              "      <td>False</td>\n",
              "    </tr>\n",
              "    <tr>\n",
              "      <th>LATAM</th>\n",
              "      <th>MOR</th>\n",
              "      <td>Morocco</td>\n",
              "      <td>70.0</td>\n",
              "      <td>False</td>\n",
              "    </tr>\n",
              "    <tr>\n",
              "      <th>AFR</th>\n",
              "      <th>EG</th>\n",
              "      <td>Egypt</td>\n",
              "      <td>45.0</td>\n",
              "      <td>False</td>\n",
              "    </tr>\n",
              "    <tr>\n",
              "      <th>EUR</th>\n",
              "      <th>ENG</th>\n",
              "      <td>England</td>\n",
              "      <td>NaN</td>\n",
              "      <td>True</td>\n",
              "    </tr>\n",
              "  </tbody>\n",
              "</table>\n",
              "</div>\n",
              "      <button class=\"colab-df-convert\" onclick=\"convertToInteractive('df-ab089d62-c88d-409c-b85a-13390d5466eb')\"\n",
              "              title=\"Convert this dataframe to an interactive table.\"\n",
              "              style=\"display:none;\">\n",
              "        \n",
              "  <svg xmlns=\"http://www.w3.org/2000/svg\" height=\"24px\"viewBox=\"0 0 24 24\"\n",
              "       width=\"24px\">\n",
              "    <path d=\"M0 0h24v24H0V0z\" fill=\"none\"/>\n",
              "    <path d=\"M18.56 5.44l.94 2.06.94-2.06 2.06-.94-2.06-.94-.94-2.06-.94 2.06-2.06.94zm-11 1L8.5 8.5l.94-2.06 2.06-.94-2.06-.94L8.5 2.5l-.94 2.06-2.06.94zm10 10l.94 2.06.94-2.06 2.06-.94-2.06-.94-.94-2.06-.94 2.06-2.06.94z\"/><path d=\"M17.41 7.96l-1.37-1.37c-.4-.4-.92-.59-1.43-.59-.52 0-1.04.2-1.43.59L10.3 9.45l-7.72 7.72c-.78.78-.78 2.05 0 2.83L4 21.41c.39.39.9.59 1.41.59.51 0 1.02-.2 1.41-.59l7.78-7.78 2.81-2.81c.8-.78.8-2.07 0-2.86zM5.41 20L4 18.59l7.72-7.72 1.47 1.35L5.41 20z\"/>\n",
              "  </svg>\n",
              "      </button>\n",
              "      \n",
              "  <style>\n",
              "    .colab-df-container {\n",
              "      display:flex;\n",
              "      flex-wrap:wrap;\n",
              "      gap: 12px;\n",
              "    }\n",
              "\n",
              "    .colab-df-convert {\n",
              "      background-color: #E8F0FE;\n",
              "      border: none;\n",
              "      border-radius: 50%;\n",
              "      cursor: pointer;\n",
              "      display: none;\n",
              "      fill: #1967D2;\n",
              "      height: 32px;\n",
              "      padding: 0 0 0 0;\n",
              "      width: 32px;\n",
              "    }\n",
              "\n",
              "    .colab-df-convert:hover {\n",
              "      background-color: #E2EBFA;\n",
              "      box-shadow: 0px 1px 2px rgba(60, 64, 67, 0.3), 0px 1px 3px 1px rgba(60, 64, 67, 0.15);\n",
              "      fill: #174EA6;\n",
              "    }\n",
              "\n",
              "    [theme=dark] .colab-df-convert {\n",
              "      background-color: #3B4455;\n",
              "      fill: #D2E3FC;\n",
              "    }\n",
              "\n",
              "    [theme=dark] .colab-df-convert:hover {\n",
              "      background-color: #434B5C;\n",
              "      box-shadow: 0px 1px 3px 1px rgba(0, 0, 0, 0.15);\n",
              "      filter: drop-shadow(0px 1px 2px rgba(0, 0, 0, 0.3));\n",
              "      fill: #FFFFFF;\n",
              "    }\n",
              "  </style>\n",
              "\n",
              "      <script>\n",
              "        const buttonEl =\n",
              "          document.querySelector('#df-ab089d62-c88d-409c-b85a-13390d5466eb button.colab-df-convert');\n",
              "        buttonEl.style.display =\n",
              "          google.colab.kernel.accessAllowed ? 'block' : 'none';\n",
              "\n",
              "        async function convertToInteractive(key) {\n",
              "          const element = document.querySelector('#df-ab089d62-c88d-409c-b85a-13390d5466eb');\n",
              "          const dataTable =\n",
              "            await google.colab.kernel.invokeFunction('convertToInteractive',\n",
              "                                                     [key], {});\n",
              "          if (!dataTable) return;\n",
              "\n",
              "          const docLinkHtml = 'Like what you see? Visit the ' +\n",
              "            '<a target=\"_blank\" href=https://colab.research.google.com/notebooks/data_table.ipynb>data table notebook</a>'\n",
              "            + ' to learn more about interactive tables.';\n",
              "          element.innerHTML = '';\n",
              "          dataTable['output_type'] = 'display_data';\n",
              "          await google.colab.output.renderOutput(dataTable, element);\n",
              "          const docLink = document.createElement('div');\n",
              "          docLink.innerHTML = docLinkHtml;\n",
              "          element.appendChild(docLink);\n",
              "        }\n",
              "      </script>\n",
              "    </div>\n",
              "  </div>\n",
              "  "
            ],
            "text/plain": [
              "                       2      3      4\n",
              "0     1                               \n",
              "USCA  US   United States  809.0  False\n",
              "ASPAC AUS      Australia  731.0   True\n",
              "      JAP          Japan  588.0   True\n",
              "      IN           India   18.0   True\n",
              "      RU          Russia  200.0  False\n",
              "LATAM MOR        Morocco   70.0  False\n",
              "AFR   EG           Egypt   45.0  False\n",
              "EUR   ENG        England    NaN   True"
            ]
          },
          "execution_count": 243,
          "metadata": {},
          "output_type": "execute_result"
        }
      ],
      "source": [
        "# heirarchial indexing\n",
        "import pandas as pd\n",
        "df3 = pd.read_csv('/content/cars.csv',header = None, index_col = [0,1])\n",
        "df3"
      ]
    },
    {
      "cell_type": "code",
      "execution_count": null,
      "metadata": {
        "colab": {
          "base_uri": "https://localhost:8080/",
          "height": 331
        },
        "id": "K_x423ftqu7S",
        "outputId": "e3e0c88a-dd2d-4209-da21-370e0cd8a02d"
      },
      "outputs": [
        {
          "data": {
            "text/html": [
              "\n",
              "  <div id=\"df-e1020b1e-e02f-4143-9164-ca323188e156\">\n",
              "    <div class=\"colab-df-container\">\n",
              "      <div>\n",
              "<style scoped>\n",
              "    .dataframe tbody tr th:only-of-type {\n",
              "        vertical-align: middle;\n",
              "    }\n",
              "\n",
              "    .dataframe tbody tr th {\n",
              "        vertical-align: top;\n",
              "    }\n",
              "\n",
              "    .dataframe thead th {\n",
              "        text-align: right;\n",
              "    }\n",
              "</style>\n",
              "<table border=\"1\" class=\"dataframe\">\n",
              "  <thead>\n",
              "    <tr style=\"text-align: right;\">\n",
              "      <th></th>\n",
              "      <th></th>\n",
              "      <th>country</th>\n",
              "      <th>cars_per_capita</th>\n",
              "      <th>drives_right</th>\n",
              "    </tr>\n",
              "    <tr>\n",
              "      <th>0</th>\n",
              "      <th>1</th>\n",
              "      <th></th>\n",
              "      <th></th>\n",
              "      <th></th>\n",
              "    </tr>\n",
              "  </thead>\n",
              "  <tbody>\n",
              "    <tr>\n",
              "      <th>USCA</th>\n",
              "      <th>US</th>\n",
              "      <td>United States</td>\n",
              "      <td>809.0</td>\n",
              "      <td>False</td>\n",
              "    </tr>\n",
              "    <tr>\n",
              "      <th rowspan=\"4\" valign=\"top\">ASPAC</th>\n",
              "      <th>AUS</th>\n",
              "      <td>Australia</td>\n",
              "      <td>731.0</td>\n",
              "      <td>True</td>\n",
              "    </tr>\n",
              "    <tr>\n",
              "      <th>JAP</th>\n",
              "      <td>Japan</td>\n",
              "      <td>588.0</td>\n",
              "      <td>True</td>\n",
              "    </tr>\n",
              "    <tr>\n",
              "      <th>IN</th>\n",
              "      <td>India</td>\n",
              "      <td>18.0</td>\n",
              "      <td>True</td>\n",
              "    </tr>\n",
              "    <tr>\n",
              "      <th>RU</th>\n",
              "      <td>Russia</td>\n",
              "      <td>200.0</td>\n",
              "      <td>False</td>\n",
              "    </tr>\n",
              "    <tr>\n",
              "      <th>LATAM</th>\n",
              "      <th>MOR</th>\n",
              "      <td>Morocco</td>\n",
              "      <td>70.0</td>\n",
              "      <td>False</td>\n",
              "    </tr>\n",
              "    <tr>\n",
              "      <th>AFR</th>\n",
              "      <th>EG</th>\n",
              "      <td>Egypt</td>\n",
              "      <td>45.0</td>\n",
              "      <td>False</td>\n",
              "    </tr>\n",
              "    <tr>\n",
              "      <th>EUR</th>\n",
              "      <th>ENG</th>\n",
              "      <td>England</td>\n",
              "      <td>NaN</td>\n",
              "      <td>True</td>\n",
              "    </tr>\n",
              "  </tbody>\n",
              "</table>\n",
              "</div>\n",
              "      <button class=\"colab-df-convert\" onclick=\"convertToInteractive('df-e1020b1e-e02f-4143-9164-ca323188e156')\"\n",
              "              title=\"Convert this dataframe to an interactive table.\"\n",
              "              style=\"display:none;\">\n",
              "        \n",
              "  <svg xmlns=\"http://www.w3.org/2000/svg\" height=\"24px\"viewBox=\"0 0 24 24\"\n",
              "       width=\"24px\">\n",
              "    <path d=\"M0 0h24v24H0V0z\" fill=\"none\"/>\n",
              "    <path d=\"M18.56 5.44l.94 2.06.94-2.06 2.06-.94-2.06-.94-.94-2.06-.94 2.06-2.06.94zm-11 1L8.5 8.5l.94-2.06 2.06-.94-2.06-.94L8.5 2.5l-.94 2.06-2.06.94zm10 10l.94 2.06.94-2.06 2.06-.94-2.06-.94-.94-2.06-.94 2.06-2.06.94z\"/><path d=\"M17.41 7.96l-1.37-1.37c-.4-.4-.92-.59-1.43-.59-.52 0-1.04.2-1.43.59L10.3 9.45l-7.72 7.72c-.78.78-.78 2.05 0 2.83L4 21.41c.39.39.9.59 1.41.59.51 0 1.02-.2 1.41-.59l7.78-7.78 2.81-2.81c.8-.78.8-2.07 0-2.86zM5.41 20L4 18.59l7.72-7.72 1.47 1.35L5.41 20z\"/>\n",
              "  </svg>\n",
              "      </button>\n",
              "      \n",
              "  <style>\n",
              "    .colab-df-container {\n",
              "      display:flex;\n",
              "      flex-wrap:wrap;\n",
              "      gap: 12px;\n",
              "    }\n",
              "\n",
              "    .colab-df-convert {\n",
              "      background-color: #E8F0FE;\n",
              "      border: none;\n",
              "      border-radius: 50%;\n",
              "      cursor: pointer;\n",
              "      display: none;\n",
              "      fill: #1967D2;\n",
              "      height: 32px;\n",
              "      padding: 0 0 0 0;\n",
              "      width: 32px;\n",
              "    }\n",
              "\n",
              "    .colab-df-convert:hover {\n",
              "      background-color: #E2EBFA;\n",
              "      box-shadow: 0px 1px 2px rgba(60, 64, 67, 0.3), 0px 1px 3px 1px rgba(60, 64, 67, 0.15);\n",
              "      fill: #174EA6;\n",
              "    }\n",
              "\n",
              "    [theme=dark] .colab-df-convert {\n",
              "      background-color: #3B4455;\n",
              "      fill: #D2E3FC;\n",
              "    }\n",
              "\n",
              "    [theme=dark] .colab-df-convert:hover {\n",
              "      background-color: #434B5C;\n",
              "      box-shadow: 0px 1px 3px 1px rgba(0, 0, 0, 0.15);\n",
              "      filter: drop-shadow(0px 1px 2px rgba(0, 0, 0, 0.3));\n",
              "      fill: #FFFFFF;\n",
              "    }\n",
              "  </style>\n",
              "\n",
              "      <script>\n",
              "        const buttonEl =\n",
              "          document.querySelector('#df-e1020b1e-e02f-4143-9164-ca323188e156 button.colab-df-convert');\n",
              "        buttonEl.style.display =\n",
              "          google.colab.kernel.accessAllowed ? 'block' : 'none';\n",
              "\n",
              "        async function convertToInteractive(key) {\n",
              "          const element = document.querySelector('#df-e1020b1e-e02f-4143-9164-ca323188e156');\n",
              "          const dataTable =\n",
              "            await google.colab.kernel.invokeFunction('convertToInteractive',\n",
              "                                                     [key], {});\n",
              "          if (!dataTable) return;\n",
              "\n",
              "          const docLinkHtml = 'Like what you see? Visit the ' +\n",
              "            '<a target=\"_blank\" href=https://colab.research.google.com/notebooks/data_table.ipynb>data table notebook</a>'\n",
              "            + ' to learn more about interactive tables.';\n",
              "          element.innerHTML = '';\n",
              "          dataTable['output_type'] = 'display_data';\n",
              "          await google.colab.output.renderOutput(dataTable, element);\n",
              "          const docLink = document.createElement('div');\n",
              "          docLink.innerHTML = docLinkHtml;\n",
              "          element.appendChild(docLink);\n",
              "        }\n",
              "      </script>\n",
              "    </div>\n",
              "  </div>\n",
              "  "
            ],
            "text/plain": [
              "                 country  cars_per_capita  drives_right\n",
              "0     1                                                \n",
              "USCA  US   United States            809.0         False\n",
              "ASPAC AUS      Australia            731.0          True\n",
              "      JAP          Japan            588.0          True\n",
              "      IN           India             18.0          True\n",
              "      RU          Russia            200.0         False\n",
              "LATAM MOR        Morocco             70.0         False\n",
              "AFR   EG           Egypt             45.0         False\n",
              "EUR   ENG        England              NaN          True"
            ]
          },
          "execution_count": 249,
          "metadata": {},
          "output_type": "execute_result"
        }
      ],
      "source": [
        "df3.columns = ['country','cars_per_capita','drives_right']\n",
        "df3"
      ]
    },
    {
      "cell_type": "code",
      "execution_count": null,
      "metadata": {
        "colab": {
          "base_uri": "https://localhost:8080/",
          "height": 331
        },
        "id": "clDyDx_Uqu5h",
        "outputId": "5aa8cc12-9d05-4e57-af3a-3714de71ca5f"
      },
      "outputs": [
        {
          "data": {
            "text/html": [
              "\n",
              "  <div id=\"df-ad9e5f2f-980e-451c-9d72-f9e7ed53a9e6\">\n",
              "    <div class=\"colab-df-container\">\n",
              "      <div>\n",
              "<style scoped>\n",
              "    .dataframe tbody tr th:only-of-type {\n",
              "        vertical-align: middle;\n",
              "    }\n",
              "\n",
              "    .dataframe tbody tr th {\n",
              "        vertical-align: top;\n",
              "    }\n",
              "\n",
              "    .dataframe thead th {\n",
              "        text-align: right;\n",
              "    }\n",
              "</style>\n",
              "<table border=\"1\" class=\"dataframe\">\n",
              "  <thead>\n",
              "    <tr style=\"text-align: right;\">\n",
              "      <th></th>\n",
              "      <th></th>\n",
              "      <th>country</th>\n",
              "      <th>cars_per_capita</th>\n",
              "      <th>drives_right</th>\n",
              "    </tr>\n",
              "    <tr>\n",
              "      <th>Region_Code</th>\n",
              "      <th>Country_code</th>\n",
              "      <th></th>\n",
              "      <th></th>\n",
              "      <th></th>\n",
              "    </tr>\n",
              "  </thead>\n",
              "  <tbody>\n",
              "    <tr>\n",
              "      <th>USCA</th>\n",
              "      <th>US</th>\n",
              "      <td>United States</td>\n",
              "      <td>809.0</td>\n",
              "      <td>False</td>\n",
              "    </tr>\n",
              "    <tr>\n",
              "      <th rowspan=\"4\" valign=\"top\">ASPAC</th>\n",
              "      <th>AUS</th>\n",
              "      <td>Australia</td>\n",
              "      <td>731.0</td>\n",
              "      <td>True</td>\n",
              "    </tr>\n",
              "    <tr>\n",
              "      <th>JAP</th>\n",
              "      <td>Japan</td>\n",
              "      <td>588.0</td>\n",
              "      <td>True</td>\n",
              "    </tr>\n",
              "    <tr>\n",
              "      <th>IN</th>\n",
              "      <td>India</td>\n",
              "      <td>18.0</td>\n",
              "      <td>True</td>\n",
              "    </tr>\n",
              "    <tr>\n",
              "      <th>RU</th>\n",
              "      <td>Russia</td>\n",
              "      <td>200.0</td>\n",
              "      <td>False</td>\n",
              "    </tr>\n",
              "    <tr>\n",
              "      <th>LATAM</th>\n",
              "      <th>MOR</th>\n",
              "      <td>Morocco</td>\n",
              "      <td>70.0</td>\n",
              "      <td>False</td>\n",
              "    </tr>\n",
              "    <tr>\n",
              "      <th>AFR</th>\n",
              "      <th>EG</th>\n",
              "      <td>Egypt</td>\n",
              "      <td>45.0</td>\n",
              "      <td>False</td>\n",
              "    </tr>\n",
              "    <tr>\n",
              "      <th>EUR</th>\n",
              "      <th>ENG</th>\n",
              "      <td>England</td>\n",
              "      <td>NaN</td>\n",
              "      <td>True</td>\n",
              "    </tr>\n",
              "  </tbody>\n",
              "</table>\n",
              "</div>\n",
              "      <button class=\"colab-df-convert\" onclick=\"convertToInteractive('df-ad9e5f2f-980e-451c-9d72-f9e7ed53a9e6')\"\n",
              "              title=\"Convert this dataframe to an interactive table.\"\n",
              "              style=\"display:none;\">\n",
              "        \n",
              "  <svg xmlns=\"http://www.w3.org/2000/svg\" height=\"24px\"viewBox=\"0 0 24 24\"\n",
              "       width=\"24px\">\n",
              "    <path d=\"M0 0h24v24H0V0z\" fill=\"none\"/>\n",
              "    <path d=\"M18.56 5.44l.94 2.06.94-2.06 2.06-.94-2.06-.94-.94-2.06-.94 2.06-2.06.94zm-11 1L8.5 8.5l.94-2.06 2.06-.94-2.06-.94L8.5 2.5l-.94 2.06-2.06.94zm10 10l.94 2.06.94-2.06 2.06-.94-2.06-.94-.94-2.06-.94 2.06-2.06.94z\"/><path d=\"M17.41 7.96l-1.37-1.37c-.4-.4-.92-.59-1.43-.59-.52 0-1.04.2-1.43.59L10.3 9.45l-7.72 7.72c-.78.78-.78 2.05 0 2.83L4 21.41c.39.39.9.59 1.41.59.51 0 1.02-.2 1.41-.59l7.78-7.78 2.81-2.81c.8-.78.8-2.07 0-2.86zM5.41 20L4 18.59l7.72-7.72 1.47 1.35L5.41 20z\"/>\n",
              "  </svg>\n",
              "      </button>\n",
              "      \n",
              "  <style>\n",
              "    .colab-df-container {\n",
              "      display:flex;\n",
              "      flex-wrap:wrap;\n",
              "      gap: 12px;\n",
              "    }\n",
              "\n",
              "    .colab-df-convert {\n",
              "      background-color: #E8F0FE;\n",
              "      border: none;\n",
              "      border-radius: 50%;\n",
              "      cursor: pointer;\n",
              "      display: none;\n",
              "      fill: #1967D2;\n",
              "      height: 32px;\n",
              "      padding: 0 0 0 0;\n",
              "      width: 32px;\n",
              "    }\n",
              "\n",
              "    .colab-df-convert:hover {\n",
              "      background-color: #E2EBFA;\n",
              "      box-shadow: 0px 1px 2px rgba(60, 64, 67, 0.3), 0px 1px 3px 1px rgba(60, 64, 67, 0.15);\n",
              "      fill: #174EA6;\n",
              "    }\n",
              "\n",
              "    [theme=dark] .colab-df-convert {\n",
              "      background-color: #3B4455;\n",
              "      fill: #D2E3FC;\n",
              "    }\n",
              "\n",
              "    [theme=dark] .colab-df-convert:hover {\n",
              "      background-color: #434B5C;\n",
              "      box-shadow: 0px 1px 3px 1px rgba(0, 0, 0, 0.15);\n",
              "      filter: drop-shadow(0px 1px 2px rgba(0, 0, 0, 0.3));\n",
              "      fill: #FFFFFF;\n",
              "    }\n",
              "  </style>\n",
              "\n",
              "      <script>\n",
              "        const buttonEl =\n",
              "          document.querySelector('#df-ad9e5f2f-980e-451c-9d72-f9e7ed53a9e6 button.colab-df-convert');\n",
              "        buttonEl.style.display =\n",
              "          google.colab.kernel.accessAllowed ? 'block' : 'none';\n",
              "\n",
              "        async function convertToInteractive(key) {\n",
              "          const element = document.querySelector('#df-ad9e5f2f-980e-451c-9d72-f9e7ed53a9e6');\n",
              "          const dataTable =\n",
              "            await google.colab.kernel.invokeFunction('convertToInteractive',\n",
              "                                                     [key], {});\n",
              "          if (!dataTable) return;\n",
              "\n",
              "          const docLinkHtml = 'Like what you see? Visit the ' +\n",
              "            '<a target=\"_blank\" href=https://colab.research.google.com/notebooks/data_table.ipynb>data table notebook</a>'\n",
              "            + ' to learn more about interactive tables.';\n",
              "          element.innerHTML = '';\n",
              "          dataTable['output_type'] = 'display_data';\n",
              "          await google.colab.output.renderOutput(dataTable, element);\n",
              "          const docLink = document.createElement('div');\n",
              "          docLink.innerHTML = docLinkHtml;\n",
              "          element.appendChild(docLink);\n",
              "        }\n",
              "      </script>\n",
              "    </div>\n",
              "  </div>\n",
              "  "
            ],
            "text/plain": [
              "                                country  cars_per_capita  drives_right\n",
              "Region_Code Country_code                                              \n",
              "USCA        US            United States            809.0         False\n",
              "ASPAC       AUS               Australia            731.0          True\n",
              "            JAP                   Japan            588.0          True\n",
              "            IN                    India             18.0          True\n",
              "            RU                   Russia            200.0         False\n",
              "LATAM       MOR                 Morocco             70.0         False\n",
              "AFR         EG                    Egypt             45.0         False\n",
              "EUR         ENG                 England              NaN          True"
            ]
          },
          "execution_count": 261,
          "metadata": {},
          "output_type": "execute_result"
        }
      ],
      "source": [
        "df3.index.names = ['Region_Code','Country_code']\n",
        "df3"
      ]
    },
    {
      "cell_type": "code",
      "execution_count": null,
      "metadata": {
        "colab": {
          "base_uri": "https://localhost:8080/"
        },
        "id": "o72cAkaUqu1r",
        "outputId": "bb924bdb-881a-471d-8b69-44f6119a1862"
      },
      "outputs": [
        {
          "data": {
            "text/plain": [
              "1     1\n",
              "2     4\n",
              "3     9\n",
              "4    16\n",
              "5    25\n",
              "dtype: int64"
            ]
          },
          "execution_count": 285,
          "metadata": {},
          "output_type": "execute_result"
        }
      ],
      "source": [
        "n =5\n",
        "l = np.arange(1,n+1)\n",
        "sq = l**2\n",
        "o = pd.Series(sq,l)\n",
        "o "
      ]
    },
    {
      "cell_type": "code",
      "execution_count": null,
      "metadata": {
        "id": "I_iQGWNJRJl-"
      },
      "outputs": [],
      "source": [
        "df = pd.read_csv('https://media-doselect.s3.amazonaws.com/generic/A08MajL8qN4rq72EpVJbAP1Rw/marks_1.csv',sep='|',header= None)"
      ]
    },
    {
      "cell_type": "code",
      "execution_count": null,
      "metadata": {
        "colab": {
          "base_uri": "https://localhost:8080/",
          "height": 425
        },
        "id": "A6poN-9C9M0l",
        "outputId": "39ebc563-fb74-4494-e11f-610d0ed61b39"
      },
      "outputs": [
        {
          "data": {
            "text/html": [
              "\n",
              "  <div id=\"df-8afeacd4-ce23-4a8e-acf2-98f4a2b6b0f2\">\n",
              "    <div class=\"colab-df-container\">\n",
              "      <div>\n",
              "<style scoped>\n",
              "    .dataframe tbody tr th:only-of-type {\n",
              "        vertical-align: middle;\n",
              "    }\n",
              "\n",
              "    .dataframe tbody tr th {\n",
              "        vertical-align: top;\n",
              "    }\n",
              "\n",
              "    .dataframe thead th {\n",
              "        text-align: right;\n",
              "    }\n",
              "</style>\n",
              "<table border=\"1\" class=\"dataframe\">\n",
              "  <thead>\n",
              "    <tr style=\"text-align: right;\">\n",
              "      <th></th>\n",
              "      <th>0</th>\n",
              "      <th>1</th>\n",
              "      <th>2</th>\n",
              "      <th>3</th>\n",
              "      <th>4</th>\n",
              "      <th>5</th>\n",
              "    </tr>\n",
              "  </thead>\n",
              "  <tbody>\n",
              "    <tr>\n",
              "      <th>0</th>\n",
              "      <td>1</td>\n",
              "      <td>Akshay</td>\n",
              "      <td>Mathematics</td>\n",
              "      <td>50</td>\n",
              "      <td>40</td>\n",
              "      <td>80</td>\n",
              "    </tr>\n",
              "    <tr>\n",
              "      <th>1</th>\n",
              "      <td>2</td>\n",
              "      <td>Mahima</td>\n",
              "      <td>English</td>\n",
              "      <td>40</td>\n",
              "      <td>33</td>\n",
              "      <td>83</td>\n",
              "    </tr>\n",
              "    <tr>\n",
              "      <th>2</th>\n",
              "      <td>3</td>\n",
              "      <td>Vikas</td>\n",
              "      <td>Mathematics</td>\n",
              "      <td>50</td>\n",
              "      <td>42</td>\n",
              "      <td>84</td>\n",
              "    </tr>\n",
              "    <tr>\n",
              "      <th>3</th>\n",
              "      <td>4</td>\n",
              "      <td>Abhinav</td>\n",
              "      <td>English</td>\n",
              "      <td>40</td>\n",
              "      <td>31</td>\n",
              "      <td>78</td>\n",
              "    </tr>\n",
              "    <tr>\n",
              "      <th>4</th>\n",
              "      <td>5</td>\n",
              "      <td>Mahima</td>\n",
              "      <td>Science</td>\n",
              "      <td>50</td>\n",
              "      <td>40</td>\n",
              "      <td>80</td>\n",
              "    </tr>\n",
              "    <tr>\n",
              "      <th>5</th>\n",
              "      <td>6</td>\n",
              "      <td>Akshay</td>\n",
              "      <td>Science</td>\n",
              "      <td>50</td>\n",
              "      <td>49</td>\n",
              "      <td>98</td>\n",
              "    </tr>\n",
              "    <tr>\n",
              "      <th>6</th>\n",
              "      <td>7</td>\n",
              "      <td>Abhinav</td>\n",
              "      <td>Mathematics</td>\n",
              "      <td>50</td>\n",
              "      <td>47</td>\n",
              "      <td>94</td>\n",
              "    </tr>\n",
              "    <tr>\n",
              "      <th>7</th>\n",
              "      <td>8</td>\n",
              "      <td>Vikas</td>\n",
              "      <td>Science</td>\n",
              "      <td>50</td>\n",
              "      <td>40</td>\n",
              "      <td>80</td>\n",
              "    </tr>\n",
              "    <tr>\n",
              "      <th>8</th>\n",
              "      <td>9</td>\n",
              "      <td>Abhinav</td>\n",
              "      <td>Science</td>\n",
              "      <td>50</td>\n",
              "      <td>47</td>\n",
              "      <td>94</td>\n",
              "    </tr>\n",
              "    <tr>\n",
              "      <th>9</th>\n",
              "      <td>10</td>\n",
              "      <td>Vikas</td>\n",
              "      <td>English</td>\n",
              "      <td>40</td>\n",
              "      <td>39</td>\n",
              "      <td>98</td>\n",
              "    </tr>\n",
              "    <tr>\n",
              "      <th>10</th>\n",
              "      <td>11</td>\n",
              "      <td>Akshay</td>\n",
              "      <td>English</td>\n",
              "      <td>40</td>\n",
              "      <td>35</td>\n",
              "      <td>88</td>\n",
              "    </tr>\n",
              "    <tr>\n",
              "      <th>11</th>\n",
              "      <td>12</td>\n",
              "      <td>Mahima</td>\n",
              "      <td>Mathematics</td>\n",
              "      <td>50</td>\n",
              "      <td>43</td>\n",
              "      <td>86</td>\n",
              "    </tr>\n",
              "  </tbody>\n",
              "</table>\n",
              "</div>\n",
              "      <button class=\"colab-df-convert\" onclick=\"convertToInteractive('df-8afeacd4-ce23-4a8e-acf2-98f4a2b6b0f2')\"\n",
              "              title=\"Convert this dataframe to an interactive table.\"\n",
              "              style=\"display:none;\">\n",
              "        \n",
              "  <svg xmlns=\"http://www.w3.org/2000/svg\" height=\"24px\"viewBox=\"0 0 24 24\"\n",
              "       width=\"24px\">\n",
              "    <path d=\"M0 0h24v24H0V0z\" fill=\"none\"/>\n",
              "    <path d=\"M18.56 5.44l.94 2.06.94-2.06 2.06-.94-2.06-.94-.94-2.06-.94 2.06-2.06.94zm-11 1L8.5 8.5l.94-2.06 2.06-.94-2.06-.94L8.5 2.5l-.94 2.06-2.06.94zm10 10l.94 2.06.94-2.06 2.06-.94-2.06-.94-.94-2.06-.94 2.06-2.06.94z\"/><path d=\"M17.41 7.96l-1.37-1.37c-.4-.4-.92-.59-1.43-.59-.52 0-1.04.2-1.43.59L10.3 9.45l-7.72 7.72c-.78.78-.78 2.05 0 2.83L4 21.41c.39.39.9.59 1.41.59.51 0 1.02-.2 1.41-.59l7.78-7.78 2.81-2.81c.8-.78.8-2.07 0-2.86zM5.41 20L4 18.59l7.72-7.72 1.47 1.35L5.41 20z\"/>\n",
              "  </svg>\n",
              "      </button>\n",
              "      \n",
              "  <style>\n",
              "    .colab-df-container {\n",
              "      display:flex;\n",
              "      flex-wrap:wrap;\n",
              "      gap: 12px;\n",
              "    }\n",
              "\n",
              "    .colab-df-convert {\n",
              "      background-color: #E8F0FE;\n",
              "      border: none;\n",
              "      border-radius: 50%;\n",
              "      cursor: pointer;\n",
              "      display: none;\n",
              "      fill: #1967D2;\n",
              "      height: 32px;\n",
              "      padding: 0 0 0 0;\n",
              "      width: 32px;\n",
              "    }\n",
              "\n",
              "    .colab-df-convert:hover {\n",
              "      background-color: #E2EBFA;\n",
              "      box-shadow: 0px 1px 2px rgba(60, 64, 67, 0.3), 0px 1px 3px 1px rgba(60, 64, 67, 0.15);\n",
              "      fill: #174EA6;\n",
              "    }\n",
              "\n",
              "    [theme=dark] .colab-df-convert {\n",
              "      background-color: #3B4455;\n",
              "      fill: #D2E3FC;\n",
              "    }\n",
              "\n",
              "    [theme=dark] .colab-df-convert:hover {\n",
              "      background-color: #434B5C;\n",
              "      box-shadow: 0px 1px 3px 1px rgba(0, 0, 0, 0.15);\n",
              "      filter: drop-shadow(0px 1px 2px rgba(0, 0, 0, 0.3));\n",
              "      fill: #FFFFFF;\n",
              "    }\n",
              "  </style>\n",
              "\n",
              "      <script>\n",
              "        const buttonEl =\n",
              "          document.querySelector('#df-8afeacd4-ce23-4a8e-acf2-98f4a2b6b0f2 button.colab-df-convert');\n",
              "        buttonEl.style.display =\n",
              "          google.colab.kernel.accessAllowed ? 'block' : 'none';\n",
              "\n",
              "        async function convertToInteractive(key) {\n",
              "          const element = document.querySelector('#df-8afeacd4-ce23-4a8e-acf2-98f4a2b6b0f2');\n",
              "          const dataTable =\n",
              "            await google.colab.kernel.invokeFunction('convertToInteractive',\n",
              "                                                     [key], {});\n",
              "          if (!dataTable) return;\n",
              "\n",
              "          const docLinkHtml = 'Like what you see? Visit the ' +\n",
              "            '<a target=\"_blank\" href=https://colab.research.google.com/notebooks/data_table.ipynb>data table notebook</a>'\n",
              "            + ' to learn more about interactive tables.';\n",
              "          element.innerHTML = '';\n",
              "          dataTable['output_type'] = 'display_data';\n",
              "          await google.colab.output.renderOutput(dataTable, element);\n",
              "          const docLink = document.createElement('div');\n",
              "          docLink.innerHTML = docLinkHtml;\n",
              "          element.appendChild(docLink);\n",
              "        }\n",
              "      </script>\n",
              "    </div>\n",
              "  </div>\n",
              "  "
            ],
            "text/plain": [
              "     0        1            2   3   4   5\n",
              "0    1   Akshay  Mathematics  50  40  80\n",
              "1    2   Mahima      English  40  33  83\n",
              "2    3    Vikas  Mathematics  50  42  84\n",
              "3    4  Abhinav      English  40  31  78\n",
              "4    5   Mahima      Science  50  40  80\n",
              "5    6   Akshay      Science  50  49  98\n",
              "6    7  Abhinav  Mathematics  50  47  94\n",
              "7    8    Vikas      Science  50  40  80\n",
              "8    9  Abhinav      Science  50  47  94\n",
              "9   10    Vikas      English  40  39  98\n",
              "10  11   Akshay      English  40  35  88\n",
              "11  12   Mahima  Mathematics  50  43  86"
            ]
          },
          "execution_count": 36,
          "metadata": {},
          "output_type": "execute_result"
        }
      ],
      "source": [
        "df"
      ]
    },
    {
      "cell_type": "code",
      "execution_count": null,
      "metadata": {
        "colab": {
          "base_uri": "https://localhost:8080/",
          "height": 237
        },
        "id": "-K7uTgUkLTHO",
        "outputId": "ee471470-56f4-43f4-8d43-d829dec894a0"
      },
      "outputs": [
        {
          "data": {
            "text/html": [
              "\n",
              "  <div id=\"df-8e4c4c35-db54-4b7d-98f4-13986918af64\">\n",
              "    <div class=\"colab-df-container\">\n",
              "      <div>\n",
              "<style scoped>\n",
              "    .dataframe tbody tr th:only-of-type {\n",
              "        vertical-align: middle;\n",
              "    }\n",
              "\n",
              "    .dataframe tbody tr th {\n",
              "        vertical-align: top;\n",
              "    }\n",
              "\n",
              "    .dataframe thead th {\n",
              "        text-align: right;\n",
              "    }\n",
              "</style>\n",
              "<table border=\"1\" class=\"dataframe\">\n",
              "  <thead>\n",
              "    <tr style=\"text-align: right;\">\n",
              "      <th></th>\n",
              "      <th>Market</th>\n",
              "      <th>No_of_Orders</th>\n",
              "      <th>Profit</th>\n",
              "      <th>Sales</th>\n",
              "    </tr>\n",
              "    <tr>\n",
              "      <th>Region</th>\n",
              "      <th></th>\n",
              "      <th></th>\n",
              "      <th></th>\n",
              "      <th></th>\n",
              "    </tr>\n",
              "  </thead>\n",
              "  <tbody>\n",
              "    <tr>\n",
              "      <th>Western Africa</th>\n",
              "      <td>Africa</td>\n",
              "      <td>251</td>\n",
              "      <td>-12901.51</td>\n",
              "      <td>78476.06</td>\n",
              "    </tr>\n",
              "    <tr>\n",
              "      <th>Southern Africa</th>\n",
              "      <td>Africa</td>\n",
              "      <td>85</td>\n",
              "      <td>11768.58</td>\n",
              "      <td>51319.50</td>\n",
              "    </tr>\n",
              "    <tr>\n",
              "      <th>North Africa</th>\n",
              "      <td>Africa</td>\n",
              "      <td>182</td>\n",
              "      <td>21643.08</td>\n",
              "      <td>86698.89</td>\n",
              "    </tr>\n",
              "    <tr>\n",
              "      <th>Eastern Africa</th>\n",
              "      <td>Africa</td>\n",
              "      <td>110</td>\n",
              "      <td>8013.04</td>\n",
              "      <td>44182.60</td>\n",
              "    </tr>\n",
              "    <tr>\n",
              "      <th>Central Africa</th>\n",
              "      <td>Africa</td>\n",
              "      <td>103</td>\n",
              "      <td>15606.30</td>\n",
              "      <td>61689.99</td>\n",
              "    </tr>\n",
              "  </tbody>\n",
              "</table>\n",
              "</div>\n",
              "      <button class=\"colab-df-convert\" onclick=\"convertToInteractive('df-8e4c4c35-db54-4b7d-98f4-13986918af64')\"\n",
              "              title=\"Convert this dataframe to an interactive table.\"\n",
              "              style=\"display:none;\">\n",
              "        \n",
              "  <svg xmlns=\"http://www.w3.org/2000/svg\" height=\"24px\"viewBox=\"0 0 24 24\"\n",
              "       width=\"24px\">\n",
              "    <path d=\"M0 0h24v24H0V0z\" fill=\"none\"/>\n",
              "    <path d=\"M18.56 5.44l.94 2.06.94-2.06 2.06-.94-2.06-.94-.94-2.06-.94 2.06-2.06.94zm-11 1L8.5 8.5l.94-2.06 2.06-.94-2.06-.94L8.5 2.5l-.94 2.06-2.06.94zm10 10l.94 2.06.94-2.06 2.06-.94-2.06-.94-.94-2.06-.94 2.06-2.06.94z\"/><path d=\"M17.41 7.96l-1.37-1.37c-.4-.4-.92-.59-1.43-.59-.52 0-1.04.2-1.43.59L10.3 9.45l-7.72 7.72c-.78.78-.78 2.05 0 2.83L4 21.41c.39.39.9.59 1.41.59.51 0 1.02-.2 1.41-.59l7.78-7.78 2.81-2.81c.8-.78.8-2.07 0-2.86zM5.41 20L4 18.59l7.72-7.72 1.47 1.35L5.41 20z\"/>\n",
              "  </svg>\n",
              "      </button>\n",
              "      \n",
              "  <style>\n",
              "    .colab-df-container {\n",
              "      display:flex;\n",
              "      flex-wrap:wrap;\n",
              "      gap: 12px;\n",
              "    }\n",
              "\n",
              "    .colab-df-convert {\n",
              "      background-color: #E8F0FE;\n",
              "      border: none;\n",
              "      border-radius: 50%;\n",
              "      cursor: pointer;\n",
              "      display: none;\n",
              "      fill: #1967D2;\n",
              "      height: 32px;\n",
              "      padding: 0 0 0 0;\n",
              "      width: 32px;\n",
              "    }\n",
              "\n",
              "    .colab-df-convert:hover {\n",
              "      background-color: #E2EBFA;\n",
              "      box-shadow: 0px 1px 2px rgba(60, 64, 67, 0.3), 0px 1px 3px 1px rgba(60, 64, 67, 0.15);\n",
              "      fill: #174EA6;\n",
              "    }\n",
              "\n",
              "    [theme=dark] .colab-df-convert {\n",
              "      background-color: #3B4455;\n",
              "      fill: #D2E3FC;\n",
              "    }\n",
              "\n",
              "    [theme=dark] .colab-df-convert:hover {\n",
              "      background-color: #434B5C;\n",
              "      box-shadow: 0px 1px 3px 1px rgba(0, 0, 0, 0.15);\n",
              "      filter: drop-shadow(0px 1px 2px rgba(0, 0, 0, 0.3));\n",
              "      fill: #FFFFFF;\n",
              "    }\n",
              "  </style>\n",
              "\n",
              "      <script>\n",
              "        const buttonEl =\n",
              "          document.querySelector('#df-8e4c4c35-db54-4b7d-98f4-13986918af64 button.colab-df-convert');\n",
              "        buttonEl.style.display =\n",
              "          google.colab.kernel.accessAllowed ? 'block' : 'none';\n",
              "\n",
              "        async function convertToInteractive(key) {\n",
              "          const element = document.querySelector('#df-8e4c4c35-db54-4b7d-98f4-13986918af64');\n",
              "          const dataTable =\n",
              "            await google.colab.kernel.invokeFunction('convertToInteractive',\n",
              "                                                     [key], {});\n",
              "          if (!dataTable) return;\n",
              "\n",
              "          const docLinkHtml = 'Like what you see? Visit the ' +\n",
              "            '<a target=\"_blank\" href=https://colab.research.google.com/notebooks/data_table.ipynb>data table notebook</a>'\n",
              "            + ' to learn more about interactive tables.';\n",
              "          element.innerHTML = '';\n",
              "          dataTable['output_type'] = 'display_data';\n",
              "          await google.colab.output.renderOutput(dataTable, element);\n",
              "          const docLink = document.createElement('div');\n",
              "          docLink.innerHTML = docLinkHtml;\n",
              "          element.appendChild(docLink);\n",
              "        }\n",
              "      </script>\n",
              "    </div>\n",
              "  </div>\n",
              "  "
            ],
            "text/plain": [
              "                 Market  No_of_Orders    Profit     Sales\n",
              "Region                                                   \n",
              "Western Africa   Africa           251 -12901.51  78476.06\n",
              "Southern Africa  Africa            85  11768.58  51319.50\n",
              "North Africa     Africa           182  21643.08  86698.89\n",
              "Eastern Africa   Africa           110   8013.04  44182.60\n",
              "Central Africa   Africa           103  15606.30  61689.99"
            ]
          },
          "execution_count": 291,
          "metadata": {},
          "output_type": "execute_result"
        }
      ],
      "source": [
        "sales = pd.read_excel('/content/sales.xlsx',index_col =1)\n",
        "sales.head()"
      ]
    },
    {
      "cell_type": "code",
      "execution_count": null,
      "metadata": {
        "colab": {
          "base_uri": "https://localhost:8080/"
        },
        "id": "7QkbYX7SLTJ-",
        "outputId": "4e184a2f-06b7-45cd-9ddb-aca9bac5811d"
      },
      "outputs": [
        {
          "name": "stdout",
          "output_type": "stream",
          "text": [
            "<class 'pandas.core.frame.DataFrame'>\n",
            "Index: 23 entries, Western Africa to Canada\n",
            "Data columns (total 4 columns):\n",
            " #   Column        Non-Null Count  Dtype  \n",
            "---  ------        --------------  -----  \n",
            " 0   Market        23 non-null     object \n",
            " 1   No_of_Orders  23 non-null     int64  \n",
            " 2   Profit        23 non-null     float64\n",
            " 3   Sales         23 non-null     float64\n",
            "dtypes: float64(2), int64(1), object(1)\n",
            "memory usage: 1.5+ KB\n"
          ]
        }
      ],
      "source": [
        "sales.info()"
      ]
    },
    {
      "cell_type": "code",
      "execution_count": null,
      "metadata": {
        "colab": {
          "base_uri": "https://localhost:8080/",
          "height": 300
        },
        "id": "cYuIk8bA5wyH",
        "outputId": "db1c489e-cbde-41bb-aa87-90d624a2bce5"
      },
      "outputs": [
        {
          "data": {
            "text/html": [
              "\n",
              "  <div id=\"df-bef467db-d923-4d24-8195-a98c3b5afeca\">\n",
              "    <div class=\"colab-df-container\">\n",
              "      <div>\n",
              "<style scoped>\n",
              "    .dataframe tbody tr th:only-of-type {\n",
              "        vertical-align: middle;\n",
              "    }\n",
              "\n",
              "    .dataframe tbody tr th {\n",
              "        vertical-align: top;\n",
              "    }\n",
              "\n",
              "    .dataframe thead th {\n",
              "        text-align: right;\n",
              "    }\n",
              "</style>\n",
              "<table border=\"1\" class=\"dataframe\">\n",
              "  <thead>\n",
              "    <tr style=\"text-align: right;\">\n",
              "      <th></th>\n",
              "      <th>No_of_Orders</th>\n",
              "      <th>Profit</th>\n",
              "      <th>Sales</th>\n",
              "    </tr>\n",
              "  </thead>\n",
              "  <tbody>\n",
              "    <tr>\n",
              "      <th>count</th>\n",
              "      <td>23.000000</td>\n",
              "      <td>23.000000</td>\n",
              "      <td>23.000000</td>\n",
              "    </tr>\n",
              "    <tr>\n",
              "      <th>mean</th>\n",
              "      <td>366.478261</td>\n",
              "      <td>28859.944783</td>\n",
              "      <td>206285.108696</td>\n",
              "    </tr>\n",
              "    <tr>\n",
              "      <th>std</th>\n",
              "      <td>246.590361</td>\n",
              "      <td>27701.193773</td>\n",
              "      <td>160589.886606</td>\n",
              "    </tr>\n",
              "    <tr>\n",
              "      <th>min</th>\n",
              "      <td>37.000000</td>\n",
              "      <td>-16766.900000</td>\n",
              "      <td>8190.740000</td>\n",
              "    </tr>\n",
              "    <tr>\n",
              "      <th>25%</th>\n",
              "      <td>211.500000</td>\n",
              "      <td>12073.085000</td>\n",
              "      <td>82587.475000</td>\n",
              "    </tr>\n",
              "    <tr>\n",
              "      <th>50%</th>\n",
              "      <td>356.000000</td>\n",
              "      <td>20948.840000</td>\n",
              "      <td>170416.310000</td>\n",
              "    </tr>\n",
              "    <tr>\n",
              "      <th>75%</th>\n",
              "      <td>479.500000</td>\n",
              "      <td>45882.845000</td>\n",
              "      <td>290182.375000</td>\n",
              "    </tr>\n",
              "    <tr>\n",
              "      <th>max</th>\n",
              "      <td>964.000000</td>\n",
              "      <td>82091.270000</td>\n",
              "      <td>656637.140000</td>\n",
              "    </tr>\n",
              "  </tbody>\n",
              "</table>\n",
              "</div>\n",
              "      <button class=\"colab-df-convert\" onclick=\"convertToInteractive('df-bef467db-d923-4d24-8195-a98c3b5afeca')\"\n",
              "              title=\"Convert this dataframe to an interactive table.\"\n",
              "              style=\"display:none;\">\n",
              "        \n",
              "  <svg xmlns=\"http://www.w3.org/2000/svg\" height=\"24px\"viewBox=\"0 0 24 24\"\n",
              "       width=\"24px\">\n",
              "    <path d=\"M0 0h24v24H0V0z\" fill=\"none\"/>\n",
              "    <path d=\"M18.56 5.44l.94 2.06.94-2.06 2.06-.94-2.06-.94-.94-2.06-.94 2.06-2.06.94zm-11 1L8.5 8.5l.94-2.06 2.06-.94-2.06-.94L8.5 2.5l-.94 2.06-2.06.94zm10 10l.94 2.06.94-2.06 2.06-.94-2.06-.94-.94-2.06-.94 2.06-2.06.94z\"/><path d=\"M17.41 7.96l-1.37-1.37c-.4-.4-.92-.59-1.43-.59-.52 0-1.04.2-1.43.59L10.3 9.45l-7.72 7.72c-.78.78-.78 2.05 0 2.83L4 21.41c.39.39.9.59 1.41.59.51 0 1.02-.2 1.41-.59l7.78-7.78 2.81-2.81c.8-.78.8-2.07 0-2.86zM5.41 20L4 18.59l7.72-7.72 1.47 1.35L5.41 20z\"/>\n",
              "  </svg>\n",
              "      </button>\n",
              "      \n",
              "  <style>\n",
              "    .colab-df-container {\n",
              "      display:flex;\n",
              "      flex-wrap:wrap;\n",
              "      gap: 12px;\n",
              "    }\n",
              "\n",
              "    .colab-df-convert {\n",
              "      background-color: #E8F0FE;\n",
              "      border: none;\n",
              "      border-radius: 50%;\n",
              "      cursor: pointer;\n",
              "      display: none;\n",
              "      fill: #1967D2;\n",
              "      height: 32px;\n",
              "      padding: 0 0 0 0;\n",
              "      width: 32px;\n",
              "    }\n",
              "\n",
              "    .colab-df-convert:hover {\n",
              "      background-color: #E2EBFA;\n",
              "      box-shadow: 0px 1px 2px rgba(60, 64, 67, 0.3), 0px 1px 3px 1px rgba(60, 64, 67, 0.15);\n",
              "      fill: #174EA6;\n",
              "    }\n",
              "\n",
              "    [theme=dark] .colab-df-convert {\n",
              "      background-color: #3B4455;\n",
              "      fill: #D2E3FC;\n",
              "    }\n",
              "\n",
              "    [theme=dark] .colab-df-convert:hover {\n",
              "      background-color: #434B5C;\n",
              "      box-shadow: 0px 1px 3px 1px rgba(0, 0, 0, 0.15);\n",
              "      filter: drop-shadow(0px 1px 2px rgba(0, 0, 0, 0.3));\n",
              "      fill: #FFFFFF;\n",
              "    }\n",
              "  </style>\n",
              "\n",
              "      <script>\n",
              "        const buttonEl =\n",
              "          document.querySelector('#df-bef467db-d923-4d24-8195-a98c3b5afeca button.colab-df-convert');\n",
              "        buttonEl.style.display =\n",
              "          google.colab.kernel.accessAllowed ? 'block' : 'none';\n",
              "\n",
              "        async function convertToInteractive(key) {\n",
              "          const element = document.querySelector('#df-bef467db-d923-4d24-8195-a98c3b5afeca');\n",
              "          const dataTable =\n",
              "            await google.colab.kernel.invokeFunction('convertToInteractive',\n",
              "                                                     [key], {});\n",
              "          if (!dataTable) return;\n",
              "\n",
              "          const docLinkHtml = 'Like what you see? Visit the ' +\n",
              "            '<a target=\"_blank\" href=https://colab.research.google.com/notebooks/data_table.ipynb>data table notebook</a>'\n",
              "            + ' to learn more about interactive tables.';\n",
              "          element.innerHTML = '';\n",
              "          dataTable['output_type'] = 'display_data';\n",
              "          await google.colab.output.renderOutput(dataTable, element);\n",
              "          const docLink = document.createElement('div');\n",
              "          docLink.innerHTML = docLinkHtml;\n",
              "          element.appendChild(docLink);\n",
              "        }\n",
              "      </script>\n",
              "    </div>\n",
              "  </div>\n",
              "  "
            ],
            "text/plain": [
              "       No_of_Orders        Profit          Sales\n",
              "count     23.000000     23.000000      23.000000\n",
              "mean     366.478261  28859.944783  206285.108696\n",
              "std      246.590361  27701.193773  160589.886606\n",
              "min       37.000000 -16766.900000    8190.740000\n",
              "25%      211.500000  12073.085000   82587.475000\n",
              "50%      356.000000  20948.840000  170416.310000\n",
              "75%      479.500000  45882.845000  290182.375000\n",
              "max      964.000000  82091.270000  656637.140000"
            ]
          },
          "execution_count": 296,
          "metadata": {},
          "output_type": "execute_result"
        }
      ],
      "source": [
        "sales.describe()"
      ]
    },
    {
      "cell_type": "code",
      "execution_count": null,
      "metadata": {
        "colab": {
          "base_uri": "https://localhost:8080/",
          "height": 265
        },
        "id": "OVG9oYaB5wv5",
        "outputId": "1bf4d06b-3091-44df-8db7-565d62796140"
      },
      "outputs": [
        {
          "data": {
            "image/png": "[encoded data removed]",
            "text/plain": [
              "<Figure size 432x288 with 2 Axes>"
            ]
          },
          "metadata": {
            "needs_background": "light"
          },
          "output_type": "display_data"
        }
      ],
      "source": [
        "\n",
        "sales[['Profit','Sales']].plot(kind = 'box',subplots = 'True')\n",
        "plt.show()"
      ]
    },
    {
      "cell_type": "code",
      "execution_count": null,
      "metadata": {
        "colab": {
          "base_uri": "https://localhost:8080/"
        },
        "id": "uyjKaQGK5wt-",
        "outputId": "0733498f-43b0-473d-cd24-50a9b7bc0ebb"
      },
      "outputs": [
        {
          "data": {
            "text/plain": [
              "pandas.core.frame.DataFrame"
            ]
          },
          "execution_count": 303,
          "metadata": {},
          "output_type": "execute_result"
        }
      ],
      "source": [
        "type(sales[['Profit']])"
      ]
    },
    {
      "cell_type": "code",
      "execution_count": null,
      "metadata": {
        "colab": {
          "base_uri": "https://localhost:8080/"
        },
        "id": "rcUUj6OX5wsE",
        "outputId": "dbf6f8e7-d6df-4b60-cf56-3579b329f77e"
      },
      "outputs": [
        {
          "data": {
            "text/plain": [
              "pandas.core.series.Series"
            ]
          },
          "execution_count": 307,
          "metadata": {},
          "output_type": "execute_result"
        }
      ],
      "source": [
        "type(sales['Profit'])"
      ]
    },
    {
      "cell_type": "code",
      "execution_count": null,
      "metadata": {
        "colab": {
          "base_uri": "https://localhost:8080/",
          "height": 143
        },
        "id": "k6O05uzx5wn4",
        "outputId": "a47a31dc-27ae-48fe-f2c6-c6b7d328ee62"
      },
      "outputs": [
        {
          "data": {
            "text/html": [
              "\n",
              "  <div id=\"df-34223bbb-8576-4e7c-8dbf-e2640a4fba38\">\n",
              "    <div class=\"colab-df-container\">\n",
              "      <div>\n",
              "<style scoped>\n",
              "    .dataframe tbody tr th:only-of-type {\n",
              "        vertical-align: middle;\n",
              "    }\n",
              "\n",
              "    .dataframe tbody tr th {\n",
              "        vertical-align: top;\n",
              "    }\n",
              "\n",
              "    .dataframe thead th {\n",
              "        text-align: right;\n",
              "    }\n",
              "</style>\n",
              "<table border=\"1\" class=\"dataframe\">\n",
              "  <thead>\n",
              "    <tr style=\"text-align: right;\">\n",
              "      <th></th>\n",
              "      <th>Market</th>\n",
              "      <th>No_of_Orders</th>\n",
              "      <th>Profit</th>\n",
              "      <th>Sales</th>\n",
              "    </tr>\n",
              "    <tr>\n",
              "      <th>Region</th>\n",
              "      <th></th>\n",
              "      <th></th>\n",
              "      <th></th>\n",
              "      <th></th>\n",
              "    </tr>\n",
              "  </thead>\n",
              "  <tbody>\n",
              "    <tr>\n",
              "      <th>Canada</th>\n",
              "      <td>USCA</td>\n",
              "      <td>49</td>\n",
              "      <td>7246.62</td>\n",
              "      <td>26298.81</td>\n",
              "    </tr>\n",
              "    <tr>\n",
              "      <th>Western Africa</th>\n",
              "      <td>Africa</td>\n",
              "      <td>251</td>\n",
              "      <td>-12901.51</td>\n",
              "      <td>78476.06</td>\n",
              "    </tr>\n",
              "  </tbody>\n",
              "</table>\n",
              "</div>\n",
              "      <button class=\"colab-df-convert\" onclick=\"convertToInteractive('df-34223bbb-8576-4e7c-8dbf-e2640a4fba38')\"\n",
              "              title=\"Convert this dataframe to an interactive table.\"\n",
              "              style=\"display:none;\">\n",
              "        \n",
              "  <svg xmlns=\"http://www.w3.org/2000/svg\" height=\"24px\"viewBox=\"0 0 24 24\"\n",
              "       width=\"24px\">\n",
              "    <path d=\"M0 0h24v24H0V0z\" fill=\"none\"/>\n",
              "    <path d=\"M18.56 5.44l.94 2.06.94-2.06 2.06-.94-2.06-.94-.94-2.06-.94 2.06-2.06.94zm-11 1L8.5 8.5l.94-2.06 2.06-.94-2.06-.94L8.5 2.5l-.94 2.06-2.06.94zm10 10l.94 2.06.94-2.06 2.06-.94-2.06-.94-.94-2.06-.94 2.06-2.06.94z\"/><path d=\"M17.41 7.96l-1.37-1.37c-.4-.4-.92-.59-1.43-.59-.52 0-1.04.2-1.43.59L10.3 9.45l-7.72 7.72c-.78.78-.78 2.05 0 2.83L4 21.41c.39.39.9.59 1.41.59.51 0 1.02-.2 1.41-.59l7.78-7.78 2.81-2.81c.8-.78.8-2.07 0-2.86zM5.41 20L4 18.59l7.72-7.72 1.47 1.35L5.41 20z\"/>\n",
              "  </svg>\n",
              "      </button>\n",
              "      \n",
              "  <style>\n",
              "    .colab-df-container {\n",
              "      display:flex;\n",
              "      flex-wrap:wrap;\n",
              "      gap: 12px;\n",
              "    }\n",
              "\n",
              "    .colab-df-convert {\n",
              "      background-color: #E8F0FE;\n",
              "      border: none;\n",
              "      border-radius: 50%;\n",
              "      cursor: pointer;\n",
              "      display: none;\n",
              "      fill: #1967D2;\n",
              "      height: 32px;\n",
              "      padding: 0 0 0 0;\n",
              "      width: 32px;\n",
              "    }\n",
              "\n",
              "    .colab-df-convert:hover {\n",
              "      background-color: #E2EBFA;\n",
              "      box-shadow: 0px 1px 2px rgba(60, 64, 67, 0.3), 0px 1px 3px 1px rgba(60, 64, 67, 0.15);\n",
              "      fill: #174EA6;\n",
              "    }\n",
              "\n",
              "    [theme=dark] .colab-df-convert {\n",
              "      background-color: #3B4455;\n",
              "      fill: #D2E3FC;\n",
              "    }\n",
              "\n",
              "    [theme=dark] .colab-df-convert:hover {\n",
              "      background-color: #434B5C;\n",
              "      box-shadow: 0px 1px 3px 1px rgba(0, 0, 0, 0.15);\n",
              "      filter: drop-shadow(0px 1px 2px rgba(0, 0, 0, 0.3));\n",
              "      fill: #FFFFFF;\n",
              "    }\n",
              "  </style>\n",
              "\n",
              "      <script>\n",
              "        const buttonEl =\n",
              "          document.querySelector('#df-34223bbb-8576-4e7c-8dbf-e2640a4fba38 button.colab-df-convert');\n",
              "        buttonEl.style.display =\n",
              "          google.colab.kernel.accessAllowed ? 'block' : 'none';\n",
              "\n",
              "        async function convertToInteractive(key) {\n",
              "          const element = document.querySelector('#df-34223bbb-8576-4e7c-8dbf-e2640a4fba38');\n",
              "          const dataTable =\n",
              "            await google.colab.kernel.invokeFunction('convertToInteractive',\n",
              "                                                     [key], {});\n",
              "          if (!dataTable) return;\n",
              "\n",
              "          const docLinkHtml = 'Like what you see? Visit the ' +\n",
              "            '<a target=\"_blank\" href=https://colab.research.google.com/notebooks/data_table.ipynb>data table notebook</a>'\n",
              "            + ' to learn more about interactive tables.';\n",
              "          element.innerHTML = '';\n",
              "          dataTable['output_type'] = 'display_data';\n",
              "          await google.colab.output.renderOutput(dataTable, element);\n",
              "          const docLink = document.createElement('div');\n",
              "          docLink.innerHTML = docLinkHtml;\n",
              "          element.appendChild(docLink);\n",
              "        }\n",
              "      </script>\n",
              "    </div>\n",
              "  </div>\n",
              "  "
            ],
            "text/plain": [
              "                Market  No_of_Orders    Profit     Sales\n",
              "Region                                                  \n",
              "Canada            USCA            49   7246.62  26298.81\n",
              "Western Africa  Africa           251 -12901.51  78476.06"
            ]
          },
          "execution_count": 310,
          "metadata": {},
          "output_type": "execute_result"
        }
      ],
      "source": [
        "# loc\n",
        "sales.loc[['Canada','Western Africa']]"
      ]
    },
    {
      "cell_type": "code",
      "execution_count": null,
      "metadata": {
        "colab": {
          "base_uri": "https://localhost:8080/",
          "height": 143
        },
        "id": "T46RzZj1BFHY",
        "outputId": "155871ac-f1c3-4ecf-9411-78db4cbb49b7"
      },
      "outputs": [
        {
          "data": {
            "text/html": [
              "\n",
              "  <div id=\"df-31bd390e-0546-4d10-8e55-043b55a41934\">\n",
              "    <div class=\"colab-df-container\">\n",
              "      <div>\n",
              "<style scoped>\n",
              "    .dataframe tbody tr th:only-of-type {\n",
              "        vertical-align: middle;\n",
              "    }\n",
              "\n",
              "    .dataframe tbody tr th {\n",
              "        vertical-align: top;\n",
              "    }\n",
              "\n",
              "    .dataframe thead th {\n",
              "        text-align: right;\n",
              "    }\n",
              "</style>\n",
              "<table border=\"1\" class=\"dataframe\">\n",
              "  <thead>\n",
              "    <tr style=\"text-align: right;\">\n",
              "      <th></th>\n",
              "      <th>Profit</th>\n",
              "      <th>Sales</th>\n",
              "    </tr>\n",
              "    <tr>\n",
              "      <th>Region</th>\n",
              "      <th></th>\n",
              "      <th></th>\n",
              "    </tr>\n",
              "  </thead>\n",
              "  <tbody>\n",
              "    <tr>\n",
              "      <th>Canada</th>\n",
              "      <td>7246.62</td>\n",
              "      <td>26298.81</td>\n",
              "    </tr>\n",
              "    <tr>\n",
              "      <th>Western Africa</th>\n",
              "      <td>-12901.51</td>\n",
              "      <td>78476.06</td>\n",
              "    </tr>\n",
              "  </tbody>\n",
              "</table>\n",
              "</div>\n",
              "      <button class=\"colab-df-convert\" onclick=\"convertToInteractive('df-31bd390e-0546-4d10-8e55-043b55a41934')\"\n",
              "              title=\"Convert this dataframe to an interactive table.\"\n",
              "              style=\"display:none;\">\n",
              "        \n",
              "  <svg xmlns=\"http://www.w3.org/2000/svg\" height=\"24px\"viewBox=\"0 0 24 24\"\n",
              "       width=\"24px\">\n",
              "    <path d=\"M0 0h24v24H0V0z\" fill=\"none\"/>\n",
              "    <path d=\"M18.56 5.44l.94 2.06.94-2.06 2.06-.94-2.06-.94-.94-2.06-.94 2.06-2.06.94zm-11 1L8.5 8.5l.94-2.06 2.06-.94-2.06-.94L8.5 2.5l-.94 2.06-2.06.94zm10 10l.94 2.06.94-2.06 2.06-.94-2.06-.94-.94-2.06-.94 2.06-2.06.94z\"/><path d=\"M17.41 7.96l-1.37-1.37c-.4-.4-.92-.59-1.43-.59-.52 0-1.04.2-1.43.59L10.3 9.45l-7.72 7.72c-.78.78-.78 2.05 0 2.83L4 21.41c.39.39.9.59 1.41.59.51 0 1.02-.2 1.41-.59l7.78-7.78 2.81-2.81c.8-.78.8-2.07 0-2.86zM5.41 20L4 18.59l7.72-7.72 1.47 1.35L5.41 20z\"/>\n",
              "  </svg>\n",
              "      </button>\n",
              "      \n",
              "  <style>\n",
              "    .colab-df-container {\n",
              "      display:flex;\n",
              "      flex-wrap:wrap;\n",
              "      gap: 12px;\n",
              "    }\n",
              "\n",
              "    .colab-df-convert {\n",
              "      background-color: #E8F0FE;\n",
              "      border: none;\n",
              "      border-radius: 50%;\n",
              "      cursor: pointer;\n",
              "      display: none;\n",
              "      fill: #1967D2;\n",
              "      height: 32px;\n",
              "      padding: 0 0 0 0;\n",
              "      width: 32px;\n",
              "    }\n",
              "\n",
              "    .colab-df-convert:hover {\n",
              "      background-color: #E2EBFA;\n",
              "      box-shadow: 0px 1px 2px rgba(60, 64, 67, 0.3), 0px 1px 3px 1px rgba(60, 64, 67, 0.15);\n",
              "      fill: #174EA6;\n",
              "    }\n",
              "\n",
              "    [theme=dark] .colab-df-convert {\n",
              "      background-color: #3B4455;\n",
              "      fill: #D2E3FC;\n",
              "    }\n",
              "\n",
              "    [theme=dark] .colab-df-convert:hover {\n",
              "      background-color: #434B5C;\n",
              "      box-shadow: 0px 1px 3px 1px rgba(0, 0, 0, 0.15);\n",
              "      filter: drop-shadow(0px 1px 2px rgba(0, 0, 0, 0.3));\n",
              "      fill: #FFFFFF;\n",
              "    }\n",
              "  </style>\n",
              "\n",
              "      <script>\n",
              "        const buttonEl =\n",
              "          document.querySelector('#df-31bd390e-0546-4d10-8e55-043b55a41934 button.colab-df-convert');\n",
              "        buttonEl.style.display =\n",
              "          google.colab.kernel.accessAllowed ? 'block' : 'none';\n",
              "\n",
              "        async function convertToInteractive(key) {\n",
              "          const element = document.querySelector('#df-31bd390e-0546-4d10-8e55-043b55a41934');\n",
              "          const dataTable =\n",
              "            await google.colab.kernel.invokeFunction('convertToInteractive',\n",
              "                                                     [key], {});\n",
              "          if (!dataTable) return;\n",
              "\n",
              "          const docLinkHtml = 'Like what you see? Visit the ' +\n",
              "            '<a target=\"_blank\" href=https://colab.research.google.com/notebooks/data_table.ipynb>data table notebook</a>'\n",
              "            + ' to learn more about interactive tables.';\n",
              "          element.innerHTML = '';\n",
              "          dataTable['output_type'] = 'display_data';\n",
              "          await google.colab.output.renderOutput(dataTable, element);\n",
              "          const docLink = document.createElement('div');\n",
              "          docLink.innerHTML = docLinkHtml;\n",
              "          element.appendChild(docLink);\n",
              "        }\n",
              "      </script>\n",
              "    </div>\n",
              "  </div>\n",
              "  "
            ],
            "text/plain": [
              "                  Profit     Sales\n",
              "Region                            \n",
              "Canada           7246.62  26298.81\n",
              "Western Africa -12901.51  78476.06"
            ]
          },
          "execution_count": 311,
          "metadata": {},
          "output_type": "execute_result"
        }
      ],
      "source": [
        "sales.loc[['Canada','Western Africa'], ['Profit','Sales']]\n"
      ]
    },
    {
      "cell_type": "code",
      "execution_count": null,
      "metadata": {
        "colab": {
          "base_uri": "https://localhost:8080/",
          "height": 269
        },
        "id": "ZpbNvhLs5wlj",
        "outputId": "e74ec3f6-7055-4792-a36a-2c043a81bd88"
      },
      "outputs": [
        {
          "data": {
            "text/html": [
              "\n",
              "  <div id=\"df-decfceb1-aa7a-44af-af7d-91bf1cd7cb75\">\n",
              "    <div class=\"colab-df-container\">\n",
              "      <div>\n",
              "<style scoped>\n",
              "    .dataframe tbody tr th:only-of-type {\n",
              "        vertical-align: middle;\n",
              "    }\n",
              "\n",
              "    .dataframe tbody tr th {\n",
              "        vertical-align: top;\n",
              "    }\n",
              "\n",
              "    .dataframe thead th {\n",
              "        text-align: right;\n",
              "    }\n",
              "</style>\n",
              "<table border=\"1\" class=\"dataframe\">\n",
              "  <thead>\n",
              "    <tr style=\"text-align: right;\">\n",
              "      <th></th>\n",
              "      <th>Profit</th>\n",
              "      <th>Sales</th>\n",
              "    </tr>\n",
              "    <tr>\n",
              "      <th>Region</th>\n",
              "      <th></th>\n",
              "      <th></th>\n",
              "    </tr>\n",
              "  </thead>\n",
              "  <tbody>\n",
              "    <tr>\n",
              "      <th>Southeastern Asia</th>\n",
              "      <td>20948.84</td>\n",
              "      <td>329751.38</td>\n",
              "    </tr>\n",
              "    <tr>\n",
              "      <th>Oceania</th>\n",
              "      <td>54734.02</td>\n",
              "      <td>408002.98</td>\n",
              "    </tr>\n",
              "    <tr>\n",
              "      <th>Eastern Asia</th>\n",
              "      <td>72805.10</td>\n",
              "      <td>315390.77</td>\n",
              "    </tr>\n",
              "    <tr>\n",
              "      <th>Central Asia</th>\n",
              "      <td>-2649.76</td>\n",
              "      <td>8190.74</td>\n",
              "    </tr>\n",
              "    <tr>\n",
              "      <th>Western Europe</th>\n",
              "      <td>82091.27</td>\n",
              "      <td>656637.14</td>\n",
              "    </tr>\n",
              "    <tr>\n",
              "      <th>Southern Europe</th>\n",
              "      <td>18911.49</td>\n",
              "      <td>215703.93</td>\n",
              "    </tr>\n",
              "  </tbody>\n",
              "</table>\n",
              "</div>\n",
              "      <button class=\"colab-df-convert\" onclick=\"convertToInteractive('df-decfceb1-aa7a-44af-af7d-91bf1cd7cb75')\"\n",
              "              title=\"Convert this dataframe to an interactive table.\"\n",
              "              style=\"display:none;\">\n",
              "        \n",
              "  <svg xmlns=\"http://www.w3.org/2000/svg\" height=\"24px\"viewBox=\"0 0 24 24\"\n",
              "       width=\"24px\">\n",
              "    <path d=\"M0 0h24v24H0V0z\" fill=\"none\"/>\n",
              "    <path d=\"M18.56 5.44l.94 2.06.94-2.06 2.06-.94-2.06-.94-.94-2.06-.94 2.06-2.06.94zm-11 1L8.5 8.5l.94-2.06 2.06-.94-2.06-.94L8.5 2.5l-.94 2.06-2.06.94zm10 10l.94 2.06.94-2.06 2.06-.94-2.06-.94-.94-2.06-.94 2.06-2.06.94z\"/><path d=\"M17.41 7.96l-1.37-1.37c-.4-.4-.92-.59-1.43-.59-.52 0-1.04.2-1.43.59L10.3 9.45l-7.72 7.72c-.78.78-.78 2.05 0 2.83L4 21.41c.39.39.9.59 1.41.59.51 0 1.02-.2 1.41-.59l7.78-7.78 2.81-2.81c.8-.78.8-2.07 0-2.86zM5.41 20L4 18.59l7.72-7.72 1.47 1.35L5.41 20z\"/>\n",
              "  </svg>\n",
              "      </button>\n",
              "      \n",
              "  <style>\n",
              "    .colab-df-container {\n",
              "      display:flex;\n",
              "      flex-wrap:wrap;\n",
              "      gap: 12px;\n",
              "    }\n",
              "\n",
              "    .colab-df-convert {\n",
              "      background-color: #E8F0FE;\n",
              "      border: none;\n",
              "      border-radius: 50%;\n",
              "      cursor: pointer;\n",
              "      display: none;\n",
              "      fill: #1967D2;\n",
              "      height: 32px;\n",
              "      padding: 0 0 0 0;\n",
              "      width: 32px;\n",
              "    }\n",
              "\n",
              "    .colab-df-convert:hover {\n",
              "      background-color: #E2EBFA;\n",
              "      box-shadow: 0px 1px 2px rgba(60, 64, 67, 0.3), 0px 1px 3px 1px rgba(60, 64, 67, 0.15);\n",
              "      fill: #174EA6;\n",
              "    }\n",
              "\n",
              "    [theme=dark] .colab-df-convert {\n",
              "      background-color: #3B4455;\n",
              "      fill: #D2E3FC;\n",
              "    }\n",
              "\n",
              "    [theme=dark] .colab-df-convert:hover {\n",
              "      background-color: #434B5C;\n",
              "      box-shadow: 0px 1px 3px 1px rgba(0, 0, 0, 0.15);\n",
              "      filter: drop-shadow(0px 1px 2px rgba(0, 0, 0, 0.3));\n",
              "      fill: #FFFFFF;\n",
              "    }\n",
              "  </style>\n",
              "\n",
              "      <script>\n",
              "        const buttonEl =\n",
              "          document.querySelector('#df-decfceb1-aa7a-44af-af7d-91bf1cd7cb75 button.colab-df-convert');\n",
              "        buttonEl.style.display =\n",
              "          google.colab.kernel.accessAllowed ? 'block' : 'none';\n",
              "\n",
              "        async function convertToInteractive(key) {\n",
              "          const element = document.querySelector('#df-decfceb1-aa7a-44af-af7d-91bf1cd7cb75');\n",
              "          const dataTable =\n",
              "            await google.colab.kernel.invokeFunction('convertToInteractive',\n",
              "                                                     [key], {});\n",
              "          if (!dataTable) return;\n",
              "\n",
              "          const docLinkHtml = 'Like what you see? Visit the ' +\n",
              "            '<a target=\"_blank\" href=https://colab.research.google.com/notebooks/data_table.ipynb>data table notebook</a>'\n",
              "            + ' to learn more about interactive tables.';\n",
              "          element.innerHTML = '';\n",
              "          dataTable['output_type'] = 'display_data';\n",
              "          await google.colab.output.renderOutput(dataTable, element);\n",
              "          const docLink = document.createElement('div');\n",
              "          docLink.innerHTML = docLinkHtml;\n",
              "          element.appendChild(docLink);\n",
              "        }\n",
              "      </script>\n",
              "    </div>\n",
              "  </div>\n",
              "  "
            ],
            "text/plain": [
              "                     Profit      Sales\n",
              "Region                                \n",
              "Southeastern Asia  20948.84  329751.38\n",
              "Oceania            54734.02  408002.98\n",
              "Eastern Asia       72805.10  315390.77\n",
              "Central Asia       -2649.76    8190.74\n",
              "Western Europe     82091.27  656637.14\n",
              "Southern Europe    18911.49  215703.93"
            ]
          },
          "execution_count": 318,
          "metadata": {},
          "output_type": "execute_result"
        }
      ],
      "source": [
        "# iloc\n",
        "\n",
        "sales.iloc[7:13,2:]"
      ]
    },
    {
      "cell_type": "code",
      "execution_count": null,
      "metadata": {
        "colab": {
          "base_uri": "https://localhost:8080/"
        },
        "id": "-ddHQABb5wjH",
        "outputId": "68d32fce-1d75-4451-f556-26eb055a0cae"
      },
      "outputs": [
        {
          "data": {
            "text/plain": [
              "Market           0\n",
              "No_of_Orders     0\n",
              "Profit          20\n",
              "Sales            0\n",
              "dtype: int64"
            ]
          },
          "execution_count": 325,
          "metadata": {},
          "output_type": "execute_result"
        }
      ],
      "source": [
        "# condition\n",
        "\n",
        "# sales[['Profit']]>0\n",
        "sales[sales[['Profit']]>0].count()"
      ]
    },
    {
      "cell_type": "code",
      "execution_count": null,
      "metadata": {
        "colab": {
          "base_uri": "https://localhost:8080/",
          "height": 175
        },
        "id": "8x8HjKMkCSvc",
        "outputId": "0e564217-ebe6-473d-e78e-93105bcd129b"
      },
      "outputs": [
        {
          "data": {
            "text/html": [
              "\n",
              "  <div id=\"df-ced3e275-f279-4efc-b104-ed18ae2fcaeb\">\n",
              "    <div class=\"colab-df-container\">\n",
              "      <div>\n",
              "<style scoped>\n",
              "    .dataframe tbody tr th:only-of-type {\n",
              "        vertical-align: middle;\n",
              "    }\n",
              "\n",
              "    .dataframe tbody tr th {\n",
              "        vertical-align: top;\n",
              "    }\n",
              "\n",
              "    .dataframe thead th {\n",
              "        text-align: right;\n",
              "    }\n",
              "</style>\n",
              "<table border=\"1\" class=\"dataframe\">\n",
              "  <thead>\n",
              "    <tr style=\"text-align: right;\">\n",
              "      <th></th>\n",
              "      <th>Market</th>\n",
              "      <th>No_of_Orders</th>\n",
              "      <th>Profit</th>\n",
              "      <th>Sales</th>\n",
              "    </tr>\n",
              "    <tr>\n",
              "      <th>Region</th>\n",
              "      <th></th>\n",
              "      <th></th>\n",
              "      <th></th>\n",
              "      <th></th>\n",
              "    </tr>\n",
              "  </thead>\n",
              "  <tbody>\n",
              "    <tr>\n",
              "      <th>Western Europe</th>\n",
              "      <td>Europe</td>\n",
              "      <td>964</td>\n",
              "      <td>82091.27</td>\n",
              "      <td>656637.14</td>\n",
              "    </tr>\n",
              "    <tr>\n",
              "      <th>Northern Europe</th>\n",
              "      <td>Europe</td>\n",
              "      <td>367</td>\n",
              "      <td>43237.44</td>\n",
              "      <td>252969.09</td>\n",
              "    </tr>\n",
              "    <tr>\n",
              "      <th>Central America</th>\n",
              "      <td>LATAM</td>\n",
              "      <td>930</td>\n",
              "      <td>74679.54</td>\n",
              "      <td>461670.28</td>\n",
              "    </tr>\n",
              "  </tbody>\n",
              "</table>\n",
              "</div>\n",
              "      <button class=\"colab-df-convert\" onclick=\"convertToInteractive('df-ced3e275-f279-4efc-b104-ed18ae2fcaeb')\"\n",
              "              title=\"Convert this dataframe to an interactive table.\"\n",
              "              style=\"display:none;\">\n",
              "        \n",
              "  <svg xmlns=\"http://www.w3.org/2000/svg\" height=\"24px\"viewBox=\"0 0 24 24\"\n",
              "       width=\"24px\">\n",
              "    <path d=\"M0 0h24v24H0V0z\" fill=\"none\"/>\n",
              "    <path d=\"M18.56 5.44l.94 2.06.94-2.06 2.06-.94-2.06-.94-.94-2.06-.94 2.06-2.06.94zm-11 1L8.5 8.5l.94-2.06 2.06-.94-2.06-.94L8.5 2.5l-.94 2.06-2.06.94zm10 10l.94 2.06.94-2.06 2.06-.94-2.06-.94-.94-2.06-.94 2.06-2.06.94z\"/><path d=\"M17.41 7.96l-1.37-1.37c-.4-.4-.92-.59-1.43-.59-.52 0-1.04.2-1.43.59L10.3 9.45l-7.72 7.72c-.78.78-.78 2.05 0 2.83L4 21.41c.39.39.9.59 1.41.59.51 0 1.02-.2 1.41-.59l7.78-7.78 2.81-2.81c.8-.78.8-2.07 0-2.86zM5.41 20L4 18.59l7.72-7.72 1.47 1.35L5.41 20z\"/>\n",
              "  </svg>\n",
              "      </button>\n",
              "      \n",
              "  <style>\n",
              "    .colab-df-container {\n",
              "      display:flex;\n",
              "      flex-wrap:wrap;\n",
              "      gap: 12px;\n",
              "    }\n",
              "\n",
              "    .colab-df-convert {\n",
              "      background-color: #E8F0FE;\n",
              "      border: none;\n",
              "      border-radius: 50%;\n",
              "      cursor: pointer;\n",
              "      display: none;\n",
              "      fill: #1967D2;\n",
              "      height: 32px;\n",
              "      padding: 0 0 0 0;\n",
              "      width: 32px;\n",
              "    }\n",
              "\n",
              "    .colab-df-convert:hover {\n",
              "      background-color: #E2EBFA;\n",
              "      box-shadow: 0px 1px 2px rgba(60, 64, 67, 0.3), 0px 1px 3px 1px rgba(60, 64, 67, 0.15);\n",
              "      fill: #174EA6;\n",
              "    }\n",
              "\n",
              "    [theme=dark] .colab-df-convert {\n",
              "      background-color: #3B4455;\n",
              "      fill: #D2E3FC;\n",
              "    }\n",
              "\n",
              "    [theme=dark] .colab-df-convert:hover {\n",
              "      background-color: #434B5C;\n",
              "      box-shadow: 0px 1px 3px 1px rgba(0, 0, 0, 0.15);\n",
              "      filter: drop-shadow(0px 1px 2px rgba(0, 0, 0, 0.3));\n",
              "      fill: #FFFFFF;\n",
              "    }\n",
              "  </style>\n",
              "\n",
              "      <script>\n",
              "        const buttonEl =\n",
              "          document.querySelector('#df-ced3e275-f279-4efc-b104-ed18ae2fcaeb button.colab-df-convert');\n",
              "        buttonEl.style.display =\n",
              "          google.colab.kernel.accessAllowed ? 'block' : 'none';\n",
              "\n",
              "        async function convertToInteractive(key) {\n",
              "          const element = document.querySelector('#df-ced3e275-f279-4efc-b104-ed18ae2fcaeb');\n",
              "          const dataTable =\n",
              "            await google.colab.kernel.invokeFunction('convertToInteractive',\n",
              "                                                     [key], {});\n",
              "          if (!dataTable) return;\n",
              "\n",
              "          const docLinkHtml = 'Like what you see? Visit the ' +\n",
              "            '<a target=\"_blank\" href=https://colab.research.google.com/notebooks/data_table.ipynb>data table notebook</a>'\n",
              "            + ' to learn more about interactive tables.';\n",
              "          element.innerHTML = '';\n",
              "          dataTable['output_type'] = 'display_data';\n",
              "          await google.colab.output.renderOutput(dataTable, element);\n",
              "          const docLink = document.createElement('div');\n",
              "          docLink.innerHTML = docLinkHtml;\n",
              "          element.appendChild(docLink);\n",
              "        }\n",
              "      </script>\n",
              "    </div>\n",
              "  </div>\n",
              "  "
            ],
            "text/plain": [
              "                 Market  No_of_Orders    Profit      Sales\n",
              "Region                                                    \n",
              "Western Europe   Europe           964  82091.27  656637.14\n",
              "Northern Europe  Europe           367  43237.44  252969.09\n",
              "Central America   LATAM           930  74679.54  461670.28"
            ]
          },
          "execution_count": 329,
          "metadata": {},
          "output_type": "execute_result"
        }
      ],
      "source": [
        "sales[(sales['Sales']>250000) & (sales['Market'].isin(['LATAM','Europe']))]"
      ]
    },
    {
      "cell_type": "code",
      "execution_count": null,
      "metadata": {
        "colab": {
          "base_uri": "https://localhost:8080/",
          "height": 677
        },
        "id": "2vwBHpgACSzW",
        "outputId": "bed2dfd7-8b0b-4f3f-a675-26b6c6aab121"
      },
      "outputs": [
        {
          "data": {
            "text/html": [
              "\n",
              "  <div id=\"df-cc8a32b9-2f60-4985-9ee5-31249091cdf7\">\n",
              "    <div class=\"colab-df-container\">\n",
              "      <div>\n",
              "<style scoped>\n",
              "    .dataframe tbody tr th:only-of-type {\n",
              "        vertical-align: middle;\n",
              "    }\n",
              "\n",
              "    .dataframe tbody tr th {\n",
              "        vertical-align: top;\n",
              "    }\n",
              "\n",
              "    .dataframe thead th {\n",
              "        text-align: right;\n",
              "    }\n",
              "</style>\n",
              "<table border=\"1\" class=\"dataframe\">\n",
              "  <thead>\n",
              "    <tr style=\"text-align: right;\">\n",
              "      <th></th>\n",
              "      <th>month</th>\n",
              "      <th>day</th>\n",
              "      <th>temp</th>\n",
              "      <th>area</th>\n",
              "    </tr>\n",
              "  </thead>\n",
              "  <tbody>\n",
              "    <tr>\n",
              "      <th>0</th>\n",
              "      <td>mar</td>\n",
              "      <td>fri</td>\n",
              "      <td>8.2</td>\n",
              "      <td>0.0</td>\n",
              "    </tr>\n",
              "    <tr>\n",
              "      <th>1</th>\n",
              "      <td>oct</td>\n",
              "      <td>tue</td>\n",
              "      <td>18.0</td>\n",
              "      <td>0.0</td>\n",
              "    </tr>\n",
              "    <tr>\n",
              "      <th>2</th>\n",
              "      <td>oct</td>\n",
              "      <td>sat</td>\n",
              "      <td>14.6</td>\n",
              "      <td>0.0</td>\n",
              "    </tr>\n",
              "    <tr>\n",
              "      <th>3</th>\n",
              "      <td>mar</td>\n",
              "      <td>fri</td>\n",
              "      <td>8.3</td>\n",
              "      <td>0.0</td>\n",
              "    </tr>\n",
              "    <tr>\n",
              "      <th>4</th>\n",
              "      <td>mar</td>\n",
              "      <td>sun</td>\n",
              "      <td>11.4</td>\n",
              "      <td>0.0</td>\n",
              "    </tr>\n",
              "    <tr>\n",
              "      <th>5</th>\n",
              "      <td>aug</td>\n",
              "      <td>sun</td>\n",
              "      <td>22.2</td>\n",
              "      <td>0.0</td>\n",
              "    </tr>\n",
              "    <tr>\n",
              "      <th>6</th>\n",
              "      <td>aug</td>\n",
              "      <td>mon</td>\n",
              "      <td>24.1</td>\n",
              "      <td>0.0</td>\n",
              "    </tr>\n",
              "    <tr>\n",
              "      <th>7</th>\n",
              "      <td>aug</td>\n",
              "      <td>mon</td>\n",
              "      <td>8.0</td>\n",
              "      <td>0.0</td>\n",
              "    </tr>\n",
              "    <tr>\n",
              "      <th>8</th>\n",
              "      <td>sep</td>\n",
              "      <td>tue</td>\n",
              "      <td>13.1</td>\n",
              "      <td>0.0</td>\n",
              "    </tr>\n",
              "    <tr>\n",
              "      <th>9</th>\n",
              "      <td>sep</td>\n",
              "      <td>sat</td>\n",
              "      <td>22.8</td>\n",
              "      <td>0.0</td>\n",
              "    </tr>\n",
              "    <tr>\n",
              "      <th>10</th>\n",
              "      <td>sep</td>\n",
              "      <td>sat</td>\n",
              "      <td>17.8</td>\n",
              "      <td>0.0</td>\n",
              "    </tr>\n",
              "    <tr>\n",
              "      <th>11</th>\n",
              "      <td>sep</td>\n",
              "      <td>sat</td>\n",
              "      <td>19.3</td>\n",
              "      <td>0.0</td>\n",
              "    </tr>\n",
              "    <tr>\n",
              "      <th>12</th>\n",
              "      <td>aug</td>\n",
              "      <td>fri</td>\n",
              "      <td>17.0</td>\n",
              "      <td>0.0</td>\n",
              "    </tr>\n",
              "    <tr>\n",
              "      <th>13</th>\n",
              "      <td>sep</td>\n",
              "      <td>mon</td>\n",
              "      <td>21.3</td>\n",
              "      <td>0.0</td>\n",
              "    </tr>\n",
              "    <tr>\n",
              "      <th>14</th>\n",
              "      <td>sep</td>\n",
              "      <td>wed</td>\n",
              "      <td>26.4</td>\n",
              "      <td>0.0</td>\n",
              "    </tr>\n",
              "    <tr>\n",
              "      <th>15</th>\n",
              "      <td>sep</td>\n",
              "      <td>fri</td>\n",
              "      <td>22.9</td>\n",
              "      <td>0.0</td>\n",
              "    </tr>\n",
              "    <tr>\n",
              "      <th>16</th>\n",
              "      <td>mar</td>\n",
              "      <td>sat</td>\n",
              "      <td>15.1</td>\n",
              "      <td>0.0</td>\n",
              "    </tr>\n",
              "    <tr>\n",
              "      <th>17</th>\n",
              "      <td>oct</td>\n",
              "      <td>mon</td>\n",
              "      <td>16.7</td>\n",
              "      <td>0.0</td>\n",
              "    </tr>\n",
              "    <tr>\n",
              "      <th>18</th>\n",
              "      <td>mar</td>\n",
              "      <td>wed</td>\n",
              "      <td>15.9</td>\n",
              "      <td>0.0</td>\n",
              "    </tr>\n",
              "    <tr>\n",
              "      <th>19</th>\n",
              "      <td>apr</td>\n",
              "      <td>sat</td>\n",
              "      <td>9.3</td>\n",
              "      <td>0.0</td>\n",
              "    </tr>\n",
              "  </tbody>\n",
              "</table>\n",
              "</div>\n",
              "      <button class=\"colab-df-convert\" onclick=\"convertToInteractive('df-cc8a32b9-2f60-4985-9ee5-31249091cdf7')\"\n",
              "              title=\"Convert this dataframe to an interactive table.\"\n",
              "              style=\"display:none;\">\n",
              "        \n",
              "  <svg xmlns=\"http://www.w3.org/2000/svg\" height=\"24px\"viewBox=\"0 0 24 24\"\n",
              "       width=\"24px\">\n",
              "    <path d=\"M0 0h24v24H0V0z\" fill=\"none\"/>\n",
              "    <path d=\"M18.56 5.44l.94 2.06.94-2.06 2.06-.94-2.06-.94-.94-2.06-.94 2.06-2.06.94zm-11 1L8.5 8.5l.94-2.06 2.06-.94-2.06-.94L8.5 2.5l-.94 2.06-2.06.94zm10 10l.94 2.06.94-2.06 2.06-.94-2.06-.94-.94-2.06-.94 2.06-2.06.94z\"/><path d=\"M17.41 7.96l-1.37-1.37c-.4-.4-.92-.59-1.43-.59-.52 0-1.04.2-1.43.59L10.3 9.45l-7.72 7.72c-.78.78-.78 2.05 0 2.83L4 21.41c.39.39.9.59 1.41.59.51 0 1.02-.2 1.41-.59l7.78-7.78 2.81-2.81c.8-.78.8-2.07 0-2.86zM5.41 20L4 18.59l7.72-7.72 1.47 1.35L5.41 20z\"/>\n",
              "  </svg>\n",
              "      </button>\n",
              "      \n",
              "  <style>\n",
              "    .colab-df-container {\n",
              "      display:flex;\n",
              "      flex-wrap:wrap;\n",
              "      gap: 12px;\n",
              "    }\n",
              "\n",
              "    .colab-df-convert {\n",
              "      background-color: #E8F0FE;\n",
              "      border: none;\n",
              "      border-radius: 50%;\n",
              "      cursor: pointer;\n",
              "      display: none;\n",
              "      fill: #1967D2;\n",
              "      height: 32px;\n",
              "      padding: 0 0 0 0;\n",
              "      width: 32px;\n",
              "    }\n",
              "\n",
              "    .colab-df-convert:hover {\n",
              "      background-color: #E2EBFA;\n",
              "      box-shadow: 0px 1px 2px rgba(60, 64, 67, 0.3), 0px 1px 3px 1px rgba(60, 64, 67, 0.15);\n",
              "      fill: #174EA6;\n",
              "    }\n",
              "\n",
              "    [theme=dark] .colab-df-convert {\n",
              "      background-color: #3B4455;\n",
              "      fill: #D2E3FC;\n",
              "    }\n",
              "\n",
              "    [theme=dark] .colab-df-convert:hover {\n",
              "      background-color: #434B5C;\n",
              "      box-shadow: 0px 1px 3px 1px rgba(0, 0, 0, 0.15);\n",
              "      filter: drop-shadow(0px 1px 2px rgba(0, 0, 0, 0.3));\n",
              "      fill: #FFFFFF;\n",
              "    }\n",
              "  </style>\n",
              "\n",
              "      <script>\n",
              "        const buttonEl =\n",
              "          document.querySelector('#df-cc8a32b9-2f60-4985-9ee5-31249091cdf7 button.colab-df-convert');\n",
              "        buttonEl.style.display =\n",
              "          google.colab.kernel.accessAllowed ? 'block' : 'none';\n",
              "\n",
              "        async function convertToInteractive(key) {\n",
              "          const element = document.querySelector('#df-cc8a32b9-2f60-4985-9ee5-31249091cdf7');\n",
              "          const dataTable =\n",
              "            await google.colab.kernel.invokeFunction('convertToInteractive',\n",
              "                                                     [key], {});\n",
              "          if (!dataTable) return;\n",
              "\n",
              "          const docLinkHtml = 'Like what you see? Visit the ' +\n",
              "            '<a target=\"_blank\" href=https://colab.research.google.com/notebooks/data_table.ipynb>data table notebook</a>'\n",
              "            + ' to learn more about interactive tables.';\n",
              "          element.innerHTML = '';\n",
              "          dataTable['output_type'] = 'display_data';\n",
              "          await google.colab.output.renderOutput(dataTable, element);\n",
              "          const docLink = document.createElement('div');\n",
              "          docLink.innerHTML = docLinkHtml;\n",
              "          element.appendChild(docLink);\n",
              "        }\n",
              "      </script>\n",
              "    </div>\n",
              "  </div>\n",
              "  "
            ],
            "text/plain": [
              "   month  day  temp  area\n",
              "0    mar  fri   8.2   0.0\n",
              "1    oct  tue  18.0   0.0\n",
              "2    oct  sat  14.6   0.0\n",
              "3    mar  fri   8.3   0.0\n",
              "4    mar  sun  11.4   0.0\n",
              "5    aug  sun  22.2   0.0\n",
              "6    aug  mon  24.1   0.0\n",
              "7    aug  mon   8.0   0.0\n",
              "8    sep  tue  13.1   0.0\n",
              "9    sep  sat  22.8   0.0\n",
              "10   sep  sat  17.8   0.0\n",
              "11   sep  sat  19.3   0.0\n",
              "12   aug  fri  17.0   0.0\n",
              "13   sep  mon  21.3   0.0\n",
              "14   sep  wed  26.4   0.0\n",
              "15   sep  fri  22.9   0.0\n",
              "16   mar  sat  15.1   0.0\n",
              "17   oct  mon  16.7   0.0\n",
              "18   mar  wed  15.9   0.0\n",
              "19   apr  sat   9.3   0.0"
            ]
          },
          "execution_count": 20,
          "metadata": {},
          "output_type": "execute_result"
        }
      ],
      "source": [
        "#Print all the columns and the rows where 'area' is greater than 0, 'wind' is greater than 1 and the 'temp' is greater than 15.\n",
        "\n",
        "import pandas as pd\n",
        "df = pd.read_csv('https://query.data.world/s/vBDCsoHCytUSLKkLvq851k2b8JOCkF')\n",
        "df_2 = df[['month', 'day', 'temp', 'area']]\n",
        "df_2.head(20)"
      ]
    },
    {
      "cell_type": "code",
      "execution_count": null,
      "metadata": {
        "colab": {
          "base_uri": "https://localhost:8080/"
        },
        "id": "97wTz9N4hL7s",
        "outputId": "5b466d1b-045c-430c-f657-4586cc7720dc"
      },
      "outputs": [
        {
          "name": "stdout",
          "output_type": "stream",
          "text": [
            "     X  Y month  day  FFMC    DMC     DC   ISI  temp  RH  wind  rain  area\n",
            "138  9  9   jul  tue  85.8   48.3  313.4   3.9  18.0  42   2.7   0.0  0.36\n",
            "139  1  4   sep  tue  91.0  129.5  692.6   7.0  21.7  38   2.2   0.0  0.43\n",
            "140  2  5   sep  mon  90.9  126.5  686.5   7.0  21.9  39   1.8   0.0  0.47\n",
            "141  1  2   aug  wed  95.5   99.9  513.3  13.2  23.3  31   4.5   0.0  0.55\n",
            "142  8  6   aug  fri  90.1  108.0  529.8  12.5  21.2  51   8.9   0.0  0.61\n",
            "143  1  2   jul  sat  90.0   51.3  296.3   8.7  16.6  53   5.4   0.0  0.71\n",
            "144  2  5   aug  wed  95.5   99.9  513.3  13.2  23.8  32   5.4   0.0  0.77\n",
            "145  6  5   aug  thu  95.2  131.7  578.8  10.4  27.4  22   4.0   0.0  0.90\n",
            "147  8  3   sep  tue  84.4   73.4  671.9   3.2  24.2  28   3.6   0.0  0.96\n",
            "148  2  2   aug  tue  94.8  108.3  647.1  17.0  17.4  43   6.7   0.0  1.07\n",
            "149  8  6   sep  thu  93.7   80.9  685.2  17.9  23.7  25   4.5   0.0  1.12\n",
            "150  6  5   jun  fri  92.5   56.4  433.3   7.1  23.2  39   5.4   0.0  1.19\n",
            "151  9  9   jul  sun  90.1   68.6  355.2   7.2  24.8  29   2.2   0.0  1.36\n",
            "152  3  4   jul  sat  90.1   51.2  424.1   6.2  24.6  43   1.8   0.0  1.43\n",
            "153  5  4   sep  fri  94.3   85.1  692.3  15.9  20.1  47   4.9   0.0  1.46\n",
            "154  1  5   sep  sat  93.4  145.4  721.4   8.1  29.6  27   2.7   0.0  1.46\n",
            "155  7  4   aug  sun  94.8  108.3  647.1  17.0  16.4  47   1.3   0.0  1.56\n",
            "156  2  4   sep  sat  93.4  145.4  721.4   8.1  28.6  27   2.2   0.0  1.61\n",
            "157  2  2   aug  wed  92.1  111.2  654.1   9.6  18.4  45   3.6   0.0  1.63\n",
            "158  2  4   aug  wed  92.1  111.2  654.1   9.6  20.5  35   4.0   0.0  1.64\n"
          ]
        }
      ],
      "source": [
        "#Print all the columns and the rows where 'area' is greater than 0, 'wind' is greater than 1 and the 'temp' is greater than 15.\n",
        "\n",
        "df_2 = df[(df['area']>0) & (df['wind']>1) & (df['temp']>15)]\n",
        "print(df_2.head(20))"
      ]
    },
    {
      "cell_type": "code",
      "execution_count": null,
      "metadata": {
        "colab": {
          "base_uri": "https://localhost:8080/",
          "height": 237
        },
        "id": "VNLTcNxgDDD2",
        "outputId": "37284704-8b25-433b-f633-a5341495434d"
      },
      "outputs": [
        {
          "data": {
            "text/html": [
              "\n",
              "  <div id=\"df-fad410c9-3a1f-4c70-bd3a-b6b58712688c\">\n",
              "    <div class=\"colab-df-container\">\n",
              "      <div>\n",
              "<style scoped>\n",
              "    .dataframe tbody tr th:only-of-type {\n",
              "        vertical-align: middle;\n",
              "    }\n",
              "\n",
              "    .dataframe tbody tr th {\n",
              "        vertical-align: top;\n",
              "    }\n",
              "\n",
              "    .dataframe thead th {\n",
              "        text-align: right;\n",
              "    }\n",
              "</style>\n",
              "<table border=\"1\" class=\"dataframe\">\n",
              "  <thead>\n",
              "    <tr style=\"text-align: right;\">\n",
              "      <th></th>\n",
              "      <th></th>\n",
              "      <th>ID</th>\n",
              "      <th>Rating</th>\n",
              "    </tr>\n",
              "    <tr>\n",
              "      <th>Office</th>\n",
              "      <th>Department</th>\n",
              "      <th></th>\n",
              "      <th></th>\n",
              "    </tr>\n",
              "  </thead>\n",
              "  <tbody>\n",
              "    <tr>\n",
              "      <th rowspan=\"3\" valign=\"top\">New Delhi</th>\n",
              "      <th>Finance</th>\n",
              "      <td>U2F26</td>\n",
              "      <td>3.4</td>\n",
              "    </tr>\n",
              "    <tr>\n",
              "      <th>Marketing</th>\n",
              "      <td>U2M61</td>\n",
              "      <td>3.9</td>\n",
              "    </tr>\n",
              "    <tr>\n",
              "      <th>Sales</th>\n",
              "      <td>U1S15</td>\n",
              "      <td>2.8</td>\n",
              "    </tr>\n",
              "    <tr>\n",
              "      <th>Mumbai</th>\n",
              "      <th>HR</th>\n",
              "      <td>U1H87</td>\n",
              "      <td>2.1</td>\n",
              "    </tr>\n",
              "    <tr>\n",
              "      <th>New Delhi</th>\n",
              "      <th>Sales</th>\n",
              "      <td>U1S51</td>\n",
              "      <td>4.6</td>\n",
              "    </tr>\n",
              "  </tbody>\n",
              "</table>\n",
              "</div>\n",
              "      <button class=\"colab-df-convert\" onclick=\"convertToInteractive('df-fad410c9-3a1f-4c70-bd3a-b6b58712688c')\"\n",
              "              title=\"Convert this dataframe to an interactive table.\"\n",
              "              style=\"display:none;\">\n",
              "        \n",
              "  <svg xmlns=\"http://www.w3.org/2000/svg\" height=\"24px\"viewBox=\"0 0 24 24\"\n",
              "       width=\"24px\">\n",
              "    <path d=\"M0 0h24v24H0V0z\" fill=\"none\"/>\n",
              "    <path d=\"M18.56 5.44l.94 2.06.94-2.06 2.06-.94-2.06-.94-.94-2.06-.94 2.06-2.06.94zm-11 1L8.5 8.5l.94-2.06 2.06-.94-2.06-.94L8.5 2.5l-.94 2.06-2.06.94zm10 10l.94 2.06.94-2.06 2.06-.94-2.06-.94-.94-2.06-.94 2.06-2.06.94z\"/><path d=\"M17.41 7.96l-1.37-1.37c-.4-.4-.92-.59-1.43-.59-.52 0-1.04.2-1.43.59L10.3 9.45l-7.72 7.72c-.78.78-.78 2.05 0 2.83L4 21.41c.39.39.9.59 1.41.59.51 0 1.02-.2 1.41-.59l7.78-7.78 2.81-2.81c.8-.78.8-2.07 0-2.86zM5.41 20L4 18.59l7.72-7.72 1.47 1.35L5.41 20z\"/>\n",
              "  </svg>\n",
              "      </button>\n",
              "      \n",
              "  <style>\n",
              "    .colab-df-container {\n",
              "      display:flex;\n",
              "      flex-wrap:wrap;\n",
              "      gap: 12px;\n",
              "    }\n",
              "\n",
              "    .colab-df-convert {\n",
              "      background-color: #E8F0FE;\n",
              "      border: none;\n",
              "      border-radius: 50%;\n",
              "      cursor: pointer;\n",
              "      display: none;\n",
              "      fill: #1967D2;\n",
              "      height: 32px;\n",
              "      padding: 0 0 0 0;\n",
              "      width: 32px;\n",
              "    }\n",
              "\n",
              "    .colab-df-convert:hover {\n",
              "      background-color: #E2EBFA;\n",
              "      box-shadow: 0px 1px 2px rgba(60, 64, 67, 0.3), 0px 1px 3px 1px rgba(60, 64, 67, 0.15);\n",
              "      fill: #174EA6;\n",
              "    }\n",
              "\n",
              "    [theme=dark] .colab-df-convert {\n",
              "      background-color: #3B4455;\n",
              "      fill: #D2E3FC;\n",
              "    }\n",
              "\n",
              "    [theme=dark] .colab-df-convert:hover {\n",
              "      background-color: #434B5C;\n",
              "      box-shadow: 0px 1px 3px 1px rgba(0, 0, 0, 0.15);\n",
              "      filter: drop-shadow(0px 1px 2px rgba(0, 0, 0, 0.3));\n",
              "      fill: #FFFFFF;\n",
              "    }\n",
              "  </style>\n",
              "\n",
              "      <script>\n",
              "        const buttonEl =\n",
              "          document.querySelector('#df-fad410c9-3a1f-4c70-bd3a-b6b58712688c button.colab-df-convert');\n",
              "        buttonEl.style.display =\n",
              "          google.colab.kernel.accessAllowed ? 'block' : 'none';\n",
              "\n",
              "        async function convertToInteractive(key) {\n",
              "          const element = document.querySelector('#df-fad410c9-3a1f-4c70-bd3a-b6b58712688c');\n",
              "          const dataTable =\n",
              "            await google.colab.kernel.invokeFunction('convertToInteractive',\n",
              "                                                     [key], {});\n",
              "          if (!dataTable) return;\n",
              "\n",
              "          const docLinkHtml = 'Like what you see? Visit the ' +\n",
              "            '<a target=\"_blank\" href=https://colab.research.google.com/notebooks/data_table.ipynb>data table notebook</a>'\n",
              "            + ' to learn more about interactive tables.';\n",
              "          element.innerHTML = '';\n",
              "          dataTable['output_type'] = 'display_data';\n",
              "          await google.colab.output.renderOutput(dataTable, element);\n",
              "          const docLink = document.createElement('div');\n",
              "          docLink.innerHTML = docLinkHtml;\n",
              "          element.appendChild(docLink);\n",
              "        }\n",
              "      </script>\n",
              "    </div>\n",
              "  </div>\n",
              "  "
            ],
            "text/plain": [
              "                         ID  Rating\n",
              "Office    Department               \n",
              "New Delhi Finance     U2F26     3.4\n",
              "          Marketing   U2M61     3.9\n",
              "          Sales       U1S15     2.8\n",
              "Mumbai    HR          U1H87     2.1\n",
              "New Delhi Sales       U1S51     4.6"
            ]
          },
          "execution_count": 23,
          "metadata": {},
          "output_type": "execute_result"
        }
      ],
      "source": [
        "df = pd.read_csv('https://media-doselect.s3.amazonaws.com/generic/NMgEjwkAEGGQZBoNYGr9Ld7w0/rating.csv',index_col=1)\n",
        "\n",
        "df.reset_index(inplace=True)\n",
        "# # Setting hierarchical index\n",
        "df.set_index(['Office','Department'],inplace=True)\n",
        "# # Checking the dataframe\n",
        "df.head()"
      ]
    },
    {
      "cell_type": "code",
      "execution_count": null,
      "metadata": {
        "colab": {
          "base_uri": "https://localhost:8080/",
          "height": 237
        },
        "id": "ZC2D2iNUDDBd",
        "outputId": "8f0f56a4-09f6-4078-a826-9dafdb6846c6"
      },
      "outputs": [
        {
          "data": {
            "text/html": [
              "\n",
              "  <div id=\"df-15b96cff-144d-4c1c-ac8a-3f5cbc7faa31\">\n",
              "    <div class=\"colab-df-container\">\n",
              "      <div>\n",
              "<style scoped>\n",
              "    .dataframe tbody tr th:only-of-type {\n",
              "        vertical-align: middle;\n",
              "    }\n",
              "\n",
              "    .dataframe tbody tr th {\n",
              "        vertical-align: top;\n",
              "    }\n",
              "\n",
              "    .dataframe thead th {\n",
              "        text-align: right;\n",
              "    }\n",
              "</style>\n",
              "<table border=\"1\" class=\"dataframe\">\n",
              "  <thead>\n",
              "    <tr style=\"text-align: right;\">\n",
              "      <th></th>\n",
              "      <th></th>\n",
              "      <th>ID</th>\n",
              "      <th>Rating</th>\n",
              "      <th>Training</th>\n",
              "    </tr>\n",
              "    <tr>\n",
              "      <th>Office</th>\n",
              "      <th>Department</th>\n",
              "      <th></th>\n",
              "      <th></th>\n",
              "      <th></th>\n",
              "    </tr>\n",
              "  </thead>\n",
              "  <tbody>\n",
              "    <tr>\n",
              "      <th rowspan=\"3\" valign=\"top\">New Delhi</th>\n",
              "      <th>Finance</th>\n",
              "      <td>U2F26</td>\n",
              "      <td>3.4</td>\n",
              "      <td>Yes</td>\n",
              "    </tr>\n",
              "    <tr>\n",
              "      <th>Marketing</th>\n",
              "      <td>U2M61</td>\n",
              "      <td>3.9</td>\n",
              "      <td>No</td>\n",
              "    </tr>\n",
              "    <tr>\n",
              "      <th>Sales</th>\n",
              "      <td>U1S15</td>\n",
              "      <td>2.8</td>\n",
              "      <td>Yes</td>\n",
              "    </tr>\n",
              "    <tr>\n",
              "      <th>Mumbai</th>\n",
              "      <th>HR</th>\n",
              "      <td>U1H87</td>\n",
              "      <td>2.1</td>\n",
              "      <td>Yes</td>\n",
              "    </tr>\n",
              "    <tr>\n",
              "      <th>New Delhi</th>\n",
              "      <th>Sales</th>\n",
              "      <td>U1S51</td>\n",
              "      <td>4.6</td>\n",
              "      <td>No</td>\n",
              "    </tr>\n",
              "  </tbody>\n",
              "</table>\n",
              "</div>\n",
              "      <button class=\"colab-df-convert\" onclick=\"convertToInteractive('df-15b96cff-144d-4c1c-ac8a-3f5cbc7faa31')\"\n",
              "              title=\"Convert this dataframe to an interactive table.\"\n",
              "              style=\"display:none;\">\n",
              "        \n",
              "  <svg xmlns=\"http://www.w3.org/2000/svg\" height=\"24px\"viewBox=\"0 0 24 24\"\n",
              "       width=\"24px\">\n",
              "    <path d=\"M0 0h24v24H0V0z\" fill=\"none\"/>\n",
              "    <path d=\"M18.56 5.44l.94 2.06.94-2.06 2.06-.94-2.06-.94-.94-2.06-.94 2.06-2.06.94zm-11 1L8.5 8.5l.94-2.06 2.06-.94-2.06-.94L8.5 2.5l-.94 2.06-2.06.94zm10 10l.94 2.06.94-2.06 2.06-.94-2.06-.94-.94-2.06-.94 2.06-2.06.94z\"/><path d=\"M17.41 7.96l-1.37-1.37c-.4-.4-.92-.59-1.43-.59-.52 0-1.04.2-1.43.59L10.3 9.45l-7.72 7.72c-.78.78-.78 2.05 0 2.83L4 21.41c.39.39.9.59 1.41.59.51 0 1.02-.2 1.41-.59l7.78-7.78 2.81-2.81c.8-.78.8-2.07 0-2.86zM5.41 20L4 18.59l7.72-7.72 1.47 1.35L5.41 20z\"/>\n",
              "  </svg>\n",
              "      </button>\n",
              "      \n",
              "  <style>\n",
              "    .colab-df-container {\n",
              "      display:flex;\n",
              "      flex-wrap:wrap;\n",
              "      gap: 12px;\n",
              "    }\n",
              "\n",
              "    .colab-df-convert {\n",
              "      background-color: #E8F0FE;\n",
              "      border: none;\n",
              "      border-radius: 50%;\n",
              "      cursor: pointer;\n",
              "      display: none;\n",
              "      fill: #1967D2;\n",
              "      height: 32px;\n",
              "      padding: 0 0 0 0;\n",
              "      width: 32px;\n",
              "    }\n",
              "\n",
              "    .colab-df-convert:hover {\n",
              "      background-color: #E2EBFA;\n",
              "      box-shadow: 0px 1px 2px rgba(60, 64, 67, 0.3), 0px 1px 3px 1px rgba(60, 64, 67, 0.15);\n",
              "      fill: #174EA6;\n",
              "    }\n",
              "\n",
              "    [theme=dark] .colab-df-convert {\n",
              "      background-color: #3B4455;\n",
              "      fill: #D2E3FC;\n",
              "    }\n",
              "\n",
              "    [theme=dark] .colab-df-convert:hover {\n",
              "      background-color: #434B5C;\n",
              "      box-shadow: 0px 1px 3px 1px rgba(0, 0, 0, 0.15);\n",
              "      filter: drop-shadow(0px 1px 2px rgba(0, 0, 0, 0.3));\n",
              "      fill: #FFFFFF;\n",
              "    }\n",
              "  </style>\n",
              "\n",
              "      <script>\n",
              "        const buttonEl =\n",
              "          document.querySelector('#df-15b96cff-144d-4c1c-ac8a-3f5cbc7faa31 button.colab-df-convert');\n",
              "        buttonEl.style.display =\n",
              "          google.colab.kernel.accessAllowed ? 'block' : 'none';\n",
              "\n",
              "        async function convertToInteractive(key) {\n",
              "          const element = document.querySelector('#df-15b96cff-144d-4c1c-ac8a-3f5cbc7faa31');\n",
              "          const dataTable =\n",
              "            await google.colab.kernel.invokeFunction('convertToInteractive',\n",
              "                                                     [key], {});\n",
              "          if (!dataTable) return;\n",
              "\n",
              "          const docLinkHtml = 'Like what you see? Visit the ' +\n",
              "            '<a target=\"_blank\" href=https://colab.research.google.com/notebooks/data_table.ipynb>data table notebook</a>'\n",
              "            + ' to learn more about interactive tables.';\n",
              "          element.innerHTML = '';\n",
              "          dataTable['output_type'] = 'display_data';\n",
              "          await google.colab.output.renderOutput(dataTable, element);\n",
              "          const docLink = document.createElement('div');\n",
              "          docLink.innerHTML = docLinkHtml;\n",
              "          element.appendChild(docLink);\n",
              "        }\n",
              "      </script>\n",
              "    </div>\n",
              "  </div>\n",
              "  "
            ],
            "text/plain": [
              "                         ID  Rating Training\n",
              "Office    Department                        \n",
              "New Delhi Finance     U2F26     3.4      Yes\n",
              "          Marketing   U2M61     3.9       No\n",
              "          Sales       U1S15     2.8      Yes\n",
              "Mumbai    HR          U1H87     2.1      Yes\n",
              "New Delhi Sales       U1S51     4.6       No"
            ]
          },
          "execution_count": 24,
          "metadata": {},
          "output_type": "execute_result"
        }
      ],
      "source": [
        "df['Training']=df['Rating'].apply(lambda x: 'Yes' if x<=3.5 else 'No')\n",
        "df.head()"
      ]
    },
    {
      "cell_type": "markdown",
      "metadata": {
        "id": "yQ96TNo0OGPC"
      },
      "source": [
        "#### Group by and pivot - pandas"
      ]
    },
    {
      "cell_type": "code",
      "execution_count": null,
      "metadata": {
        "colab": {
          "base_uri": "https://localhost:8080/",
          "height": 510
        },
        "id": "N6Ex6SaMDC_T",
        "outputId": "1e4d91b3-8bbe-4719-aefc-d32a3edda2d6"
      },
      "outputs": [
        {
          "name": "stderr",
          "output_type": "stream",
          "text": [
            "/usr/local/lib/python3.7/dist-packages/ipykernel_launcher.py:5: FutureWarning: Indexing with multiple keys (implicitly converted to a tuple of keys) will be deprecated, use a list instead.\n",
            "  \"\"\"\n"
          ]
        },
        {
          "data": {
            "text/html": [
              "\n",
              "  <div id=\"df-2039eefb-b22d-4815-9bf7-9280c1efd875\">\n",
              "    <div class=\"colab-df-container\">\n",
              "      <div>\n",
              "<style scoped>\n",
              "    .dataframe tbody tr th:only-of-type {\n",
              "        vertical-align: middle;\n",
              "    }\n",
              "\n",
              "    .dataframe tbody tr th {\n",
              "        vertical-align: top;\n",
              "    }\n",
              "\n",
              "    .dataframe thead th {\n",
              "        text-align: right;\n",
              "    }\n",
              "</style>\n",
              "<table border=\"1\" class=\"dataframe\">\n",
              "  <thead>\n",
              "    <tr style=\"text-align: right;\">\n",
              "      <th></th>\n",
              "      <th></th>\n",
              "      <th>rain</th>\n",
              "      <th>wind</th>\n",
              "    </tr>\n",
              "    <tr>\n",
              "      <th>month</th>\n",
              "      <th>day</th>\n",
              "      <th></th>\n",
              "      <th></th>\n",
              "    </tr>\n",
              "  </thead>\n",
              "  <tbody>\n",
              "    <tr>\n",
              "      <th rowspan=\"5\" valign=\"top\">apr</th>\n",
              "      <th>fri</th>\n",
              "      <td>0.0</td>\n",
              "      <td>3.100000</td>\n",
              "    </tr>\n",
              "    <tr>\n",
              "      <th>mon</th>\n",
              "      <td>0.0</td>\n",
              "      <td>3.100000</td>\n",
              "    </tr>\n",
              "    <tr>\n",
              "      <th>sat</th>\n",
              "      <td>0.0</td>\n",
              "      <td>4.500000</td>\n",
              "    </tr>\n",
              "    <tr>\n",
              "      <th>sun</th>\n",
              "      <td>0.0</td>\n",
              "      <td>5.666667</td>\n",
              "    </tr>\n",
              "    <tr>\n",
              "      <th>thu</th>\n",
              "      <td>0.0</td>\n",
              "      <td>5.800000</td>\n",
              "    </tr>\n",
              "    <tr>\n",
              "      <th>...</th>\n",
              "      <th>...</th>\n",
              "      <td>...</td>\n",
              "      <td>...</td>\n",
              "    </tr>\n",
              "    <tr>\n",
              "      <th rowspan=\"5\" valign=\"top\">sep</th>\n",
              "      <th>sat</th>\n",
              "      <td>0.0</td>\n",
              "      <td>3.460000</td>\n",
              "    </tr>\n",
              "    <tr>\n",
              "      <th>sun</th>\n",
              "      <td>0.0</td>\n",
              "      <td>3.955556</td>\n",
              "    </tr>\n",
              "    <tr>\n",
              "      <th>thu</th>\n",
              "      <td>0.0</td>\n",
              "      <td>3.357143</td>\n",
              "    </tr>\n",
              "    <tr>\n",
              "      <th>tue</th>\n",
              "      <td>0.0</td>\n",
              "      <td>3.431579</td>\n",
              "    </tr>\n",
              "    <tr>\n",
              "      <th>wed</th>\n",
              "      <td>0.0</td>\n",
              "      <td>3.378571</td>\n",
              "    </tr>\n",
              "  </tbody>\n",
              "</table>\n",
              "<p>64 rows × 2 columns</p>\n",
              "</div>\n",
              "      <button class=\"colab-df-convert\" onclick=\"convertToInteractive('df-2039eefb-b22d-4815-9bf7-9280c1efd875')\"\n",
              "              title=\"Convert this dataframe to an interactive table.\"\n",
              "              style=\"display:none;\">\n",
              "        \n",
              "  <svg xmlns=\"http://www.w3.org/2000/svg\" height=\"24px\"viewBox=\"0 0 24 24\"\n",
              "       width=\"24px\">\n",
              "    <path d=\"M0 0h24v24H0V0z\" fill=\"none\"/>\n",
              "    <path d=\"M18.56 5.44l.94 2.06.94-2.06 2.06-.94-2.06-.94-.94-2.06-.94 2.06-2.06.94zm-11 1L8.5 8.5l.94-2.06 2.06-.94-2.06-.94L8.5 2.5l-.94 2.06-2.06.94zm10 10l.94 2.06.94-2.06 2.06-.94-2.06-.94-.94-2.06-.94 2.06-2.06.94z\"/><path d=\"M17.41 7.96l-1.37-1.37c-.4-.4-.92-.59-1.43-.59-.52 0-1.04.2-1.43.59L10.3 9.45l-7.72 7.72c-.78.78-.78 2.05 0 2.83L4 21.41c.39.39.9.59 1.41.59.51 0 1.02-.2 1.41-.59l7.78-7.78 2.81-2.81c.8-.78.8-2.07 0-2.86zM5.41 20L4 18.59l7.72-7.72 1.47 1.35L5.41 20z\"/>\n",
              "  </svg>\n",
              "      </button>\n",
              "      \n",
              "  <style>\n",
              "    .colab-df-container {\n",
              "      display:flex;\n",
              "      flex-wrap:wrap;\n",
              "      gap: 12px;\n",
              "    }\n",
              "\n",
              "    .colab-df-convert {\n",
              "      background-color: #E8F0FE;\n",
              "      border: none;\n",
              "      border-radius: 50%;\n",
              "      cursor: pointer;\n",
              "      display: none;\n",
              "      fill: #1967D2;\n",
              "      height: 32px;\n",
              "      padding: 0 0 0 0;\n",
              "      width: 32px;\n",
              "    }\n",
              "\n",
              "    .colab-df-convert:hover {\n",
              "      background-color: #E2EBFA;\n",
              "      box-shadow: 0px 1px 2px rgba(60, 64, 67, 0.3), 0px 1px 3px 1px rgba(60, 64, 67, 0.15);\n",
              "      fill: #174EA6;\n",
              "    }\n",
              "\n",
              "    [theme=dark] .colab-df-convert {\n",
              "      background-color: #3B4455;\n",
              "      fill: #D2E3FC;\n",
              "    }\n",
              "\n",
              "    [theme=dark] .colab-df-convert:hover {\n",
              "      background-color: #434B5C;\n",
              "      box-shadow: 0px 1px 3px 1px rgba(0, 0, 0, 0.15);\n",
              "      filter: drop-shadow(0px 1px 2px rgba(0, 0, 0, 0.3));\n",
              "      fill: #FFFFFF;\n",
              "    }\n",
              "  </style>\n",
              "\n",
              "      <script>\n",
              "        const buttonEl =\n",
              "          document.querySelector('#df-2039eefb-b22d-4815-9bf7-9280c1efd875 button.colab-df-convert');\n",
              "        buttonEl.style.display =\n",
              "          google.colab.kernel.accessAllowed ? 'block' : 'none';\n",
              "\n",
              "        async function convertToInteractive(key) {\n",
              "          const element = document.querySelector('#df-2039eefb-b22d-4815-9bf7-9280c1efd875');\n",
              "          const dataTable =\n",
              "            await google.colab.kernel.invokeFunction('convertToInteractive',\n",
              "                                                     [key], {});\n",
              "          if (!dataTable) return;\n",
              "\n",
              "          const docLinkHtml = 'Like what you see? Visit the ' +\n",
              "            '<a target=\"_blank\" href=https://colab.research.google.com/notebooks/data_table.ipynb>data table notebook</a>'\n",
              "            + ' to learn more about interactive tables.';\n",
              "          element.innerHTML = '';\n",
              "          dataTable['output_type'] = 'display_data';\n",
              "          await google.colab.output.renderOutput(dataTable, element);\n",
              "          const docLink = document.createElement('div');\n",
              "          docLink.innerHTML = docLinkHtml;\n",
              "          element.appendChild(docLink);\n",
              "        }\n",
              "      </script>\n",
              "    </div>\n",
              "  </div>\n",
              "  "
            ],
            "text/plain": [
              "           rain      wind\n",
              "month day                \n",
              "apr   fri   0.0  3.100000\n",
              "      mon   0.0  3.100000\n",
              "      sat   0.0  4.500000\n",
              "      sun   0.0  5.666667\n",
              "      thu   0.0  5.800000\n",
              "...         ...       ...\n",
              "sep   sat   0.0  3.460000\n",
              "      sun   0.0  3.955556\n",
              "      thu   0.0  3.357143\n",
              "      tue   0.0  3.431579\n",
              "      wed   0.0  3.378571\n",
              "\n",
              "[64 rows x 2 columns]"
            ]
          },
          "execution_count": 10,
          "metadata": {},
          "output_type": "execute_result"
        }
      ],
      "source": [
        "import pandas as pd\n",
        "df = pd.read_csv('https://query.data.world/s/vBDCsoHCytUSLKkLvq851k2b8JOCkF')\n",
        "#Type your groupby command here\n",
        "df1 = df.groupby(['month', 'day'])            # creates grouping onject\n",
        "df_1 = df1['rain','wind'].mean()              # to get grouped table we need an aggrigation on top of grouping\n",
        "df_1"
      ]
    },
    {
      "cell_type": "code",
      "execution_count": null,
      "metadata": {
        "colab": {
          "base_uri": "https://localhost:8080/",
          "height": 708
        },
        "id": "YhjAI6MkOz7q",
        "outputId": "bb548104-eacc-4b6f-baaa-6a94f8a44b9c"
      },
      "outputs": [
        {
          "data": {
            "text/html": [
              "\n",
              "  <div id=\"df-e7cb214f-eaa7-44a9-8edc-f36e837f67a3\">\n",
              "    <div class=\"colab-df-container\">\n",
              "      <div>\n",
              "<style scoped>\n",
              "    .dataframe tbody tr th:only-of-type {\n",
              "        vertical-align: middle;\n",
              "    }\n",
              "\n",
              "    .dataframe tbody tr th {\n",
              "        vertical-align: top;\n",
              "    }\n",
              "\n",
              "    .dataframe thead th {\n",
              "        text-align: right;\n",
              "    }\n",
              "</style>\n",
              "<table border=\"1\" class=\"dataframe\">\n",
              "  <thead>\n",
              "    <tr style=\"text-align: right;\">\n",
              "      <th></th>\n",
              "      <th></th>\n",
              "      <th>rain</th>\n",
              "      <th>wind</th>\n",
              "    </tr>\n",
              "    <tr>\n",
              "      <th>month</th>\n",
              "      <th>day</th>\n",
              "      <th></th>\n",
              "      <th></th>\n",
              "    </tr>\n",
              "  </thead>\n",
              "  <tbody>\n",
              "    <tr>\n",
              "      <th rowspan=\"6\" valign=\"top\">apr</th>\n",
              "      <th>fri</th>\n",
              "      <td>0.000000</td>\n",
              "      <td>3.100000</td>\n",
              "    </tr>\n",
              "    <tr>\n",
              "      <th>mon</th>\n",
              "      <td>0.000000</td>\n",
              "      <td>3.100000</td>\n",
              "    </tr>\n",
              "    <tr>\n",
              "      <th>sat</th>\n",
              "      <td>0.000000</td>\n",
              "      <td>4.500000</td>\n",
              "    </tr>\n",
              "    <tr>\n",
              "      <th>sun</th>\n",
              "      <td>0.000000</td>\n",
              "      <td>5.666667</td>\n",
              "    </tr>\n",
              "    <tr>\n",
              "      <th>thu</th>\n",
              "      <td>0.000000</td>\n",
              "      <td>5.800000</td>\n",
              "    </tr>\n",
              "    <tr>\n",
              "      <th>wed</th>\n",
              "      <td>0.000000</td>\n",
              "      <td>2.700000</td>\n",
              "    </tr>\n",
              "    <tr>\n",
              "      <th rowspan=\"7\" valign=\"top\">aug</th>\n",
              "      <th>fri</th>\n",
              "      <td>0.066667</td>\n",
              "      <td>4.766667</td>\n",
              "    </tr>\n",
              "    <tr>\n",
              "      <th>mon</th>\n",
              "      <td>0.000000</td>\n",
              "      <td>2.873333</td>\n",
              "    </tr>\n",
              "    <tr>\n",
              "      <th>sat</th>\n",
              "      <td>0.000000</td>\n",
              "      <td>4.310345</td>\n",
              "    </tr>\n",
              "    <tr>\n",
              "      <th>sun</th>\n",
              "      <td>0.025000</td>\n",
              "      <td>4.417500</td>\n",
              "    </tr>\n",
              "    <tr>\n",
              "      <th>thu</th>\n",
              "      <td>0.000000</td>\n",
              "      <td>3.503846</td>\n",
              "    </tr>\n",
              "    <tr>\n",
              "      <th>tue</th>\n",
              "      <td>0.300000</td>\n",
              "      <td>4.567857</td>\n",
              "    </tr>\n",
              "    <tr>\n",
              "      <th>wed</th>\n",
              "      <td>0.000000</td>\n",
              "      <td>3.520000</td>\n",
              "    </tr>\n",
              "    <tr>\n",
              "      <th rowspan=\"6\" valign=\"top\">dec</th>\n",
              "      <th>fri</th>\n",
              "      <td>0.000000</td>\n",
              "      <td>4.900000</td>\n",
              "    </tr>\n",
              "    <tr>\n",
              "      <th>mon</th>\n",
              "      <td>0.000000</td>\n",
              "      <td>8.500000</td>\n",
              "    </tr>\n",
              "    <tr>\n",
              "      <th>sun</th>\n",
              "      <td>0.000000</td>\n",
              "      <td>8.500000</td>\n",
              "    </tr>\n",
              "    <tr>\n",
              "      <th>thu</th>\n",
              "      <td>0.000000</td>\n",
              "      <td>4.900000</td>\n",
              "    </tr>\n",
              "    <tr>\n",
              "      <th>tue</th>\n",
              "      <td>0.000000</td>\n",
              "      <td>8.500000</td>\n",
              "    </tr>\n",
              "    <tr>\n",
              "      <th>wed</th>\n",
              "      <td>0.000000</td>\n",
              "      <td>8.000000</td>\n",
              "    </tr>\n",
              "    <tr>\n",
              "      <th>feb</th>\n",
              "      <th>fri</th>\n",
              "      <td>0.000000</td>\n",
              "      <td>4.820000</td>\n",
              "    </tr>\n",
              "  </tbody>\n",
              "</table>\n",
              "</div>\n",
              "      <button class=\"colab-df-convert\" onclick=\"convertToInteractive('df-e7cb214f-eaa7-44a9-8edc-f36e837f67a3')\"\n",
              "              title=\"Convert this dataframe to an interactive table.\"\n",
              "              style=\"display:none;\">\n",
              "        \n",
              "  <svg xmlns=\"http://www.w3.org/2000/svg\" height=\"24px\"viewBox=\"0 0 24 24\"\n",
              "       width=\"24px\">\n",
              "    <path d=\"M0 0h24v24H0V0z\" fill=\"none\"/>\n",
              "    <path d=\"M18.56 5.44l.94 2.06.94-2.06 2.06-.94-2.06-.94-.94-2.06-.94 2.06-2.06.94zm-11 1L8.5 8.5l.94-2.06 2.06-.94-2.06-.94L8.5 2.5l-.94 2.06-2.06.94zm10 10l.94 2.06.94-2.06 2.06-.94-2.06-.94-.94-2.06-.94 2.06-2.06.94z\"/><path d=\"M17.41 7.96l-1.37-1.37c-.4-.4-.92-.59-1.43-.59-.52 0-1.04.2-1.43.59L10.3 9.45l-7.72 7.72c-.78.78-.78 2.05 0 2.83L4 21.41c.39.39.9.59 1.41.59.51 0 1.02-.2 1.41-.59l7.78-7.78 2.81-2.81c.8-.78.8-2.07 0-2.86zM5.41 20L4 18.59l7.72-7.72 1.47 1.35L5.41 20z\"/>\n",
              "  </svg>\n",
              "      </button>\n",
              "      \n",
              "  <style>\n",
              "    .colab-df-container {\n",
              "      display:flex;\n",
              "      flex-wrap:wrap;\n",
              "      gap: 12px;\n",
              "    }\n",
              "\n",
              "    .colab-df-convert {\n",
              "      background-color: #E8F0FE;\n",
              "      border: none;\n",
              "      border-radius: 50%;\n",
              "      cursor: pointer;\n",
              "      display: none;\n",
              "      fill: #1967D2;\n",
              "      height: 32px;\n",
              "      padding: 0 0 0 0;\n",
              "      width: 32px;\n",
              "    }\n",
              "\n",
              "    .colab-df-convert:hover {\n",
              "      background-color: #E2EBFA;\n",
              "      box-shadow: 0px 1px 2px rgba(60, 64, 67, 0.3), 0px 1px 3px 1px rgba(60, 64, 67, 0.15);\n",
              "      fill: #174EA6;\n",
              "    }\n",
              "\n",
              "    [theme=dark] .colab-df-convert {\n",
              "      background-color: #3B4455;\n",
              "      fill: #D2E3FC;\n",
              "    }\n",
              "\n",
              "    [theme=dark] .colab-df-convert:hover {\n",
              "      background-color: #434B5C;\n",
              "      box-shadow: 0px 1px 3px 1px rgba(0, 0, 0, 0.15);\n",
              "      filter: drop-shadow(0px 1px 2px rgba(0, 0, 0, 0.3));\n",
              "      fill: #FFFFFF;\n",
              "    }\n",
              "  </style>\n",
              "\n",
              "      <script>\n",
              "        const buttonEl =\n",
              "          document.querySelector('#df-e7cb214f-eaa7-44a9-8edc-f36e837f67a3 button.colab-df-convert');\n",
              "        buttonEl.style.display =\n",
              "          google.colab.kernel.accessAllowed ? 'block' : 'none';\n",
              "\n",
              "        async function convertToInteractive(key) {\n",
              "          const element = document.querySelector('#df-e7cb214f-eaa7-44a9-8edc-f36e837f67a3');\n",
              "          const dataTable =\n",
              "            await google.colab.kernel.invokeFunction('convertToInteractive',\n",
              "                                                     [key], {});\n",
              "          if (!dataTable) return;\n",
              "\n",
              "          const docLinkHtml = 'Like what you see? Visit the ' +\n",
              "            '<a target=\"_blank\" href=https://colab.research.google.com/notebooks/data_table.ipynb>data table notebook</a>'\n",
              "            + ' to learn more about interactive tables.';\n",
              "          element.innerHTML = '';\n",
              "          dataTable['output_type'] = 'display_data';\n",
              "          await google.colab.output.renderOutput(dataTable, element);\n",
              "          const docLink = document.createElement('div');\n",
              "          docLink.innerHTML = docLinkHtml;\n",
              "          element.appendChild(docLink);\n",
              "        }\n",
              "      </script>\n",
              "    </div>\n",
              "  </div>\n",
              "  "
            ],
            "text/plain": [
              "               rain      wind\n",
              "month day                    \n",
              "apr   fri  0.000000  3.100000\n",
              "      mon  0.000000  3.100000\n",
              "      sat  0.000000  4.500000\n",
              "      sun  0.000000  5.666667\n",
              "      thu  0.000000  5.800000\n",
              "      wed  0.000000  2.700000\n",
              "aug   fri  0.066667  4.766667\n",
              "      mon  0.000000  2.873333\n",
              "      sat  0.000000  4.310345\n",
              "      sun  0.025000  4.417500\n",
              "      thu  0.000000  3.503846\n",
              "      tue  0.300000  4.567857\n",
              "      wed  0.000000  3.520000\n",
              "dec   fri  0.000000  4.900000\n",
              "      mon  0.000000  8.500000\n",
              "      sun  0.000000  8.500000\n",
              "      thu  0.000000  4.900000\n",
              "      tue  0.000000  8.500000\n",
              "      wed  0.000000  8.000000\n",
              "feb   fri  0.000000  4.820000"
            ]
          },
          "execution_count": 24,
          "metadata": {},
          "output_type": "execute_result"
        }
      ],
      "source": [
        "import numpy as np\n",
        "import pandas as pd\n",
        "df = pd.read_csv('https://query.data.world/s/vBDCsoHCytUSLKkLvq851k2b8JOCkF')\n",
        "df_1=df.pivot_table(index=['month','day'], aggfunc={'rain': np.mean,'wind':np.mean})\n",
        "df_1.head(20)"
      ]
    },
    {
      "cell_type": "code",
      "execution_count": null,
      "metadata": {
        "id": "fDgr9pGLo-pt"
      },
      "outputs": [],
      "source": [
        "# df.pivot(columns='grouping_variable_col', values='value_to_aggregate', index='grouping_variable_row')\n",
        "\n",
        "users= pd.DataFrame({\"weekday\" : ['Sun', 'Sun', 'Mon', 'Mon'],\n",
        "                    \"city\": ['Austin', 'Dallas', 'Austin', 'Dallas'],\n",
        "                    \"visitors\":[139, 237, 326, 456],\n",
        "                    \"signups\" : [7, 12, 3, 5]})"
      ]
    },
    {
      "cell_type": "code",
      "execution_count": null,
      "metadata": {
        "colab": {
          "base_uri": "https://localhost:8080/",
          "height": 175
        },
        "id": "mY1NregINMAl",
        "outputId": "248e30bd-5b47-42ae-fcd5-a0a55b25f1a9"
      },
      "outputs": [
        {
          "data": {
            "text/html": [
              "\n",
              "  <div id=\"df-260cc158-497d-496d-962e-9d130d1fb2b0\">\n",
              "    <div class=\"colab-df-container\">\n",
              "      <div>\n",
              "<style scoped>\n",
              "    .dataframe tbody tr th:only-of-type {\n",
              "        vertical-align: middle;\n",
              "    }\n",
              "\n",
              "    .dataframe tbody tr th {\n",
              "        vertical-align: top;\n",
              "    }\n",
              "\n",
              "    .dataframe thead th {\n",
              "        text-align: right;\n",
              "    }\n",
              "</style>\n",
              "<table border=\"1\" class=\"dataframe\">\n",
              "  <thead>\n",
              "    <tr style=\"text-align: right;\">\n",
              "      <th></th>\n",
              "      <th>weekday</th>\n",
              "      <th>city</th>\n",
              "      <th>visitors</th>\n",
              "      <th>signups</th>\n",
              "    </tr>\n",
              "  </thead>\n",
              "  <tbody>\n",
              "    <tr>\n",
              "      <th>0</th>\n",
              "      <td>Sun</td>\n",
              "      <td>Austin</td>\n",
              "      <td>139</td>\n",
              "      <td>7</td>\n",
              "    </tr>\n",
              "    <tr>\n",
              "      <th>1</th>\n",
              "      <td>Sun</td>\n",
              "      <td>Dallas</td>\n",
              "      <td>237</td>\n",
              "      <td>12</td>\n",
              "    </tr>\n",
              "    <tr>\n",
              "      <th>2</th>\n",
              "      <td>Mon</td>\n",
              "      <td>Austin</td>\n",
              "      <td>326</td>\n",
              "      <td>3</td>\n",
              "    </tr>\n",
              "    <tr>\n",
              "      <th>3</th>\n",
              "      <td>Mon</td>\n",
              "      <td>Dallas</td>\n",
              "      <td>456</td>\n",
              "      <td>5</td>\n",
              "    </tr>\n",
              "  </tbody>\n",
              "</table>\n",
              "</div>\n",
              "      <button class=\"colab-df-convert\" onclick=\"convertToInteractive('df-260cc158-497d-496d-962e-9d130d1fb2b0')\"\n",
              "              title=\"Convert this dataframe to an interactive table.\"\n",
              "              style=\"display:none;\">\n",
              "        \n",
              "  <svg xmlns=\"http://www.w3.org/2000/svg\" height=\"24px\"viewBox=\"0 0 24 24\"\n",
              "       width=\"24px\">\n",
              "    <path d=\"M0 0h24v24H0V0z\" fill=\"none\"/>\n",
              "    <path d=\"M18.56 5.44l.94 2.06.94-2.06 2.06-.94-2.06-.94-.94-2.06-.94 2.06-2.06.94zm-11 1L8.5 8.5l.94-2.06 2.06-.94-2.06-.94L8.5 2.5l-.94 2.06-2.06.94zm10 10l.94 2.06.94-2.06 2.06-.94-2.06-.94-.94-2.06-.94 2.06-2.06.94z\"/><path d=\"M17.41 7.96l-1.37-1.37c-.4-.4-.92-.59-1.43-.59-.52 0-1.04.2-1.43.59L10.3 9.45l-7.72 7.72c-.78.78-.78 2.05 0 2.83L4 21.41c.39.39.9.59 1.41.59.51 0 1.02-.2 1.41-.59l7.78-7.78 2.81-2.81c.8-.78.8-2.07 0-2.86zM5.41 20L4 18.59l7.72-7.72 1.47 1.35L5.41 20z\"/>\n",
              "  </svg>\n",
              "      </button>\n",
              "      \n",
              "  <style>\n",
              "    .colab-df-container {\n",
              "      display:flex;\n",
              "      flex-wrap:wrap;\n",
              "      gap: 12px;\n",
              "    }\n",
              "\n",
              "    .colab-df-convert {\n",
              "      background-color: #E8F0FE;\n",
              "      border: none;\n",
              "      border-radius: 50%;\n",
              "      cursor: pointer;\n",
              "      display: none;\n",
              "      fill: #1967D2;\n",
              "      height: 32px;\n",
              "      padding: 0 0 0 0;\n",
              "      width: 32px;\n",
              "    }\n",
              "\n",
              "    .colab-df-convert:hover {\n",
              "      background-color: #E2EBFA;\n",
              "      box-shadow: 0px 1px 2px rgba(60, 64, 67, 0.3), 0px 1px 3px 1px rgba(60, 64, 67, 0.15);\n",
              "      fill: #174EA6;\n",
              "    }\n",
              "\n",
              "    [theme=dark] .colab-df-convert {\n",
              "      background-color: #3B4455;\n",
              "      fill: #D2E3FC;\n",
              "    }\n",
              "\n",
              "    [theme=dark] .colab-df-convert:hover {\n",
              "      background-color: #434B5C;\n",
              "      box-shadow: 0px 1px 3px 1px rgba(0, 0, 0, 0.15);\n",
              "      filter: drop-shadow(0px 1px 2px rgba(0, 0, 0, 0.3));\n",
              "      fill: #FFFFFF;\n",
              "    }\n",
              "  </style>\n",
              "\n",
              "      <script>\n",
              "        const buttonEl =\n",
              "          document.querySelector('#df-260cc158-497d-496d-962e-9d130d1fb2b0 button.colab-df-convert');\n",
              "        buttonEl.style.display =\n",
              "          google.colab.kernel.accessAllowed ? 'block' : 'none';\n",
              "\n",
              "        async function convertToInteractive(key) {\n",
              "          const element = document.querySelector('#df-260cc158-497d-496d-962e-9d130d1fb2b0');\n",
              "          const dataTable =\n",
              "            await google.colab.kernel.invokeFunction('convertToInteractive',\n",
              "                                                     [key], {});\n",
              "          if (!dataTable) return;\n",
              "\n",
              "          const docLinkHtml = 'Like what you see? Visit the ' +\n",
              "            '<a target=\"_blank\" href=https://colab.research.google.com/notebooks/data_table.ipynb>data table notebook</a>'\n",
              "            + ' to learn more about interactive tables.';\n",
              "          element.innerHTML = '';\n",
              "          dataTable['output_type'] = 'display_data';\n",
              "          await google.colab.output.renderOutput(dataTable, element);\n",
              "          const docLink = document.createElement('div');\n",
              "          docLink.innerHTML = docLinkHtml;\n",
              "          element.appendChild(docLink);\n",
              "        }\n",
              "      </script>\n",
              "    </div>\n",
              "  </div>\n",
              "  "
            ],
            "text/plain": [
              "  weekday    city  visitors  signups\n",
              "0     Sun  Austin       139        7\n",
              "1     Sun  Dallas       237       12\n",
              "2     Mon  Austin       326        3\n",
              "3     Mon  Dallas       456        5"
            ]
          },
          "execution_count": 12,
          "metadata": {},
          "output_type": "execute_result"
        }
      ],
      "source": [
        "users"
      ]
    },
    {
      "cell_type": "code",
      "execution_count": null,
      "metadata": {
        "colab": {
          "base_uri": "https://localhost:8080/",
          "height": 290
        },
        "id": "ber8xEXNNPA9",
        "outputId": "fde66f75-d6df-4ab4-cf2b-c9e7f76ccd37"
      },
      "outputs": [
        {
          "data": {
            "image/png": "[encoded data removed]",
            "text/plain": [
              "<Figure size 432x288 with 1 Axes>"
            ]
          },
          "metadata": {
            "needs_background": "light"
          },
          "output_type": "display_data"
        }
      ],
      "source": [
        "import matplotlib.pyplot as plt\n",
        "users.set_index('weekday',inplace= True)\n",
        "users.plot(kind= 'bar')\n",
        "plt.show()"
      ]
    },
    {
      "cell_type": "code",
      "execution_count": null,
      "metadata": {
        "colab": {
          "base_uri": "https://localhost:8080/",
          "height": 143
        },
        "id": "apIxQBvnDC9e",
        "outputId": "73c4078c-2c46-4347-d3ad-016e6337c49d"
      },
      "outputs": [
        {
          "data": {
            "text/html": [
              "\n",
              "  <div id=\"df-4bd77a8e-c28c-4328-a3ac-9cf70b70669c\">\n",
              "    <div class=\"colab-df-container\">\n",
              "      <div>\n",
              "<style scoped>\n",
              "    .dataframe tbody tr th:only-of-type {\n",
              "        vertical-align: middle;\n",
              "    }\n",
              "\n",
              "    .dataframe tbody tr th {\n",
              "        vertical-align: top;\n",
              "    }\n",
              "\n",
              "    .dataframe thead th {\n",
              "        text-align: right;\n",
              "    }\n",
              "</style>\n",
              "<table border=\"1\" class=\"dataframe\">\n",
              "  <thead>\n",
              "    <tr style=\"text-align: right;\">\n",
              "      <th>city</th>\n",
              "      <th>Austin</th>\n",
              "      <th>Dallas</th>\n",
              "    </tr>\n",
              "    <tr>\n",
              "      <th>weekday</th>\n",
              "      <th></th>\n",
              "      <th></th>\n",
              "    </tr>\n",
              "  </thead>\n",
              "  <tbody>\n",
              "    <tr>\n",
              "      <th>Mon</th>\n",
              "      <td>326</td>\n",
              "      <td>456</td>\n",
              "    </tr>\n",
              "    <tr>\n",
              "      <th>Sun</th>\n",
              "      <td>139</td>\n",
              "      <td>237</td>\n",
              "    </tr>\n",
              "  </tbody>\n",
              "</table>\n",
              "</div>\n",
              "      <button class=\"colab-df-convert\" onclick=\"convertToInteractive('df-4bd77a8e-c28c-4328-a3ac-9cf70b70669c')\"\n",
              "              title=\"Convert this dataframe to an interactive table.\"\n",
              "              style=\"display:none;\">\n",
              "        \n",
              "  <svg xmlns=\"http://www.w3.org/2000/svg\" height=\"24px\"viewBox=\"0 0 24 24\"\n",
              "       width=\"24px\">\n",
              "    <path d=\"M0 0h24v24H0V0z\" fill=\"none\"/>\n",
              "    <path d=\"M18.56 5.44l.94 2.06.94-2.06 2.06-.94-2.06-.94-.94-2.06-.94 2.06-2.06.94zm-11 1L8.5 8.5l.94-2.06 2.06-.94-2.06-.94L8.5 2.5l-.94 2.06-2.06.94zm10 10l.94 2.06.94-2.06 2.06-.94-2.06-.94-.94-2.06-.94 2.06-2.06.94z\"/><path d=\"M17.41 7.96l-1.37-1.37c-.4-.4-.92-.59-1.43-.59-.52 0-1.04.2-1.43.59L10.3 9.45l-7.72 7.72c-.78.78-.78 2.05 0 2.83L4 21.41c.39.39.9.59 1.41.59.51 0 1.02-.2 1.41-.59l7.78-7.78 2.81-2.81c.8-.78.8-2.07 0-2.86zM5.41 20L4 18.59l7.72-7.72 1.47 1.35L5.41 20z\"/>\n",
              "  </svg>\n",
              "      </button>\n",
              "      \n",
              "  <style>\n",
              "    .colab-df-container {\n",
              "      display:flex;\n",
              "      flex-wrap:wrap;\n",
              "      gap: 12px;\n",
              "    }\n",
              "\n",
              "    .colab-df-convert {\n",
              "      background-color: #E8F0FE;\n",
              "      border: none;\n",
              "      border-radius: 50%;\n",
              "      cursor: pointer;\n",
              "      display: none;\n",
              "      fill: #1967D2;\n",
              "      height: 32px;\n",
              "      padding: 0 0 0 0;\n",
              "      width: 32px;\n",
              "    }\n",
              "\n",
              "    .colab-df-convert:hover {\n",
              "      background-color: #E2EBFA;\n",
              "      box-shadow: 0px 1px 2px rgba(60, 64, 67, 0.3), 0px 1px 3px 1px rgba(60, 64, 67, 0.15);\n",
              "      fill: #174EA6;\n",
              "    }\n",
              "\n",
              "    [theme=dark] .colab-df-convert {\n",
              "      background-color: #3B4455;\n",
              "      fill: #D2E3FC;\n",
              "    }\n",
              "\n",
              "    [theme=dark] .colab-df-convert:hover {\n",
              "      background-color: #434B5C;\n",
              "      box-shadow: 0px 1px 3px 1px rgba(0, 0, 0, 0.15);\n",
              "      filter: drop-shadow(0px 1px 2px rgba(0, 0, 0, 0.3));\n",
              "      fill: #FFFFFF;\n",
              "    }\n",
              "  </style>\n",
              "\n",
              "      <script>\n",
              "        const buttonEl =\n",
              "          document.querySelector('#df-4bd77a8e-c28c-4328-a3ac-9cf70b70669c button.colab-df-convert');\n",
              "        buttonEl.style.display =\n",
              "          google.colab.kernel.accessAllowed ? 'block' : 'none';\n",
              "\n",
              "        async function convertToInteractive(key) {\n",
              "          const element = document.querySelector('#df-4bd77a8e-c28c-4328-a3ac-9cf70b70669c');\n",
              "          const dataTable =\n",
              "            await google.colab.kernel.invokeFunction('convertToInteractive',\n",
              "                                                     [key], {});\n",
              "          if (!dataTable) return;\n",
              "\n",
              "          const docLinkHtml = 'Like what you see? Visit the ' +\n",
              "            '<a target=\"_blank\" href=https://colab.research.google.com/notebooks/data_table.ipynb>data table notebook</a>'\n",
              "            + ' to learn more about interactive tables.';\n",
              "          element.innerHTML = '';\n",
              "          dataTable['output_type'] = 'display_data';\n",
              "          await google.colab.output.renderOutput(dataTable, element);\n",
              "          const docLink = document.createElement('div');\n",
              "          docLink.innerHTML = docLinkHtml;\n",
              "          element.appendChild(docLink);\n",
              "        }\n",
              "      </script>\n",
              "    </div>\n",
              "  </div>\n",
              "  "
            ],
            "text/plain": [
              "city     Austin  Dallas\n",
              "weekday                \n",
              "Mon         326     456\n",
              "Sun         139     237"
            ]
          },
          "execution_count": 18,
          "metadata": {},
          "output_type": "execute_result"
        }
      ],
      "source": [
        "visitor_pivot = users.pivot(columns='city', values='visitors')\n",
        "visitor_pivot\n"
      ]
    },
    {
      "cell_type": "code",
      "execution_count": null,
      "metadata": {
        "colab": {
          "base_uri": "https://localhost:8080/",
          "height": 290
        },
        "id": "CarY3LO2DC5D",
        "outputId": "b096f9da-adcd-4b6a-fe6c-9137d84d6c9a"
      },
      "outputs": [
        {
          "data": {
            "image/png": "[encoded data removed]",
            "text/plain": [
              "<Figure size 432x288 with 1 Axes>"
            ]
          },
          "metadata": {
            "needs_background": "light"
          },
          "output_type": "display_data"
        }
      ],
      "source": [
        "visitor_pivot.plot(kind='bar')\n",
        "plt.show()"
      ]
    },
    {
      "cell_type": "code",
      "execution_count": null,
      "metadata": {
        "colab": {
          "base_uri": "https://localhost:8080/",
          "height": 175
        },
        "id": "uAwclD0KDC3P",
        "outputId": "b0cf6593-fae6-4f6c-8010-f0133d031cd9"
      },
      "outputs": [
        {
          "data": {
            "text/html": [
              "\n",
              "  <div id=\"df-4936aadc-1eaa-409e-99c9-f39e4b703e4f\">\n",
              "    <div class=\"colab-df-container\">\n",
              "      <div>\n",
              "<style scoped>\n",
              "    .dataframe tbody tr th:only-of-type {\n",
              "        vertical-align: middle;\n",
              "    }\n",
              "\n",
              "    .dataframe tbody tr th {\n",
              "        vertical-align: top;\n",
              "    }\n",
              "\n",
              "    .dataframe thead tr th {\n",
              "        text-align: left;\n",
              "    }\n",
              "\n",
              "    .dataframe thead tr:last-of-type th {\n",
              "        text-align: right;\n",
              "    }\n",
              "</style>\n",
              "<table border=\"1\" class=\"dataframe\">\n",
              "  <thead>\n",
              "    <tr>\n",
              "      <th></th>\n",
              "      <th colspan=\"2\" halign=\"left\">visitors</th>\n",
              "      <th colspan=\"2\" halign=\"left\">signups</th>\n",
              "    </tr>\n",
              "    <tr>\n",
              "      <th>city</th>\n",
              "      <th>Austin</th>\n",
              "      <th>Dallas</th>\n",
              "      <th>Austin</th>\n",
              "      <th>Dallas</th>\n",
              "    </tr>\n",
              "    <tr>\n",
              "      <th>weekday</th>\n",
              "      <th></th>\n",
              "      <th></th>\n",
              "      <th></th>\n",
              "      <th></th>\n",
              "    </tr>\n",
              "  </thead>\n",
              "  <tbody>\n",
              "    <tr>\n",
              "      <th>Mon</th>\n",
              "      <td>326</td>\n",
              "      <td>456</td>\n",
              "      <td>3</td>\n",
              "      <td>5</td>\n",
              "    </tr>\n",
              "    <tr>\n",
              "      <th>Sun</th>\n",
              "      <td>139</td>\n",
              "      <td>237</td>\n",
              "      <td>7</td>\n",
              "      <td>12</td>\n",
              "    </tr>\n",
              "  </tbody>\n",
              "</table>\n",
              "</div>\n",
              "      <button class=\"colab-df-convert\" onclick=\"convertToInteractive('df-4936aadc-1eaa-409e-99c9-f39e4b703e4f')\"\n",
              "              title=\"Convert this dataframe to an interactive table.\"\n",
              "              style=\"display:none;\">\n",
              "        \n",
              "  <svg xmlns=\"http://www.w3.org/2000/svg\" height=\"24px\"viewBox=\"0 0 24 24\"\n",
              "       width=\"24px\">\n",
              "    <path d=\"M0 0h24v24H0V0z\" fill=\"none\"/>\n",
              "    <path d=\"M18.56 5.44l.94 2.06.94-2.06 2.06-.94-2.06-.94-.94-2.06-.94 2.06-2.06.94zm-11 1L8.5 8.5l.94-2.06 2.06-.94-2.06-.94L8.5 2.5l-.94 2.06-2.06.94zm10 10l.94 2.06.94-2.06 2.06-.94-2.06-.94-.94-2.06-.94 2.06-2.06.94z\"/><path d=\"M17.41 7.96l-1.37-1.37c-.4-.4-.92-.59-1.43-.59-.52 0-1.04.2-1.43.59L10.3 9.45l-7.72 7.72c-.78.78-.78 2.05 0 2.83L4 21.41c.39.39.9.59 1.41.59.51 0 1.02-.2 1.41-.59l7.78-7.78 2.81-2.81c.8-.78.8-2.07 0-2.86zM5.41 20L4 18.59l7.72-7.72 1.47 1.35L5.41 20z\"/>\n",
              "  </svg>\n",
              "      </button>\n",
              "      \n",
              "  <style>\n",
              "    .colab-df-container {\n",
              "      display:flex;\n",
              "      flex-wrap:wrap;\n",
              "      gap: 12px;\n",
              "    }\n",
              "\n",
              "    .colab-df-convert {\n",
              "      background-color: #E8F0FE;\n",
              "      border: none;\n",
              "      border-radius: 50%;\n",
              "      cursor: pointer;\n",
              "      display: none;\n",
              "      fill: #1967D2;\n",
              "      height: 32px;\n",
              "      padding: 0 0 0 0;\n",
              "      width: 32px;\n",
              "    }\n",
              "\n",
              "    .colab-df-convert:hover {\n",
              "      background-color: #E2EBFA;\n",
              "      box-shadow: 0px 1px 2px rgba(60, 64, 67, 0.3), 0px 1px 3px 1px rgba(60, 64, 67, 0.15);\n",
              "      fill: #174EA6;\n",
              "    }\n",
              "\n",
              "    [theme=dark] .colab-df-convert {\n",
              "      background-color: #3B4455;\n",
              "      fill: #D2E3FC;\n",
              "    }\n",
              "\n",
              "    [theme=dark] .colab-df-convert:hover {\n",
              "      background-color: #434B5C;\n",
              "      box-shadow: 0px 1px 3px 1px rgba(0, 0, 0, 0.15);\n",
              "      filter: drop-shadow(0px 1px 2px rgba(0, 0, 0, 0.3));\n",
              "      fill: #FFFFFF;\n",
              "    }\n",
              "  </style>\n",
              "\n",
              "      <script>\n",
              "        const buttonEl =\n",
              "          document.querySelector('#df-4936aadc-1eaa-409e-99c9-f39e4b703e4f button.colab-df-convert');\n",
              "        buttonEl.style.display =\n",
              "          google.colab.kernel.accessAllowed ? 'block' : 'none';\n",
              "\n",
              "        async function convertToInteractive(key) {\n",
              "          const element = document.querySelector('#df-4936aadc-1eaa-409e-99c9-f39e4b703e4f');\n",
              "          const dataTable =\n",
              "            await google.colab.kernel.invokeFunction('convertToInteractive',\n",
              "                                                     [key], {});\n",
              "          if (!dataTable) return;\n",
              "\n",
              "          const docLinkHtml = 'Like what you see? Visit the ' +\n",
              "            '<a target=\"_blank\" href=https://colab.research.google.com/notebooks/data_table.ipynb>data table notebook</a>'\n",
              "            + ' to learn more about interactive tables.';\n",
              "          element.innerHTML = '';\n",
              "          dataTable['output_type'] = 'display_data';\n",
              "          await google.colab.output.renderOutput(dataTable, element);\n",
              "          const docLink = document.createElement('div');\n",
              "          docLink.innerHTML = docLinkHtml;\n",
              "          element.appendChild(docLink);\n",
              "        }\n",
              "      </script>\n",
              "    </div>\n",
              "  </div>\n",
              "  "
            ],
            "text/plain": [
              "        visitors        signups       \n",
              "city      Austin Dallas  Austin Dallas\n",
              "weekday                               \n",
              "Mon          326    456       3      5\n",
              "Sun          139    237       7     12"
            ]
          },
          "execution_count": 20,
          "metadata": {},
          "output_type": "execute_result"
        }
      ],
      "source": [
        "visitor_signup = users.pivot(columns='city')\n",
        "visitor_signup"
      ]
    },
    {
      "cell_type": "code",
      "execution_count": null,
      "metadata": {
        "colab": {
          "base_uri": "https://localhost:8080/",
          "height": 290
        },
        "id": "da0GridbDC1M",
        "outputId": "ce4dcae9-8576-4648-f1e7-d2b19d3b79b6"
      },
      "outputs": [
        {
          "data": {
            "image/png": "[encoded data removed]",
            "text/plain": [
              "<Figure size 432x288 with 1 Axes>"
            ]
          },
          "metadata": {
            "needs_background": "light"
          },
          "output_type": "display_data"
        }
      ],
      "source": [
        "visitor_signup['visitors'].plot(kind='bar')\n",
        "plt.show()"
      ]
    },
    {
      "cell_type": "code",
      "execution_count": null,
      "metadata": {
        "id": "yRp6GD4oDCxO"
      },
      "outputs": [],
      "source": [
        "# df.value_counts(normalize=True) #---------gives percentage of count values "
      ]
    },
    {
      "cell_type": "markdown",
      "metadata": {
        "id": "iWxoo-vRRX3L"
      },
      "source": [
        "#### Merge & Append"
      ]
    },
    {
      "cell_type": "code",
      "execution_count": null,
      "metadata": {
        "id": "j7pUwEpFcuKF"
      },
      "outputs": [],
      "source": [
        "import pandas as pd\n",
        "import matplotlib.pyplot as plt\n",
        "import numpy as np"
      ]
    },
    {
      "cell_type": "code",
      "execution_count": null,
      "metadata": {
        "id": "QQPNxkCwO8Ad"
      },
      "outputs": [],
      "source": [
        "# read the sheets from file 'sales_returns.xlsx' into 2 different dataframes - orders and returns\n",
        "\n",
        "orders = pd.read_excel(\"sales_returns.xlsx\", sheet_name = 'Orders')\n",
        "returns = pd.read_excel(\"sales_returns.xlsx\", sheet_name = 'Returns')"
      ]
    },
    {
      "cell_type": "code",
      "execution_count": null,
      "metadata": {
        "colab": {
          "base_uri": "https://localhost:8080/"
        },
        "id": "ODm0IOPNSfai",
        "outputId": "bc2b6f0f-f24a-4fa6-fec3-e82ea27c6367"
      },
      "outputs": [
        {
          "data": {
            "text/plain": [
              "(25728, 4)"
            ]
          },
          "execution_count": 32,
          "metadata": {},
          "output_type": "execute_result"
        }
      ],
      "source": [
        "# Check the shape of the dataframe 'orders'\n",
        "orders.shape"
      ]
    },
    {
      "cell_type": "code",
      "execution_count": null,
      "metadata": {
        "colab": {
          "base_uri": "https://localhost:8080/"
        },
        "id": "sA1liqkvSime",
        "outputId": "2b5d9a21-eeb2-45b4-bdfe-34503db39a2c"
      },
      "outputs": [
        {
          "data": {
            "text/plain": [
              "(1079, 2)"
            ]
          },
          "execution_count": 33,
          "metadata": {},
          "output_type": "execute_result"
        }
      ],
      "source": [
        "# Check the shape of the dataframe 'returns'\n",
        "returns.shape"
      ]
    },
    {
      "cell_type": "code",
      "execution_count": null,
      "metadata": {
        "colab": {
          "base_uri": "https://localhost:8080/",
          "height": 206
        },
        "id": "b2SmyD1DSowS",
        "outputId": "8620c854-59f6-4c35-cb09-b0cd75096e26"
      },
      "outputs": [
        {
          "data": {
            "text/html": [
              "\n",
              "  <div id=\"df-7fef36bd-fb89-4ad2-bccb-36746d35f446\">\n",
              "    <div class=\"colab-df-container\">\n",
              "      <div>\n",
              "<style scoped>\n",
              "    .dataframe tbody tr th:only-of-type {\n",
              "        vertical-align: middle;\n",
              "    }\n",
              "\n",
              "    .dataframe tbody tr th {\n",
              "        vertical-align: top;\n",
              "    }\n",
              "\n",
              "    .dataframe thead th {\n",
              "        text-align: right;\n",
              "    }\n",
              "</style>\n",
              "<table border=\"1\" class=\"dataframe\">\n",
              "  <thead>\n",
              "    <tr style=\"text-align: right;\">\n",
              "      <th></th>\n",
              "      <th>Order ID</th>\n",
              "      <th>Market</th>\n",
              "      <th>Profit</th>\n",
              "      <th>Sales</th>\n",
              "    </tr>\n",
              "  </thead>\n",
              "  <tbody>\n",
              "    <tr>\n",
              "      <th>0</th>\n",
              "      <td>AG-2012-AA6453-41020</td>\n",
              "      <td>Africa</td>\n",
              "      <td>53.76</td>\n",
              "      <td>298.68</td>\n",
              "    </tr>\n",
              "    <tr>\n",
              "      <th>1</th>\n",
              "      <td>AG-2012-AC4203-40915</td>\n",
              "      <td>Africa</td>\n",
              "      <td>14.58</td>\n",
              "      <td>91.38</td>\n",
              "    </tr>\n",
              "    <tr>\n",
              "      <th>2</th>\n",
              "      <td>AG-2012-AH2103-41133</td>\n",
              "      <td>Africa</td>\n",
              "      <td>11.04</td>\n",
              "      <td>276.96</td>\n",
              "    </tr>\n",
              "    <tr>\n",
              "      <th>3</th>\n",
              "      <td>AG-2012-AJ7803-40978</td>\n",
              "      <td>Africa</td>\n",
              "      <td>7.17</td>\n",
              "      <td>35.97</td>\n",
              "    </tr>\n",
              "    <tr>\n",
              "      <th>4</th>\n",
              "      <td>AG-2012-AS2853-41235</td>\n",
              "      <td>Africa</td>\n",
              "      <td>15.36</td>\n",
              "      <td>54.90</td>\n",
              "    </tr>\n",
              "  </tbody>\n",
              "</table>\n",
              "</div>\n",
              "      <button class=\"colab-df-convert\" onclick=\"convertToInteractive('df-7fef36bd-fb89-4ad2-bccb-36746d35f446')\"\n",
              "              title=\"Convert this dataframe to an interactive table.\"\n",
              "              style=\"display:none;\">\n",
              "        \n",
              "  <svg xmlns=\"http://www.w3.org/2000/svg\" height=\"24px\"viewBox=\"0 0 24 24\"\n",
              "       width=\"24px\">\n",
              "    <path d=\"M0 0h24v24H0V0z\" fill=\"none\"/>\n",
              "    <path d=\"M18.56 5.44l.94 2.06.94-2.06 2.06-.94-2.06-.94-.94-2.06-.94 2.06-2.06.94zm-11 1L8.5 8.5l.94-2.06 2.06-.94-2.06-.94L8.5 2.5l-.94 2.06-2.06.94zm10 10l.94 2.06.94-2.06 2.06-.94-2.06-.94-.94-2.06-.94 2.06-2.06.94z\"/><path d=\"M17.41 7.96l-1.37-1.37c-.4-.4-.92-.59-1.43-.59-.52 0-1.04.2-1.43.59L10.3 9.45l-7.72 7.72c-.78.78-.78 2.05 0 2.83L4 21.41c.39.39.9.59 1.41.59.51 0 1.02-.2 1.41-.59l7.78-7.78 2.81-2.81c.8-.78.8-2.07 0-2.86zM5.41 20L4 18.59l7.72-7.72 1.47 1.35L5.41 20z\"/>\n",
              "  </svg>\n",
              "      </button>\n",
              "      \n",
              "  <style>\n",
              "    .colab-df-container {\n",
              "      display:flex;\n",
              "      flex-wrap:wrap;\n",
              "      gap: 12px;\n",
              "    }\n",
              "\n",
              "    .colab-df-convert {\n",
              "      background-color: #E8F0FE;\n",
              "      border: none;\n",
              "      border-radius: 50%;\n",
              "      cursor: pointer;\n",
              "      display: none;\n",
              "      fill: #1967D2;\n",
              "      height: 32px;\n",
              "      padding: 0 0 0 0;\n",
              "      width: 32px;\n",
              "    }\n",
              "\n",
              "    .colab-df-convert:hover {\n",
              "      background-color: #E2EBFA;\n",
              "      box-shadow: 0px 1px 2px rgba(60, 64, 67, 0.3), 0px 1px 3px 1px rgba(60, 64, 67, 0.15);\n",
              "      fill: #174EA6;\n",
              "    }\n",
              "\n",
              "    [theme=dark] .colab-df-convert {\n",
              "      background-color: #3B4455;\n",
              "      fill: #D2E3FC;\n",
              "    }\n",
              "\n",
              "    [theme=dark] .colab-df-convert:hover {\n",
              "      background-color: #434B5C;\n",
              "      box-shadow: 0px 1px 3px 1px rgba(0, 0, 0, 0.15);\n",
              "      filter: drop-shadow(0px 1px 2px rgba(0, 0, 0, 0.3));\n",
              "      fill: #FFFFFF;\n",
              "    }\n",
              "  </style>\n",
              "\n",
              "      <script>\n",
              "        const buttonEl =\n",
              "          document.querySelector('#df-7fef36bd-fb89-4ad2-bccb-36746d35f446 button.colab-df-convert');\n",
              "        buttonEl.style.display =\n",
              "          google.colab.kernel.accessAllowed ? 'block' : 'none';\n",
              "\n",
              "        async function convertToInteractive(key) {\n",
              "          const element = document.querySelector('#df-7fef36bd-fb89-4ad2-bccb-36746d35f446');\n",
              "          const dataTable =\n",
              "            await google.colab.kernel.invokeFunction('convertToInteractive',\n",
              "                                                     [key], {});\n",
              "          if (!dataTable) return;\n",
              "\n",
              "          const docLinkHtml = 'Like what you see? Visit the ' +\n",
              "            '<a target=\"_blank\" href=https://colab.research.google.com/notebooks/data_table.ipynb>data table notebook</a>'\n",
              "            + ' to learn more about interactive tables.';\n",
              "          element.innerHTML = '';\n",
              "          dataTable['output_type'] = 'display_data';\n",
              "          await google.colab.output.renderOutput(dataTable, element);\n",
              "          const docLink = document.createElement('div');\n",
              "          docLink.innerHTML = docLinkHtml;\n",
              "          element.appendChild(docLink);\n",
              "        }\n",
              "      </script>\n",
              "    </div>\n",
              "  </div>\n",
              "  "
            ],
            "text/plain": [
              "               Order ID  Market  Profit   Sales\n",
              "0  AG-2012-AA6453-41020  Africa   53.76  298.68\n",
              "1  AG-2012-AC4203-40915  Africa   14.58   91.38\n",
              "2  AG-2012-AH2103-41133  Africa   11.04  276.96\n",
              "3  AG-2012-AJ7803-40978  Africa    7.17   35.97\n",
              "4  AG-2012-AS2853-41235  Africa   15.36   54.90"
            ]
          },
          "execution_count": 34,
          "metadata": {},
          "output_type": "execute_result"
        }
      ],
      "source": [
        "orders.head()"
      ]
    },
    {
      "cell_type": "code",
      "execution_count": null,
      "metadata": {
        "colab": {
          "base_uri": "https://localhost:8080/",
          "height": 206
        },
        "id": "aC3Eg7rWSyr1",
        "outputId": "47541745-78f6-4275-ede9-4697ab793d08"
      },
      "outputs": [
        {
          "data": {
            "text/html": [
              "\n",
              "  <div id=\"df-9d7e64e1-4637-4ef1-a98a-5628edab5b07\">\n",
              "    <div class=\"colab-df-container\">\n",
              "      <div>\n",
              "<style scoped>\n",
              "    .dataframe tbody tr th:only-of-type {\n",
              "        vertical-align: middle;\n",
              "    }\n",
              "\n",
              "    .dataframe tbody tr th {\n",
              "        vertical-align: top;\n",
              "    }\n",
              "\n",
              "    .dataframe thead th {\n",
              "        text-align: right;\n",
              "    }\n",
              "</style>\n",
              "<table border=\"1\" class=\"dataframe\">\n",
              "  <thead>\n",
              "    <tr style=\"text-align: right;\">\n",
              "      <th></th>\n",
              "      <th>Returned</th>\n",
              "      <th>Order ID</th>\n",
              "    </tr>\n",
              "  </thead>\n",
              "  <tbody>\n",
              "    <tr>\n",
              "      <th>0</th>\n",
              "      <td>Yes</td>\n",
              "      <td>CA-2012-SA20830140-41210</td>\n",
              "    </tr>\n",
              "    <tr>\n",
              "      <th>1</th>\n",
              "      <td>Yes</td>\n",
              "      <td>IN-2012-PB19210127-41259</td>\n",
              "    </tr>\n",
              "    <tr>\n",
              "      <th>2</th>\n",
              "      <td>Yes</td>\n",
              "      <td>CA-2012-SC20095140-41174</td>\n",
              "    </tr>\n",
              "    <tr>\n",
              "      <th>3</th>\n",
              "      <td>Yes</td>\n",
              "      <td>IN-2015-JH158207-42140</td>\n",
              "    </tr>\n",
              "    <tr>\n",
              "      <th>4</th>\n",
              "      <td>Yes</td>\n",
              "      <td>IN-2014-LC168857-41747</td>\n",
              "    </tr>\n",
              "  </tbody>\n",
              "</table>\n",
              "</div>\n",
              "      <button class=\"colab-df-convert\" onclick=\"convertToInteractive('df-9d7e64e1-4637-4ef1-a98a-5628edab5b07')\"\n",
              "              title=\"Convert this dataframe to an interactive table.\"\n",
              "              style=\"display:none;\">\n",
              "        \n",
              "  <svg xmlns=\"http://www.w3.org/2000/svg\" height=\"24px\"viewBox=\"0 0 24 24\"\n",
              "       width=\"24px\">\n",
              "    <path d=\"M0 0h24v24H0V0z\" fill=\"none\"/>\n",
              "    <path d=\"M18.56 5.44l.94 2.06.94-2.06 2.06-.94-2.06-.94-.94-2.06-.94 2.06-2.06.94zm-11 1L8.5 8.5l.94-2.06 2.06-.94-2.06-.94L8.5 2.5l-.94 2.06-2.06.94zm10 10l.94 2.06.94-2.06 2.06-.94-2.06-.94-.94-2.06-.94 2.06-2.06.94z\"/><path d=\"M17.41 7.96l-1.37-1.37c-.4-.4-.92-.59-1.43-.59-.52 0-1.04.2-1.43.59L10.3 9.45l-7.72 7.72c-.78.78-.78 2.05 0 2.83L4 21.41c.39.39.9.59 1.41.59.51 0 1.02-.2 1.41-.59l7.78-7.78 2.81-2.81c.8-.78.8-2.07 0-2.86zM5.41 20L4 18.59l7.72-7.72 1.47 1.35L5.41 20z\"/>\n",
              "  </svg>\n",
              "      </button>\n",
              "      \n",
              "  <style>\n",
              "    .colab-df-container {\n",
              "      display:flex;\n",
              "      flex-wrap:wrap;\n",
              "      gap: 12px;\n",
              "    }\n",
              "\n",
              "    .colab-df-convert {\n",
              "      background-color: #E8F0FE;\n",
              "      border: none;\n",
              "      border-radius: 50%;\n",
              "      cursor: pointer;\n",
              "      display: none;\n",
              "      fill: #1967D2;\n",
              "      height: 32px;\n",
              "      padding: 0 0 0 0;\n",
              "      width: 32px;\n",
              "    }\n",
              "\n",
              "    .colab-df-convert:hover {\n",
              "      background-color: #E2EBFA;\n",
              "      box-shadow: 0px 1px 2px rgba(60, 64, 67, 0.3), 0px 1px 3px 1px rgba(60, 64, 67, 0.15);\n",
              "      fill: #174EA6;\n",
              "    }\n",
              "\n",
              "    [theme=dark] .colab-df-convert {\n",
              "      background-color: #3B4455;\n",
              "      fill: #D2E3FC;\n",
              "    }\n",
              "\n",
              "    [theme=dark] .colab-df-convert:hover {\n",
              "      background-color: #434B5C;\n",
              "      box-shadow: 0px 1px 3px 1px rgba(0, 0, 0, 0.15);\n",
              "      filter: drop-shadow(0px 1px 2px rgba(0, 0, 0, 0.3));\n",
              "      fill: #FFFFFF;\n",
              "    }\n",
              "  </style>\n",
              "\n",
              "      <script>\n",
              "        const buttonEl =\n",
              "          document.querySelector('#df-9d7e64e1-4637-4ef1-a98a-5628edab5b07 button.colab-df-convert');\n",
              "        buttonEl.style.display =\n",
              "          google.colab.kernel.accessAllowed ? 'block' : 'none';\n",
              "\n",
              "        async function convertToInteractive(key) {\n",
              "          const element = document.querySelector('#df-9d7e64e1-4637-4ef1-a98a-5628edab5b07');\n",
              "          const dataTable =\n",
              "            await google.colab.kernel.invokeFunction('convertToInteractive',\n",
              "                                                     [key], {});\n",
              "          if (!dataTable) return;\n",
              "\n",
              "          const docLinkHtml = 'Like what you see? Visit the ' +\n",
              "            '<a target=\"_blank\" href=https://colab.research.google.com/notebooks/data_table.ipynb>data table notebook</a>'\n",
              "            + ' to learn more about interactive tables.';\n",
              "          element.innerHTML = '';\n",
              "          dataTable['output_type'] = 'display_data';\n",
              "          await google.colab.output.renderOutput(dataTable, element);\n",
              "          const docLink = document.createElement('div');\n",
              "          docLink.innerHTML = docLinkHtml;\n",
              "          element.appendChild(docLink);\n",
              "        }\n",
              "      </script>\n",
              "    </div>\n",
              "  </div>\n",
              "  "
            ],
            "text/plain": [
              "  Returned                  Order ID\n",
              "0      Yes  CA-2012-SA20830140-41210\n",
              "1      Yes  IN-2012-PB19210127-41259\n",
              "2      Yes  CA-2012-SC20095140-41174\n",
              "3      Yes    IN-2015-JH158207-42140\n",
              "4      Yes    IN-2014-LC168857-41747"
            ]
          },
          "execution_count": 35,
          "metadata": {},
          "output_type": "execute_result"
        }
      ],
      "source": [
        "returns.head()"
      ]
    },
    {
      "cell_type": "code",
      "execution_count": null,
      "metadata": {
        "colab": {
          "base_uri": "https://localhost:8080/",
          "height": 423
        },
        "id": "RwJVco82S2--",
        "outputId": "6b9cf8a1-2be7-45aa-a898-ecf15679868e"
      },
      "outputs": [
        {
          "data": {
            "text/html": [
              "\n",
              "  <div id=\"df-8251d1b6-711e-4f56-8a91-63e28e5da27c\">\n",
              "    <div class=\"colab-df-container\">\n",
              "      <div>\n",
              "<style scoped>\n",
              "    .dataframe tbody tr th:only-of-type {\n",
              "        vertical-align: middle;\n",
              "    }\n",
              "\n",
              "    .dataframe tbody tr th {\n",
              "        vertical-align: top;\n",
              "    }\n",
              "\n",
              "    .dataframe thead th {\n",
              "        text-align: right;\n",
              "    }\n",
              "</style>\n",
              "<table border=\"1\" class=\"dataframe\">\n",
              "  <thead>\n",
              "    <tr style=\"text-align: right;\">\n",
              "      <th></th>\n",
              "      <th>Order ID</th>\n",
              "      <th>Market</th>\n",
              "      <th>Profit</th>\n",
              "      <th>Sales</th>\n",
              "      <th>Returned</th>\n",
              "    </tr>\n",
              "  </thead>\n",
              "  <tbody>\n",
              "    <tr>\n",
              "      <th>0</th>\n",
              "      <td>AG-2013-PO88653-41634</td>\n",
              "      <td>Africa</td>\n",
              "      <td>191.2500</td>\n",
              "      <td>1932.240</td>\n",
              "      <td>Yes</td>\n",
              "    </tr>\n",
              "    <tr>\n",
              "      <th>1</th>\n",
              "      <td>AG-2014-CM21603-41755</td>\n",
              "      <td>Africa</td>\n",
              "      <td>10.3200</td>\n",
              "      <td>43.050</td>\n",
              "      <td>Yes</td>\n",
              "    </tr>\n",
              "    <tr>\n",
              "      <th>2</th>\n",
              "      <td>AG-2014-CP20853-41889</td>\n",
              "      <td>Africa</td>\n",
              "      <td>14.1000</td>\n",
              "      <td>84.720</td>\n",
              "      <td>Yes</td>\n",
              "    </tr>\n",
              "    <tr>\n",
              "      <th>3</th>\n",
              "      <td>AG-2014-RD95853-41712</td>\n",
              "      <td>Africa</td>\n",
              "      <td>21.0300</td>\n",
              "      <td>64.380</td>\n",
              "      <td>Yes</td>\n",
              "    </tr>\n",
              "    <tr>\n",
              "      <th>4</th>\n",
              "      <td>AO-2013-JE57454-41544</td>\n",
              "      <td>Africa</td>\n",
              "      <td>106.5900</td>\n",
              "      <td>499.230</td>\n",
              "      <td>Yes</td>\n",
              "    </tr>\n",
              "    <tr>\n",
              "      <th>...</th>\n",
              "      <td>...</td>\n",
              "      <td>...</td>\n",
              "      <td>...</td>\n",
              "      <td>...</td>\n",
              "      <td>...</td>\n",
              "    </tr>\n",
              "    <tr>\n",
              "      <th>1074</th>\n",
              "      <td>US-2015-ME17320140-42322</td>\n",
              "      <td>USCA</td>\n",
              "      <td>-24.7086</td>\n",
              "      <td>9.324</td>\n",
              "      <td>Yes</td>\n",
              "    </tr>\n",
              "    <tr>\n",
              "      <th>1075</th>\n",
              "      <td>US-2015-PN18775140-42339</td>\n",
              "      <td>USCA</td>\n",
              "      <td>8.9970</td>\n",
              "      <td>71.976</td>\n",
              "      <td>Yes</td>\n",
              "    </tr>\n",
              "    <tr>\n",
              "      <th>1076</th>\n",
              "      <td>US-2015-RL19615140-42147</td>\n",
              "      <td>USCA</td>\n",
              "      <td>18.8328</td>\n",
              "      <td>49.560</td>\n",
              "      <td>Yes</td>\n",
              "    </tr>\n",
              "    <tr>\n",
              "      <th>1077</th>\n",
              "      <td>US-2015-SC20050140-42278</td>\n",
              "      <td>USCA</td>\n",
              "      <td>-17.4690</td>\n",
              "      <td>11.646</td>\n",
              "      <td>Yes</td>\n",
              "    </tr>\n",
              "    <tr>\n",
              "      <th>1078</th>\n",
              "      <td>US-2015-TT21220140-42186</td>\n",
              "      <td>USCA</td>\n",
              "      <td>100.4255</td>\n",
              "      <td>204.950</td>\n",
              "      <td>Yes</td>\n",
              "    </tr>\n",
              "  </tbody>\n",
              "</table>\n",
              "<p>1079 rows × 5 columns</p>\n",
              "</div>\n",
              "      <button class=\"colab-df-convert\" onclick=\"convertToInteractive('df-8251d1b6-711e-4f56-8a91-63e28e5da27c')\"\n",
              "              title=\"Convert this dataframe to an interactive table.\"\n",
              "              style=\"display:none;\">\n",
              "        \n",
              "  <svg xmlns=\"http://www.w3.org/2000/svg\" height=\"24px\"viewBox=\"0 0 24 24\"\n",
              "       width=\"24px\">\n",
              "    <path d=\"M0 0h24v24H0V0z\" fill=\"none\"/>\n",
              "    <path d=\"M18.56 5.44l.94 2.06.94-2.06 2.06-.94-2.06-.94-.94-2.06-.94 2.06-2.06.94zm-11 1L8.5 8.5l.94-2.06 2.06-.94-2.06-.94L8.5 2.5l-.94 2.06-2.06.94zm10 10l.94 2.06.94-2.06 2.06-.94-2.06-.94-.94-2.06-.94 2.06-2.06.94z\"/><path d=\"M17.41 7.96l-1.37-1.37c-.4-.4-.92-.59-1.43-.59-.52 0-1.04.2-1.43.59L10.3 9.45l-7.72 7.72c-.78.78-.78 2.05 0 2.83L4 21.41c.39.39.9.59 1.41.59.51 0 1.02-.2 1.41-.59l7.78-7.78 2.81-2.81c.8-.78.8-2.07 0-2.86zM5.41 20L4 18.59l7.72-7.72 1.47 1.35L5.41 20z\"/>\n",
              "  </svg>\n",
              "      </button>\n",
              "      \n",
              "  <style>\n",
              "    .colab-df-container {\n",
              "      display:flex;\n",
              "      flex-wrap:wrap;\n",
              "      gap: 12px;\n",
              "    }\n",
              "\n",
              "    .colab-df-convert {\n",
              "      background-color: #E8F0FE;\n",
              "      border: none;\n",
              "      border-radius: 50%;\n",
              "      cursor: pointer;\n",
              "      display: none;\n",
              "      fill: #1967D2;\n",
              "      height: 32px;\n",
              "      padding: 0 0 0 0;\n",
              "      width: 32px;\n",
              "    }\n",
              "\n",
              "    .colab-df-convert:hover {\n",
              "      background-color: #E2EBFA;\n",
              "      box-shadow: 0px 1px 2px rgba(60, 64, 67, 0.3), 0px 1px 3px 1px rgba(60, 64, 67, 0.15);\n",
              "      fill: #174EA6;\n",
              "    }\n",
              "\n",
              "    [theme=dark] .colab-df-convert {\n",
              "      background-color: #3B4455;\n",
              "      fill: #D2E3FC;\n",
              "    }\n",
              "\n",
              "    [theme=dark] .colab-df-convert:hover {\n",
              "      background-color: #434B5C;\n",
              "      box-shadow: 0px 1px 3px 1px rgba(0, 0, 0, 0.15);\n",
              "      filter: drop-shadow(0px 1px 2px rgba(0, 0, 0, 0.3));\n",
              "      fill: #FFFFFF;\n",
              "    }\n",
              "  </style>\n",
              "\n",
              "      <script>\n",
              "        const buttonEl =\n",
              "          document.querySelector('#df-8251d1b6-711e-4f56-8a91-63e28e5da27c button.colab-df-convert');\n",
              "        buttonEl.style.display =\n",
              "          google.colab.kernel.accessAllowed ? 'block' : 'none';\n",
              "\n",
              "        async function convertToInteractive(key) {\n",
              "          const element = document.querySelector('#df-8251d1b6-711e-4f56-8a91-63e28e5da27c');\n",
              "          const dataTable =\n",
              "            await google.colab.kernel.invokeFunction('convertToInteractive',\n",
              "                                                     [key], {});\n",
              "          if (!dataTable) return;\n",
              "\n",
              "          const docLinkHtml = 'Like what you see? Visit the ' +\n",
              "            '<a target=\"_blank\" href=https://colab.research.google.com/notebooks/data_table.ipynb>data table notebook</a>'\n",
              "            + ' to learn more about interactive tables.';\n",
              "          element.innerHTML = '';\n",
              "          dataTable['output_type'] = 'display_data';\n",
              "          await google.colab.output.renderOutput(dataTable, element);\n",
              "          const docLink = document.createElement('div');\n",
              "          docLink.innerHTML = docLinkHtml;\n",
              "          element.appendChild(docLink);\n",
              "        }\n",
              "      </script>\n",
              "    </div>\n",
              "  </div>\n",
              "  "
            ],
            "text/plain": [
              "                      Order ID  Market    Profit     Sales Returned\n",
              "0        AG-2013-PO88653-41634  Africa  191.2500  1932.240      Yes\n",
              "1        AG-2014-CM21603-41755  Africa   10.3200    43.050      Yes\n",
              "2        AG-2014-CP20853-41889  Africa   14.1000    84.720      Yes\n",
              "3        AG-2014-RD95853-41712  Africa   21.0300    64.380      Yes\n",
              "4        AO-2013-JE57454-41544  Africa  106.5900   499.230      Yes\n",
              "...                        ...     ...       ...       ...      ...\n",
              "1074  US-2015-ME17320140-42322    USCA  -24.7086     9.324      Yes\n",
              "1075  US-2015-PN18775140-42339    USCA    8.9970    71.976      Yes\n",
              "1076  US-2015-RL19615140-42147    USCA   18.8328    49.560      Yes\n",
              "1077  US-2015-SC20050140-42278    USCA  -17.4690    11.646      Yes\n",
              "1078  US-2015-TT21220140-42186    USCA  100.4255   204.950      Yes\n",
              "\n",
              "[1079 rows x 5 columns]"
            ]
          },
          "execution_count": 38,
          "metadata": {},
          "output_type": "execute_result"
        }
      ],
      "source": [
        "# Create a dataframe 'return_orders' by merging the two dataframes on Order_ID\n",
        "return_orders = orders.merge(returns, on = 'Order ID')\n",
        "return_orders"
      ]
    },
    {
      "cell_type": "code",
      "execution_count": null,
      "metadata": {
        "colab": {
          "base_uri": "https://localhost:8080/"
        },
        "id": "I5B539l4S27e",
        "outputId": "ccffac42-33f3-4a1e-9b33-aafab9d6ada5"
      },
      "outputs": [
        {
          "data": {
            "text/plain": [
              "(1079, 5)"
            ]
          },
          "execution_count": 39,
          "metadata": {},
          "output_type": "execute_result"
        }
      ],
      "source": [
        "return_orders.shape"
      ]
    },
    {
      "cell_type": "markdown",
      "metadata": {
        "id": "32EszhIVdr7f"
      },
      "source": [
        "left: This will select the entries only in the first dataframe.\n",
        "\n",
        "right: This will consider the entries only in the second dataframe.\n",
        "\n",
        "outer: This takes the union of all the entries in the dataframes.\n",
        "\n",
        "inner: This will result in the intersection of the keys from both frames."
      ]
    },
    {
      "cell_type": "code",
      "execution_count": null,
      "metadata": {
        "colab": {
          "base_uri": "https://localhost:8080/",
          "height": 423
        },
        "id": "iTB13shBdPUs",
        "outputId": "f2b20d94-31e5-43b5-c367-018fa2dbe6bb"
      },
      "outputs": [
        {
          "data": {
            "text/html": [
              "\n",
              "  <div id=\"df-c714d788-27c6-4c24-8602-3904d6452649\">\n",
              "    <div class=\"colab-df-container\">\n",
              "      <div>\n",
              "<style scoped>\n",
              "    .dataframe tbody tr th:only-of-type {\n",
              "        vertical-align: middle;\n",
              "    }\n",
              "\n",
              "    .dataframe tbody tr th {\n",
              "        vertical-align: top;\n",
              "    }\n",
              "\n",
              "    .dataframe thead th {\n",
              "        text-align: right;\n",
              "    }\n",
              "</style>\n",
              "<table border=\"1\" class=\"dataframe\">\n",
              "  <thead>\n",
              "    <tr style=\"text-align: right;\">\n",
              "      <th></th>\n",
              "      <th>Order ID</th>\n",
              "      <th>Market</th>\n",
              "      <th>Profit</th>\n",
              "      <th>Sales</th>\n",
              "      <th>Returned</th>\n",
              "    </tr>\n",
              "  </thead>\n",
              "  <tbody>\n",
              "    <tr>\n",
              "      <th>0</th>\n",
              "      <td>AG-2012-AA6453-41020</td>\n",
              "      <td>Africa</td>\n",
              "      <td>53.7600</td>\n",
              "      <td>298.680</td>\n",
              "      <td>NaN</td>\n",
              "    </tr>\n",
              "    <tr>\n",
              "      <th>1</th>\n",
              "      <td>AG-2012-AC4203-40915</td>\n",
              "      <td>Africa</td>\n",
              "      <td>14.5800</td>\n",
              "      <td>91.380</td>\n",
              "      <td>NaN</td>\n",
              "    </tr>\n",
              "    <tr>\n",
              "      <th>2</th>\n",
              "      <td>AG-2012-AH2103-41133</td>\n",
              "      <td>Africa</td>\n",
              "      <td>11.0400</td>\n",
              "      <td>276.960</td>\n",
              "      <td>NaN</td>\n",
              "    </tr>\n",
              "    <tr>\n",
              "      <th>3</th>\n",
              "      <td>AG-2012-AJ7803-40978</td>\n",
              "      <td>Africa</td>\n",
              "      <td>7.1700</td>\n",
              "      <td>35.970</td>\n",
              "      <td>NaN</td>\n",
              "    </tr>\n",
              "    <tr>\n",
              "      <th>4</th>\n",
              "      <td>AG-2012-AS2853-41235</td>\n",
              "      <td>Africa</td>\n",
              "      <td>15.3600</td>\n",
              "      <td>54.900</td>\n",
              "      <td>NaN</td>\n",
              "    </tr>\n",
              "    <tr>\n",
              "      <th>...</th>\n",
              "      <td>...</td>\n",
              "      <td>...</td>\n",
              "      <td>...</td>\n",
              "      <td>...</td>\n",
              "      <td>...</td>\n",
              "    </tr>\n",
              "    <tr>\n",
              "      <th>25723</th>\n",
              "      <td>US-2015-VM21835140-42252</td>\n",
              "      <td>USCA</td>\n",
              "      <td>6.9654</td>\n",
              "      <td>14.820</td>\n",
              "      <td>NaN</td>\n",
              "    </tr>\n",
              "    <tr>\n",
              "      <th>25724</th>\n",
              "      <td>US-2015-WB21850140-42349</td>\n",
              "      <td>USCA</td>\n",
              "      <td>12.8767</td>\n",
              "      <td>91.193</td>\n",
              "      <td>NaN</td>\n",
              "    </tr>\n",
              "    <tr>\n",
              "      <th>25725</th>\n",
              "      <td>US-2015-XP21865140-42287</td>\n",
              "      <td>USCA</td>\n",
              "      <td>16.5440</td>\n",
              "      <td>35.200</td>\n",
              "      <td>NaN</td>\n",
              "    </tr>\n",
              "    <tr>\n",
              "      <th>25726</th>\n",
              "      <td>US-2015-XP21865140-42323</td>\n",
              "      <td>USCA</td>\n",
              "      <td>-22.7882</td>\n",
              "      <td>212.992</td>\n",
              "      <td>NaN</td>\n",
              "    </tr>\n",
              "    <tr>\n",
              "      <th>25727</th>\n",
              "      <td>US-2015-ZC21910140-42175</td>\n",
              "      <td>USCA</td>\n",
              "      <td>41.1900</td>\n",
              "      <td>148.884</td>\n",
              "      <td>NaN</td>\n",
              "    </tr>\n",
              "  </tbody>\n",
              "</table>\n",
              "<p>25728 rows × 5 columns</p>\n",
              "</div>\n",
              "      <button class=\"colab-df-convert\" onclick=\"convertToInteractive('df-c714d788-27c6-4c24-8602-3904d6452649')\"\n",
              "              title=\"Convert this dataframe to an interactive table.\"\n",
              "              style=\"display:none;\">\n",
              "        \n",
              "  <svg xmlns=\"http://www.w3.org/2000/svg\" height=\"24px\"viewBox=\"0 0 24 24\"\n",
              "       width=\"24px\">\n",
              "    <path d=\"M0 0h24v24H0V0z\" fill=\"none\"/>\n",
              "    <path d=\"M18.56 5.44l.94 2.06.94-2.06 2.06-.94-2.06-.94-.94-2.06-.94 2.06-2.06.94zm-11 1L8.5 8.5l.94-2.06 2.06-.94-2.06-.94L8.5 2.5l-.94 2.06-2.06.94zm10 10l.94 2.06.94-2.06 2.06-.94-2.06-.94-.94-2.06-.94 2.06-2.06.94z\"/><path d=\"M17.41 7.96l-1.37-1.37c-.4-.4-.92-.59-1.43-.59-.52 0-1.04.2-1.43.59L10.3 9.45l-7.72 7.72c-.78.78-.78 2.05 0 2.83L4 21.41c.39.39.9.59 1.41.59.51 0 1.02-.2 1.41-.59l7.78-7.78 2.81-2.81c.8-.78.8-2.07 0-2.86zM5.41 20L4 18.59l7.72-7.72 1.47 1.35L5.41 20z\"/>\n",
              "  </svg>\n",
              "      </button>\n",
              "      \n",
              "  <style>\n",
              "    .colab-df-container {\n",
              "      display:flex;\n",
              "      flex-wrap:wrap;\n",
              "      gap: 12px;\n",
              "    }\n",
              "\n",
              "    .colab-df-convert {\n",
              "      background-color: #E8F0FE;\n",
              "      border: none;\n",
              "      border-radius: 50%;\n",
              "      cursor: pointer;\n",
              "      display: none;\n",
              "      fill: #1967D2;\n",
              "      height: 32px;\n",
              "      padding: 0 0 0 0;\n",
              "      width: 32px;\n",
              "    }\n",
              "\n",
              "    .colab-df-convert:hover {\n",
              "      background-color: #E2EBFA;\n",
              "      box-shadow: 0px 1px 2px rgba(60, 64, 67, 0.3), 0px 1px 3px 1px rgba(60, 64, 67, 0.15);\n",
              "      fill: #174EA6;\n",
              "    }\n",
              "\n",
              "    [theme=dark] .colab-df-convert {\n",
              "      background-color: #3B4455;\n",
              "      fill: #D2E3FC;\n",
              "    }\n",
              "\n",
              "    [theme=dark] .colab-df-convert:hover {\n",
              "      background-color: #434B5C;\n",
              "      box-shadow: 0px 1px 3px 1px rgba(0, 0, 0, 0.15);\n",
              "      filter: drop-shadow(0px 1px 2px rgba(0, 0, 0, 0.3));\n",
              "      fill: #FFFFFF;\n",
              "    }\n",
              "  </style>\n",
              "\n",
              "      <script>\n",
              "        const buttonEl =\n",
              "          document.querySelector('#df-c714d788-27c6-4c24-8602-3904d6452649 button.colab-df-convert');\n",
              "        buttonEl.style.display =\n",
              "          google.colab.kernel.accessAllowed ? 'block' : 'none';\n",
              "\n",
              "        async function convertToInteractive(key) {\n",
              "          const element = document.querySelector('#df-c714d788-27c6-4c24-8602-3904d6452649');\n",
              "          const dataTable =\n",
              "            await google.colab.kernel.invokeFunction('convertToInteractive',\n",
              "                                                     [key], {});\n",
              "          if (!dataTable) return;\n",
              "\n",
              "          const docLinkHtml = 'Like what you see? Visit the ' +\n",
              "            '<a target=\"_blank\" href=https://colab.research.google.com/notebooks/data_table.ipynb>data table notebook</a>'\n",
              "            + ' to learn more about interactive tables.';\n",
              "          element.innerHTML = '';\n",
              "          dataTable['output_type'] = 'display_data';\n",
              "          await google.colab.output.renderOutput(dataTable, element);\n",
              "          const docLink = document.createElement('div');\n",
              "          docLink.innerHTML = docLinkHtml;\n",
              "          element.appendChild(docLink);\n",
              "        }\n",
              "      </script>\n",
              "    </div>\n",
              "  </div>\n",
              "  "
            ],
            "text/plain": [
              "                       Order ID  Market   Profit    Sales Returned\n",
              "0          AG-2012-AA6453-41020  Africa  53.7600  298.680      NaN\n",
              "1          AG-2012-AC4203-40915  Africa  14.5800   91.380      NaN\n",
              "2          AG-2012-AH2103-41133  Africa  11.0400  276.960      NaN\n",
              "3          AG-2012-AJ7803-40978  Africa   7.1700   35.970      NaN\n",
              "4          AG-2012-AS2853-41235  Africa  15.3600   54.900      NaN\n",
              "...                         ...     ...      ...      ...      ...\n",
              "25723  US-2015-VM21835140-42252    USCA   6.9654   14.820      NaN\n",
              "25724  US-2015-WB21850140-42349    USCA  12.8767   91.193      NaN\n",
              "25725  US-2015-XP21865140-42287    USCA  16.5440   35.200      NaN\n",
              "25726  US-2015-XP21865140-42323    USCA -22.7882  212.992      NaN\n",
              "25727  US-2015-ZC21910140-42175    USCA  41.1900  148.884      NaN\n",
              "\n",
              "[25728 rows x 5 columns]"
            ]
          },
          "execution_count": 40,
          "metadata": {},
          "output_type": "execute_result"
        }
      ],
      "source": [
        "# try to use the 'left' method to join two dataframes\n",
        "return_orders = orders.merge(returns, on = 'Order ID', how = 'left')\n",
        "return_orders"
      ]
    },
    {
      "cell_type": "code",
      "execution_count": null,
      "metadata": {
        "colab": {
          "base_uri": "https://localhost:8080/",
          "height": 423
        },
        "id": "KhksOGfLdzmd",
        "outputId": "44d3bf30-6405-4e8e-bd21-275a3f649b7c"
      },
      "outputs": [
        {
          "data": {
            "text/html": [
              "\n",
              "  <div id=\"df-235e1fcd-5a5c-433c-808f-9c2559b50f1f\">\n",
              "    <div class=\"colab-df-container\">\n",
              "      <div>\n",
              "<style scoped>\n",
              "    .dataframe tbody tr th:only-of-type {\n",
              "        vertical-align: middle;\n",
              "    }\n",
              "\n",
              "    .dataframe tbody tr th {\n",
              "        vertical-align: top;\n",
              "    }\n",
              "\n",
              "    .dataframe thead th {\n",
              "        text-align: right;\n",
              "    }\n",
              "</style>\n",
              "<table border=\"1\" class=\"dataframe\">\n",
              "  <thead>\n",
              "    <tr style=\"text-align: right;\">\n",
              "      <th></th>\n",
              "      <th>Order ID</th>\n",
              "      <th>Market</th>\n",
              "      <th>Profit</th>\n",
              "      <th>Sales</th>\n",
              "      <th>Returned</th>\n",
              "    </tr>\n",
              "  </thead>\n",
              "  <tbody>\n",
              "    <tr>\n",
              "      <th>35</th>\n",
              "      <td>AG-2013-PO88653-41634</td>\n",
              "      <td>Africa</td>\n",
              "      <td>191.2500</td>\n",
              "      <td>1932.240</td>\n",
              "      <td>Yes</td>\n",
              "    </tr>\n",
              "    <tr>\n",
              "      <th>44</th>\n",
              "      <td>AG-2014-CM21603-41755</td>\n",
              "      <td>Africa</td>\n",
              "      <td>10.3200</td>\n",
              "      <td>43.050</td>\n",
              "      <td>Yes</td>\n",
              "    </tr>\n",
              "    <tr>\n",
              "      <th>45</th>\n",
              "      <td>AG-2014-CP20853-41889</td>\n",
              "      <td>Africa</td>\n",
              "      <td>14.1000</td>\n",
              "      <td>84.720</td>\n",
              "      <td>Yes</td>\n",
              "    </tr>\n",
              "    <tr>\n",
              "      <th>56</th>\n",
              "      <td>AG-2014-RD95853-41712</td>\n",
              "      <td>Africa</td>\n",
              "      <td>21.0300</td>\n",
              "      <td>64.380</td>\n",
              "      <td>Yes</td>\n",
              "    </tr>\n",
              "    <tr>\n",
              "      <th>111</th>\n",
              "      <td>AO-2013-JE57454-41544</td>\n",
              "      <td>Africa</td>\n",
              "      <td>106.5900</td>\n",
              "      <td>499.230</td>\n",
              "      <td>Yes</td>\n",
              "    </tr>\n",
              "    <tr>\n",
              "      <th>...</th>\n",
              "      <td>...</td>\n",
              "      <td>...</td>\n",
              "      <td>...</td>\n",
              "      <td>...</td>\n",
              "      <td>...</td>\n",
              "    </tr>\n",
              "    <tr>\n",
              "      <th>25622</th>\n",
              "      <td>US-2015-ME17320140-42322</td>\n",
              "      <td>USCA</td>\n",
              "      <td>-24.7086</td>\n",
              "      <td>9.324</td>\n",
              "      <td>Yes</td>\n",
              "    </tr>\n",
              "    <tr>\n",
              "      <th>25659</th>\n",
              "      <td>US-2015-PN18775140-42339</td>\n",
              "      <td>USCA</td>\n",
              "      <td>8.9970</td>\n",
              "      <td>71.976</td>\n",
              "      <td>Yes</td>\n",
              "    </tr>\n",
              "    <tr>\n",
              "      <th>25675</th>\n",
              "      <td>US-2015-RL19615140-42147</td>\n",
              "      <td>USCA</td>\n",
              "      <td>18.8328</td>\n",
              "      <td>49.560</td>\n",
              "      <td>Yes</td>\n",
              "    </tr>\n",
              "    <tr>\n",
              "      <th>25685</th>\n",
              "      <td>US-2015-SC20050140-42278</td>\n",
              "      <td>USCA</td>\n",
              "      <td>-17.4690</td>\n",
              "      <td>11.646</td>\n",
              "      <td>Yes</td>\n",
              "    </tr>\n",
              "    <tr>\n",
              "      <th>25717</th>\n",
              "      <td>US-2015-TT21220140-42186</td>\n",
              "      <td>USCA</td>\n",
              "      <td>100.4255</td>\n",
              "      <td>204.950</td>\n",
              "      <td>Yes</td>\n",
              "    </tr>\n",
              "  </tbody>\n",
              "</table>\n",
              "<p>1079 rows × 5 columns</p>\n",
              "</div>\n",
              "      <button class=\"colab-df-convert\" onclick=\"convertToInteractive('df-235e1fcd-5a5c-433c-808f-9c2559b50f1f')\"\n",
              "              title=\"Convert this dataframe to an interactive table.\"\n",
              "              style=\"display:none;\">\n",
              "        \n",
              "  <svg xmlns=\"http://www.w3.org/2000/svg\" height=\"24px\"viewBox=\"0 0 24 24\"\n",
              "       width=\"24px\">\n",
              "    <path d=\"M0 0h24v24H0V0z\" fill=\"none\"/>\n",
              "    <path d=\"M18.56 5.44l.94 2.06.94-2.06 2.06-.94-2.06-.94-.94-2.06-.94 2.06-2.06.94zm-11 1L8.5 8.5l.94-2.06 2.06-.94-2.06-.94L8.5 2.5l-.94 2.06-2.06.94zm10 10l.94 2.06.94-2.06 2.06-.94-2.06-.94-.94-2.06-.94 2.06-2.06.94z\"/><path d=\"M17.41 7.96l-1.37-1.37c-.4-.4-.92-.59-1.43-.59-.52 0-1.04.2-1.43.59L10.3 9.45l-7.72 7.72c-.78.78-.78 2.05 0 2.83L4 21.41c.39.39.9.59 1.41.59.51 0 1.02-.2 1.41-.59l7.78-7.78 2.81-2.81c.8-.78.8-2.07 0-2.86zM5.41 20L4 18.59l7.72-7.72 1.47 1.35L5.41 20z\"/>\n",
              "  </svg>\n",
              "      </button>\n",
              "      \n",
              "  <style>\n",
              "    .colab-df-container {\n",
              "      display:flex;\n",
              "      flex-wrap:wrap;\n",
              "      gap: 12px;\n",
              "    }\n",
              "\n",
              "    .colab-df-convert {\n",
              "      background-color: #E8F0FE;\n",
              "      border: none;\n",
              "      border-radius: 50%;\n",
              "      cursor: pointer;\n",
              "      display: none;\n",
              "      fill: #1967D2;\n",
              "      height: 32px;\n",
              "      padding: 0 0 0 0;\n",
              "      width: 32px;\n",
              "    }\n",
              "\n",
              "    .colab-df-convert:hover {\n",
              "      background-color: #E2EBFA;\n",
              "      box-shadow: 0px 1px 2px rgba(60, 64, 67, 0.3), 0px 1px 3px 1px rgba(60, 64, 67, 0.15);\n",
              "      fill: #174EA6;\n",
              "    }\n",
              "\n",
              "    [theme=dark] .colab-df-convert {\n",
              "      background-color: #3B4455;\n",
              "      fill: #D2E3FC;\n",
              "    }\n",
              "\n",
              "    [theme=dark] .colab-df-convert:hover {\n",
              "      background-color: #434B5C;\n",
              "      box-shadow: 0px 1px 3px 1px rgba(0, 0, 0, 0.15);\n",
              "      filter: drop-shadow(0px 1px 2px rgba(0, 0, 0, 0.3));\n",
              "      fill: #FFFFFF;\n",
              "    }\n",
              "  </style>\n",
              "\n",
              "      <script>\n",
              "        const buttonEl =\n",
              "          document.querySelector('#df-235e1fcd-5a5c-433c-808f-9c2559b50f1f button.colab-df-convert');\n",
              "        buttonEl.style.display =\n",
              "          google.colab.kernel.accessAllowed ? 'block' : 'none';\n",
              "\n",
              "        async function convertToInteractive(key) {\n",
              "          const element = document.querySelector('#df-235e1fcd-5a5c-433c-808f-9c2559b50f1f');\n",
              "          const dataTable =\n",
              "            await google.colab.kernel.invokeFunction('convertToInteractive',\n",
              "                                                     [key], {});\n",
              "          if (!dataTable) return;\n",
              "\n",
              "          const docLinkHtml = 'Like what you see? Visit the ' +\n",
              "            '<a target=\"_blank\" href=https://colab.research.google.com/notebooks/data_table.ipynb>data table notebook</a>'\n",
              "            + ' to learn more about interactive tables.';\n",
              "          element.innerHTML = '';\n",
              "          dataTable['output_type'] = 'display_data';\n",
              "          await google.colab.output.renderOutput(dataTable, element);\n",
              "          const docLink = document.createElement('div');\n",
              "          docLink.innerHTML = docLinkHtml;\n",
              "          element.appendChild(docLink);\n",
              "        }\n",
              "      </script>\n",
              "    </div>\n",
              "  </div>\n",
              "  "
            ],
            "text/plain": [
              "                       Order ID  Market    Profit     Sales Returned\n",
              "35        AG-2013-PO88653-41634  Africa  191.2500  1932.240      Yes\n",
              "44        AG-2014-CM21603-41755  Africa   10.3200    43.050      Yes\n",
              "45        AG-2014-CP20853-41889  Africa   14.1000    84.720      Yes\n",
              "56        AG-2014-RD95853-41712  Africa   21.0300    64.380      Yes\n",
              "111       AO-2013-JE57454-41544  Africa  106.5900   499.230      Yes\n",
              "...                         ...     ...       ...       ...      ...\n",
              "25622  US-2015-ME17320140-42322    USCA  -24.7086     9.324      Yes\n",
              "25659  US-2015-PN18775140-42339    USCA    8.9970    71.976      Yes\n",
              "25675  US-2015-RL19615140-42147    USCA   18.8328    49.560      Yes\n",
              "25685  US-2015-SC20050140-42278    USCA  -17.4690    11.646      Yes\n",
              "25717  US-2015-TT21220140-42186    USCA  100.4255   204.950      Yes\n",
              "\n",
              "[1079 rows x 5 columns]"
            ]
          },
          "execution_count": 41,
          "metadata": {},
          "output_type": "execute_result"
        }
      ],
      "source": [
        "# Check the orders where orders were returned\n",
        "\n",
        "return_orders[return_orders['Returned']=='Yes']"
      ]
    },
    {
      "cell_type": "code",
      "execution_count": null,
      "metadata": {
        "colab": {
          "base_uri": "https://localhost:8080/"
        },
        "id": "u7tY3J8OeCuT",
        "outputId": "93e6d158-183e-4e85-df45-51ef316bc64d"
      },
      "outputs": [
        {
          "name": "stdout",
          "output_type": "stream",
          "text": [
            "<class 'pandas.core.frame.DataFrame'>\n",
            "Int64Index: 25728 entries, 0 to 25727\n",
            "Data columns (total 5 columns):\n",
            " #   Column    Non-Null Count  Dtype  \n",
            "---  ------    --------------  -----  \n",
            " 0   Order ID  25728 non-null  object \n",
            " 1   Market    25728 non-null  object \n",
            " 2   Profit    25728 non-null  float64\n",
            " 3   Sales     25728 non-null  float64\n",
            " 4   Returned  1079 non-null   object \n",
            "dtypes: float64(2), object(3)\n",
            "memory usage: 1.2+ MB\n"
          ]
        }
      ],
      "source": [
        "# Print the dataframe summary using the info() command\n",
        "\n",
        "return_orders.info()"
      ]
    },
    {
      "cell_type": "code",
      "execution_count": null,
      "metadata": {
        "colab": {
          "base_uri": "https://localhost:8080/",
          "height": 423
        },
        "id": "DEo4topKeKLM",
        "outputId": "6060b622-f540-4ad0-e4e0-156ceceec0e6"
      },
      "outputs": [
        {
          "data": {
            "text/html": [
              "\n",
              "  <div id=\"df-bf19af1b-94f8-42ab-a1dd-6f16f6188116\">\n",
              "    <div class=\"colab-df-container\">\n",
              "      <div>\n",
              "<style scoped>\n",
              "    .dataframe tbody tr th:only-of-type {\n",
              "        vertical-align: middle;\n",
              "    }\n",
              "\n",
              "    .dataframe tbody tr th {\n",
              "        vertical-align: top;\n",
              "    }\n",
              "\n",
              "    .dataframe thead th {\n",
              "        text-align: right;\n",
              "    }\n",
              "</style>\n",
              "<table border=\"1\" class=\"dataframe\">\n",
              "  <thead>\n",
              "    <tr style=\"text-align: right;\">\n",
              "      <th></th>\n",
              "      <th>Order ID</th>\n",
              "      <th>Market</th>\n",
              "      <th>Profit</th>\n",
              "      <th>Sales</th>\n",
              "      <th>Returned</th>\n",
              "    </tr>\n",
              "  </thead>\n",
              "  <tbody>\n",
              "    <tr>\n",
              "      <th>0</th>\n",
              "      <td>AG-2012-AA6453-41020</td>\n",
              "      <td>Africa</td>\n",
              "      <td>53.7600</td>\n",
              "      <td>298.680</td>\n",
              "      <td>nan</td>\n",
              "    </tr>\n",
              "    <tr>\n",
              "      <th>1</th>\n",
              "      <td>AG-2012-AC4203-40915</td>\n",
              "      <td>Africa</td>\n",
              "      <td>14.5800</td>\n",
              "      <td>91.380</td>\n",
              "      <td>nan</td>\n",
              "    </tr>\n",
              "    <tr>\n",
              "      <th>2</th>\n",
              "      <td>AG-2012-AH2103-41133</td>\n",
              "      <td>Africa</td>\n",
              "      <td>11.0400</td>\n",
              "      <td>276.960</td>\n",
              "      <td>nan</td>\n",
              "    </tr>\n",
              "    <tr>\n",
              "      <th>3</th>\n",
              "      <td>AG-2012-AJ7803-40978</td>\n",
              "      <td>Africa</td>\n",
              "      <td>7.1700</td>\n",
              "      <td>35.970</td>\n",
              "      <td>nan</td>\n",
              "    </tr>\n",
              "    <tr>\n",
              "      <th>4</th>\n",
              "      <td>AG-2012-AS2853-41235</td>\n",
              "      <td>Africa</td>\n",
              "      <td>15.3600</td>\n",
              "      <td>54.900</td>\n",
              "      <td>nan</td>\n",
              "    </tr>\n",
              "    <tr>\n",
              "      <th>...</th>\n",
              "      <td>...</td>\n",
              "      <td>...</td>\n",
              "      <td>...</td>\n",
              "      <td>...</td>\n",
              "      <td>...</td>\n",
              "    </tr>\n",
              "    <tr>\n",
              "      <th>25723</th>\n",
              "      <td>US-2015-VM21835140-42252</td>\n",
              "      <td>USCA</td>\n",
              "      <td>6.9654</td>\n",
              "      <td>14.820</td>\n",
              "      <td>nan</td>\n",
              "    </tr>\n",
              "    <tr>\n",
              "      <th>25724</th>\n",
              "      <td>US-2015-WB21850140-42349</td>\n",
              "      <td>USCA</td>\n",
              "      <td>12.8767</td>\n",
              "      <td>91.193</td>\n",
              "      <td>nan</td>\n",
              "    </tr>\n",
              "    <tr>\n",
              "      <th>25725</th>\n",
              "      <td>US-2015-XP21865140-42287</td>\n",
              "      <td>USCA</td>\n",
              "      <td>16.5440</td>\n",
              "      <td>35.200</td>\n",
              "      <td>nan</td>\n",
              "    </tr>\n",
              "    <tr>\n",
              "      <th>25726</th>\n",
              "      <td>US-2015-XP21865140-42323</td>\n",
              "      <td>USCA</td>\n",
              "      <td>-22.7882</td>\n",
              "      <td>212.992</td>\n",
              "      <td>nan</td>\n",
              "    </tr>\n",
              "    <tr>\n",
              "      <th>25727</th>\n",
              "      <td>US-2015-ZC21910140-42175</td>\n",
              "      <td>USCA</td>\n",
              "      <td>41.1900</td>\n",
              "      <td>148.884</td>\n",
              "      <td>nan</td>\n",
              "    </tr>\n",
              "  </tbody>\n",
              "</table>\n",
              "<p>25728 rows × 5 columns</p>\n",
              "</div>\n",
              "      <button class=\"colab-df-convert\" onclick=\"convertToInteractive('df-bf19af1b-94f8-42ab-a1dd-6f16f6188116')\"\n",
              "              title=\"Convert this dataframe to an interactive table.\"\n",
              "              style=\"display:none;\">\n",
              "        \n",
              "  <svg xmlns=\"http://www.w3.org/2000/svg\" height=\"24px\"viewBox=\"0 0 24 24\"\n",
              "       width=\"24px\">\n",
              "    <path d=\"M0 0h24v24H0V0z\" fill=\"none\"/>\n",
              "    <path d=\"M18.56 5.44l.94 2.06.94-2.06 2.06-.94-2.06-.94-.94-2.06-.94 2.06-2.06.94zm-11 1L8.5 8.5l.94-2.06 2.06-.94-2.06-.94L8.5 2.5l-.94 2.06-2.06.94zm10 10l.94 2.06.94-2.06 2.06-.94-2.06-.94-.94-2.06-.94 2.06-2.06.94z\"/><path d=\"M17.41 7.96l-1.37-1.37c-.4-.4-.92-.59-1.43-.59-.52 0-1.04.2-1.43.59L10.3 9.45l-7.72 7.72c-.78.78-.78 2.05 0 2.83L4 21.41c.39.39.9.59 1.41.59.51 0 1.02-.2 1.41-.59l7.78-7.78 2.81-2.81c.8-.78.8-2.07 0-2.86zM5.41 20L4 18.59l7.72-7.72 1.47 1.35L5.41 20z\"/>\n",
              "  </svg>\n",
              "      </button>\n",
              "      \n",
              "  <style>\n",
              "    .colab-df-container {\n",
              "      display:flex;\n",
              "      flex-wrap:wrap;\n",
              "      gap: 12px;\n",
              "    }\n",
              "\n",
              "    .colab-df-convert {\n",
              "      background-color: #E8F0FE;\n",
              "      border: none;\n",
              "      border-radius: 50%;\n",
              "      cursor: pointer;\n",
              "      display: none;\n",
              "      fill: #1967D2;\n",
              "      height: 32px;\n",
              "      padding: 0 0 0 0;\n",
              "      width: 32px;\n",
              "    }\n",
              "\n",
              "    .colab-df-convert:hover {\n",
              "      background-color: #E2EBFA;\n",
              "      box-shadow: 0px 1px 2px rgba(60, 64, 67, 0.3), 0px 1px 3px 1px rgba(60, 64, 67, 0.15);\n",
              "      fill: #174EA6;\n",
              "    }\n",
              "\n",
              "    [theme=dark] .colab-df-convert {\n",
              "      background-color: #3B4455;\n",
              "      fill: #D2E3FC;\n",
              "    }\n",
              "\n",
              "    [theme=dark] .colab-df-convert:hover {\n",
              "      background-color: #434B5C;\n",
              "      box-shadow: 0px 1px 3px 1px rgba(0, 0, 0, 0.15);\n",
              "      filter: drop-shadow(0px 1px 2px rgba(0, 0, 0, 0.3));\n",
              "      fill: #FFFFFF;\n",
              "    }\n",
              "  </style>\n",
              "\n",
              "      <script>\n",
              "        const buttonEl =\n",
              "          document.querySelector('#df-bf19af1b-94f8-42ab-a1dd-6f16f6188116 button.colab-df-convert');\n",
              "        buttonEl.style.display =\n",
              "          google.colab.kernel.accessAllowed ? 'block' : 'none';\n",
              "\n",
              "        async function convertToInteractive(key) {\n",
              "          const element = document.querySelector('#df-bf19af1b-94f8-42ab-a1dd-6f16f6188116');\n",
              "          const dataTable =\n",
              "            await google.colab.kernel.invokeFunction('convertToInteractive',\n",
              "                                                     [key], {});\n",
              "          if (!dataTable) return;\n",
              "\n",
              "          const docLinkHtml = 'Like what you see? Visit the ' +\n",
              "            '<a target=\"_blank\" href=https://colab.research.google.com/notebooks/data_table.ipynb>data table notebook</a>'\n",
              "            + ' to learn more about interactive tables.';\n",
              "          element.innerHTML = '';\n",
              "          dataTable['output_type'] = 'display_data';\n",
              "          await google.colab.output.renderOutput(dataTable, element);\n",
              "          const docLink = document.createElement('div');\n",
              "          docLink.innerHTML = docLinkHtml;\n",
              "          element.appendChild(docLink);\n",
              "        }\n",
              "      </script>\n",
              "    </div>\n",
              "  </div>\n",
              "  "
            ],
            "text/plain": [
              "                       Order ID  Market   Profit    Sales Returned\n",
              "0          AG-2012-AA6453-41020  Africa  53.7600  298.680      nan\n",
              "1          AG-2012-AC4203-40915  Africa  14.5800   91.380      nan\n",
              "2          AG-2012-AH2103-41133  Africa  11.0400  276.960      nan\n",
              "3          AG-2012-AJ7803-40978  Africa   7.1700   35.970      nan\n",
              "4          AG-2012-AS2853-41235  Africa  15.3600   54.900      nan\n",
              "...                         ...     ...      ...      ...      ...\n",
              "25723  US-2015-VM21835140-42252    USCA   6.9654   14.820      nan\n",
              "25724  US-2015-WB21850140-42349    USCA  12.8767   91.193      nan\n",
              "25725  US-2015-XP21865140-42287    USCA  16.5440   35.200      nan\n",
              "25726  US-2015-XP21865140-42323    USCA -22.7882  212.992      nan\n",
              "25727  US-2015-ZC21910140-42175    USCA  41.1900  148.884      nan\n",
              "\n",
              "[25728 rows x 5 columns]"
            ]
          },
          "execution_count": 44,
          "metadata": {},
          "output_type": "execute_result"
        }
      ],
      "source": [
        "# Change the data type of the column 'Returned' \n",
        "\n",
        "return_orders['Returned'] = return_orders['Returned'].astype('str')\n",
        "return_orders"
      ]
    },
    {
      "cell_type": "code",
      "execution_count": null,
      "metadata": {
        "colab": {
          "base_uri": "https://localhost:8080/",
          "height": 423
        },
        "id": "5s38JSb_eacz",
        "outputId": "d32a582c-6736-4ffd-fe66-cc35f312f351"
      },
      "outputs": [
        {
          "data": {
            "text/html": [
              "\n",
              "  <div id=\"df-15e935c7-3596-4cfd-96a9-95cbae94b5ce\">\n",
              "    <div class=\"colab-df-container\">\n",
              "      <div>\n",
              "<style scoped>\n",
              "    .dataframe tbody tr th:only-of-type {\n",
              "        vertical-align: middle;\n",
              "    }\n",
              "\n",
              "    .dataframe tbody tr th {\n",
              "        vertical-align: top;\n",
              "    }\n",
              "\n",
              "    .dataframe thead th {\n",
              "        text-align: right;\n",
              "    }\n",
              "</style>\n",
              "<table border=\"1\" class=\"dataframe\">\n",
              "  <thead>\n",
              "    <tr style=\"text-align: right;\">\n",
              "      <th></th>\n",
              "      <th>Order ID</th>\n",
              "      <th>Market</th>\n",
              "      <th>Profit</th>\n",
              "      <th>Sales</th>\n",
              "      <th>Returned</th>\n",
              "    </tr>\n",
              "  </thead>\n",
              "  <tbody>\n",
              "    <tr>\n",
              "      <th>0</th>\n",
              "      <td>AG-2012-AA6453-41020</td>\n",
              "      <td>Africa</td>\n",
              "      <td>53.7600</td>\n",
              "      <td>298.680</td>\n",
              "      <td>No</td>\n",
              "    </tr>\n",
              "    <tr>\n",
              "      <th>1</th>\n",
              "      <td>AG-2012-AC4203-40915</td>\n",
              "      <td>Africa</td>\n",
              "      <td>14.5800</td>\n",
              "      <td>91.380</td>\n",
              "      <td>No</td>\n",
              "    </tr>\n",
              "    <tr>\n",
              "      <th>2</th>\n",
              "      <td>AG-2012-AH2103-41133</td>\n",
              "      <td>Africa</td>\n",
              "      <td>11.0400</td>\n",
              "      <td>276.960</td>\n",
              "      <td>No</td>\n",
              "    </tr>\n",
              "    <tr>\n",
              "      <th>3</th>\n",
              "      <td>AG-2012-AJ7803-40978</td>\n",
              "      <td>Africa</td>\n",
              "      <td>7.1700</td>\n",
              "      <td>35.970</td>\n",
              "      <td>No</td>\n",
              "    </tr>\n",
              "    <tr>\n",
              "      <th>4</th>\n",
              "      <td>AG-2012-AS2853-41235</td>\n",
              "      <td>Africa</td>\n",
              "      <td>15.3600</td>\n",
              "      <td>54.900</td>\n",
              "      <td>No</td>\n",
              "    </tr>\n",
              "    <tr>\n",
              "      <th>...</th>\n",
              "      <td>...</td>\n",
              "      <td>...</td>\n",
              "      <td>...</td>\n",
              "      <td>...</td>\n",
              "      <td>...</td>\n",
              "    </tr>\n",
              "    <tr>\n",
              "      <th>25723</th>\n",
              "      <td>US-2015-VM21835140-42252</td>\n",
              "      <td>USCA</td>\n",
              "      <td>6.9654</td>\n",
              "      <td>14.820</td>\n",
              "      <td>No</td>\n",
              "    </tr>\n",
              "    <tr>\n",
              "      <th>25724</th>\n",
              "      <td>US-2015-WB21850140-42349</td>\n",
              "      <td>USCA</td>\n",
              "      <td>12.8767</td>\n",
              "      <td>91.193</td>\n",
              "      <td>No</td>\n",
              "    </tr>\n",
              "    <tr>\n",
              "      <th>25725</th>\n",
              "      <td>US-2015-XP21865140-42287</td>\n",
              "      <td>USCA</td>\n",
              "      <td>16.5440</td>\n",
              "      <td>35.200</td>\n",
              "      <td>No</td>\n",
              "    </tr>\n",
              "    <tr>\n",
              "      <th>25726</th>\n",
              "      <td>US-2015-XP21865140-42323</td>\n",
              "      <td>USCA</td>\n",
              "      <td>-22.7882</td>\n",
              "      <td>212.992</td>\n",
              "      <td>No</td>\n",
              "    </tr>\n",
              "    <tr>\n",
              "      <th>25727</th>\n",
              "      <td>US-2015-ZC21910140-42175</td>\n",
              "      <td>USCA</td>\n",
              "      <td>41.1900</td>\n",
              "      <td>148.884</td>\n",
              "      <td>No</td>\n",
              "    </tr>\n",
              "  </tbody>\n",
              "</table>\n",
              "<p>25728 rows × 5 columns</p>\n",
              "</div>\n",
              "      <button class=\"colab-df-convert\" onclick=\"convertToInteractive('df-15e935c7-3596-4cfd-96a9-95cbae94b5ce')\"\n",
              "              title=\"Convert this dataframe to an interactive table.\"\n",
              "              style=\"display:none;\">\n",
              "        \n",
              "  <svg xmlns=\"http://www.w3.org/2000/svg\" height=\"24px\"viewBox=\"0 0 24 24\"\n",
              "       width=\"24px\">\n",
              "    <path d=\"M0 0h24v24H0V0z\" fill=\"none\"/>\n",
              "    <path d=\"M18.56 5.44l.94 2.06.94-2.06 2.06-.94-2.06-.94-.94-2.06-.94 2.06-2.06.94zm-11 1L8.5 8.5l.94-2.06 2.06-.94-2.06-.94L8.5 2.5l-.94 2.06-2.06.94zm10 10l.94 2.06.94-2.06 2.06-.94-2.06-.94-.94-2.06-.94 2.06-2.06.94z\"/><path d=\"M17.41 7.96l-1.37-1.37c-.4-.4-.92-.59-1.43-.59-.52 0-1.04.2-1.43.59L10.3 9.45l-7.72 7.72c-.78.78-.78 2.05 0 2.83L4 21.41c.39.39.9.59 1.41.59.51 0 1.02-.2 1.41-.59l7.78-7.78 2.81-2.81c.8-.78.8-2.07 0-2.86zM5.41 20L4 18.59l7.72-7.72 1.47 1.35L5.41 20z\"/>\n",
              "  </svg>\n",
              "      </button>\n",
              "      \n",
              "  <style>\n",
              "    .colab-df-container {\n",
              "      display:flex;\n",
              "      flex-wrap:wrap;\n",
              "      gap: 12px;\n",
              "    }\n",
              "\n",
              "    .colab-df-convert {\n",
              "      background-color: #E8F0FE;\n",
              "      border: none;\n",
              "      border-radius: 50%;\n",
              "      cursor: pointer;\n",
              "      display: none;\n",
              "      fill: #1967D2;\n",
              "      height: 32px;\n",
              "      padding: 0 0 0 0;\n",
              "      width: 32px;\n",
              "    }\n",
              "\n",
              "    .colab-df-convert:hover {\n",
              "      background-color: #E2EBFA;\n",
              "      box-shadow: 0px 1px 2px rgba(60, 64, 67, 0.3), 0px 1px 3px 1px rgba(60, 64, 67, 0.15);\n",
              "      fill: #174EA6;\n",
              "    }\n",
              "\n",
              "    [theme=dark] .colab-df-convert {\n",
              "      background-color: #3B4455;\n",
              "      fill: #D2E3FC;\n",
              "    }\n",
              "\n",
              "    [theme=dark] .colab-df-convert:hover {\n",
              "      background-color: #434B5C;\n",
              "      box-shadow: 0px 1px 3px 1px rgba(0, 0, 0, 0.15);\n",
              "      filter: drop-shadow(0px 1px 2px rgba(0, 0, 0, 0.3));\n",
              "      fill: #FFFFFF;\n",
              "    }\n",
              "  </style>\n",
              "\n",
              "      <script>\n",
              "        const buttonEl =\n",
              "          document.querySelector('#df-15e935c7-3596-4cfd-96a9-95cbae94b5ce button.colab-df-convert');\n",
              "        buttonEl.style.display =\n",
              "          google.colab.kernel.accessAllowed ? 'block' : 'none';\n",
              "\n",
              "        async function convertToInteractive(key) {\n",
              "          const element = document.querySelector('#df-15e935c7-3596-4cfd-96a9-95cbae94b5ce');\n",
              "          const dataTable =\n",
              "            await google.colab.kernel.invokeFunction('convertToInteractive',\n",
              "                                                     [key], {});\n",
              "          if (!dataTable) return;\n",
              "\n",
              "          const docLinkHtml = 'Like what you see? Visit the ' +\n",
              "            '<a target=\"_blank\" href=https://colab.research.google.com/notebooks/data_table.ipynb>data table notebook</a>'\n",
              "            + ' to learn more about interactive tables.';\n",
              "          element.innerHTML = '';\n",
              "          dataTable['output_type'] = 'display_data';\n",
              "          await google.colab.output.renderOutput(dataTable, element);\n",
              "          const docLink = document.createElement('div');\n",
              "          docLink.innerHTML = docLinkHtml;\n",
              "          element.appendChild(docLink);\n",
              "        }\n",
              "      </script>\n",
              "    </div>\n",
              "  </div>\n",
              "  "
            ],
            "text/plain": [
              "                       Order ID  Market   Profit    Sales Returned\n",
              "0          AG-2012-AA6453-41020  Africa  53.7600  298.680       No\n",
              "1          AG-2012-AC4203-40915  Africa  14.5800   91.380       No\n",
              "2          AG-2012-AH2103-41133  Africa  11.0400  276.960       No\n",
              "3          AG-2012-AJ7803-40978  Africa   7.1700   35.970       No\n",
              "4          AG-2012-AS2853-41235  Africa  15.3600   54.900       No\n",
              "...                         ...     ...      ...      ...      ...\n",
              "25723  US-2015-VM21835140-42252    USCA   6.9654   14.820       No\n",
              "25724  US-2015-WB21850140-42349    USCA  12.8767   91.193       No\n",
              "25725  US-2015-XP21865140-42287    USCA  16.5440   35.200       No\n",
              "25726  US-2015-XP21865140-42323    USCA -22.7882  212.992       No\n",
              "25727  US-2015-ZC21910140-42175    USCA  41.1900  148.884       No\n",
              "\n",
              "[25728 rows x 5 columns]"
            ]
          },
          "execution_count": 45,
          "metadata": {},
          "output_type": "execute_result"
        }
      ],
      "source": [
        "# Check the dataframe after modification\n",
        "\n",
        "return_orders['Returned'] = return_orders['Returned'].apply(lambda x : 'No' if x ==\"nan\" else 'Yes' )\n",
        "return_orders"
      ]
    },
    {
      "cell_type": "markdown",
      "metadata": {
        "id": "eLrVBO77e55a"
      },
      "source": [
        "#### Concatenate DFs"
      ]
    },
    {
      "cell_type": "code",
      "execution_count": null,
      "metadata": {
        "id": "vSZZkhZTO784"
      },
      "outputs": [],
      "source": [
        "# Concatenation is much more straightforward than merging. It is used when you have dataframes having the same columns and want to append them (pile one on top of the other), or having the same rows and want to append them side-by-side.\n",
        "\n",
        "# Dataframes having the same columns\n",
        "\n",
        "df1 = pd.DataFrame({'Name': ['Aman', 'Joy', 'Rashmi', 'Saif'],\n",
        "                    'Age' : ['34', '31', '22', '33'], \n",
        "                    'Gender': ['M', 'M', 'F', 'M']}\n",
        "                  )\n",
        "\n",
        "df2 = pd.DataFrame({'Name': ['Akhil', 'Asha', 'Preeti'],\n",
        "                    'Age' : ['31', '22', '23'], \n",
        "                    'Gender': ['M', 'F', 'F']}\n",
        "                  )\n",
        "\n",
        "# Another dataframe with same number of rows as df1\n",
        "df3 = pd.DataFrame({'School': ['RK Public', 'JSP', 'Carmel Convent', 'St. Paul'],\n",
        "                    'Graduation Marks': ['84', '89', '76', '91']}\n",
        "                  )"
      ]
    },
    {
      "cell_type": "code",
      "execution_count": null,
      "metadata": {
        "colab": {
          "base_uri": "https://localhost:8080/",
          "height": 175
        },
        "id": "mxCY9jLOO76p",
        "outputId": "5ece82b3-4bbc-4d6f-bf34-7addf4aef487"
      },
      "outputs": [
        {
          "data": {
            "text/html": [
              "\n",
              "  <div id=\"df-04397f08-bf84-4330-a709-f5f402e9da83\">\n",
              "    <div class=\"colab-df-container\">\n",
              "      <div>\n",
              "<style scoped>\n",
              "    .dataframe tbody tr th:only-of-type {\n",
              "        vertical-align: middle;\n",
              "    }\n",
              "\n",
              "    .dataframe tbody tr th {\n",
              "        vertical-align: top;\n",
              "    }\n",
              "\n",
              "    .dataframe thead th {\n",
              "        text-align: right;\n",
              "    }\n",
              "</style>\n",
              "<table border=\"1\" class=\"dataframe\">\n",
              "  <thead>\n",
              "    <tr style=\"text-align: right;\">\n",
              "      <th></th>\n",
              "      <th>Name</th>\n",
              "      <th>Age</th>\n",
              "      <th>Gender</th>\n",
              "    </tr>\n",
              "  </thead>\n",
              "  <tbody>\n",
              "    <tr>\n",
              "      <th>0</th>\n",
              "      <td>Aman</td>\n",
              "      <td>34</td>\n",
              "      <td>M</td>\n",
              "    </tr>\n",
              "    <tr>\n",
              "      <th>1</th>\n",
              "      <td>Joy</td>\n",
              "      <td>31</td>\n",
              "      <td>M</td>\n",
              "    </tr>\n",
              "    <tr>\n",
              "      <th>2</th>\n",
              "      <td>Rashmi</td>\n",
              "      <td>22</td>\n",
              "      <td>F</td>\n",
              "    </tr>\n",
              "    <tr>\n",
              "      <th>3</th>\n",
              "      <td>Saif</td>\n",
              "      <td>33</td>\n",
              "      <td>M</td>\n",
              "    </tr>\n",
              "  </tbody>\n",
              "</table>\n",
              "</div>\n",
              "      <button class=\"colab-df-convert\" onclick=\"convertToInteractive('df-04397f08-bf84-4330-a709-f5f402e9da83')\"\n",
              "              title=\"Convert this dataframe to an interactive table.\"\n",
              "              style=\"display:none;\">\n",
              "        \n",
              "  <svg xmlns=\"http://www.w3.org/2000/svg\" height=\"24px\"viewBox=\"0 0 24 24\"\n",
              "       width=\"24px\">\n",
              "    <path d=\"M0 0h24v24H0V0z\" fill=\"none\"/>\n",
              "    <path d=\"M18.56 5.44l.94 2.06.94-2.06 2.06-.94-2.06-.94-.94-2.06-.94 2.06-2.06.94zm-11 1L8.5 8.5l.94-2.06 2.06-.94-2.06-.94L8.5 2.5l-.94 2.06-2.06.94zm10 10l.94 2.06.94-2.06 2.06-.94-2.06-.94-.94-2.06-.94 2.06-2.06.94z\"/><path d=\"M17.41 7.96l-1.37-1.37c-.4-.4-.92-.59-1.43-.59-.52 0-1.04.2-1.43.59L10.3 9.45l-7.72 7.72c-.78.78-.78 2.05 0 2.83L4 21.41c.39.39.9.59 1.41.59.51 0 1.02-.2 1.41-.59l7.78-7.78 2.81-2.81c.8-.78.8-2.07 0-2.86zM5.41 20L4 18.59l7.72-7.72 1.47 1.35L5.41 20z\"/>\n",
              "  </svg>\n",
              "      </button>\n",
              "      \n",
              "  <style>\n",
              "    .colab-df-container {\n",
              "      display:flex;\n",
              "      flex-wrap:wrap;\n",
              "      gap: 12px;\n",
              "    }\n",
              "\n",
              "    .colab-df-convert {\n",
              "      background-color: #E8F0FE;\n",
              "      border: none;\n",
              "      border-radius: 50%;\n",
              "      cursor: pointer;\n",
              "      display: none;\n",
              "      fill: #1967D2;\n",
              "      height: 32px;\n",
              "      padding: 0 0 0 0;\n",
              "      width: 32px;\n",
              "    }\n",
              "\n",
              "    .colab-df-convert:hover {\n",
              "      background-color: #E2EBFA;\n",
              "      box-shadow: 0px 1px 2px rgba(60, 64, 67, 0.3), 0px 1px 3px 1px rgba(60, 64, 67, 0.15);\n",
              "      fill: #174EA6;\n",
              "    }\n",
              "\n",
              "    [theme=dark] .colab-df-convert {\n",
              "      background-color: #3B4455;\n",
              "      fill: #D2E3FC;\n",
              "    }\n",
              "\n",
              "    [theme=dark] .colab-df-convert:hover {\n",
              "      background-color: #434B5C;\n",
              "      box-shadow: 0px 1px 3px 1px rgba(0, 0, 0, 0.15);\n",
              "      filter: drop-shadow(0px 1px 2px rgba(0, 0, 0, 0.3));\n",
              "      fill: #FFFFFF;\n",
              "    }\n",
              "  </style>\n",
              "\n",
              "      <script>\n",
              "        const buttonEl =\n",
              "          document.querySelector('#df-04397f08-bf84-4330-a709-f5f402e9da83 button.colab-df-convert');\n",
              "        buttonEl.style.display =\n",
              "          google.colab.kernel.accessAllowed ? 'block' : 'none';\n",
              "\n",
              "        async function convertToInteractive(key) {\n",
              "          const element = document.querySelector('#df-04397f08-bf84-4330-a709-f5f402e9da83');\n",
              "          const dataTable =\n",
              "            await google.colab.kernel.invokeFunction('convertToInteractive',\n",
              "                                                     [key], {});\n",
              "          if (!dataTable) return;\n",
              "\n",
              "          const docLinkHtml = 'Like what you see? Visit the ' +\n",
              "            '<a target=\"_blank\" href=https://colab.research.google.com/notebooks/data_table.ipynb>data table notebook</a>'\n",
              "            + ' to learn more about interactive tables.';\n",
              "          element.innerHTML = '';\n",
              "          dataTable['output_type'] = 'display_data';\n",
              "          await google.colab.output.renderOutput(dataTable, element);\n",
              "          const docLink = document.createElement('div');\n",
              "          docLink.innerHTML = docLinkHtml;\n",
              "          element.appendChild(docLink);\n",
              "        }\n",
              "      </script>\n",
              "    </div>\n",
              "  </div>\n",
              "  "
            ],
            "text/plain": [
              "     Name Age Gender\n",
              "0    Aman  34      M\n",
              "1     Joy  31      M\n",
              "2  Rashmi  22      F\n",
              "3    Saif  33      M"
            ]
          },
          "execution_count": 48,
          "metadata": {},
          "output_type": "execute_result"
        }
      ],
      "source": [
        "df1"
      ]
    },
    {
      "cell_type": "code",
      "execution_count": null,
      "metadata": {
        "colab": {
          "base_uri": "https://localhost:8080/",
          "height": 143
        },
        "id": "EP8waCUqO74O",
        "outputId": "581bb947-72ca-42fc-da35-b16222d7a894"
      },
      "outputs": [
        {
          "data": {
            "text/html": [
              "\n",
              "  <div id=\"df-c3d222e1-0a81-4b11-b291-f1c2f367b714\">\n",
              "    <div class=\"colab-df-container\">\n",
              "      <div>\n",
              "<style scoped>\n",
              "    .dataframe tbody tr th:only-of-type {\n",
              "        vertical-align: middle;\n",
              "    }\n",
              "\n",
              "    .dataframe tbody tr th {\n",
              "        vertical-align: top;\n",
              "    }\n",
              "\n",
              "    .dataframe thead th {\n",
              "        text-align: right;\n",
              "    }\n",
              "</style>\n",
              "<table border=\"1\" class=\"dataframe\">\n",
              "  <thead>\n",
              "    <tr style=\"text-align: right;\">\n",
              "      <th></th>\n",
              "      <th>Name</th>\n",
              "      <th>Age</th>\n",
              "      <th>Gender</th>\n",
              "    </tr>\n",
              "  </thead>\n",
              "  <tbody>\n",
              "    <tr>\n",
              "      <th>0</th>\n",
              "      <td>Akhil</td>\n",
              "      <td>31</td>\n",
              "      <td>M</td>\n",
              "    </tr>\n",
              "    <tr>\n",
              "      <th>1</th>\n",
              "      <td>Asha</td>\n",
              "      <td>22</td>\n",
              "      <td>F</td>\n",
              "    </tr>\n",
              "    <tr>\n",
              "      <th>2</th>\n",
              "      <td>Preeti</td>\n",
              "      <td>23</td>\n",
              "      <td>F</td>\n",
              "    </tr>\n",
              "  </tbody>\n",
              "</table>\n",
              "</div>\n",
              "      <button class=\"colab-df-convert\" onclick=\"convertToInteractive('df-c3d222e1-0a81-4b11-b291-f1c2f367b714')\"\n",
              "              title=\"Convert this dataframe to an interactive table.\"\n",
              "              style=\"display:none;\">\n",
              "        \n",
              "  <svg xmlns=\"http://www.w3.org/2000/svg\" height=\"24px\"viewBox=\"0 0 24 24\"\n",
              "       width=\"24px\">\n",
              "    <path d=\"M0 0h24v24H0V0z\" fill=\"none\"/>\n",
              "    <path d=\"M18.56 5.44l.94 2.06.94-2.06 2.06-.94-2.06-.94-.94-2.06-.94 2.06-2.06.94zm-11 1L8.5 8.5l.94-2.06 2.06-.94-2.06-.94L8.5 2.5l-.94 2.06-2.06.94zm10 10l.94 2.06.94-2.06 2.06-.94-2.06-.94-.94-2.06-.94 2.06-2.06.94z\"/><path d=\"M17.41 7.96l-1.37-1.37c-.4-.4-.92-.59-1.43-.59-.52 0-1.04.2-1.43.59L10.3 9.45l-7.72 7.72c-.78.78-.78 2.05 0 2.83L4 21.41c.39.39.9.59 1.41.59.51 0 1.02-.2 1.41-.59l7.78-7.78 2.81-2.81c.8-.78.8-2.07 0-2.86zM5.41 20L4 18.59l7.72-7.72 1.47 1.35L5.41 20z\"/>\n",
              "  </svg>\n",
              "      </button>\n",
              "      \n",
              "  <style>\n",
              "    .colab-df-container {\n",
              "      display:flex;\n",
              "      flex-wrap:wrap;\n",
              "      gap: 12px;\n",
              "    }\n",
              "\n",
              "    .colab-df-convert {\n",
              "      background-color: #E8F0FE;\n",
              "      border: none;\n",
              "      border-radius: 50%;\n",
              "      cursor: pointer;\n",
              "      display: none;\n",
              "      fill: #1967D2;\n",
              "      height: 32px;\n",
              "      padding: 0 0 0 0;\n",
              "      width: 32px;\n",
              "    }\n",
              "\n",
              "    .colab-df-convert:hover {\n",
              "      background-color: #E2EBFA;\n",
              "      box-shadow: 0px 1px 2px rgba(60, 64, 67, 0.3), 0px 1px 3px 1px rgba(60, 64, 67, 0.15);\n",
              "      fill: #174EA6;\n",
              "    }\n",
              "\n",
              "    [theme=dark] .colab-df-convert {\n",
              "      background-color: #3B4455;\n",
              "      fill: #D2E3FC;\n",
              "    }\n",
              "\n",
              "    [theme=dark] .colab-df-convert:hover {\n",
              "      background-color: #434B5C;\n",
              "      box-shadow: 0px 1px 3px 1px rgba(0, 0, 0, 0.15);\n",
              "      filter: drop-shadow(0px 1px 2px rgba(0, 0, 0, 0.3));\n",
              "      fill: #FFFFFF;\n",
              "    }\n",
              "  </style>\n",
              "\n",
              "      <script>\n",
              "        const buttonEl =\n",
              "          document.querySelector('#df-c3d222e1-0a81-4b11-b291-f1c2f367b714 button.colab-df-convert');\n",
              "        buttonEl.style.display =\n",
              "          google.colab.kernel.accessAllowed ? 'block' : 'none';\n",
              "\n",
              "        async function convertToInteractive(key) {\n",
              "          const element = document.querySelector('#df-c3d222e1-0a81-4b11-b291-f1c2f367b714');\n",
              "          const dataTable =\n",
              "            await google.colab.kernel.invokeFunction('convertToInteractive',\n",
              "                                                     [key], {});\n",
              "          if (!dataTable) return;\n",
              "\n",
              "          const docLinkHtml = 'Like what you see? Visit the ' +\n",
              "            '<a target=\"_blank\" href=https://colab.research.google.com/notebooks/data_table.ipynb>data table notebook</a>'\n",
              "            + ' to learn more about interactive tables.';\n",
              "          element.innerHTML = '';\n",
              "          dataTable['output_type'] = 'display_data';\n",
              "          await google.colab.output.renderOutput(dataTable, element);\n",
              "          const docLink = document.createElement('div');\n",
              "          docLink.innerHTML = docLinkHtml;\n",
              "          element.appendChild(docLink);\n",
              "        }\n",
              "      </script>\n",
              "    </div>\n",
              "  </div>\n",
              "  "
            ],
            "text/plain": [
              "     Name Age Gender\n",
              "0   Akhil  31      M\n",
              "1    Asha  22      F\n",
              "2  Preeti  23      F"
            ]
          },
          "execution_count": 49,
          "metadata": {},
          "output_type": "execute_result"
        }
      ],
      "source": [
        "df2"
      ]
    },
    {
      "cell_type": "code",
      "execution_count": null,
      "metadata": {
        "colab": {
          "base_uri": "https://localhost:8080/",
          "height": 269
        },
        "id": "GCzP9wtxO717",
        "outputId": "3b5420b9-80b5-42fe-f389-850623d74c93"
      },
      "outputs": [
        {
          "data": {
            "text/html": [
              "\n",
              "  <div id=\"df-2f3dceae-af6e-4426-a6fb-33fac64b641e\">\n",
              "    <div class=\"colab-df-container\">\n",
              "      <div>\n",
              "<style scoped>\n",
              "    .dataframe tbody tr th:only-of-type {\n",
              "        vertical-align: middle;\n",
              "    }\n",
              "\n",
              "    .dataframe tbody tr th {\n",
              "        vertical-align: top;\n",
              "    }\n",
              "\n",
              "    .dataframe thead th {\n",
              "        text-align: right;\n",
              "    }\n",
              "</style>\n",
              "<table border=\"1\" class=\"dataframe\">\n",
              "  <thead>\n",
              "    <tr style=\"text-align: right;\">\n",
              "      <th></th>\n",
              "      <th>Name</th>\n",
              "      <th>Age</th>\n",
              "      <th>Gender</th>\n",
              "    </tr>\n",
              "  </thead>\n",
              "  <tbody>\n",
              "    <tr>\n",
              "      <th>0</th>\n",
              "      <td>Aman</td>\n",
              "      <td>34</td>\n",
              "      <td>M</td>\n",
              "    </tr>\n",
              "    <tr>\n",
              "      <th>1</th>\n",
              "      <td>Joy</td>\n",
              "      <td>31</td>\n",
              "      <td>M</td>\n",
              "    </tr>\n",
              "    <tr>\n",
              "      <th>2</th>\n",
              "      <td>Rashmi</td>\n",
              "      <td>22</td>\n",
              "      <td>F</td>\n",
              "    </tr>\n",
              "    <tr>\n",
              "      <th>3</th>\n",
              "      <td>Saif</td>\n",
              "      <td>33</td>\n",
              "      <td>M</td>\n",
              "    </tr>\n",
              "    <tr>\n",
              "      <th>0</th>\n",
              "      <td>Akhil</td>\n",
              "      <td>31</td>\n",
              "      <td>M</td>\n",
              "    </tr>\n",
              "    <tr>\n",
              "      <th>1</th>\n",
              "      <td>Asha</td>\n",
              "      <td>22</td>\n",
              "      <td>F</td>\n",
              "    </tr>\n",
              "    <tr>\n",
              "      <th>2</th>\n",
              "      <td>Preeti</td>\n",
              "      <td>23</td>\n",
              "      <td>F</td>\n",
              "    </tr>\n",
              "  </tbody>\n",
              "</table>\n",
              "</div>\n",
              "      <button class=\"colab-df-convert\" onclick=\"convertToInteractive('df-2f3dceae-af6e-4426-a6fb-33fac64b641e')\"\n",
              "              title=\"Convert this dataframe to an interactive table.\"\n",
              "              style=\"display:none;\">\n",
              "        \n",
              "  <svg xmlns=\"http://www.w3.org/2000/svg\" height=\"24px\"viewBox=\"0 0 24 24\"\n",
              "       width=\"24px\">\n",
              "    <path d=\"M0 0h24v24H0V0z\" fill=\"none\"/>\n",
              "    <path d=\"M18.56 5.44l.94 2.06.94-2.06 2.06-.94-2.06-.94-.94-2.06-.94 2.06-2.06.94zm-11 1L8.5 8.5l.94-2.06 2.06-.94-2.06-.94L8.5 2.5l-.94 2.06-2.06.94zm10 10l.94 2.06.94-2.06 2.06-.94-2.06-.94-.94-2.06-.94 2.06-2.06.94z\"/><path d=\"M17.41 7.96l-1.37-1.37c-.4-.4-.92-.59-1.43-.59-.52 0-1.04.2-1.43.59L10.3 9.45l-7.72 7.72c-.78.78-.78 2.05 0 2.83L4 21.41c.39.39.9.59 1.41.59.51 0 1.02-.2 1.41-.59l7.78-7.78 2.81-2.81c.8-.78.8-2.07 0-2.86zM5.41 20L4 18.59l7.72-7.72 1.47 1.35L5.41 20z\"/>\n",
              "  </svg>\n",
              "      </button>\n",
              "      \n",
              "  <style>\n",
              "    .colab-df-container {\n",
              "      display:flex;\n",
              "      flex-wrap:wrap;\n",
              "      gap: 12px;\n",
              "    }\n",
              "\n",
              "    .colab-df-convert {\n",
              "      background-color: #E8F0FE;\n",
              "      border: none;\n",
              "      border-radius: 50%;\n",
              "      cursor: pointer;\n",
              "      display: none;\n",
              "      fill: #1967D2;\n",
              "      height: 32px;\n",
              "      padding: 0 0 0 0;\n",
              "      width: 32px;\n",
              "    }\n",
              "\n",
              "    .colab-df-convert:hover {\n",
              "      background-color: #E2EBFA;\n",
              "      box-shadow: 0px 1px 2px rgba(60, 64, 67, 0.3), 0px 1px 3px 1px rgba(60, 64, 67, 0.15);\n",
              "      fill: #174EA6;\n",
              "    }\n",
              "\n",
              "    [theme=dark] .colab-df-convert {\n",
              "      background-color: #3B4455;\n",
              "      fill: #D2E3FC;\n",
              "    }\n",
              "\n",
              "    [theme=dark] .colab-df-convert:hover {\n",
              "      background-color: #434B5C;\n",
              "      box-shadow: 0px 1px 3px 1px rgba(0, 0, 0, 0.15);\n",
              "      filter: drop-shadow(0px 1px 2px rgba(0, 0, 0, 0.3));\n",
              "      fill: #FFFFFF;\n",
              "    }\n",
              "  </style>\n",
              "\n",
              "      <script>\n",
              "        const buttonEl =\n",
              "          document.querySelector('#df-2f3dceae-af6e-4426-a6fb-33fac64b641e button.colab-df-convert');\n",
              "        buttonEl.style.display =\n",
              "          google.colab.kernel.accessAllowed ? 'block' : 'none';\n",
              "\n",
              "        async function convertToInteractive(key) {\n",
              "          const element = document.querySelector('#df-2f3dceae-af6e-4426-a6fb-33fac64b641e');\n",
              "          const dataTable =\n",
              "            await google.colab.kernel.invokeFunction('convertToInteractive',\n",
              "                                                     [key], {});\n",
              "          if (!dataTable) return;\n",
              "\n",
              "          const docLinkHtml = 'Like what you see? Visit the ' +\n",
              "            '<a target=\"_blank\" href=https://colab.research.google.com/notebooks/data_table.ipynb>data table notebook</a>'\n",
              "            + ' to learn more about interactive tables.';\n",
              "          element.innerHTML = '';\n",
              "          dataTable['output_type'] = 'display_data';\n",
              "          await google.colab.output.renderOutput(dataTable, element);\n",
              "          const docLink = document.createElement('div');\n",
              "          docLink.innerHTML = docLinkHtml;\n",
              "          element.appendChild(docLink);\n",
              "        }\n",
              "      </script>\n",
              "    </div>\n",
              "  </div>\n",
              "  "
            ],
            "text/plain": [
              "     Name Age Gender\n",
              "0    Aman  34      M\n",
              "1     Joy  31      M\n",
              "2  Rashmi  22      F\n",
              "3    Saif  33      M\n",
              "0   Akhil  31      M\n",
              "1    Asha  22      F\n",
              "2  Preeti  23      F"
            ]
          },
          "execution_count": 50,
          "metadata": {},
          "output_type": "execute_result"
        }
      ],
      "source": [
        "# Append the rows of df2 in df1\n",
        "df1.append(df2)"
      ]
    },
    {
      "cell_type": "code",
      "execution_count": null,
      "metadata": {
        "colab": {
          "base_uri": "https://localhost:8080/",
          "height": 175
        },
        "id": "mAdmQWFiO7zh",
        "outputId": "f1973216-7c5b-4f3c-d2d3-9ed8dfe228b5"
      },
      "outputs": [
        {
          "data": {
            "text/html": [
              "\n",
              "  <div id=\"df-82324d1a-a9dc-4d2a-bc6a-16d2f94e0910\">\n",
              "    <div class=\"colab-df-container\">\n",
              "      <div>\n",
              "<style scoped>\n",
              "    .dataframe tbody tr th:only-of-type {\n",
              "        vertical-align: middle;\n",
              "    }\n",
              "\n",
              "    .dataframe tbody tr th {\n",
              "        vertical-align: top;\n",
              "    }\n",
              "\n",
              "    .dataframe thead th {\n",
              "        text-align: right;\n",
              "    }\n",
              "</style>\n",
              "<table border=\"1\" class=\"dataframe\">\n",
              "  <thead>\n",
              "    <tr style=\"text-align: right;\">\n",
              "      <th></th>\n",
              "      <th>School</th>\n",
              "      <th>Graduation Marks</th>\n",
              "    </tr>\n",
              "  </thead>\n",
              "  <tbody>\n",
              "    <tr>\n",
              "      <th>0</th>\n",
              "      <td>RK Public</td>\n",
              "      <td>84</td>\n",
              "    </tr>\n",
              "    <tr>\n",
              "      <th>1</th>\n",
              "      <td>JSP</td>\n",
              "      <td>89</td>\n",
              "    </tr>\n",
              "    <tr>\n",
              "      <th>2</th>\n",
              "      <td>Carmel Convent</td>\n",
              "      <td>76</td>\n",
              "    </tr>\n",
              "    <tr>\n",
              "      <th>3</th>\n",
              "      <td>St. Paul</td>\n",
              "      <td>91</td>\n",
              "    </tr>\n",
              "  </tbody>\n",
              "</table>\n",
              "</div>\n",
              "      <button class=\"colab-df-convert\" onclick=\"convertToInteractive('df-82324d1a-a9dc-4d2a-bc6a-16d2f94e0910')\"\n",
              "              title=\"Convert this dataframe to an interactive table.\"\n",
              "              style=\"display:none;\">\n",
              "        \n",
              "  <svg xmlns=\"http://www.w3.org/2000/svg\" height=\"24px\"viewBox=\"0 0 24 24\"\n",
              "       width=\"24px\">\n",
              "    <path d=\"M0 0h24v24H0V0z\" fill=\"none\"/>\n",
              "    <path d=\"M18.56 5.44l.94 2.06.94-2.06 2.06-.94-2.06-.94-.94-2.06-.94 2.06-2.06.94zm-11 1L8.5 8.5l.94-2.06 2.06-.94-2.06-.94L8.5 2.5l-.94 2.06-2.06.94zm10 10l.94 2.06.94-2.06 2.06-.94-2.06-.94-.94-2.06-.94 2.06-2.06.94z\"/><path d=\"M17.41 7.96l-1.37-1.37c-.4-.4-.92-.59-1.43-.59-.52 0-1.04.2-1.43.59L10.3 9.45l-7.72 7.72c-.78.78-.78 2.05 0 2.83L4 21.41c.39.39.9.59 1.41.59.51 0 1.02-.2 1.41-.59l7.78-7.78 2.81-2.81c.8-.78.8-2.07 0-2.86zM5.41 20L4 18.59l7.72-7.72 1.47 1.35L5.41 20z\"/>\n",
              "  </svg>\n",
              "      </button>\n",
              "      \n",
              "  <style>\n",
              "    .colab-df-container {\n",
              "      display:flex;\n",
              "      flex-wrap:wrap;\n",
              "      gap: 12px;\n",
              "    }\n",
              "\n",
              "    .colab-df-convert {\n",
              "      background-color: #E8F0FE;\n",
              "      border: none;\n",
              "      border-radius: 50%;\n",
              "      cursor: pointer;\n",
              "      display: none;\n",
              "      fill: #1967D2;\n",
              "      height: 32px;\n",
              "      padding: 0 0 0 0;\n",
              "      width: 32px;\n",
              "    }\n",
              "\n",
              "    .colab-df-convert:hover {\n",
              "      background-color: #E2EBFA;\n",
              "      box-shadow: 0px 1px 2px rgba(60, 64, 67, 0.3), 0px 1px 3px 1px rgba(60, 64, 67, 0.15);\n",
              "      fill: #174EA6;\n",
              "    }\n",
              "\n",
              "    [theme=dark] .colab-df-convert {\n",
              "      background-color: #3B4455;\n",
              "      fill: #D2E3FC;\n",
              "    }\n",
              "\n",
              "    [theme=dark] .colab-df-convert:hover {\n",
              "      background-color: #434B5C;\n",
              "      box-shadow: 0px 1px 3px 1px rgba(0, 0, 0, 0.15);\n",
              "      filter: drop-shadow(0px 1px 2px rgba(0, 0, 0, 0.3));\n",
              "      fill: #FFFFFF;\n",
              "    }\n",
              "  </style>\n",
              "\n",
              "      <script>\n",
              "        const buttonEl =\n",
              "          document.querySelector('#df-82324d1a-a9dc-4d2a-bc6a-16d2f94e0910 button.colab-df-convert');\n",
              "        buttonEl.style.display =\n",
              "          google.colab.kernel.accessAllowed ? 'block' : 'none';\n",
              "\n",
              "        async function convertToInteractive(key) {\n",
              "          const element = document.querySelector('#df-82324d1a-a9dc-4d2a-bc6a-16d2f94e0910');\n",
              "          const dataTable =\n",
              "            await google.colab.kernel.invokeFunction('convertToInteractive',\n",
              "                                                     [key], {});\n",
              "          if (!dataTable) return;\n",
              "\n",
              "          const docLinkHtml = 'Like what you see? Visit the ' +\n",
              "            '<a target=\"_blank\" href=https://colab.research.google.com/notebooks/data_table.ipynb>data table notebook</a>'\n",
              "            + ' to learn more about interactive tables.';\n",
              "          element.innerHTML = '';\n",
              "          dataTable['output_type'] = 'display_data';\n",
              "          await google.colab.output.renderOutput(dataTable, element);\n",
              "          const docLink = document.createElement('div');\n",
              "          docLink.innerHTML = docLinkHtml;\n",
              "          element.appendChild(docLink);\n",
              "        }\n",
              "      </script>\n",
              "    </div>\n",
              "  </div>\n",
              "  "
            ],
            "text/plain": [
              "           School Graduation Marks\n",
              "0       RK Public               84\n",
              "1             JSP               89\n",
              "2  Carmel Convent               76\n",
              "3        St. Paul               91"
            ]
          },
          "execution_count": 51,
          "metadata": {},
          "output_type": "execute_result"
        }
      ],
      "source": [
        "df3"
      ]
    },
    {
      "cell_type": "code",
      "execution_count": null,
      "metadata": {
        "colab": {
          "base_uri": "https://localhost:8080/",
          "height": 269
        },
        "id": "j6UkTiG_O7wo",
        "outputId": "be66aa72-7f53-467b-af0b-e2981ab8f52b"
      },
      "outputs": [
        {
          "data": {
            "text/html": [
              "\n",
              "  <div id=\"df-9feab0ff-f21b-46cc-9ee9-b5f1af4bd2a7\">\n",
              "    <div class=\"colab-df-container\">\n",
              "      <div>\n",
              "<style scoped>\n",
              "    .dataframe tbody tr th:only-of-type {\n",
              "        vertical-align: middle;\n",
              "    }\n",
              "\n",
              "    .dataframe tbody tr th {\n",
              "        vertical-align: top;\n",
              "    }\n",
              "\n",
              "    .dataframe thead th {\n",
              "        text-align: right;\n",
              "    }\n",
              "</style>\n",
              "<table border=\"1\" class=\"dataframe\">\n",
              "  <thead>\n",
              "    <tr style=\"text-align: right;\">\n",
              "      <th></th>\n",
              "      <th>Name</th>\n",
              "      <th>Age</th>\n",
              "      <th>Gender</th>\n",
              "      <th>School</th>\n",
              "      <th>Graduation Marks</th>\n",
              "    </tr>\n",
              "  </thead>\n",
              "  <tbody>\n",
              "    <tr>\n",
              "      <th>0</th>\n",
              "      <td>Akhil</td>\n",
              "      <td>31</td>\n",
              "      <td>M</td>\n",
              "      <td>NaN</td>\n",
              "      <td>NaN</td>\n",
              "    </tr>\n",
              "    <tr>\n",
              "      <th>1</th>\n",
              "      <td>Asha</td>\n",
              "      <td>22</td>\n",
              "      <td>F</td>\n",
              "      <td>NaN</td>\n",
              "      <td>NaN</td>\n",
              "    </tr>\n",
              "    <tr>\n",
              "      <th>2</th>\n",
              "      <td>Preeti</td>\n",
              "      <td>23</td>\n",
              "      <td>F</td>\n",
              "      <td>NaN</td>\n",
              "      <td>NaN</td>\n",
              "    </tr>\n",
              "    <tr>\n",
              "      <th>0</th>\n",
              "      <td>NaN</td>\n",
              "      <td>NaN</td>\n",
              "      <td>NaN</td>\n",
              "      <td>RK Public</td>\n",
              "      <td>84</td>\n",
              "    </tr>\n",
              "    <tr>\n",
              "      <th>1</th>\n",
              "      <td>NaN</td>\n",
              "      <td>NaN</td>\n",
              "      <td>NaN</td>\n",
              "      <td>JSP</td>\n",
              "      <td>89</td>\n",
              "    </tr>\n",
              "    <tr>\n",
              "      <th>2</th>\n",
              "      <td>NaN</td>\n",
              "      <td>NaN</td>\n",
              "      <td>NaN</td>\n",
              "      <td>Carmel Convent</td>\n",
              "      <td>76</td>\n",
              "    </tr>\n",
              "    <tr>\n",
              "      <th>3</th>\n",
              "      <td>NaN</td>\n",
              "      <td>NaN</td>\n",
              "      <td>NaN</td>\n",
              "      <td>St. Paul</td>\n",
              "      <td>91</td>\n",
              "    </tr>\n",
              "  </tbody>\n",
              "</table>\n",
              "</div>\n",
              "      <button class=\"colab-df-convert\" onclick=\"convertToInteractive('df-9feab0ff-f21b-46cc-9ee9-b5f1af4bd2a7')\"\n",
              "              title=\"Convert this dataframe to an interactive table.\"\n",
              "              style=\"display:none;\">\n",
              "        \n",
              "  <svg xmlns=\"http://www.w3.org/2000/svg\" height=\"24px\"viewBox=\"0 0 24 24\"\n",
              "       width=\"24px\">\n",
              "    <path d=\"M0 0h24v24H0V0z\" fill=\"none\"/>\n",
              "    <path d=\"M18.56 5.44l.94 2.06.94-2.06 2.06-.94-2.06-.94-.94-2.06-.94 2.06-2.06.94zm-11 1L8.5 8.5l.94-2.06 2.06-.94-2.06-.94L8.5 2.5l-.94 2.06-2.06.94zm10 10l.94 2.06.94-2.06 2.06-.94-2.06-.94-.94-2.06-.94 2.06-2.06.94z\"/><path d=\"M17.41 7.96l-1.37-1.37c-.4-.4-.92-.59-1.43-.59-.52 0-1.04.2-1.43.59L10.3 9.45l-7.72 7.72c-.78.78-.78 2.05 0 2.83L4 21.41c.39.39.9.59 1.41.59.51 0 1.02-.2 1.41-.59l7.78-7.78 2.81-2.81c.8-.78.8-2.07 0-2.86zM5.41 20L4 18.59l7.72-7.72 1.47 1.35L5.41 20z\"/>\n",
              "  </svg>\n",
              "      </button>\n",
              "      \n",
              "  <style>\n",
              "    .colab-df-container {\n",
              "      display:flex;\n",
              "      flex-wrap:wrap;\n",
              "      gap: 12px;\n",
              "    }\n",
              "\n",
              "    .colab-df-convert {\n",
              "      background-color: #E8F0FE;\n",
              "      border: none;\n",
              "      border-radius: 50%;\n",
              "      cursor: pointer;\n",
              "      display: none;\n",
              "      fill: #1967D2;\n",
              "      height: 32px;\n",
              "      padding: 0 0 0 0;\n",
              "      width: 32px;\n",
              "    }\n",
              "\n",
              "    .colab-df-convert:hover {\n",
              "      background-color: #E2EBFA;\n",
              "      box-shadow: 0px 1px 2px rgba(60, 64, 67, 0.3), 0px 1px 3px 1px rgba(60, 64, 67, 0.15);\n",
              "      fill: #174EA6;\n",
              "    }\n",
              "\n",
              "    [theme=dark] .colab-df-convert {\n",
              "      background-color: #3B4455;\n",
              "      fill: #D2E3FC;\n",
              "    }\n",
              "\n",
              "    [theme=dark] .colab-df-convert:hover {\n",
              "      background-color: #434B5C;\n",
              "      box-shadow: 0px 1px 3px 1px rgba(0, 0, 0, 0.15);\n",
              "      filter: drop-shadow(0px 1px 2px rgba(0, 0, 0, 0.3));\n",
              "      fill: #FFFFFF;\n",
              "    }\n",
              "  </style>\n",
              "\n",
              "      <script>\n",
              "        const buttonEl =\n",
              "          document.querySelector('#df-9feab0ff-f21b-46cc-9ee9-b5f1af4bd2a7 button.colab-df-convert');\n",
              "        buttonEl.style.display =\n",
              "          google.colab.kernel.accessAllowed ? 'block' : 'none';\n",
              "\n",
              "        async function convertToInteractive(key) {\n",
              "          const element = document.querySelector('#df-9feab0ff-f21b-46cc-9ee9-b5f1af4bd2a7');\n",
              "          const dataTable =\n",
              "            await google.colab.kernel.invokeFunction('convertToInteractive',\n",
              "                                                     [key], {});\n",
              "          if (!dataTable) return;\n",
              "\n",
              "          const docLinkHtml = 'Like what you see? Visit the ' +\n",
              "            '<a target=\"_blank\" href=https://colab.research.google.com/notebooks/data_table.ipynb>data table notebook</a>'\n",
              "            + ' to learn more about interactive tables.';\n",
              "          element.innerHTML = '';\n",
              "          dataTable['output_type'] = 'display_data';\n",
              "          await google.colab.output.renderOutput(dataTable, element);\n",
              "          const docLink = document.createElement('div');\n",
              "          docLink.innerHTML = docLinkHtml;\n",
              "          element.appendChild(docLink);\n",
              "        }\n",
              "      </script>\n",
              "    </div>\n",
              "  </div>\n",
              "  "
            ],
            "text/plain": [
              "     Name  Age Gender          School Graduation Marks\n",
              "0   Akhil   31      M             NaN              NaN\n",
              "1    Asha   22      F             NaN              NaN\n",
              "2  Preeti   23      F             NaN              NaN\n",
              "0     NaN  NaN    NaN       RK Public               84\n",
              "1     NaN  NaN    NaN             JSP               89\n",
              "2     NaN  NaN    NaN  Carmel Convent               76\n",
              "3     NaN  NaN    NaN        St. Paul               91"
            ]
          },
          "execution_count": 52,
          "metadata": {},
          "output_type": "execute_result"
        }
      ],
      "source": [
        "# Concatenating the dataframes: df1 and df3\n",
        "# default axis =0 ie acts like append\n",
        "pd.concat([df2, df3])\n"
      ]
    },
    {
      "cell_type": "code",
      "execution_count": null,
      "metadata": {
        "colab": {
          "base_uri": "https://localhost:8080/",
          "height": 175
        },
        "id": "Ex6KNVpZO7t6",
        "outputId": "78a160b1-86fe-408d-ff8c-397309c8a40c"
      },
      "outputs": [
        {
          "data": {
            "text/html": [
              "\n",
              "  <div id=\"df-ea30fcbc-2f95-4977-b3aa-483b2cfd7bdd\">\n",
              "    <div class=\"colab-df-container\">\n",
              "      <div>\n",
              "<style scoped>\n",
              "    .dataframe tbody tr th:only-of-type {\n",
              "        vertical-align: middle;\n",
              "    }\n",
              "\n",
              "    .dataframe tbody tr th {\n",
              "        vertical-align: top;\n",
              "    }\n",
              "\n",
              "    .dataframe thead th {\n",
              "        text-align: right;\n",
              "    }\n",
              "</style>\n",
              "<table border=\"1\" class=\"dataframe\">\n",
              "  <thead>\n",
              "    <tr style=\"text-align: right;\">\n",
              "      <th></th>\n",
              "      <th>Name</th>\n",
              "      <th>Age</th>\n",
              "      <th>Gender</th>\n",
              "      <th>School</th>\n",
              "      <th>Graduation Marks</th>\n",
              "    </tr>\n",
              "  </thead>\n",
              "  <tbody>\n",
              "    <tr>\n",
              "      <th>0</th>\n",
              "      <td>Akhil</td>\n",
              "      <td>31</td>\n",
              "      <td>M</td>\n",
              "      <td>RK Public</td>\n",
              "      <td>84</td>\n",
              "    </tr>\n",
              "    <tr>\n",
              "      <th>1</th>\n",
              "      <td>Asha</td>\n",
              "      <td>22</td>\n",
              "      <td>F</td>\n",
              "      <td>JSP</td>\n",
              "      <td>89</td>\n",
              "    </tr>\n",
              "    <tr>\n",
              "      <th>2</th>\n",
              "      <td>Preeti</td>\n",
              "      <td>23</td>\n",
              "      <td>F</td>\n",
              "      <td>Carmel Convent</td>\n",
              "      <td>76</td>\n",
              "    </tr>\n",
              "    <tr>\n",
              "      <th>3</th>\n",
              "      <td>NaN</td>\n",
              "      <td>NaN</td>\n",
              "      <td>NaN</td>\n",
              "      <td>St. Paul</td>\n",
              "      <td>91</td>\n",
              "    </tr>\n",
              "  </tbody>\n",
              "</table>\n",
              "</div>\n",
              "      <button class=\"colab-df-convert\" onclick=\"convertToInteractive('df-ea30fcbc-2f95-4977-b3aa-483b2cfd7bdd')\"\n",
              "              title=\"Convert this dataframe to an interactive table.\"\n",
              "              style=\"display:none;\">\n",
              "        \n",
              "  <svg xmlns=\"http://www.w3.org/2000/svg\" height=\"24px\"viewBox=\"0 0 24 24\"\n",
              "       width=\"24px\">\n",
              "    <path d=\"M0 0h24v24H0V0z\" fill=\"none\"/>\n",
              "    <path d=\"M18.56 5.44l.94 2.06.94-2.06 2.06-.94-2.06-.94-.94-2.06-.94 2.06-2.06.94zm-11 1L8.5 8.5l.94-2.06 2.06-.94-2.06-.94L8.5 2.5l-.94 2.06-2.06.94zm10 10l.94 2.06.94-2.06 2.06-.94-2.06-.94-.94-2.06-.94 2.06-2.06.94z\"/><path d=\"M17.41 7.96l-1.37-1.37c-.4-.4-.92-.59-1.43-.59-.52 0-1.04.2-1.43.59L10.3 9.45l-7.72 7.72c-.78.78-.78 2.05 0 2.83L4 21.41c.39.39.9.59 1.41.59.51 0 1.02-.2 1.41-.59l7.78-7.78 2.81-2.81c.8-.78.8-2.07 0-2.86zM5.41 20L4 18.59l7.72-7.72 1.47 1.35L5.41 20z\"/>\n",
              "  </svg>\n",
              "      </button>\n",
              "      \n",
              "  <style>\n",
              "    .colab-df-container {\n",
              "      display:flex;\n",
              "      flex-wrap:wrap;\n",
              "      gap: 12px;\n",
              "    }\n",
              "\n",
              "    .colab-df-convert {\n",
              "      background-color: #E8F0FE;\n",
              "      border: none;\n",
              "      border-radius: 50%;\n",
              "      cursor: pointer;\n",
              "      display: none;\n",
              "      fill: #1967D2;\n",
              "      height: 32px;\n",
              "      padding: 0 0 0 0;\n",
              "      width: 32px;\n",
              "    }\n",
              "\n",
              "    .colab-df-convert:hover {\n",
              "      background-color: #E2EBFA;\n",
              "      box-shadow: 0px 1px 2px rgba(60, 64, 67, 0.3), 0px 1px 3px 1px rgba(60, 64, 67, 0.15);\n",
              "      fill: #174EA6;\n",
              "    }\n",
              "\n",
              "    [theme=dark] .colab-df-convert {\n",
              "      background-color: #3B4455;\n",
              "      fill: #D2E3FC;\n",
              "    }\n",
              "\n",
              "    [theme=dark] .colab-df-convert:hover {\n",
              "      background-color: #434B5C;\n",
              "      box-shadow: 0px 1px 3px 1px rgba(0, 0, 0, 0.15);\n",
              "      filter: drop-shadow(0px 1px 2px rgba(0, 0, 0, 0.3));\n",
              "      fill: #FFFFFF;\n",
              "    }\n",
              "  </style>\n",
              "\n",
              "      <script>\n",
              "        const buttonEl =\n",
              "          document.querySelector('#df-ea30fcbc-2f95-4977-b3aa-483b2cfd7bdd button.colab-df-convert');\n",
              "        buttonEl.style.display =\n",
              "          google.colab.kernel.accessAllowed ? 'block' : 'none';\n",
              "\n",
              "        async function convertToInteractive(key) {\n",
              "          const element = document.querySelector('#df-ea30fcbc-2f95-4977-b3aa-483b2cfd7bdd');\n",
              "          const dataTable =\n",
              "            await google.colab.kernel.invokeFunction('convertToInteractive',\n",
              "                                                     [key], {});\n",
              "          if (!dataTable) return;\n",
              "\n",
              "          const docLinkHtml = 'Like what you see? Visit the ' +\n",
              "            '<a target=\"_blank\" href=https://colab.research.google.com/notebooks/data_table.ipynb>data table notebook</a>'\n",
              "            + ' to learn more about interactive tables.';\n",
              "          element.innerHTML = '';\n",
              "          dataTable['output_type'] = 'display_data';\n",
              "          await google.colab.output.renderOutput(dataTable, element);\n",
              "          const docLink = document.createElement('div');\n",
              "          docLink.innerHTML = docLinkHtml;\n",
              "          element.appendChild(docLink);\n",
              "        }\n",
              "      </script>\n",
              "    </div>\n",
              "  </div>\n",
              "  "
            ],
            "text/plain": [
              "     Name  Age Gender          School Graduation Marks\n",
              "0   Akhil   31      M       RK Public               84\n",
              "1    Asha   22      F             JSP               89\n",
              "2  Preeti   23      F  Carmel Convent               76\n",
              "3     NaN  NaN    NaN        St. Paul               91"
            ]
          },
          "execution_count": 53,
          "metadata": {},
          "output_type": "execute_result"
        }
      ],
      "source": [
        "# Concatenating the dataframes across column: df1 and df3\n",
        "\n",
        "pd.concat([df2, df3],axis = 1)\n"
      ]
    },
    {
      "cell_type": "code",
      "execution_count": null,
      "metadata": {
        "colab": {
          "base_uri": "https://localhost:8080/"
        },
        "id": "PHV2s8WHO7rN",
        "outputId": "bd377aee-efa8-4f32-8c14-b1899d7e02c0"
      },
      "outputs": [
        {
          "name": "stdout",
          "output_type": "stream",
          "text": [
            "         Medals\n",
            "Country        \n",
            "USA        72.0\n",
            "France     53.0\n",
            "UK         27.0\n",
            "Russia     25.0\n",
            "Germany    20.0\n"
          ]
        }
      ],
      "source": [
        "# Fill value and pd.add\n",
        "# Documentation \"\"\"https://pandas.pydata.org/pandas-docs/stable/reference/api/pandas.DataFrame.add.html\"\"\"\n",
        "\n",
        "\n",
        "gold = pd.DataFrame({'Country': ['USA', 'France', 'Russia'],\n",
        "                         'Medals': [15, 13, 9]}\n",
        "                    )\n",
        "silver = pd.DataFrame({'Country': ['USA', 'Germany', 'Russia'],\n",
        "                        'Medals': [29, 20, 16]}\n",
        "                    )\n",
        "bronze = pd.DataFrame({'Country': ['France', 'USA', 'UK'],\n",
        "                        'Medals': [40, 28, 27]}\n",
        "                    )\n",
        "gold.set_index('Country', inplace = True) \n",
        "silver.set_index('Country', inplace = True) \n",
        "bronze.set_index('Country', inplace = True) \n",
        "total = silver.add(gold,fill_value = 0).add(bronze,fill_value=0)\n",
        "total = total.sort_values(by = 'Medals', ascending = False)\n",
        "print(total)"
      ]
    },
    {
      "cell_type": "markdown",
      "metadata": {
        "id": "uOVSUe0ehGyR"
      },
      "source": [
        "#### Time Series Data"
      ]
    },
    {
      "cell_type": "code",
      "execution_count": null,
      "metadata": {
        "colab": {
          "base_uri": "https://localhost:8080/",
          "height": 423
        },
        "id": "NcOjiUNbgAvf",
        "outputId": "09c16f19-917b-44a2-81f2-2612af7fc198"
      },
      "outputs": [
        {
          "data": {
            "text/html": [
              "\n",
              "  <div id=\"df-04fa65db-075f-41d0-96d8-f83b92ad2015\">\n",
              "    <div class=\"colab-df-container\">\n",
              "      <div>\n",
              "<style scoped>\n",
              "    .dataframe tbody tr th:only-of-type {\n",
              "        vertical-align: middle;\n",
              "    }\n",
              "\n",
              "    .dataframe tbody tr th {\n",
              "        vertical-align: top;\n",
              "    }\n",
              "\n",
              "    .dataframe thead th {\n",
              "        text-align: right;\n",
              "    }\n",
              "</style>\n",
              "<table border=\"1\" class=\"dataframe\">\n",
              "  <thead>\n",
              "    <tr style=\"text-align: right;\">\n",
              "      <th></th>\n",
              "      <th>Temperature</th>\n",
              "      <th>DewPoint</th>\n",
              "      <th>Pressure</th>\n",
              "      <th>Date_Time</th>\n",
              "    </tr>\n",
              "  </thead>\n",
              "  <tbody>\n",
              "    <tr>\n",
              "      <th>0</th>\n",
              "      <td>46.2</td>\n",
              "      <td>37.5</td>\n",
              "      <td>1</td>\n",
              "      <td>20100101 00:00</td>\n",
              "    </tr>\n",
              "    <tr>\n",
              "      <th>1</th>\n",
              "      <td>44.6</td>\n",
              "      <td>37.1</td>\n",
              "      <td>1</td>\n",
              "      <td>20100101 01:00</td>\n",
              "    </tr>\n",
              "    <tr>\n",
              "      <th>2</th>\n",
              "      <td>44.1</td>\n",
              "      <td>36.9</td>\n",
              "      <td>1</td>\n",
              "      <td>20100101 02:00</td>\n",
              "    </tr>\n",
              "    <tr>\n",
              "      <th>3</th>\n",
              "      <td>43.8</td>\n",
              "      <td>36.9</td>\n",
              "      <td>1</td>\n",
              "      <td>20100101 03:00</td>\n",
              "    </tr>\n",
              "    <tr>\n",
              "      <th>4</th>\n",
              "      <td>43.5</td>\n",
              "      <td>36.8</td>\n",
              "      <td>1</td>\n",
              "      <td>20100101 04:00</td>\n",
              "    </tr>\n",
              "    <tr>\n",
              "      <th>...</th>\n",
              "      <td>...</td>\n",
              "      <td>...</td>\n",
              "      <td>...</td>\n",
              "      <td>...</td>\n",
              "    </tr>\n",
              "    <tr>\n",
              "      <th>8754</th>\n",
              "      <td>51.1</td>\n",
              "      <td>38.1</td>\n",
              "      <td>1</td>\n",
              "      <td>20101231 19:00</td>\n",
              "    </tr>\n",
              "    <tr>\n",
              "      <th>8755</th>\n",
              "      <td>49.0</td>\n",
              "      <td>37.9</td>\n",
              "      <td>1</td>\n",
              "      <td>20101231 20:00</td>\n",
              "    </tr>\n",
              "    <tr>\n",
              "      <th>8756</th>\n",
              "      <td>47.9</td>\n",
              "      <td>37.9</td>\n",
              "      <td>1</td>\n",
              "      <td>20101231 21:00</td>\n",
              "    </tr>\n",
              "    <tr>\n",
              "      <th>8757</th>\n",
              "      <td>46.9</td>\n",
              "      <td>37.9</td>\n",
              "      <td>1</td>\n",
              "      <td>20101231 22:00</td>\n",
              "    </tr>\n",
              "    <tr>\n",
              "      <th>8758</th>\n",
              "      <td>46.2</td>\n",
              "      <td>37.7</td>\n",
              "      <td>1</td>\n",
              "      <td>20101231 23:00</td>\n",
              "    </tr>\n",
              "  </tbody>\n",
              "</table>\n",
              "<p>8759 rows × 4 columns</p>\n",
              "</div>\n",
              "      <button class=\"colab-df-convert\" onclick=\"convertToInteractive('df-04fa65db-075f-41d0-96d8-f83b92ad2015')\"\n",
              "              title=\"Convert this dataframe to an interactive table.\"\n",
              "              style=\"display:none;\">\n",
              "        \n",
              "  <svg xmlns=\"http://www.w3.org/2000/svg\" height=\"24px\"viewBox=\"0 0 24 24\"\n",
              "       width=\"24px\">\n",
              "    <path d=\"M0 0h24v24H0V0z\" fill=\"none\"/>\n",
              "    <path d=\"M18.56 5.44l.94 2.06.94-2.06 2.06-.94-2.06-.94-.94-2.06-.94 2.06-2.06.94zm-11 1L8.5 8.5l.94-2.06 2.06-.94-2.06-.94L8.5 2.5l-.94 2.06-2.06.94zm10 10l.94 2.06.94-2.06 2.06-.94-2.06-.94-.94-2.06-.94 2.06-2.06.94z\"/><path d=\"M17.41 7.96l-1.37-1.37c-.4-.4-.92-.59-1.43-.59-.52 0-1.04.2-1.43.59L10.3 9.45l-7.72 7.72c-.78.78-.78 2.05 0 2.83L4 21.41c.39.39.9.59 1.41.59.51 0 1.02-.2 1.41-.59l7.78-7.78 2.81-2.81c.8-.78.8-2.07 0-2.86zM5.41 20L4 18.59l7.72-7.72 1.47 1.35L5.41 20z\"/>\n",
              "  </svg>\n",
              "      </button>\n",
              "      \n",
              "  <style>\n",
              "    .colab-df-container {\n",
              "      display:flex;\n",
              "      flex-wrap:wrap;\n",
              "      gap: 12px;\n",
              "    }\n",
              "\n",
              "    .colab-df-convert {\n",
              "      background-color: #E8F0FE;\n",
              "      border: none;\n",
              "      border-radius: 50%;\n",
              "      cursor: pointer;\n",
              "      display: none;\n",
              "      fill: #1967D2;\n",
              "      height: 32px;\n",
              "      padding: 0 0 0 0;\n",
              "      width: 32px;\n",
              "    }\n",
              "\n",
              "    .colab-df-convert:hover {\n",
              "      background-color: #E2EBFA;\n",
              "      box-shadow: 0px 1px 2px rgba(60, 64, 67, 0.3), 0px 1px 3px 1px rgba(60, 64, 67, 0.15);\n",
              "      fill: #174EA6;\n",
              "    }\n",
              "\n",
              "    [theme=dark] .colab-df-convert {\n",
              "      background-color: #3B4455;\n",
              "      fill: #D2E3FC;\n",
              "    }\n",
              "\n",
              "    [theme=dark] .colab-df-convert:hover {\n",
              "      background-color: #434B5C;\n",
              "      box-shadow: 0px 1px 3px 1px rgba(0, 0, 0, 0.15);\n",
              "      filter: drop-shadow(0px 1px 2px rgba(0, 0, 0, 0.3));\n",
              "      fill: #FFFFFF;\n",
              "    }\n",
              "  </style>\n",
              "\n",
              "      <script>\n",
              "        const buttonEl =\n",
              "          document.querySelector('#df-04fa65db-075f-41d0-96d8-f83b92ad2015 button.colab-df-convert');\n",
              "        buttonEl.style.display =\n",
              "          google.colab.kernel.accessAllowed ? 'block' : 'none';\n",
              "\n",
              "        async function convertToInteractive(key) {\n",
              "          const element = document.querySelector('#df-04fa65db-075f-41d0-96d8-f83b92ad2015');\n",
              "          const dataTable =\n",
              "            await google.colab.kernel.invokeFunction('convertToInteractive',\n",
              "                                                     [key], {});\n",
              "          if (!dataTable) return;\n",
              "\n",
              "          const docLinkHtml = 'Like what you see? Visit the ' +\n",
              "            '<a target=\"_blank\" href=https://colab.research.google.com/notebooks/data_table.ipynb>data table notebook</a>'\n",
              "            + ' to learn more about interactive tables.';\n",
              "          element.innerHTML = '';\n",
              "          dataTable['output_type'] = 'display_data';\n",
              "          await google.colab.output.renderOutput(dataTable, element);\n",
              "          const docLink = document.createElement('div');\n",
              "          docLink.innerHTML = docLinkHtml;\n",
              "          element.appendChild(docLink);\n",
              "        }\n",
              "      </script>\n",
              "    </div>\n",
              "  </div>\n",
              "  "
            ],
            "text/plain": [
              "      Temperature  DewPoint  Pressure       Date_Time\n",
              "0            46.2      37.5         1  20100101 00:00\n",
              "1            44.6      37.1         1  20100101 01:00\n",
              "2            44.1      36.9         1  20100101 02:00\n",
              "3            43.8      36.9         1  20100101 03:00\n",
              "4            43.5      36.8         1  20100101 04:00\n",
              "...           ...       ...       ...             ...\n",
              "8754         51.1      38.1         1  20101231 19:00\n",
              "8755         49.0      37.9         1  20101231 20:00\n",
              "8756         47.9      37.9         1  20101231 21:00\n",
              "8757         46.9      37.9         1  20101231 22:00\n",
              "8758         46.2      37.7         1  20101231 23:00\n",
              "\n",
              "[8759 rows x 4 columns]"
            ]
          },
          "execution_count": 55,
          "metadata": {},
          "output_type": "execute_result"
        }
      ],
      "source": [
        "weather = pd.read_csv('/content/weather_data.csv')\n",
        "weather"
      ]
    },
    {
      "cell_type": "code",
      "execution_count": null,
      "metadata": {
        "colab": {
          "base_uri": "https://localhost:8080/",
          "height": 455
        },
        "id": "_gF31HAZgAsF",
        "outputId": "454ece89-c75c-41e7-ca44-0ae556ee7ebe"
      },
      "outputs": [
        {
          "data": {
            "text/html": [
              "\n",
              "  <div id=\"df-ae2d83ca-3185-4ab3-b25a-9f0e62d1d9e9\">\n",
              "    <div class=\"colab-df-container\">\n",
              "      <div>\n",
              "<style scoped>\n",
              "    .dataframe tbody tr th:only-of-type {\n",
              "        vertical-align: middle;\n",
              "    }\n",
              "\n",
              "    .dataframe tbody tr th {\n",
              "        vertical-align: top;\n",
              "    }\n",
              "\n",
              "    .dataframe thead th {\n",
              "        text-align: right;\n",
              "    }\n",
              "</style>\n",
              "<table border=\"1\" class=\"dataframe\">\n",
              "  <thead>\n",
              "    <tr style=\"text-align: right;\">\n",
              "      <th></th>\n",
              "      <th>Temperature</th>\n",
              "      <th>DewPoint</th>\n",
              "      <th>Pressure</th>\n",
              "    </tr>\n",
              "    <tr>\n",
              "      <th>Date_Time</th>\n",
              "      <th></th>\n",
              "      <th></th>\n",
              "      <th></th>\n",
              "    </tr>\n",
              "  </thead>\n",
              "  <tbody>\n",
              "    <tr>\n",
              "      <th>2010-01-01 00:00:00</th>\n",
              "      <td>46.2</td>\n",
              "      <td>37.5</td>\n",
              "      <td>1</td>\n",
              "    </tr>\n",
              "    <tr>\n",
              "      <th>2010-01-01 01:00:00</th>\n",
              "      <td>44.6</td>\n",
              "      <td>37.1</td>\n",
              "      <td>1</td>\n",
              "    </tr>\n",
              "    <tr>\n",
              "      <th>2010-01-01 02:00:00</th>\n",
              "      <td>44.1</td>\n",
              "      <td>36.9</td>\n",
              "      <td>1</td>\n",
              "    </tr>\n",
              "    <tr>\n",
              "      <th>2010-01-01 03:00:00</th>\n",
              "      <td>43.8</td>\n",
              "      <td>36.9</td>\n",
              "      <td>1</td>\n",
              "    </tr>\n",
              "    <tr>\n",
              "      <th>2010-01-01 04:00:00</th>\n",
              "      <td>43.5</td>\n",
              "      <td>36.8</td>\n",
              "      <td>1</td>\n",
              "    </tr>\n",
              "    <tr>\n",
              "      <th>...</th>\n",
              "      <td>...</td>\n",
              "      <td>...</td>\n",
              "      <td>...</td>\n",
              "    </tr>\n",
              "    <tr>\n",
              "      <th>2010-12-31 19:00:00</th>\n",
              "      <td>51.1</td>\n",
              "      <td>38.1</td>\n",
              "      <td>1</td>\n",
              "    </tr>\n",
              "    <tr>\n",
              "      <th>2010-12-31 20:00:00</th>\n",
              "      <td>49.0</td>\n",
              "      <td>37.9</td>\n",
              "      <td>1</td>\n",
              "    </tr>\n",
              "    <tr>\n",
              "      <th>2010-12-31 21:00:00</th>\n",
              "      <td>47.9</td>\n",
              "      <td>37.9</td>\n",
              "      <td>1</td>\n",
              "    </tr>\n",
              "    <tr>\n",
              "      <th>2010-12-31 22:00:00</th>\n",
              "      <td>46.9</td>\n",
              "      <td>37.9</td>\n",
              "      <td>1</td>\n",
              "    </tr>\n",
              "    <tr>\n",
              "      <th>2010-12-31 23:00:00</th>\n",
              "      <td>46.2</td>\n",
              "      <td>37.7</td>\n",
              "      <td>1</td>\n",
              "    </tr>\n",
              "  </tbody>\n",
              "</table>\n",
              "<p>8759 rows × 3 columns</p>\n",
              "</div>\n",
              "      <button class=\"colab-df-convert\" onclick=\"convertToInteractive('df-ae2d83ca-3185-4ab3-b25a-9f0e62d1d9e9')\"\n",
              "              title=\"Convert this dataframe to an interactive table.\"\n",
              "              style=\"display:none;\">\n",
              "        \n",
              "  <svg xmlns=\"http://www.w3.org/2000/svg\" height=\"24px\"viewBox=\"0 0 24 24\"\n",
              "       width=\"24px\">\n",
              "    <path d=\"M0 0h24v24H0V0z\" fill=\"none\"/>\n",
              "    <path d=\"M18.56 5.44l.94 2.06.94-2.06 2.06-.94-2.06-.94-.94-2.06-.94 2.06-2.06.94zm-11 1L8.5 8.5l.94-2.06 2.06-.94-2.06-.94L8.5 2.5l-.94 2.06-2.06.94zm10 10l.94 2.06.94-2.06 2.06-.94-2.06-.94-.94-2.06-.94 2.06-2.06.94z\"/><path d=\"M17.41 7.96l-1.37-1.37c-.4-.4-.92-.59-1.43-.59-.52 0-1.04.2-1.43.59L10.3 9.45l-7.72 7.72c-.78.78-.78 2.05 0 2.83L4 21.41c.39.39.9.59 1.41.59.51 0 1.02-.2 1.41-.59l7.78-7.78 2.81-2.81c.8-.78.8-2.07 0-2.86zM5.41 20L4 18.59l7.72-7.72 1.47 1.35L5.41 20z\"/>\n",
              "  </svg>\n",
              "      </button>\n",
              "      \n",
              "  <style>\n",
              "    .colab-df-container {\n",
              "      display:flex;\n",
              "      flex-wrap:wrap;\n",
              "      gap: 12px;\n",
              "    }\n",
              "\n",
              "    .colab-df-convert {\n",
              "      background-color: #E8F0FE;\n",
              "      border: none;\n",
              "      border-radius: 50%;\n",
              "      cursor: pointer;\n",
              "      display: none;\n",
              "      fill: #1967D2;\n",
              "      height: 32px;\n",
              "      padding: 0 0 0 0;\n",
              "      width: 32px;\n",
              "    }\n",
              "\n",
              "    .colab-df-convert:hover {\n",
              "      background-color: #E2EBFA;\n",
              "      box-shadow: 0px 1px 2px rgba(60, 64, 67, 0.3), 0px 1px 3px 1px rgba(60, 64, 67, 0.15);\n",
              "      fill: #174EA6;\n",
              "    }\n",
              "\n",
              "    [theme=dark] .colab-df-convert {\n",
              "      background-color: #3B4455;\n",
              "      fill: #D2E3FC;\n",
              "    }\n",
              "\n",
              "    [theme=dark] .colab-df-convert:hover {\n",
              "      background-color: #434B5C;\n",
              "      box-shadow: 0px 1px 3px 1px rgba(0, 0, 0, 0.15);\n",
              "      filter: drop-shadow(0px 1px 2px rgba(0, 0, 0, 0.3));\n",
              "      fill: #FFFFFF;\n",
              "    }\n",
              "  </style>\n",
              "\n",
              "      <script>\n",
              "        const buttonEl =\n",
              "          document.querySelector('#df-ae2d83ca-3185-4ab3-b25a-9f0e62d1d9e9 button.colab-df-convert');\n",
              "        buttonEl.style.display =\n",
              "          google.colab.kernel.accessAllowed ? 'block' : 'none';\n",
              "\n",
              "        async function convertToInteractive(key) {\n",
              "          const element = document.querySelector('#df-ae2d83ca-3185-4ab3-b25a-9f0e62d1d9e9');\n",
              "          const dataTable =\n",
              "            await google.colab.kernel.invokeFunction('convertToInteractive',\n",
              "                                                     [key], {});\n",
              "          if (!dataTable) return;\n",
              "\n",
              "          const docLinkHtml = 'Like what you see? Visit the ' +\n",
              "            '<a target=\"_blank\" href=https://colab.research.google.com/notebooks/data_table.ipynb>data table notebook</a>'\n",
              "            + ' to learn more about interactive tables.';\n",
              "          element.innerHTML = '';\n",
              "          dataTable['output_type'] = 'display_data';\n",
              "          await google.colab.output.renderOutput(dataTable, element);\n",
              "          const docLink = document.createElement('div');\n",
              "          docLink.innerHTML = docLinkHtml;\n",
              "          element.appendChild(docLink);\n",
              "        }\n",
              "      </script>\n",
              "    </div>\n",
              "  </div>\n",
              "  "
            ],
            "text/plain": [
              "                     Temperature  DewPoint  Pressure\n",
              "Date_Time                                           \n",
              "2010-01-01 00:00:00         46.2      37.5         1\n",
              "2010-01-01 01:00:00         44.6      37.1         1\n",
              "2010-01-01 02:00:00         44.1      36.9         1\n",
              "2010-01-01 03:00:00         43.8      36.9         1\n",
              "2010-01-01 04:00:00         43.5      36.8         1\n",
              "...                          ...       ...       ...\n",
              "2010-12-31 19:00:00         51.1      38.1         1\n",
              "2010-12-31 20:00:00         49.0      37.9         1\n",
              "2010-12-31 21:00:00         47.9      37.9         1\n",
              "2010-12-31 22:00:00         46.9      37.9         1\n",
              "2010-12-31 23:00:00         46.2      37.7         1\n",
              "\n",
              "[8759 rows x 3 columns]"
            ]
          },
          "execution_count": 59,
          "metadata": {},
          "output_type": "execute_result"
        }
      ],
      "source": [
        "# Read the dataframe with Date_Time variable in the correct form\n",
        "\n",
        "weather = pd.read_csv('/content/weather_data.csv', parse_dates = ['Date_Time'], index_col='Date_Time')\n",
        "weather"
      ]
    },
    {
      "cell_type": "code",
      "execution_count": null,
      "metadata": {
        "colab": {
          "base_uri": "https://localhost:8080/",
          "height": 833
        },
        "id": "-4t7yIFFgAp5",
        "outputId": "8f9742a4-fe1c-4726-9a44-a9ef5e0429e5"
      },
      "outputs": [
        {
          "data": {
            "text/html": [
              "\n",
              "  <div id=\"df-dd9f8222-5e36-4ceb-94de-e6753a78ca87\">\n",
              "    <div class=\"colab-df-container\">\n",
              "      <div>\n",
              "<style scoped>\n",
              "    .dataframe tbody tr th:only-of-type {\n",
              "        vertical-align: middle;\n",
              "    }\n",
              "\n",
              "    .dataframe tbody tr th {\n",
              "        vertical-align: top;\n",
              "    }\n",
              "\n",
              "    .dataframe thead th {\n",
              "        text-align: right;\n",
              "    }\n",
              "</style>\n",
              "<table border=\"1\" class=\"dataframe\">\n",
              "  <thead>\n",
              "    <tr style=\"text-align: right;\">\n",
              "      <th></th>\n",
              "      <th>Temperature</th>\n",
              "      <th>DewPoint</th>\n",
              "      <th>Pressure</th>\n",
              "    </tr>\n",
              "    <tr>\n",
              "      <th>Date_Time</th>\n",
              "      <th></th>\n",
              "      <th></th>\n",
              "      <th></th>\n",
              "    </tr>\n",
              "  </thead>\n",
              "  <tbody>\n",
              "    <tr>\n",
              "      <th>2010-02-05 00:00:00</th>\n",
              "      <td>48.2</td>\n",
              "      <td>40.9</td>\n",
              "      <td>1</td>\n",
              "    </tr>\n",
              "    <tr>\n",
              "      <th>2010-02-05 01:00:00</th>\n",
              "      <td>47.2</td>\n",
              "      <td>41.0</td>\n",
              "      <td>1</td>\n",
              "    </tr>\n",
              "    <tr>\n",
              "      <th>2010-02-05 02:00:00</th>\n",
              "      <td>46.5</td>\n",
              "      <td>40.6</td>\n",
              "      <td>1</td>\n",
              "    </tr>\n",
              "    <tr>\n",
              "      <th>2010-02-05 03:00:00</th>\n",
              "      <td>45.9</td>\n",
              "      <td>40.4</td>\n",
              "      <td>1</td>\n",
              "    </tr>\n",
              "    <tr>\n",
              "      <th>2010-02-05 04:00:00</th>\n",
              "      <td>45.4</td>\n",
              "      <td>39.9</td>\n",
              "      <td>1</td>\n",
              "    </tr>\n",
              "    <tr>\n",
              "      <th>2010-02-05 05:00:00</th>\n",
              "      <td>44.9</td>\n",
              "      <td>39.5</td>\n",
              "      <td>1</td>\n",
              "    </tr>\n",
              "    <tr>\n",
              "      <th>2010-02-05 06:00:00</th>\n",
              "      <td>45.3</td>\n",
              "      <td>39.6</td>\n",
              "      <td>1</td>\n",
              "    </tr>\n",
              "    <tr>\n",
              "      <th>2010-02-05 07:00:00</th>\n",
              "      <td>44.3</td>\n",
              "      <td>39.1</td>\n",
              "      <td>1</td>\n",
              "    </tr>\n",
              "    <tr>\n",
              "      <th>2010-02-05 08:00:00</th>\n",
              "      <td>44.8</td>\n",
              "      <td>39.5</td>\n",
              "      <td>1</td>\n",
              "    </tr>\n",
              "    <tr>\n",
              "      <th>2010-02-05 09:00:00</th>\n",
              "      <td>48.0</td>\n",
              "      <td>40.8</td>\n",
              "      <td>1</td>\n",
              "    </tr>\n",
              "    <tr>\n",
              "      <th>2010-02-05 10:00:00</th>\n",
              "      <td>51.0</td>\n",
              "      <td>41.0</td>\n",
              "      <td>1</td>\n",
              "    </tr>\n",
              "    <tr>\n",
              "      <th>2010-02-05 11:00:00</th>\n",
              "      <td>54.0</td>\n",
              "      <td>41.0</td>\n",
              "      <td>1</td>\n",
              "    </tr>\n",
              "    <tr>\n",
              "      <th>2010-02-05 12:00:00</th>\n",
              "      <td>56.1</td>\n",
              "      <td>40.7</td>\n",
              "      <td>1</td>\n",
              "    </tr>\n",
              "    <tr>\n",
              "      <th>2010-02-05 13:00:00</th>\n",
              "      <td>58.1</td>\n",
              "      <td>40.9</td>\n",
              "      <td>1</td>\n",
              "    </tr>\n",
              "    <tr>\n",
              "      <th>2010-02-05 14:00:00</th>\n",
              "      <td>59.6</td>\n",
              "      <td>40.8</td>\n",
              "      <td>1</td>\n",
              "    </tr>\n",
              "    <tr>\n",
              "      <th>2010-02-05 15:00:00</th>\n",
              "      <td>60.4</td>\n",
              "      <td>40.7</td>\n",
              "      <td>1</td>\n",
              "    </tr>\n",
              "    <tr>\n",
              "      <th>2010-02-05 16:00:00</th>\n",
              "      <td>60.5</td>\n",
              "      <td>40.4</td>\n",
              "      <td>1</td>\n",
              "    </tr>\n",
              "    <tr>\n",
              "      <th>2010-02-05 17:00:00</th>\n",
              "      <td>59.6</td>\n",
              "      <td>40.2</td>\n",
              "      <td>1</td>\n",
              "    </tr>\n",
              "    <tr>\n",
              "      <th>2010-02-05 18:00:00</th>\n",
              "      <td>57.5</td>\n",
              "      <td>40.1</td>\n",
              "      <td>1</td>\n",
              "    </tr>\n",
              "    <tr>\n",
              "      <th>2010-02-05 19:00:00</th>\n",
              "      <td>53.9</td>\n",
              "      <td>40.4</td>\n",
              "      <td>1</td>\n",
              "    </tr>\n",
              "    <tr>\n",
              "      <th>2010-02-05 20:00:00</th>\n",
              "      <td>51.7</td>\n",
              "      <td>40.7</td>\n",
              "      <td>1</td>\n",
              "    </tr>\n",
              "    <tr>\n",
              "      <th>2010-02-05 21:00:00</th>\n",
              "      <td>50.3</td>\n",
              "      <td>40.6</td>\n",
              "      <td>1</td>\n",
              "    </tr>\n",
              "    <tr>\n",
              "      <th>2010-02-05 22:00:00</th>\n",
              "      <td>49.1</td>\n",
              "      <td>40.5</td>\n",
              "      <td>1</td>\n",
              "    </tr>\n",
              "    <tr>\n",
              "      <th>2010-02-05 23:00:00</th>\n",
              "      <td>48.3</td>\n",
              "      <td>40.6</td>\n",
              "      <td>1</td>\n",
              "    </tr>\n",
              "  </tbody>\n",
              "</table>\n",
              "</div>\n",
              "      <button class=\"colab-df-convert\" onclick=\"convertToInteractive('df-dd9f8222-5e36-4ceb-94de-e6753a78ca87')\"\n",
              "              title=\"Convert this dataframe to an interactive table.\"\n",
              "              style=\"display:none;\">\n",
              "        \n",
              "  <svg xmlns=\"http://www.w3.org/2000/svg\" height=\"24px\"viewBox=\"0 0 24 24\"\n",
              "       width=\"24px\">\n",
              "    <path d=\"M0 0h24v24H0V0z\" fill=\"none\"/>\n",
              "    <path d=\"M18.56 5.44l.94 2.06.94-2.06 2.06-.94-2.06-.94-.94-2.06-.94 2.06-2.06.94zm-11 1L8.5 8.5l.94-2.06 2.06-.94-2.06-.94L8.5 2.5l-.94 2.06-2.06.94zm10 10l.94 2.06.94-2.06 2.06-.94-2.06-.94-.94-2.06-.94 2.06-2.06.94z\"/><path d=\"M17.41 7.96l-1.37-1.37c-.4-.4-.92-.59-1.43-.59-.52 0-1.04.2-1.43.59L10.3 9.45l-7.72 7.72c-.78.78-.78 2.05 0 2.83L4 21.41c.39.39.9.59 1.41.59.51 0 1.02-.2 1.41-.59l7.78-7.78 2.81-2.81c.8-.78.8-2.07 0-2.86zM5.41 20L4 18.59l7.72-7.72 1.47 1.35L5.41 20z\"/>\n",
              "  </svg>\n",
              "      </button>\n",
              "      \n",
              "  <style>\n",
              "    .colab-df-container {\n",
              "      display:flex;\n",
              "      flex-wrap:wrap;\n",
              "      gap: 12px;\n",
              "    }\n",
              "\n",
              "    .colab-df-convert {\n",
              "      background-color: #E8F0FE;\n",
              "      border: none;\n",
              "      border-radius: 50%;\n",
              "      cursor: pointer;\n",
              "      display: none;\n",
              "      fill: #1967D2;\n",
              "      height: 32px;\n",
              "      padding: 0 0 0 0;\n",
              "      width: 32px;\n",
              "    }\n",
              "\n",
              "    .colab-df-convert:hover {\n",
              "      background-color: #E2EBFA;\n",
              "      box-shadow: 0px 1px 2px rgba(60, 64, 67, 0.3), 0px 1px 3px 1px rgba(60, 64, 67, 0.15);\n",
              "      fill: #174EA6;\n",
              "    }\n",
              "\n",
              "    [theme=dark] .colab-df-convert {\n",
              "      background-color: #3B4455;\n",
              "      fill: #D2E3FC;\n",
              "    }\n",
              "\n",
              "    [theme=dark] .colab-df-convert:hover {\n",
              "      background-color: #434B5C;\n",
              "      box-shadow: 0px 1px 3px 1px rgba(0, 0, 0, 0.15);\n",
              "      filter: drop-shadow(0px 1px 2px rgba(0, 0, 0, 0.3));\n",
              "      fill: #FFFFFF;\n",
              "    }\n",
              "  </style>\n",
              "\n",
              "      <script>\n",
              "        const buttonEl =\n",
              "          document.querySelector('#df-dd9f8222-5e36-4ceb-94de-e6753a78ca87 button.colab-df-convert');\n",
              "        buttonEl.style.display =\n",
              "          google.colab.kernel.accessAllowed ? 'block' : 'none';\n",
              "\n",
              "        async function convertToInteractive(key) {\n",
              "          const element = document.querySelector('#df-dd9f8222-5e36-4ceb-94de-e6753a78ca87');\n",
              "          const dataTable =\n",
              "            await google.colab.kernel.invokeFunction('convertToInteractive',\n",
              "                                                     [key], {});\n",
              "          if (!dataTable) return;\n",
              "\n",
              "          const docLinkHtml = 'Like what you see? Visit the ' +\n",
              "            '<a target=\"_blank\" href=https://colab.research.google.com/notebooks/data_table.ipynb>data table notebook</a>'\n",
              "            + ' to learn more about interactive tables.';\n",
              "          element.innerHTML = '';\n",
              "          dataTable['output_type'] = 'display_data';\n",
              "          await google.colab.output.renderOutput(dataTable, element);\n",
              "          const docLink = document.createElement('div');\n",
              "          docLink.innerHTML = docLinkHtml;\n",
              "          element.appendChild(docLink);\n",
              "        }\n",
              "      </script>\n",
              "    </div>\n",
              "  </div>\n",
              "  "
            ],
            "text/plain": [
              "                     Temperature  DewPoint  Pressure\n",
              "Date_Time                                           \n",
              "2010-02-05 00:00:00         48.2      40.9         1\n",
              "2010-02-05 01:00:00         47.2      41.0         1\n",
              "2010-02-05 02:00:00         46.5      40.6         1\n",
              "2010-02-05 03:00:00         45.9      40.4         1\n",
              "2010-02-05 04:00:00         45.4      39.9         1\n",
              "2010-02-05 05:00:00         44.9      39.5         1\n",
              "2010-02-05 06:00:00         45.3      39.6         1\n",
              "2010-02-05 07:00:00         44.3      39.1         1\n",
              "2010-02-05 08:00:00         44.8      39.5         1\n",
              "2010-02-05 09:00:00         48.0      40.8         1\n",
              "2010-02-05 10:00:00         51.0      41.0         1\n",
              "2010-02-05 11:00:00         54.0      41.0         1\n",
              "2010-02-05 12:00:00         56.1      40.7         1\n",
              "2010-02-05 13:00:00         58.1      40.9         1\n",
              "2010-02-05 14:00:00         59.6      40.8         1\n",
              "2010-02-05 15:00:00         60.4      40.7         1\n",
              "2010-02-05 16:00:00         60.5      40.4         1\n",
              "2010-02-05 17:00:00         59.6      40.2         1\n",
              "2010-02-05 18:00:00         57.5      40.1         1\n",
              "2010-02-05 19:00:00         53.9      40.4         1\n",
              "2010-02-05 20:00:00         51.7      40.7         1\n",
              "2010-02-05 21:00:00         50.3      40.6         1\n",
              "2010-02-05 22:00:00         49.1      40.5         1\n",
              "2010-02-05 23:00:00         48.3      40.6         1"
            ]
          },
          "execution_count": 62,
          "metadata": {},
          "output_type": "execute_result"
        }
      ],
      "source": [
        "weather.loc['5 Feb 2010']"
      ]
    },
    {
      "cell_type": "code",
      "execution_count": null,
      "metadata": {
        "colab": {
          "base_uri": "https://localhost:8080/",
          "height": 455
        },
        "id": "1TXCk71JgAnU",
        "outputId": "50f4e2ff-7c0f-436d-dab5-c005bf790148"
      },
      "outputs": [
        {
          "data": {
            "text/html": [
              "\n",
              "  <div id=\"df-55c19995-9878-4eda-a328-0428a200042b\">\n",
              "    <div class=\"colab-df-container\">\n",
              "      <div>\n",
              "<style scoped>\n",
              "    .dataframe tbody tr th:only-of-type {\n",
              "        vertical-align: middle;\n",
              "    }\n",
              "\n",
              "    .dataframe tbody tr th {\n",
              "        vertical-align: top;\n",
              "    }\n",
              "\n",
              "    .dataframe thead th {\n",
              "        text-align: right;\n",
              "    }\n",
              "</style>\n",
              "<table border=\"1\" class=\"dataframe\">\n",
              "  <thead>\n",
              "    <tr style=\"text-align: right;\">\n",
              "      <th></th>\n",
              "      <th>Temperature</th>\n",
              "      <th>DewPoint</th>\n",
              "      <th>Pressure</th>\n",
              "    </tr>\n",
              "    <tr>\n",
              "      <th>Date_Time</th>\n",
              "      <th></th>\n",
              "      <th></th>\n",
              "      <th></th>\n",
              "    </tr>\n",
              "  </thead>\n",
              "  <tbody>\n",
              "    <tr>\n",
              "      <th>2010-02-05 00:00:00</th>\n",
              "      <td>48.2</td>\n",
              "      <td>40.9</td>\n",
              "      <td>1</td>\n",
              "    </tr>\n",
              "    <tr>\n",
              "      <th>2010-02-05 01:00:00</th>\n",
              "      <td>47.2</td>\n",
              "      <td>41.0</td>\n",
              "      <td>1</td>\n",
              "    </tr>\n",
              "    <tr>\n",
              "      <th>2010-02-05 02:00:00</th>\n",
              "      <td>46.5</td>\n",
              "      <td>40.6</td>\n",
              "      <td>1</td>\n",
              "    </tr>\n",
              "    <tr>\n",
              "      <th>2010-02-05 03:00:00</th>\n",
              "      <td>45.9</td>\n",
              "      <td>40.4</td>\n",
              "      <td>1</td>\n",
              "    </tr>\n",
              "    <tr>\n",
              "      <th>2010-02-05 04:00:00</th>\n",
              "      <td>45.4</td>\n",
              "      <td>39.9</td>\n",
              "      <td>1</td>\n",
              "    </tr>\n",
              "    <tr>\n",
              "      <th>...</th>\n",
              "      <td>...</td>\n",
              "      <td>...</td>\n",
              "      <td>...</td>\n",
              "    </tr>\n",
              "    <tr>\n",
              "      <th>2010-02-08 19:00:00</th>\n",
              "      <td>54.6</td>\n",
              "      <td>40.8</td>\n",
              "      <td>1</td>\n",
              "    </tr>\n",
              "    <tr>\n",
              "      <th>2010-02-08 20:00:00</th>\n",
              "      <td>52.4</td>\n",
              "      <td>41.1</td>\n",
              "      <td>1</td>\n",
              "    </tr>\n",
              "    <tr>\n",
              "      <th>2010-02-08 21:00:00</th>\n",
              "      <td>50.9</td>\n",
              "      <td>41.1</td>\n",
              "      <td>1</td>\n",
              "    </tr>\n",
              "    <tr>\n",
              "      <th>2010-02-08 22:00:00</th>\n",
              "      <td>49.7</td>\n",
              "      <td>41.1</td>\n",
              "      <td>1</td>\n",
              "    </tr>\n",
              "    <tr>\n",
              "      <th>2010-02-08 23:00:00</th>\n",
              "      <td>48.8</td>\n",
              "      <td>41.1</td>\n",
              "      <td>1</td>\n",
              "    </tr>\n",
              "  </tbody>\n",
              "</table>\n",
              "<p>96 rows × 3 columns</p>\n",
              "</div>\n",
              "      <button class=\"colab-df-convert\" onclick=\"convertToInteractive('df-55c19995-9878-4eda-a328-0428a200042b')\"\n",
              "              title=\"Convert this dataframe to an interactive table.\"\n",
              "              style=\"display:none;\">\n",
              "        \n",
              "  <svg xmlns=\"http://www.w3.org/2000/svg\" height=\"24px\"viewBox=\"0 0 24 24\"\n",
              "       width=\"24px\">\n",
              "    <path d=\"M0 0h24v24H0V0z\" fill=\"none\"/>\n",
              "    <path d=\"M18.56 5.44l.94 2.06.94-2.06 2.06-.94-2.06-.94-.94-2.06-.94 2.06-2.06.94zm-11 1L8.5 8.5l.94-2.06 2.06-.94-2.06-.94L8.5 2.5l-.94 2.06-2.06.94zm10 10l.94 2.06.94-2.06 2.06-.94-2.06-.94-.94-2.06-.94 2.06-2.06.94z\"/><path d=\"M17.41 7.96l-1.37-1.37c-.4-.4-.92-.59-1.43-.59-.52 0-1.04.2-1.43.59L10.3 9.45l-7.72 7.72c-.78.78-.78 2.05 0 2.83L4 21.41c.39.39.9.59 1.41.59.51 0 1.02-.2 1.41-.59l7.78-7.78 2.81-2.81c.8-.78.8-2.07 0-2.86zM5.41 20L4 18.59l7.72-7.72 1.47 1.35L5.41 20z\"/>\n",
              "  </svg>\n",
              "      </button>\n",
              "      \n",
              "  <style>\n",
              "    .colab-df-container {\n",
              "      display:flex;\n",
              "      flex-wrap:wrap;\n",
              "      gap: 12px;\n",
              "    }\n",
              "\n",
              "    .colab-df-convert {\n",
              "      background-color: #E8F0FE;\n",
              "      border: none;\n",
              "      border-radius: 50%;\n",
              "      cursor: pointer;\n",
              "      display: none;\n",
              "      fill: #1967D2;\n",
              "      height: 32px;\n",
              "      padding: 0 0 0 0;\n",
              "      width: 32px;\n",
              "    }\n",
              "\n",
              "    .colab-df-convert:hover {\n",
              "      background-color: #E2EBFA;\n",
              "      box-shadow: 0px 1px 2px rgba(60, 64, 67, 0.3), 0px 1px 3px 1px rgba(60, 64, 67, 0.15);\n",
              "      fill: #174EA6;\n",
              "    }\n",
              "\n",
              "    [theme=dark] .colab-df-convert {\n",
              "      background-color: #3B4455;\n",
              "      fill: #D2E3FC;\n",
              "    }\n",
              "\n",
              "    [theme=dark] .colab-df-convert:hover {\n",
              "      background-color: #434B5C;\n",
              "      box-shadow: 0px 1px 3px 1px rgba(0, 0, 0, 0.15);\n",
              "      filter: drop-shadow(0px 1px 2px rgba(0, 0, 0, 0.3));\n",
              "      fill: #FFFFFF;\n",
              "    }\n",
              "  </style>\n",
              "\n",
              "      <script>\n",
              "        const buttonEl =\n",
              "          document.querySelector('#df-55c19995-9878-4eda-a328-0428a200042b button.colab-df-convert');\n",
              "        buttonEl.style.display =\n",
              "          google.colab.kernel.accessAllowed ? 'block' : 'none';\n",
              "\n",
              "        async function convertToInteractive(key) {\n",
              "          const element = document.querySelector('#df-55c19995-9878-4eda-a328-0428a200042b');\n",
              "          const dataTable =\n",
              "            await google.colab.kernel.invokeFunction('convertToInteractive',\n",
              "                                                     [key], {});\n",
              "          if (!dataTable) return;\n",
              "\n",
              "          const docLinkHtml = 'Like what you see? Visit the ' +\n",
              "            '<a target=\"_blank\" href=https://colab.research.google.com/notebooks/data_table.ipynb>data table notebook</a>'\n",
              "            + ' to learn more about interactive tables.';\n",
              "          element.innerHTML = '';\n",
              "          dataTable['output_type'] = 'display_data';\n",
              "          await google.colab.output.renderOutput(dataTable, element);\n",
              "          const docLink = document.createElement('div');\n",
              "          docLink.innerHTML = docLinkHtml;\n",
              "          element.appendChild(docLink);\n",
              "        }\n",
              "      </script>\n",
              "    </div>\n",
              "  </div>\n",
              "  "
            ],
            "text/plain": [
              "                     Temperature  DewPoint  Pressure\n",
              "Date_Time                                           \n",
              "2010-02-05 00:00:00         48.2      40.9         1\n",
              "2010-02-05 01:00:00         47.2      41.0         1\n",
              "2010-02-05 02:00:00         46.5      40.6         1\n",
              "2010-02-05 03:00:00         45.9      40.4         1\n",
              "2010-02-05 04:00:00         45.4      39.9         1\n",
              "...                          ...       ...       ...\n",
              "2010-02-08 19:00:00         54.6      40.8         1\n",
              "2010-02-08 20:00:00         52.4      41.1         1\n",
              "2010-02-08 21:00:00         50.9      41.1         1\n",
              "2010-02-08 22:00:00         49.7      41.1         1\n",
              "2010-02-08 23:00:00         48.8      41.1         1\n",
              "\n",
              "[96 rows x 3 columns]"
            ]
          },
          "execution_count": 63,
          "metadata": {},
          "output_type": "execute_result"
        }
      ],
      "source": [
        "weather.loc['5 Feb 2010':'8 Feb 2010']"
      ]
    },
    {
      "cell_type": "code",
      "execution_count": null,
      "metadata": {
        "id": "_5KA1d6zjZCp"
      },
      "outputs": [],
      "source": [
        "dec = weather.loc['1 Dec 2010':'31 Dec 2010']"
      ]
    },
    {
      "cell_type": "code",
      "execution_count": null,
      "metadata": {
        "colab": {
          "base_uri": "https://localhost:8080/",
          "height": 313
        },
        "id": "AUTz8SydgAlB",
        "outputId": "82f82967-9590-4b88-b167-227f078a87df"
      },
      "outputs": [
        {
          "data": {
            "image/png": "[encoded data removed]",
            "text/plain": [
              "<Figure size 864x288 with 1 Axes>"
            ]
          },
          "metadata": {
            "needs_background": "light"
          },
          "output_type": "display_data"
        }
      ],
      "source": [
        "plt.figure(figsize=(12,4)) \n",
        "plt.xticks(rotation = 90)\n",
        "plt.plot(dec['Temperature'])\n",
        "plt.show()"
      ]
    },
    {
      "cell_type": "markdown",
      "metadata": {
        "id": "eR2zRnWHloPA"
      },
      "source": [
        "### Pandas Problem 1 \n",
        "\n",
        "For the given dataframe, you have to clean the \"Installs\" column and print its correlation with other numeric columns of the dataframe.(print df.corr())\n",
        "You have to do the following:\n",
        "1. Remove characters like ',' from the number of installs.\n",
        "2. Delete rows where the Installs column has irrelevant strings like 'Free'\n",
        "3. Convert the column to int type {https://towardsdatascience.com/converting-data-to-a-numeric-type-in-pandas-db9415caab0b}\n"
      ]
    },
    {
      "cell_type": "code",
      "execution_count": null,
      "metadata": {
        "colab": {
          "base_uri": "https://localhost:8080/"
        },
        "id": "DlytuS0UlqMY",
        "outputId": "1102ce00-7855-4788-8f94-1f065849bc2a"
      },
      "outputs": [
        {
          "data": {
            "text/plain": [
              "1,000,000+        1579\n",
              "10,000,000+       1252\n",
              "100,000+          1169\n",
              "10,000+           1054\n",
              "1,000+             907\n",
              "5,000,000+         752\n",
              "100+               719\n",
              "500,000+           539\n",
              "50,000+            479\n",
              "5,000+             477\n",
              "100,000,000+       409\n",
              "10+                386\n",
              "500+               330\n",
              "50,000,000+        289\n",
              "50+                205\n",
              "5+                  82\n",
              "500,000,000+        72\n",
              "1+                  67\n",
              "1,000,000,000+      58\n",
              "0+                  14\n",
              "0                    1\n",
              "Free                 1\n",
              "Name: Installs, dtype: int64"
            ]
          },
          "execution_count": 59,
          "metadata": {},
          "output_type": "execute_result"
        }
      ],
      "source": [
        "import pandas as pd\n",
        "df = pd.read_csv('https://media-doselect.s3.amazonaws.com/generic/8NMooe4G0ENEe8z9q5ZvaZA7/googleplaystore.csv')\n",
        "df['Installs'].value_counts()"
      ]
    },
    {
      "cell_type": "markdown",
      "metadata": {
        "id": "5XixFUzwrW7L"
      },
      "source": [
        "#### one way Lesser Optimised"
      ]
    },
    {
      "cell_type": "code",
      "execution_count": null,
      "metadata": {
        "colab": {
          "base_uri": "https://localhost:8080/"
        },
        "id": "ZY8IOrYqlqGs",
        "outputId": "a09d5fc0-f5a8-4c87-f92f-1297792f6507"
      },
      "outputs": [
        {
          "name": "stderr",
          "output_type": "stream",
          "text": [
            "/usr/local/lib/python3.7/dist-packages/ipykernel_launcher.py:1: FutureWarning: The default value of regex will change from True to False in a future version.\n",
            "  \"\"\"Entry point for launching an IPython kernel.\n"
          ]
        },
        {
          "data": {
            "text/plain": [
              "1000000       1579\n",
              "10000000      1252\n",
              "100000        1169\n",
              "10000         1054\n",
              "1000           907\n",
              "5000000        752\n",
              "100            719\n",
              "500000         539\n",
              "50000          479\n",
              "5000           477\n",
              "100000000      409\n",
              "10             386\n",
              "500            330\n",
              "50000000       289\n",
              "50             205\n",
              "5               82\n",
              "500000000       72\n",
              "1               67\n",
              "1000000000      58\n",
              "0               15\n",
              "                 1\n",
              "Name: Installs, dtype: int64"
            ]
          },
          "execution_count": 62,
          "metadata": {},
          "output_type": "execute_result"
        }
      ],
      "source": [
        "df['Installs'] = df['Installs'].str.replace(r'\\D','')\n",
        "df['Installs'].value_counts()"
      ]
    },
    {
      "cell_type": "code",
      "execution_count": null,
      "metadata": {
        "colab": {
          "base_uri": "https://localhost:8080/"
        },
        "id": "6xpNhCkxlqBm",
        "outputId": "fb5739fd-9fce-492f-fc0d-8211b4d0a228"
      },
      "outputs": [
        {
          "data": {
            "text/plain": [
              "1000000       1579\n",
              "10000000      1252\n",
              "100000        1169\n",
              "10000         1054\n",
              "1000           907\n",
              "5000000        752\n",
              "100            719\n",
              "500000         539\n",
              "50000          479\n",
              "5000           477\n",
              "100000000      409\n",
              "10             386\n",
              "500            330\n",
              "50000000       289\n",
              "50             205\n",
              "5               82\n",
              "500000000       72\n",
              "1               67\n",
              "1000000000      58\n",
              "0               15\n",
              "Name: Installs, dtype: int64"
            ]
          },
          "execution_count": 63,
          "metadata": {},
          "output_type": "execute_result"
        }
      ],
      "source": [
        "df = df[df.Installs.apply(lambda x: x.isnumeric())]\n",
        "df['Installs'].value_counts()"
      ]
    },
    {
      "cell_type": "code",
      "execution_count": null,
      "metadata": {
        "colab": {
          "base_uri": "https://localhost:8080/"
        },
        "id": "kZsgZn0VoIJS",
        "outputId": "bd7f441c-6b1f-4668-e93d-bad00fd07c5c"
      },
      "outputs": [
        {
          "name": "stdout",
          "output_type": "stream",
          "text": [
            "<class 'pandas.core.frame.DataFrame'>\n",
            "Int64Index: 10840 entries, 0 to 10840\n",
            "Data columns (total 13 columns):\n",
            " #   Column          Non-Null Count  Dtype  \n",
            "---  ------          --------------  -----  \n",
            " 0   App             10840 non-null  object \n",
            " 1   Category        10840 non-null  object \n",
            " 2   Rating          9366 non-null   float64\n",
            " 3   Reviews         10840 non-null  object \n",
            " 4   Size            10840 non-null  object \n",
            " 5   Installs        10840 non-null  int64  \n",
            " 6   Type            10839 non-null  object \n",
            " 7   Price           10840 non-null  object \n",
            " 8   Content Rating  10840 non-null  object \n",
            " 9   Genres          10840 non-null  object \n",
            " 10  Last Updated    10840 non-null  object \n",
            " 11  Current Ver     10832 non-null  object \n",
            " 12  Android Ver     10838 non-null  object \n",
            "dtypes: float64(1), int64(1), object(11)\n",
            "memory usage: 1.2+ MB\n"
          ]
        }
      ],
      "source": [
        "df.Installs = pd.to_numeric(df.Installs)\n",
        "df.info()"
      ]
    },
    {
      "cell_type": "code",
      "execution_count": null,
      "metadata": {
        "colab": {
          "base_uri": "https://localhost:8080/",
          "height": 112
        },
        "id": "gDJSeDf1oIF0",
        "outputId": "bda16c64-006c-42eb-ff85-35b64ff35153"
      },
      "outputs": [
        {
          "data": {
            "text/html": [
              "\n",
              "  <div id=\"df-a79445be-48a8-4a82-a489-30c359e05076\">\n",
              "    <div class=\"colab-df-container\">\n",
              "      <div>\n",
              "<style scoped>\n",
              "    .dataframe tbody tr th:only-of-type {\n",
              "        vertical-align: middle;\n",
              "    }\n",
              "\n",
              "    .dataframe tbody tr th {\n",
              "        vertical-align: top;\n",
              "    }\n",
              "\n",
              "    .dataframe thead th {\n",
              "        text-align: right;\n",
              "    }\n",
              "</style>\n",
              "<table border=\"1\" class=\"dataframe\">\n",
              "  <thead>\n",
              "    <tr style=\"text-align: right;\">\n",
              "      <th></th>\n",
              "      <th>Rating</th>\n",
              "      <th>Installs</th>\n",
              "    </tr>\n",
              "  </thead>\n",
              "  <tbody>\n",
              "    <tr>\n",
              "      <th>Rating</th>\n",
              "      <td>1.000000</td>\n",
              "      <td>0.051355</td>\n",
              "    </tr>\n",
              "    <tr>\n",
              "      <th>Installs</th>\n",
              "      <td>0.051355</td>\n",
              "      <td>1.000000</td>\n",
              "    </tr>\n",
              "  </tbody>\n",
              "</table>\n",
              "</div>\n",
              "      <button class=\"colab-df-convert\" onclick=\"convertToInteractive('df-a79445be-48a8-4a82-a489-30c359e05076')\"\n",
              "              title=\"Convert this dataframe to an interactive table.\"\n",
              "              style=\"display:none;\">\n",
              "        \n",
              "  <svg xmlns=\"http://www.w3.org/2000/svg\" height=\"24px\"viewBox=\"0 0 24 24\"\n",
              "       width=\"24px\">\n",
              "    <path d=\"M0 0h24v24H0V0z\" fill=\"none\"/>\n",
              "    <path d=\"M18.56 5.44l.94 2.06.94-2.06 2.06-.94-2.06-.94-.94-2.06-.94 2.06-2.06.94zm-11 1L8.5 8.5l.94-2.06 2.06-.94-2.06-.94L8.5 2.5l-.94 2.06-2.06.94zm10 10l.94 2.06.94-2.06 2.06-.94-2.06-.94-.94-2.06-.94 2.06-2.06.94z\"/><path d=\"M17.41 7.96l-1.37-1.37c-.4-.4-.92-.59-1.43-.59-.52 0-1.04.2-1.43.59L10.3 9.45l-7.72 7.72c-.78.78-.78 2.05 0 2.83L4 21.41c.39.39.9.59 1.41.59.51 0 1.02-.2 1.41-.59l7.78-7.78 2.81-2.81c.8-.78.8-2.07 0-2.86zM5.41 20L4 18.59l7.72-7.72 1.47 1.35L5.41 20z\"/>\n",
              "  </svg>\n",
              "      </button>\n",
              "      \n",
              "  <style>\n",
              "    .colab-df-container {\n",
              "      display:flex;\n",
              "      flex-wrap:wrap;\n",
              "      gap: 12px;\n",
              "    }\n",
              "\n",
              "    .colab-df-convert {\n",
              "      background-color: #E8F0FE;\n",
              "      border: none;\n",
              "      border-radius: 50%;\n",
              "      cursor: pointer;\n",
              "      display: none;\n",
              "      fill: #1967D2;\n",
              "      height: 32px;\n",
              "      padding: 0 0 0 0;\n",
              "      width: 32px;\n",
              "    }\n",
              "\n",
              "    .colab-df-convert:hover {\n",
              "      background-color: #E2EBFA;\n",
              "      box-shadow: 0px 1px 2px rgba(60, 64, 67, 0.3), 0px 1px 3px 1px rgba(60, 64, 67, 0.15);\n",
              "      fill: #174EA6;\n",
              "    }\n",
              "\n",
              "    [theme=dark] .colab-df-convert {\n",
              "      background-color: #3B4455;\n",
              "      fill: #D2E3FC;\n",
              "    }\n",
              "\n",
              "    [theme=dark] .colab-df-convert:hover {\n",
              "      background-color: #434B5C;\n",
              "      box-shadow: 0px 1px 3px 1px rgba(0, 0, 0, 0.15);\n",
              "      filter: drop-shadow(0px 1px 2px rgba(0, 0, 0, 0.3));\n",
              "      fill: #FFFFFF;\n",
              "    }\n",
              "  </style>\n",
              "\n",
              "      <script>\n",
              "        const buttonEl =\n",
              "          document.querySelector('#df-a79445be-48a8-4a82-a489-30c359e05076 button.colab-df-convert');\n",
              "        buttonEl.style.display =\n",
              "          google.colab.kernel.accessAllowed ? 'block' : 'none';\n",
              "\n",
              "        async function convertToInteractive(key) {\n",
              "          const element = document.querySelector('#df-a79445be-48a8-4a82-a489-30c359e05076');\n",
              "          const dataTable =\n",
              "            await google.colab.kernel.invokeFunction('convertToInteractive',\n",
              "                                                     [key], {});\n",
              "          if (!dataTable) return;\n",
              "\n",
              "          const docLinkHtml = 'Like what you see? Visit the ' +\n",
              "            '<a target=\"_blank\" href=https://colab.research.google.com/notebooks/data_table.ipynb>data table notebook</a>'\n",
              "            + ' to learn more about interactive tables.';\n",
              "          element.innerHTML = '';\n",
              "          dataTable['output_type'] = 'display_data';\n",
              "          await google.colab.output.renderOutput(dataTable, element);\n",
              "          const docLink = document.createElement('div');\n",
              "          docLink.innerHTML = docLinkHtml;\n",
              "          element.appendChild(docLink);\n",
              "        }\n",
              "      </script>\n",
              "    </div>\n",
              "  </div>\n",
              "  "
            ],
            "text/plain": [
              "            Rating  Installs\n",
              "Rating    1.000000  0.051355\n",
              "Installs  0.051355  1.000000"
            ]
          },
          "execution_count": 65,
          "metadata": {},
          "output_type": "execute_result"
        }
      ],
      "source": [
        "df[['Rating','Installs']].corr()"
      ]
    },
    {
      "cell_type": "markdown",
      "metadata": {
        "id": "n1NuK6v8reGp"
      },
      "source": [
        "#### Second Way Better than last one\n"
      ]
    },
    {
      "cell_type": "code",
      "execution_count": null,
      "metadata": {
        "colab": {
          "base_uri": "https://localhost:8080/"
        },
        "id": "u2JFQxI8rde9",
        "outputId": "1e7815d7-209a-413a-b782-8c384706dbc7"
      },
      "outputs": [
        {
          "data": {
            "text/plain": [
              "1,000,000+        1579\n",
              "10,000,000+       1252\n",
              "100,000+          1169\n",
              "10,000+           1054\n",
              "1,000+             907\n",
              "5,000,000+         752\n",
              "100+               719\n",
              "500,000+           539\n",
              "50,000+            479\n",
              "5,000+             477\n",
              "100,000,000+       409\n",
              "10+                386\n",
              "500+               330\n",
              "50,000,000+        289\n",
              "50+                205\n",
              "5+                  82\n",
              "500,000,000+        72\n",
              "1+                  67\n",
              "1,000,000,000+      58\n",
              "0+                  14\n",
              "0                    1\n",
              "Free                 1\n",
              "Name: Installs, dtype: int64"
            ]
          },
          "execution_count": 69,
          "metadata": {},
          "output_type": "execute_result"
        }
      ],
      "source": [
        "import pandas as pd\n",
        "df = pd.read_csv('https://media-doselect.s3.amazonaws.com/generic/8NMooe4G0ENEe8z9q5ZvaZA7/googleplaystore.csv')\n",
        "df['Installs'].value_counts()"
      ]
    },
    {
      "cell_type": "code",
      "execution_count": null,
      "metadata": {
        "colab": {
          "base_uri": "https://localhost:8080/"
        },
        "id": "PCh-nQNWrpXk",
        "outputId": "be4d8f02-d39a-41f3-8043-62bdf4cda42e"
      },
      "outputs": [
        {
          "name": "stdout",
          "output_type": "stream",
          "text": [
            "            Rating  Installs\n",
            "Rating    1.000000  0.051355\n",
            "Installs  0.051355  1.000000\n"
          ]
        },
        {
          "name": "stderr",
          "output_type": "stream",
          "text": [
            "/usr/local/lib/python3.7/dist-packages/ipykernel_launcher.py:1: FutureWarning: The default value of regex will change from True to False in a future version.\n",
            "  \"\"\"Entry point for launching an IPython kernel.\n"
          ]
        }
      ],
      "source": [
        "df['Installs'] = df['Installs'].str.replace(r'\\D','')\n",
        "# df = df[df.Installs.apply(lambda x: x.isnumeric())]\n",
        "df.Installs = pd.to_numeric(df.Installs, errors = 'coerce')\n",
        "print(df[['Rating','Installs']].corr())"
      ]
    },
    {
      "cell_type": "markdown",
      "metadata": {
        "id": "HvMl9dWA9Qqd"
      },
      "source": [
        "### Pandas Problem 2 \n",
        "\n",
        "gun = pd.read_csv('https://query.data.world/s/3iebgxp57luarsikz5wtcwahpjwed7')\n"
      ]
    },
    {
      "cell_type": "code",
      "execution_count": null,
      "metadata": {
        "colab": {
          "base_uri": "https://localhost:8080/"
        },
        "id": "lNhx_z3vrpUV",
        "outputId": "44c118fb-1e06-4325-cc16-601950a97c90"
      },
      "outputs": [
        {
          "name": "stdout",
          "output_type": "stream",
          "text": [
            "<class 'pandas.core.frame.DataFrame'>\n",
            "RangeIndex: 54 entries, 0 to 53\n",
            "Data columns (total 10 columns):\n",
            " #   Column          Non-Null Count  Dtype  \n",
            "---  ------          --------------  -----  \n",
            " 0   Incident Date   54 non-null     object \n",
            " 1   State           54 non-null     object \n",
            " 2   City Or County  54 non-null     object \n",
            " 3   Address         54 non-null     object \n",
            " 4   Latitude        54 non-null     float64\n",
            " 5   Longitude       54 non-null     float64\n",
            " 6   # Killed        54 non-null     int64  \n",
            " 7   # Injured       54 non-null     int64  \n",
            " 8   featureID       54 non-null     int64  \n",
            " 9   URL             54 non-null     object \n",
            "dtypes: float64(2), int64(3), object(5)\n",
            "memory usage: 4.3+ KB\n"
          ]
        }
      ],
      "source": [
        "import pandas as pd\n",
        "import datetime as dt\n",
        "import calendar\n",
        "\n",
        "\n",
        "gun = pd.read_csv('https://query.data.world/s/3iebgxp57luarsikz5wtcwahpjwed7')\n",
        "gun.info()"
      ]
    },
    {
      "cell_type": "code",
      "execution_count": null,
      "metadata": {
        "colab": {
          "base_uri": "https://localhost:8080/"
        },
        "id": "0hc68Zz5rpRl",
        "outputId": "2132b087-1329-4a89-cd94-98e17347362f"
      },
      "outputs": [
        {
          "name": "stdout",
          "output_type": "stream",
          "text": [
            "May\n"
          ]
        }
      ],
      "source": [
        "gun['Incident Date'] = pd.to_datetime(gun['Incident Date'])\n",
        "# gun['Incident Date'] = gun['Incident Date'].apply(pd.to_datetime)\n",
        "\n",
        "gun['Incident Month'] = gun['Incident Date'].dt.month\n",
        "gun['total'] = gun['# Killed'] + gun['# Injured']\n",
        "\n",
        "gun2 = gun[['# Killed','# Injured', 'total']].groupby(gun['Incident Month']).sum()\n",
        "# gun2.reset_index(inplace=True)\n",
        "\n",
        "out = gun2[gun2['total'] == max(gun2['total'])].index.values\n",
        "# .dt.month_name\n",
        "print(calendar.month_name[int(out)])"
      ]
    },
    {
      "cell_type": "code",
      "execution_count": null,
      "metadata": {
        "colab": {
          "base_uri": "https://localhost:8080/",
          "height": 161
        },
        "id": "KNMCiHkdrpPV",
        "outputId": "ac4165c2-ac11-43d1-82b3-fe561d5b68ce"
      },
      "outputs": [
        {
          "name": "stdout",
          "output_type": "stream",
          "text": [
            "May\n"
          ]
        },
        {
          "data": {
            "text/html": [
              "\n",
              "  <div id=\"df-6791be03-2c40-49fa-94c3-b918ed7edf2d\">\n",
              "    <div class=\"colab-df-container\">\n",
              "      <div>\n",
              "<style scoped>\n",
              "    .dataframe tbody tr th:only-of-type {\n",
              "        vertical-align: middle;\n",
              "    }\n",
              "\n",
              "    .dataframe tbody tr th {\n",
              "        vertical-align: top;\n",
              "    }\n",
              "\n",
              "    .dataframe thead th {\n",
              "        text-align: right;\n",
              "    }\n",
              "</style>\n",
              "<table border=\"1\" class=\"dataframe\">\n",
              "  <thead>\n",
              "    <tr style=\"text-align: right;\">\n",
              "      <th></th>\n",
              "      <th>Incident Month</th>\n",
              "      <th># Injured</th>\n",
              "      <th># Killed</th>\n",
              "      <th>Total</th>\n",
              "    </tr>\n",
              "  </thead>\n",
              "  <tbody>\n",
              "    <tr>\n",
              "      <th>0</th>\n",
              "      <td>Apr</td>\n",
              "      <td>4</td>\n",
              "      <td>1</td>\n",
              "      <td>5</td>\n",
              "    </tr>\n",
              "    <tr>\n",
              "      <th>1</th>\n",
              "      <td>Jun</td>\n",
              "      <td>15</td>\n",
              "      <td>6</td>\n",
              "      <td>21</td>\n",
              "    </tr>\n",
              "    <tr>\n",
              "      <th>2</th>\n",
              "      <td>May</td>\n",
              "      <td>23</td>\n",
              "      <td>7</td>\n",
              "      <td>30</td>\n",
              "    </tr>\n",
              "  </tbody>\n",
              "</table>\n",
              "</div>\n",
              "      <button class=\"colab-df-convert\" onclick=\"convertToInteractive('df-6791be03-2c40-49fa-94c3-b918ed7edf2d')\"\n",
              "              title=\"Convert this dataframe to an interactive table.\"\n",
              "              style=\"display:none;\">\n",
              "        \n",
              "  <svg xmlns=\"http://www.w3.org/2000/svg\" height=\"24px\"viewBox=\"0 0 24 24\"\n",
              "       width=\"24px\">\n",
              "    <path d=\"M0 0h24v24H0V0z\" fill=\"none\"/>\n",
              "    <path d=\"M18.56 5.44l.94 2.06.94-2.06 2.06-.94-2.06-.94-.94-2.06-.94 2.06-2.06.94zm-11 1L8.5 8.5l.94-2.06 2.06-.94-2.06-.94L8.5 2.5l-.94 2.06-2.06.94zm10 10l.94 2.06.94-2.06 2.06-.94-2.06-.94-.94-2.06-.94 2.06-2.06.94z\"/><path d=\"M17.41 7.96l-1.37-1.37c-.4-.4-.92-.59-1.43-.59-.52 0-1.04.2-1.43.59L10.3 9.45l-7.72 7.72c-.78.78-.78 2.05 0 2.83L4 21.41c.39.39.9.59 1.41.59.51 0 1.02-.2 1.41-.59l7.78-7.78 2.81-2.81c.8-.78.8-2.07 0-2.86zM5.41 20L4 18.59l7.72-7.72 1.47 1.35L5.41 20z\"/>\n",
              "  </svg>\n",
              "      </button>\n",
              "      \n",
              "  <style>\n",
              "    .colab-df-container {\n",
              "      display:flex;\n",
              "      flex-wrap:wrap;\n",
              "      gap: 12px;\n",
              "    }\n",
              "\n",
              "    .colab-df-convert {\n",
              "      background-color: #E8F0FE;\n",
              "      border: none;\n",
              "      border-radius: 50%;\n",
              "      cursor: pointer;\n",
              "      display: none;\n",
              "      fill: #1967D2;\n",
              "      height: 32px;\n",
              "      padding: 0 0 0 0;\n",
              "      width: 32px;\n",
              "    }\n",
              "\n",
              "    .colab-df-convert:hover {\n",
              "      background-color: #E2EBFA;\n",
              "      box-shadow: 0px 1px 2px rgba(60, 64, 67, 0.3), 0px 1px 3px 1px rgba(60, 64, 67, 0.15);\n",
              "      fill: #174EA6;\n",
              "    }\n",
              "\n",
              "    [theme=dark] .colab-df-convert {\n",
              "      background-color: #3B4455;\n",
              "      fill: #D2E3FC;\n",
              "    }\n",
              "\n",
              "    [theme=dark] .colab-df-convert:hover {\n",
              "      background-color: #434B5C;\n",
              "      box-shadow: 0px 1px 3px 1px rgba(0, 0, 0, 0.15);\n",
              "      filter: drop-shadow(0px 1px 2px rgba(0, 0, 0, 0.3));\n",
              "      fill: #FFFFFF;\n",
              "    }\n",
              "  </style>\n",
              "\n",
              "      <script>\n",
              "        const buttonEl =\n",
              "          document.querySelector('#df-6791be03-2c40-49fa-94c3-b918ed7edf2d button.colab-df-convert');\n",
              "        buttonEl.style.display =\n",
              "          google.colab.kernel.accessAllowed ? 'block' : 'none';\n",
              "\n",
              "        async function convertToInteractive(key) {\n",
              "          const element = document.querySelector('#df-6791be03-2c40-49fa-94c3-b918ed7edf2d');\n",
              "          const dataTable =\n",
              "            await google.colab.kernel.invokeFunction('convertToInteractive',\n",
              "                                                     [key], {});\n",
              "          if (!dataTable) return;\n",
              "\n",
              "          const docLinkHtml = 'Like what you see? Visit the ' +\n",
              "            '<a target=\"_blank\" href=https://colab.research.google.com/notebooks/data_table.ipynb>data table notebook</a>'\n",
              "            + ' to learn more about interactive tables.';\n",
              "          element.innerHTML = '';\n",
              "          dataTable['output_type'] = 'display_data';\n",
              "          await google.colab.output.renderOutput(dataTable, element);\n",
              "          const docLink = document.createElement('div');\n",
              "          docLink.innerHTML = docLinkHtml;\n",
              "          element.appendChild(docLink);\n",
              "        }\n",
              "      </script>\n",
              "    </div>\n",
              "  </div>\n",
              "  "
            ],
            "text/plain": [
              "  Incident Month  # Injured  # Killed  Total\n",
              "0            Apr          4         1      5\n",
              "1            Jun         15         6     21\n",
              "2            May         23         7     30"
            ]
          },
          "execution_count": 4,
          "metadata": {},
          "output_type": "execute_result"
        }
      ],
      "source": [
        "import pandas as pd \n",
        "\n",
        "# Read the gun violence dataset\n",
        "gun = pd.read_csv('https://query.data.world/s/3iebgxp57luarsikz5wtcwahpjwed7')\n",
        "\n",
        "# Extract the month from the Incident Date column\n",
        "gun['Incident Month'] = gun['Incident Date'].apply(lambda x: x.split('-')[1])\n",
        "\n",
        "# Group the function by Incident Month\n",
        "gun_g = gun.pivot_table(values = ['# Killed', '# Injured'], index = ['Incident Month'], aggfunc = 'sum')\n",
        "\n",
        "# Add a column 'Total' which will contain the sum of # Injured and # Killed \n",
        "gun_g['Total'] = gun_g['# Injured'] + gun_g['# Killed']\n",
        "\n",
        "# Now, since the incident month will be in the index, you need to remove it from\n",
        "# the index of the dataframe so that you can access it as a column easily\n",
        "gun_g.reset_index(inplace=True)\n",
        "\n",
        "# Extract the month in which most kills + injuries happened and store it in a\n",
        "# variable month\n",
        "month = gun_g[gun_g['Total'] == max(gun_g['Total'])]\n",
        "\n",
        "# Print the final value of month using indexing since month will have all the \n",
        "# columns for the single row that it has\n",
        "print(month['Incident Month'].iloc[0])\n",
        "gun_g\n",
        "\n",
        "# Alternatively, instead of the last 2 lines of code, you could have also used the\n",
        "# following:\n",
        "\n",
        "# Sort the values in the dataset in a descending order\n",
        "#group.sort_values(by='Total', inplace = True, ascending = False)\n",
        "\n",
        "# Print the first row of the column 'Incident Month'\n",
        "#print(group.loc[0]['Incident Month'])\n"
      ]
    },
    {
      "cell_type": "code",
      "execution_count": null,
      "metadata": {
        "colab": {
          "base_uri": "https://localhost:8080/"
        },
        "id": "ifrvgterrpMp",
        "outputId": "bfe45fdc-832f-43e7-ee33-e73baf389c6e"
      },
      "outputs": [
        {
          "name": "stdout",
          "output_type": "stream",
          "text": [
            "[[-98.5, -97.1, -98.5, -98.5, -98.6, -98.5, -98.5, -98.4, -98.5], [29.5, 31.6, 29.6, 29.4, 29.5, 29.6, 29.5, 29.5, 29.5]]\n",
            "[[-98.5, -98.6], [29.5, 29.5]]\n"
          ]
        }
      ],
      "source": [
        "gun['safeness'] = 1/(gun['# Killed'] + 0.8 * gun['# Injured'] + 1)\n",
        "\n",
        "gun['Latitude'] = gun['Latitude'].round(1)\n",
        "gun['Longitude'] = gun['Longitude'].round(1)\n",
        "\n",
        "safest_lat = gun['Latitude'].loc[gun['safeness']==max(gun['safeness'])]\n",
        "safest_lon = gun['Longitude'].loc[gun['safeness']==max(gun['safeness'])]\n",
        "least_safest_lat = gun['Latitude'].loc[gun['safeness']==min(gun['safeness'])]\n",
        "least_safest_lon = gun['Longitude'].loc[gun['safeness']==min(gun['safeness'])]\n",
        "\n",
        "\n",
        "\n",
        "safest = {'Latitude': list(safest_lat) , 'Longitude': list(safest_lon)}\n",
        "least_safe = {'Latitude':list(least_safest_lat) , 'Longitude': list(least_safest_lon) }\n",
        "\n",
        "# Print the final values\n",
        "print(sorted(list(safest.values())))\n",
        "print(sorted(list(least_safe.values())))"
      ]
    },
    {
      "cell_type": "markdown",
      "metadata": {
        "id": "OBQXu4bRaxMP"
      },
      "source": [
        "### Python Problems"
      ]
    },
    {
      "cell_type": "markdown",
      "metadata": {
        "id": "n6HdTKdKXYI6"
      },
      "source": [
        "#### Lego Blocks Problem\n",
        "You are given a row of Lego Blocks consisting of n blocks. All the blocks given have a square base whose side length is known. You need to stack the blocks over each other and create a vertical tower. Block-1 can go over Block-2 only if sideLength(Block-2)=>sideLength(Block-1).\n",
        "From the row of Lego blocks, you on only pick up either the leftmost or rightmost block.\n",
        "Print \"Possible\" if it is possible to stack all n cubes this way or else print \"Impossible\".\n",
        "\n",
        "\n"
      ]
    },
    {
      "cell_type": "code",
      "execution_count": null,
      "metadata": {
        "colab": {
          "base_uri": "https://localhost:8080/"
        },
        "id": "g_B-8EU99Yd8",
        "outputId": "f6de00a2-9d57-41eb-dd93-a41d07f1a451"
      },
      "outputs": [
        {
          "name": "stdout",
          "output_type": "stream",
          "text": [
            "Possible\n"
          ]
        }
      ],
      "source": [
        "l = [5 ,4, 2, 1, 4 ,5]\n",
        "\n",
        "while(len(l)>0) :\n",
        "  if l[0] == max(l) or l[-1] == max(l):\n",
        "    l.remove(max(l))\n",
        "    if len(l)==0:\n",
        "      print('Possible')\n",
        "      break\n",
        "  else :\n",
        "    print('Impossible')\n",
        "    break\n"
      ]
    },
    {
      "cell_type": "markdown",
      "metadata": {
        "id": "ZRojw0gTa6zE"
      },
      "source": [
        "#### Pascal's Triangle\n",
        "A pascal's triangle is a very interesting mathematical concept.\n",
        "Each number here is a sum of the two numbers directly above it.\n",
        "Your task is to print an nth level of Pascal's triangle"
      ]
    },
    {
      "cell_type": "code",
      "execution_count": null,
      "metadata": {
        "colab": {
          "base_uri": "https://localhost:8080/"
        },
        "id": "7HN-3hYra6Z1",
        "outputId": "06a3b165-cd6b-4431-9de5-bea111787797"
      },
      "outputs": [
        {
          "name": "stdout",
          "output_type": "stream",
          "text": [
            "[1, 5, 10, 10, 5, 1]\n"
          ]
        }
      ],
      "source": [
        "n = 6\n",
        "\n",
        "def pascal(n):\n",
        "  l = [0]*n\n",
        "  l[0]=l[-1]=1\n",
        "  if n>2:\n",
        "    for i in range(1,n-1):\n",
        "      l[i] = pascal(n-1)[i] + pascal(n-1)[i-1]\n",
        "    return l\n",
        "  else:\n",
        "    return l\n",
        "\n",
        "print(pascal(n))"
      ]
    },
    {
      "cell_type": "markdown",
      "metadata": {
        "id": "DKeCyyMvfqZ2"
      },
      "source": [
        "#### Find Extra Character\n",
        "Given two strings, one of the strings will contain an extra character. Find the extra character. The number of all the other characters in both the strings will be the same. Check the sample input/output for more clarification."
      ]
    },
    {
      "cell_type": "code",
      "execution_count": null,
      "metadata": {
        "colab": {
          "base_uri": "https://localhost:8080/"
        },
        "id": "4Vlt8LqHbFiT",
        "outputId": "75277c72-7c02-4e0a-ddc5-19461bfdcc90"
      },
      "outputs": [
        {
          "name": "stdout",
          "output_type": "stream",
          "text": [
            "e\n"
          ]
        }
      ],
      "source": [
        "s1 = 'abcd'\n",
        "s2 = 'cedab'\n",
        "\n",
        "# out = [i for i in s1+s2 if i not in s2 or i not in s1]\n",
        "print(''.join([i for i in s1+s2 if i not in s2 or i not in s1]))"
      ]
    },
    {
      "cell_type": "markdown",
      "metadata": {
        "id": "NcIEr7FJb_fP"
      },
      "source": [
        "#### Int or not"
      ]
    },
    {
      "cell_type": "code",
      "execution_count": null,
      "metadata": {
        "colab": {
          "base_uri": "https://localhost:8080/"
        },
        "id": "CjllhkMj6DX9",
        "outputId": "bf614f56-ddc2-4ec3-e4c4-40d9f8a1b5e4"
      },
      "outputs": [
        {
          "name": "stdout",
          "output_type": "stream",
          "text": [
            "INT\n"
          ]
        }
      ],
      "source": [
        "i='12'\n",
        "# print('INT') if i.isnumeric() else print('SRT')\n",
        "# print('INT') if i.isdigit() else print('SRT')\n",
        "try: \n",
        "  int(i)\n",
        "except :\n",
        "  print('STR')\n",
        "else:\n",
        "  print('INT')"
      ]
    },
    {
      "cell_type": "markdown",
      "metadata": {
        "id": "4uu2_-vZcGS1"
      },
      "source": [
        "#### Min of Dict"
      ]
    },
    {
      "cell_type": "code",
      "execution_count": null,
      "metadata": {
        "colab": {
          "base_uri": "https://localhost:8080/"
        },
        "id": "_qeZ2jnj-4_H",
        "outputId": "e88bb5c7-361e-4cf4-cbb0-ebf8c46fad7b"
      },
      "outputs": [
        {
          "name": "stdout",
          "output_type": "stream",
          "text": [
            "b: 5\n"
          ]
        }
      ],
      "source": [
        "id = '{\"a\":10,\"b\":5,\"c\":20}'\n",
        "# import json\n",
        "# id = json.loads(id)\n",
        "\n",
        "import ast\n",
        "id = ast.literal_eval(id)\n",
        "\n",
        "# min(id.values())\n",
        "\n",
        "print(''.join([k for k,v in id.items() if v==min(id.values())])+':',min(id.values()))"
      ]
    },
    {
      "cell_type": "markdown",
      "metadata": {
        "id": "vzxBHJ31cLrf"
      },
      "source": [
        "#### Tallest Tree"
      ]
    },
    {
      "cell_type": "code",
      "execution_count": null,
      "metadata": {
        "colab": {
          "base_uri": "https://localhost:8080/"
        },
        "id": "K6i5LO0w-47v",
        "outputId": "85d7b22d-e336-4956-ffe9-68a0dcb3ad68"
      },
      "outputs": [
        {
          "data": {
            "text/plain": [
              "2"
            ]
          },
          "execution_count": 2,
          "metadata": {},
          "output_type": "execute_result"
        }
      ],
      "source": [
        "l = [3,2,1,3]\n",
        "\n",
        "l.count(max(l))"
      ]
    },
    {
      "cell_type": "markdown",
      "metadata": {
        "id": "7bdWfxBZc3MU"
      },
      "source": [
        "#### Frequency in same order\n"
      ]
    },
    {
      "cell_type": "code",
      "execution_count": null,
      "metadata": {
        "colab": {
          "base_uri": "https://localhost:8080/"
        },
        "id": "AWkNhMO1c3qN",
        "outputId": "76187a75-ce6b-46c3-cb11-8f439d420fa4"
      },
      "outputs": [
        {
          "data": {
            "text/plain": [
              "[3, 1, 2, 2, 1]"
            ]
          },
          "execution_count": 15,
          "metadata": {},
          "output_type": "execute_result"
        }
      ],
      "source": [
        "l = [10, 11, 10, 12, 10, 13, 12, 14, 13]\n",
        "from collections import Counter\n",
        "[v for k,v in Counter(l).items()]"
      ]
    },
    {
      "cell_type": "markdown",
      "metadata": {
        "id": "s0Z6tgAkz9cs"
      },
      "source": [
        "#### Sorting with O(n)"
      ]
    },
    {
      "cell_type": "code",
      "execution_count": null,
      "metadata": {
        "colab": {
          "base_uri": "https://localhost:8080/"
        },
        "id": "Bwo4PZgB4KEe",
        "outputId": "bdd6b1e2-7898-4c06-defe-cefee5798d61"
      },
      "outputs": [
        {
          "data": {
            "text/plain": [
              "[0, 0, 0, 0, 1, 1, 1, 2, 2]"
            ]
          },
          "execution_count": 11,
          "metadata": {},
          "output_type": "execute_result"
        }
      ],
      "source": [
        "l = [0, 2, 0, 0, 1, 1, 2, 0, 1]\n",
        "o = []\n",
        "while len(l)>0:\n",
        "  o.append(min(l))\n",
        "  l.remove(min(l))\n",
        "\n",
        "o"
      ]
    },
    {
      "cell_type": "markdown",
      "metadata": {
        "id": "vLIxlrm0z6Tj"
      },
      "source": [
        "#### Search in Valley"
      ]
    },
    {
      "cell_type": "code",
      "execution_count": null,
      "metadata": {
        "colab": {
          "base_uri": "https://localhost:8080/"
        },
        "id": "D9pea5JR4KA8",
        "outputId": "87a061ee-01b1-48a3-d2a4-a60902463e42"
      },
      "outputs": [
        {
          "name": "stdout",
          "output_type": "stream",
          "text": [
            "2\n"
          ]
        }
      ],
      "source": [
        "l = [13, 11, 8, 7, 6, 4, 3, 2, 1, 14, 15, 16, 17]\n",
        "n = 8\n",
        "'''\n",
        "if n<min(l) or n>max(l):\n",
        "  print(-1)\n",
        "elif n not in l:\n",
        "  print(-1) \n",
        "else: \n",
        "  for i in range(len(l)):\n",
        "'''\n",
        "if n not in l:\n",
        "    output = -1\n",
        "else:\n",
        "    output = l.index(n)\n",
        "print(output)"
      ]
    },
    {
      "cell_type": "markdown",
      "metadata": {
        "id": "gaud8JHv0Pna"
      },
      "source": [
        "#### Prime or not\n"
      ]
    },
    {
      "cell_type": "code",
      "execution_count": null,
      "metadata": {
        "colab": {
          "base_uri": "https://localhost:8080/",
          "height": 35
        },
        "id": "oGtFUqMf4J-S",
        "outputId": "0ecf7cef-0bbd-4d66-a60c-0216fee652ad"
      },
      "outputs": [
        {
          "data": {
            "application/vnd.google.colaboratory.intrinsic+json": {
              "type": "string"
            },
            "text/plain": [
              "'Not a Prime No'"
            ]
          },
          "execution_count": 6,
          "metadata": {},
          "output_type": "execute_result"
        }
      ],
      "source": [
        "n = 14\n",
        "\n",
        "def prime(n):\n",
        "  for i in range(2,n):\n",
        "    if n%i==0:\n",
        "      return 'Not a Prime No'\n",
        "    else :\n",
        "      pass\n",
        "  return 'Prime No'\n",
        "\n",
        "prime(n)"
      ]
    },
    {
      "cell_type": "markdown",
      "metadata": {
        "id": "QPYHFJVg1YQZ"
      },
      "source": [
        "#### sort wrt len "
      ]
    },
    {
      "cell_type": "code",
      "execution_count": null,
      "metadata": {
        "colab": {
          "base_uri": "https://localhost:8080/"
        },
        "id": "OWgN-P0l1YAh",
        "outputId": "aed3e5e3-4d0a-47bc-cb35-d67b9e8c4f9c"
      },
      "outputs": [
        {
          "data": {
            "text/plain": [
              "['I', 'to', 'in', 'love', 'code', 'Python']"
            ]
          },
          "execution_count": 15,
          "metadata": {},
          "output_type": "execute_result"
        }
      ],
      "source": [
        "l = ['I', 'love', 'to', 'code', 'in', 'Python']\n",
        "\n",
        "l.sort(key=len)\n",
        "l\n",
        "\n",
        "# sorted(l, key = len)"
      ]
    },
    {
      "cell_type": "markdown",
      "metadata": {
        "id": "xdkCtUrZ2NJ_"
      },
      "source": [
        "### Advance Python Problem"
      ]
    },
    {
      "cell_type": "markdown",
      "metadata": {
        "id": "_3_gmqK6NTTB"
      },
      "source": [
        "#### Problem - The String Game"
      ]
    },
    {
      "cell_type": "code",
      "execution_count": null,
      "metadata": {
        "id": "FoztK0twNTow"
      },
      "outputs": [],
      "source": [
        "s = 'BANANA'\n",
        "\n"
      ]
    },
    {
      "cell_type": "markdown",
      "metadata": {
        "id": "T1eKfYVmzRVv"
      },
      "source": [
        "#### Number to its binary\n"
      ]
    },
    {
      "cell_type": "code",
      "execution_count": null,
      "metadata": {
        "colab": {
          "base_uri": "https://localhost:8080/"
        },
        "id": "NE1fxm9PzVxk",
        "outputId": "2a58ae85-47d8-42ec-e61b-c99aa22acb51"
      },
      "outputs": [
        {
          "name": "stdout",
          "output_type": "stream",
          "text": [
            "1100\n",
            "1100\n"
          ]
        }
      ],
      "source": [
        "n = 12\n",
        "\n",
        "print(bin(n).lstrip('0b'))\n",
        "\n",
        "# print(bin(n).replace(\"0b\", \"\"))\n",
        "\n",
        "# print(\"{0:b}\".format(int(n)))\n",
        "\n",
        "\n",
        "# ----------------------------------------------------\n",
        "# def DecimalToBinary(num):\n",
        "#     if num >= 1:\n",
        "#         DecimalToBinary(num // 2)\n",
        "#     print(num % 2, end = '')\n",
        "\n",
        "# DecimalToBinary(n)\n"
      ]
    },
    {
      "cell_type": "markdown",
      "metadata": {
        "id": "m0Hya-2S2Rhk"
      },
      "source": [
        "#### Mathematical Function"
      ]
    },
    {
      "cell_type": "code",
      "execution_count": null,
      "metadata": {
        "colab": {
          "base_uri": "https://localhost:8080/"
        },
        "id": "sRxuyoXL2LOX",
        "outputId": "6255eb2c-f1b5-4ef3-9e5b-532152ade57b"
      },
      "outputs": [
        {
          "name": "stdout",
          "output_type": "stream",
          "text": [
            "195\n",
            "14245\n"
          ]
        }
      ],
      "source": [
        "a = 20\n",
        "b = 100\n",
        "c = 15\n",
        "\n",
        "n = 0\n",
        "\n",
        "def F(n):\n",
        "  if n>b:\n",
        "    return n - c \n",
        "  else:\n",
        "    return F(a + F(a + F(a + F(a + n))))\n",
        "\n",
        "def S(a,b,c):\n",
        "  out = 0\n",
        "  for i in range(b+1):\n",
        "    out += F(i)\n",
        "  return out\n",
        "\n",
        "\n",
        "# print(F(n))\n",
        "print(S(a,b,c))\n"
      ]
    },
    {
      "cell_type": "markdown",
      "metadata": {
        "id": "ZGEjxIa5L5EO"
      },
      "source": [
        "### **DSA**\n"
      ]
    },
    {
      "cell_type": "markdown",
      "metadata": {
        "id": "bx0TipMlMExP"
      },
      "source": [
        "#### Binary Search"
      ]
    },
    {
      "cell_type": "code",
      "execution_count": null,
      "metadata": {
        "colab": {
          "base_uri": "https://localhost:8080/"
        },
        "id": "7o-gAN_7MICX",
        "outputId": "1cff5222-0fdd-4c3c-99b2-c3d9b8d15b83"
      },
      "outputs": [
        {
          "name": "stdout",
          "output_type": "stream",
          "text": [
            "3\n"
          ]
        }
      ],
      "source": [
        "arr = [10, 20, 30, 50, 60, 80, 110, 130, 140, 170]\n",
        "x = 50\n",
        "l = 0\n",
        "r = len(arr)-1\n",
        "while l<=r:\n",
        "    # mid = l+ (r-l)//2\n",
        "    mid = (r+l)//2\n",
        "\n",
        "    if arr[mid] == x:\n",
        "      print(mid)\n",
        "      break\n",
        "    elif arr[mid] < x:\n",
        "      l = mid + 1\n",
        "    else:\n",
        "      r = mid - 1\n",
        "else:\n",
        "  print(-1)"
      ]
    },
    {
      "cell_type": "markdown",
      "metadata": {
        "id": "IE6xEl_wJsv6"
      },
      "source": [
        "##### Square root using binary search"
      ]
    },
    {
      "cell_type": "code",
      "execution_count": null,
      "metadata": {
        "colab": {
          "base_uri": "https://localhost:8080/"
        },
        "id": "V_GKmK8w6RmP",
        "outputId": "c891c9af-3fc8-4139-b12e-f4ac26c0d755"
      },
      "outputs": [
        {
          "name": "stdout",
          "output_type": "stream",
          "text": [
            "2.0000\n"
          ]
        }
      ],
      "source": [
        "n = 4\n",
        "\n",
        "def sqroot(n):\n",
        "    l = 0\n",
        "    r = n\n",
        "    while abs(l-r) > 10**(-5):\n",
        "        mid = (l+r)/2\n",
        "        if mid**2 > n:\n",
        "            r = mid\n",
        "        else:\n",
        "            l = mid\n",
        "    return round(mid,4)\n",
        "print('%.4f' % sqroot(n))"
      ]
    },
    {
      "cell_type": "markdown",
      "metadata": {
        "id": "HfPE7D74JySg"
      },
      "source": [
        "##### solving math equation using binary search"
      ]
    },
    {
      "cell_type": "code",
      "execution_count": null,
      "metadata": {
        "colab": {
          "base_uri": "https://localhost:8080/"
        },
        "id": "cPbqT7vn_pRh",
        "outputId": "d62cbb9a-67b8-422f-81da-7e202dfe15e6"
      },
      "outputs": [
        {
          "name": "stdout",
          "output_type": "stream",
          "text": [
            "-0.547809\n"
          ]
        }
      ],
      "source": [
        "n = 3             # -0.547809\n",
        "# n = 7             # -0.431694\n",
        "\n",
        "def binarySearch(n):\n",
        "    # n is the parameter\n",
        "    l = -10\n",
        "    r = 10\n",
        "\n",
        "    while abs(l - r) > 10**(-6):\n",
        "        mid = (l + r) / 2\n",
        "        # Compute the value of the function and compare against 0.0\n",
        "        if (n**mid + mid) > 0.0:\n",
        "            r = mid\n",
        "        else:\n",
        "            l = mid\n",
        "    return round(mid, 6)\n",
        "\n",
        "print('%.6f' % binarySearch(n))"
      ]
    },
    {
      "cell_type": "markdown",
      "metadata": {
        "id": "LsnUx64pL8YQ"
      },
      "source": [
        "#### Ternary Search"
      ]
    },
    {
      "cell_type": "code",
      "execution_count": null,
      "metadata": {
        "colab": {
          "base_uri": "https://localhost:8080/"
        },
        "id": "bGiuv41lMDtq",
        "outputId": "d9786a46-aca4-41c7-9c53-3dcfd24102ac"
      },
      "outputs": [
        {
          "name": "stdout",
          "output_type": "stream",
          "text": [
            "-1\n"
          ]
        }
      ],
      "source": [
        "arr = [10, 20, 30, 50, 60, 80, 110, 130, 140, 170]\n",
        "x = 11\n",
        "l = 0\n",
        "r = len(arr)-1\n",
        "while l<=r:\n",
        "  mid1 = l + (r - l) //3\n",
        "  mid2 = r - (r - l) //3\n",
        "\n",
        "  if arr[mid1] == x:\n",
        "    print(mid1)\n",
        "    break\n",
        "  elif arr[mid2] == x:\n",
        "    print(mid2)\n",
        "    break\n",
        "  elif x < arr[mid1]:\n",
        "    r = mid2-1\n",
        "  elif arr[mid1] < x and x < arr[mid2]:\n",
        "    l = mid1+1\n",
        "    r = mid2-1\n",
        "  else:\n",
        "    l = mid2+1\n",
        "else:\n",
        "  print(-1)"
      ]
    },
    {
      "cell_type": "markdown",
      "metadata": {
        "id": "gaCEBbBAi6nK"
      },
      "source": [
        "### Sets"
      ]
    },
    {
      "cell_type": "code",
      "execution_count": null,
      "metadata": {
        "id": "JdEVRv9MkzoY"
      },
      "outputs": [],
      "source": [
        "a = {2, 4, 5, 9}\n",
        "b = {2, 4, 11, 12}\n",
        "a.union(b) # Values which exist in a or b\n",
        "# {2, 4, 5, 9, 11, 12}\n",
        "a.intersection(b) # Values which exist in a and b\n",
        "# {2, 4}\n",
        "a.difference(b) # Values which exist in a but not in b\n",
        "# {9, 5}\n",
        "\n",
        "a.union(b) == b.union(a)\n",
        "# True\n",
        "a.intersection(b) == b.intersection(a)\n",
        "# True\n",
        "a.difference(b) == b.difference(a)\n",
        "# False"
      ]
    },
    {
      "cell_type": "code",
      "execution_count": null,
      "metadata": {
        "id": "WxuWeBaWkzly"
      },
      "outputs": [],
      "source": [
        "myset.add('c')\n",
        "myset\n",
        "# {'a', 'c', 'b'}\n",
        "myset.add('a') # As 'a' already exists in the set, nothing happens\n",
        "myset.add((5, 4))\n",
        "myset\n",
        "# {'a', 'c', 'b', (5, 4)}\n",
        "\n",
        "myset.update([1, 2, 3, 4]) # update() only works for iterable objects\n",
        "myset\n",
        "# {'a', 1, 'c', 'b', 4, 2, (5, 4), 3}\n",
        "myset.update({1, 7, 8})\n",
        "myset\n",
        "# {'a', 1, 'c', 'b', 4, 7, 8, 2, (5, 4), 3}\n",
        "myset.update({1, 6}, [5, 13])\n",
        "myset\n",
        "# {'a', 1, 'c', 'b', 4, 5, 6, 7, 8, 2, (5, 4), 13, 3}\n",
        "\n",
        "myset.discard(10)\n",
        "myset\n",
        "# {'a', 1, 'c', 'b', 4, 5, 7, 8, 2, 12, (5, 4), 13, 11, 3}\n",
        "myset.remove(13)\n",
        "myset\n",
        "# {'a', 1, 'c', 'b', 4, 5, 7, 8, 2, 12, (5, 4), 11, 3}\n",
        "\n"
      ]
    },
    {
      "cell_type": "code",
      "execution_count": null,
      "metadata": {
        "id": "zaWaOORykzjl"
      },
      "outputs": [],
      "source": [
        "# ^ gives the uncommon elements\n",
        "set1^set2"
      ]
    },
    {
      "cell_type": "markdown",
      "metadata": {
        "id": "1b7H7PrNoV-M"
      },
      "source": [
        "### List"
      ]
    },
    {
      "cell_type": "code",
      "execution_count": null,
      "metadata": {
        "colab": {
          "base_uri": "https://localhost:8080/"
        },
        "id": "96actXHxkzgj",
        "outputId": "0522f786-4b03-44d5-f7af-30d4eeb5a5ab"
      },
      "outputs": [
        {
          "name": "stdout",
          "output_type": "stream",
          "text": [
            "1\t2\t3\t4\n"
          ]
        }
      ],
      "source": [
        "# printing list\n",
        "l = [1,2,3,4]\n",
        "print(*l,sep ='\\t')"
      ]
    },
    {
      "cell_type": "code",
      "execution_count": null,
      "metadata": {
        "colab": {
          "base_uri": "https://localhost:8080/"
        },
        "id": "iFlxUVcgkzeA",
        "outputId": "877add80-17e2-4bd1-bbb3-e6ef96c40003"
      },
      "outputs": [
        {
          "data": {
            "text/plain": [
              "dict_keys([9, 3, 4, 5, 7, 6, 2, 8])"
            ]
          },
          "execution_count": 25,
          "metadata": {},
          "output_type": "execute_result"
        }
      ],
      "source": [
        "l = [9,9,3,4,5,7,3,4,6,7,2,2,5,3,6,5,6,8,7]\n",
        "from collections import Counter\n",
        "c = Counter(l)\n",
        "c.keys()\n"
      ]
    },
    {
      "cell_type": "code",
      "execution_count": null,
      "metadata": {
        "id": "UceP2yfxkzbK"
      },
      "outputs": [],
      "source": [
        "# Enter your code here. Read input from STDIN. Print output to STDOUT\n",
        "# arr,a,b = [input().split() for _ in range(4)][1::1]\n",
        "# h = 0\n",
        "# # for i in arr: \n",
        "# #     if i in a: \n",
        "# #         h+=1  \n",
        "# #     elif i in b: \n",
        "# #         h-=1 \n",
        "# #     else:\n",
        "# #         pass\n",
        "\n",
        "\n",
        "# print(sum([(i in set(a)) - (i in set(b)) for i in arr]))\n",
        "\n",
        "# faster\n",
        "n, m = input().split()\n",
        "\n",
        "sc_ar = input().split()\n",
        "\n",
        "A = set(input().split())\n",
        "B = set(input().split())\n",
        "print(sum([(i in A) - (i in B) for i in sc_ar]))\n"
      ]
    },
    {
      "cell_type": "code",
      "execution_count": null,
      "metadata": {
        "colab": {
          "base_uri": "https://localhost:8080/"
        },
        "id": "-R3zaKIFKpaf",
        "outputId": "02e93315-7fbd-4f71-b6de-7e4d35d03e29"
      },
      "outputs": [
        {
          "data": {
            "text/plain": [
              "{'abhay': 2, 'genius': 1, 'is': 2, 'smart': 1}"
            ]
          },
          "execution_count": 13,
          "metadata": {},
          "output_type": "execute_result"
        }
      ],
      "source": [
        "s = \"abhay is genius abhay is smart\"\n",
        "l = s.split(' ')\n",
        "d = {k:0 for k in l}\n",
        "\n",
        "for i in l:\n",
        "  if i in d.keys():\n",
        "    d[i] = d[i]+1\n",
        "d"
      ]
    },
    {
      "cell_type": "code",
      "execution_count": null,
      "metadata": {
        "colab": {
          "base_uri": "https://localhost:8080/"
        },
        "id": "QF_biJBdKqzU",
        "outputId": "059a8fcf-fd48-481e-b8fd-ce6b5c1f0c0a"
      },
      "outputs": [
        {
          "name": "stdout",
          "output_type": "stream",
          "text": [
            "Koi na phirse\n",
            "invalid literal for int() with base 10: '#'\n"
          ]
        }
      ],
      "source": [
        "inputa = \"\"\"# 4\"\"\"\n",
        "try: \n",
        "  l = list(map(int, inputa.split())) \n",
        "  print(l[0]/l[1])\n",
        "# except ZeroDivisionError:\n",
        "#   print('Koi na')\n",
        "except ValueError as e :\n",
        "  print('Koi na phirse')\n",
        "  print(e)\n"
      ]
    },
    {
      "cell_type": "markdown",
      "metadata": {
        "id": "CO9ebfwquqWA"
      },
      "source": [
        "### Dictionary"
      ]
    },
    {
      "cell_type": "code",
      "execution_count": null,
      "metadata": {
        "id": "P4JSTvkPuqWA",
        "outputId": "4cc7bae7-e5e3-4434-af13-91235bb91852"
      },
      "outputs": [
        {
          "data": {
            "text/plain": [
              "{1: 2, 3: 4}"
            ]
          },
          "execution_count": 94,
          "metadata": {},
          "output_type": "execute_result"
        }
      ],
      "source": [
        "d1 = {1:2,3:4}\n",
        "d2 = {3:4,5:6,1:2}\n",
        "\n",
        "{k1:v1 for k1,v1 in d1.items() if (k1,v1) in d2.items()}"
      ]
    },
    {
      "cell_type": "markdown",
      "metadata": {
        "id": "yCrG4zmE1lPm"
      },
      "source": [
        "### Regex\n",
        "https://www.youtube.com/watch?v=K8L6KVGG-7o"
      ]
    },
    {
      "cell_type": "code",
      "execution_count": null,
      "metadata": {
        "id": "hsTrTZwz1khK"
      },
      "outputs": [],
      "source": [
        "import re\n",
        "\n",
        "text_to_search = '''\n",
        "abcdefghijklmnopqurtuvwxyz\n",
        "ABCDEFGHIJKLMNOPQRSTUVWXYZ\n",
        "1234567890\n",
        "Ha HaHa\n",
        "MetaCharacters (Need to be escaped):\n",
        ". ^ $ * + ? { } [ ] \\ | ( )\n",
        "coreyms.com\n",
        "321-555-4321\n",
        "\n",
        "0qwer.\n",
        "\n",
        "123.555.1234\n",
        "abc.def.ghij\n",
        "123*555*1234\n",
        "800-555-1234\n",
        "900-555-1234\n",
        "Mr. Schafer\n",
        "www.hackerrank.com\n",
        "Mr Smith\n",
        "Ms Davis\n",
        "Mrs. Robinson\n",
        "Mr. T\n",
        "'''\n",
        "\n",
        "sentence = 'Start a sentence and then bring it to an end'"
      ]
    },
    {
      "cell_type": "code",
      "execution_count": null,
      "metadata": {
        "id": "B78Fh8wt2V5D"
      },
      "outputs": [],
      "source": [
        "# regex_pattern = r\"...\\-...\\-...\"               # matches '\\.' seperated by (-) and '.' any char except \\n\n",
        "# regex_pattern = r\"...\\....\\....\"               # matches '\\.'  seperated by period (.) and '.'  any char except \\n\n",
        "# regex_pattern = r\"\\S\\S\\s\\S\\S\\S\\S\\S\\S\"            # matches '\\s' WhiteSpace ('\\r\\n\\t\\f') and '\\S'  non Whitespace\n",
        "# regex_pattern = r\"\\d\\d\\d\\D\\d\\d\\d\\D\\d\\d\\d\\d\"       # matches '\\d'  digit and '\\D' non digit\n",
        "# regex_pattern = r\"\\w\\w\\w\\W\\w\\w\\w\\w\\w\\w\\w\\w\\w\\w\\W\\w\\w\\w\"       # matches '\\w' alphanum word characters digit and '\\W' non alpha num word char\n",
        "\n",
        "# regex_pattern = r\"^\\d\\w\\w\\w\\w\\.$\"               # matches '^' starting with and '$' for end with  \n",
        "# regex_pattern = r'^[123][120][xs0][30Aa][xsu][.,]$' # The character class [ ] matches only one out of several characters placed inside the square brackets.\n",
        "regex_pattern = r'^[^0-9][^aeiou][^bcDF][^\\r\\n\\t\\f ][^AEIOU][^.,]$' # [^] gives not matching values\n",
        "\n",
        "\n",
        "\n",
        "\n"
      ]
    },
    {
      "cell_type": "code",
      "execution_count": null,
      "metadata": {
        "colab": {
          "base_uri": "https://localhost:8080/"
        },
        "id": "1FJJDAD5uzED",
        "outputId": "26c554ef-88bf-4a1f-8719-c26e3c21b63b"
      },
      "outputs": [
        {
          "data": {
            "text/plain": [
              "True"
            ]
          },
          "execution_count": 1,
          "metadata": {},
          "output_type": "execute_result"
        }
      ],
      "source": [
        "aString = \"hello world\"\n",
        "aString.startswith(\"hello\")"
      ]
    },
    {
      "cell_type": "code",
      "execution_count": null,
      "metadata": {
        "colab": {
          "base_uri": "https://localhost:8080/"
        },
        "id": "x8T9fdkWlcJU",
        "outputId": "ca326f1e-5da8-443f-9df1-67ec048a4f4c"
      },
      "outputs": [
        {
          "name": "stdout",
          "output_type": "stream",
          "text": [
            "['www.hackerrank.com']\n"
          ]
        }
      ],
      "source": [
        "match = re.findall(regex_pattern, text_to_search)\n",
        "print(match)"
      ]
    },
    {
      "cell_type": "code",
      "execution_count": null,
      "metadata": {
        "colab": {
          "base_uri": "https://localhost:8080/"
        },
        "id": "RKffYA4Yf2Uv",
        "outputId": "a61e9e35-854e-4f1d-a8b3-326f75acc589"
      },
      "outputs": [
        {
          "name": "stdout",
          "output_type": "stream",
          "text": [
            "A \f B\n",
            "A \t B\n",
            "A \n",
            " B\n",
            "A \r B\n"
          ]
        }
      ],
      "source": [
        "print('A \\f B')\n",
        "print('A \\t B')\n",
        "print('A \\n B')\n",
        "print('A \\r B')"
      ]
    },
    {
      "cell_type": "code",
      "execution_count": null,
      "metadata": {
        "colab": {
          "base_uri": "https://localhost:8080/",
          "height": 35
        },
        "id": "B98ZG9Ohf2J7",
        "outputId": "f797bc38-e48f-4baf-e190-d562dc024d51"
      },
      "outputs": [
        {
          "data": {
            "application/vnd.google.colaboratory.intrinsic+json": {
              "type": "string"
            },
            "text/plain": [
              "'1;2;3'"
            ]
          },
          "execution_count": 67,
          "metadata": {},
          "output_type": "execute_result"
        }
      ],
      "source": [
        "l = ['1','2','3']\n",
        "';'.join(l)"
      ]
    },
    {
      "cell_type": "code",
      "execution_count": null,
      "metadata": {
        "id": "pxA8ADRH8wop"
      },
      "outputs": [],
      "source": [
        "inp='''\n",
        "<div class=\"reflist\" style=\"list-style-type: decimal;\">\n",
        "<ol class=\"references\">\n",
        "<li id=\"cite_note-1\"><span class=\"mw-cite-backlink\"><b>^ [\"Train (noun)\"](http://www.askoxford.com/concise_oed/train?view=uk). <i>(definition – Compact OED)</i>. Oxford University Press<span class=\"reference-accessdate\">. Retrieved 2008-03-18</span>.</span><span title=\"ctx_ver=Z39.88-2004&rfr_id=info%3Asid%2Fen.wikipedia.org%3ATrain&rft.atitle=Train+%28noun%29&rft.genre=article&rft_id=http%3A%2F%2Fwww.askoxford.com%2Fconcise_oed%2Ftrain%3Fview%3Duk&rft.jtitle=%28definition+%E2%80%93+Compact+OED%29&rft.pub=Oxford+University+Press&rft_val_fmt=info%3Aofi%2Ffmt%3Akev%3Amtx%3Ajournal\" class=\"Z3988\"><span style=\"display:none;\"> </span></span></span></li>\n",
        "<li id=\"cite_note-2\"><span class=\"mw-cite-backlink\"><b>^</b></span> <span class=\"reference-text\"><span class=\"citation book\">Atchison, Topeka and Santa Fe Railway (1948). <i>Rules: Operating Department</i>. p. 7.</span><span title=\"ctx_ver=Z39.88-2004&rfr_id=info%3Asid%2Fen.wikipedia.org%3ATrain&rft.au=Atchison%2C+Topeka+and+Santa+Fe+Railway&rft.aulast=Atchison%2C+Topeka+and+Santa+Fe+Railway&rft.btitle=Rules%3A+Operating+Department&rft.date=1948&rft.genre=book&rft.pages=7&rft_val_fmt=info%3Aofi%2Ffmt%3Akev%3Amtx%3Abook\" class=\"Z3988\"><span style=\"display:none;\"> </span></span></span></li>\n",
        "<li id=\"cite_note-3\"><span class=\"mw-cite-backlink\"><b>^ [Hydrogen trains](http://www.hydrogencarsnow.com/blog2/index.php/hydrogen-vehicles/i-hear-the-hydrogen-train-a-comin-its-rolling-round-the-bend/)</span></li>\n",
        "<li id=\"cite_note-4\"><span class=\"mw-cite-backlink\"><b>^ [Vehicle Projects Inc. Fuel cell locomotive](http://www.bnsf.com/media/news/articles/2008/01/2008-01-09a.html)</span></li>\n",
        "<li id=\"cite_note-5\"><span class=\"mw-cite-backlink\"><b>^</b></span> <span class=\"reference-text\"><span class=\"citation book\">Central Japan Railway (2006). <i>Central Japan Railway Data Book 2006</i>. p. 16.</span><span title=\"ctx_ver=Z39.88-2004&rfr_id=info%3Asid%2Fen.wikipedia.org%3ATrain&rft.au=Central+Japan+Railway&rft.aulast=Central+Japan+Railway&rft.btitle=Central+Japan+Railway+Data+Book+2006&rft.date=2006&rft.genre=book&rft.pages=16&rft_val_fmt=info%3Aofi%2Ffmt%3Akev%3Amtx%3Abook\" class=\"Z3988\"><span style=\"display:none;\"> </span></span></span></li>\n",
        "<li id=\"cite_note-6\"><span class=\"mw-cite-backlink\"><b>^ [\"Overview Of the existing Mumbai Suburban Railway\"](http://web.archive.org/web/20080620033027/http://www.mrvc.indianrail.gov.in/overview.htm). _Official webpage of Mumbai Railway Vikas Corporation_. Archived from [the original](http://www.mrvc.indianrail.gov.in/overview.htm) on 2008-06-20<span class=\"reference-accessdate\">. Retrieved 2008-12-11</span>.</span><span title=\"ctx_ver=Z39.88-2004&rfr_id=info%3Asid%2Fen.wikipedia.org%3ATrain&rft.atitle=Overview+Of+the+existing+Mumbai+Suburban+Railway&rft.genre=article&rft_id=http%3A%2F%2Fwww.mrvc.indianrail.gov.in%2Foverview.htm&rft.jtitle=Official+webpage+of+Mumbai+Railway+Vikas+Corporation&rft_val_fmt=info%3Aofi%2Ffmt%3Akev%3Amtx%3Ajournal\" class=\"Z3988\"><span style=\"display:none;\"> </span></span></span></li>\n",
        "</ol>\n",
        "</div>\n",
        "'''"
      ]
    },
    {
      "cell_type": "code",
      "execution_count": null,
      "metadata": {
        "colab": {
          "base_uri": "https://localhost:8080/"
        },
        "id": "B1wlv2ED9M62",
        "outputId": "337ca1dd-c03e-4a65-99b5-59e4415003f2"
      },
      "outputs": [
        {
          "name": "stdout",
          "output_type": "stream",
          "text": [
            "['www.askoxford.com', 'www.hydrogencarsnow.com', 'www.bnsf.com', 'web.archive.org', 'www.mrvc.indianrail.gov.in', 'www.mrvc.indianrail.gov.in']\n",
            "www.askoxford.com;www.hydrogencarsnow.com;www.bnsf.com;web.archive.org;www.mrvc.indianrail.gov.in;www.mrvc.indianrail.gov.in\n"
          ]
        }
      ],
      "source": [
        "regxp = r\"http[s]?://[\\w-]+\\.[\\.\\w-]+[\\?/\\\"]\"\n",
        "\n",
        "a = re.findall(regxp, inp)\n",
        "l=[]\n",
        "for i in a:\n",
        "  if len(i)>6:\n",
        "    x = i[7:-1]\n",
        "    l.append(x)\n",
        "\n",
        "# print(l)\n",
        "res = ';'.join(l)\n",
        "print(res)"
      ]
    },
    {
      "cell_type": "code",
      "execution_count": null,
      "metadata": {
        "colab": {
          "base_uri": "https://localhost:8080/"
        },
        "id": "fXFYrWLnFQUK",
        "outputId": "a608bd0f-3768-43b5-897f-a9a355bb3321"
      },
      "outputs": [
        {
          "data": {
            "text/plain": [
              "['https://www.hackerrank.com/']"
            ]
          },
          "execution_count": 112,
          "metadata": {},
          "output_type": "execute_result"
        }
      ],
      "source": [
        "regxp = r\"http[s]?://[\\w-]+\\.[\\.\\w-]+[\\?/\\\"]\"\n",
        "re.findall(regxp, 'https://www.hackerrank.com/challenges/detect-the-domain-name/problem?isFullScreen=true&h_r=next-challenge&h_v=zen&h_r=next-challenge&h_v=zen&h_r=next-challenge&h_v=zen&h_r=next-challenge&h_v=zen&h_r=next-challenge&h_v=zen')"
      ]
    },
    {
      "cell_type": "markdown",
      "metadata": {
        "id": "lmBEo3gWW4RQ"
      },
      "source": [
        "### password validator using regexp"
      ]
    },
    {
      "cell_type": "code",
      "execution_count": null,
      "metadata": {
        "colab": {
          "base_uri": "https://localhost:8080/"
        },
        "id": "kkI5MuoTOe1G",
        "outputId": "2b87a81b-7c32-4ee7-c54a-86cbc20d23a8"
      },
      "outputs": [
        {
          "name": "stdout",
          "output_type": "stream",
          "text": [
            "Welcome to future\n"
          ]
        }
      ],
      "source": [
        "import re\n",
        "# regxp = '[a-z][A-Z][0-9][!@#$%^&*]'\n",
        "regxp = \"^(?=.*[a-z])(?=.*[A-Z])(?=.*\\d)(?=.*[@$!%*#?&])[A-Za-z\\d@$!#%*?&]{6,20}$\"\n",
        "pwd ='wErty#@123'\n",
        "\n",
        "try:\n",
        "  # pat = re.compile(regxp)\n",
        "  match = re.search(regxp, pwd)\n",
        "  if match:\n",
        "    print('Welcome to future')\n",
        "  else:\n",
        "    raise Exception('week Password')\n",
        "  \n",
        "except Exception as e:\n",
        "  print('week Password')"
      ]
    },
    {
      "cell_type": "code",
      "execution_count": null,
      "metadata": {
        "id": "zYOb9inCuqWC",
        "outputId": "4058c5f4-ec1b-416a-b436-4bb1af024529"
      },
      "outputs": [
        {
          "name": "stdout",
          "output_type": "stream",
          "text": [
            "[('GH', 'green'), ('SH', 'Steem')]\n",
            "CRM-Steem-12411\n",
            "CRM-green-23341\n",
            "CRM-green-16511\n"
          ]
        }
      ],
      "source": [
        "str = ['CRM-SH-12411','CRM-GH-23341','CRM-GH-16511']\n",
        "\n",
        "k = ['GH','SH']\n",
        "v = ['green','Steem']\n",
        "l = list(zip(k,v))          # original input\n",
        "# print(l)\n",
        "import re\n",
        "for s in str:\n",
        "    for i,j in l:\n",
        "        if i in s:\n",
        "            x = re.sub(i,j,s)\n",
        "    print(x)"
      ]
    },
    {
      "cell_type": "markdown",
      "metadata": {
        "id": "lYGPrOzX0AnM"
      },
      "source": [
        "### command line arguments Python"
      ]
    },
    {
      "cell_type": "code",
      "execution_count": null,
      "metadata": {
        "id": "K_DJF22g5xNG"
      },
      "outputs": [],
      "source": []
    },
    {
      "cell_type": "code",
      "execution_count": null,
      "metadata": {
        "id": "7Xs681Xc5xK3"
      },
      "outputs": [],
      "source": []
    },
    {
      "cell_type": "code",
      "execution_count": null,
      "metadata": {
        "id": "dc5vEzOE5xIq"
      },
      "outputs": [],
      "source": []
    },
    {
      "cell_type": "code",
      "execution_count": null,
      "metadata": {
        "id": "ja3q6DSD5xGN"
      },
      "outputs": [],
      "source": []
    },
    {
      "cell_type": "markdown",
      "metadata": {
        "id": "obpinZJw5y5_"
      },
      "source": [
        "### Maximum XOR subarray"
      ]
    },
    {
      "cell_type": "code",
      "execution_count": null,
      "metadata": {
        "id": "__7dtPmdaBM-"
      },
      "outputs": [],
      "source": [
        "arr = {1,2,3,4}"
      ]
    },
    {
      "cell_type": "code",
      "execution_count": null,
      "metadata": {
        "colab": {
          "base_uri": "https://localhost:8080/"
        },
        "id": "-Fzhk8OlaBJX",
        "outputId": "f1f0e12e-ecb6-4782-c12e-1db220408a7a"
      },
      "outputs": [
        {
          "name": "stdout",
          "output_type": "stream",
          "text": [
            "2 (9, 3) 10\n",
            "2 (9, 5) 12\n",
            "3 (9, 3, 5) 15\n"
          ]
        },
        {
          "data": {
            "text/plain": [
              "15"
            ]
          },
          "execution_count": 189,
          "metadata": {},
          "output_type": "execute_result"
        }
      ],
      "source": [
        "arr = {9,5,3}\n",
        "# arr = {1,2,3,4}\n",
        "def xor(arr,N):\n",
        "  import itertools\n",
        "  from functools import reduce\n",
        "  m = max(arr)\n",
        "  for i in range(2,N+1):\n",
        "    for subarr in itertools.combinations(arr, i):\n",
        "      if reduce(lambda x,y: x^y, subarr) >= m:\n",
        "        m = reduce(lambda x,y: x^y, subarr)\n",
        "        print(i, subarr, m)\n",
        "      # else: \n",
        "  return m        \n",
        "\n",
        "xor(arr,4)  "
      ]
    },
    {
      "cell_type": "code",
      "execution_count": null,
      "metadata": {
        "colab": {
          "base_uri": "https://localhost:8080/"
        },
        "id": "DRZUKMUX5mrD",
        "outputId": "e58d1ca3-8593-4cf2-8d67-4c915ecbbfd0"
      },
      "outputs": [
        {
          "data": {
            "text/plain": [
              "[(1, 2, 3, 4),\n",
              " (1, 2, 3),\n",
              " (1, 2, 4),\n",
              " (1, 3, 4),\n",
              " (2, 3, 4),\n",
              " (1, 2),\n",
              " (1, 3),\n",
              " (1, 4),\n",
              " (2, 3),\n",
              " (2, 4),\n",
              " (3, 4),\n",
              " (1,),\n",
              " (2,),\n",
              " (3,),\n",
              " (4,)]"
            ]
          },
          "execution_count": 187,
          "metadata": {},
          "output_type": "execute_result"
        }
      ],
      "source": [
        "def subsets(arr,N):\n",
        "  if N == 1:\n",
        "    return list(itertools.combinations(arr, N))\n",
        "  else:\n",
        "    a = list(itertools.combinations(arr, N))\n",
        "    a.extend(subsets(arr, N-1))\n",
        "    return a\n",
        "\n",
        "subsets(arr,4)"
      ]
    },
    {
      "cell_type": "code",
      "execution_count": null,
      "metadata": {
        "colab": {
          "base_uri": "https://localhost:8080/"
        },
        "id": "tvUd7yLJfisD",
        "outputId": "6246e4a8-5233-407f-9513-7ddc2c6fe613"
      },
      "outputs": [
        {
          "data": {
            "text/plain": [
              "7"
            ]
          },
          "execution_count": 185,
          "metadata": {},
          "output_type": "execute_result"
        }
      ],
      "source": [
        "# arr = {9,5,3}\n",
        "arr = {1,2,3,4}\n",
        "\n",
        "def xor(arr,N):\n",
        "  def subsets(arr,N):\n",
        "    if N == 1:\n",
        "      return list(itertools.combinations(arr, N))\n",
        "    else:\n",
        "      a = list(itertools.combinations(arr, N))\n",
        "      a.extend(subsets(arr, N-1))\n",
        "      return a\n",
        "  m=0\n",
        "  for i in subsets(arr,N):\n",
        "    if reduce(lambda x,y: x^y, i) >= m:\n",
        "      m = reduce(lambda x,y: x^y, i)\n",
        "    # print(i, subarr, m)\n",
        "  return m\n",
        "\n",
        "xor(arr, 4)"
      ]
    },
    {
      "cell_type": "code",
      "execution_count": null,
      "metadata": {
        "colab": {
          "base_uri": "https://localhost:8080/"
        },
        "id": "7DIdWoUJflHF",
        "outputId": "568bcad8-5af2-401a-9f28-7f03001afc08"
      },
      "outputs": [
        {
          "name": "stdout",
          "output_type": "stream",
          "text": [
            "[1]\n",
            "[1, 2]\n",
            "[2]\n",
            "[1, 2, 3]\n",
            "[2, 3]\n",
            "[3]\n"
          ]
        }
      ],
      "source": [
        "# All possible combinations using recursion\n",
        "\n",
        "arr = [1,2,3]\n",
        "def subarr(arr,start=0,end=0):\n",
        "  if end == len(arr):\n",
        "    return\n",
        "  elif start > end:\n",
        "    return subarr(arr, 0, end + 1)\n",
        "  else:\n",
        "    print(arr[start:end + 1])\n",
        "    return subarr(arr, start + 1, end)\n",
        "subarr(arr)"
      ]
    },
    {
      "cell_type": "code",
      "execution_count": null,
      "metadata": {
        "colab": {
          "base_uri": "https://localhost:8080/"
        },
        "id": "Ee3BYFImDjOd",
        "outputId": "25786472-3f0d-4cba-9ae4-006539d7ce98"
      },
      "outputs": [
        {
          "data": {
            "text/plain": [
              "(True, True, True)"
            ]
          },
          "execution_count": 1,
          "metadata": {},
          "output_type": "execute_result"
        }
      ],
      "source": [
        "True, True, True"
      ]
    },
    {
      "cell_type": "code",
      "execution_count": null,
      "metadata": {
        "colab": {
          "base_uri": "https://localhost:8080/"
        },
        "id": "UUohb-81Wc8I",
        "outputId": "ff9aee8b-b248-43eb-86e9-c205eba652f7"
      },
      "outputs": [
        {
          "data": {
            "text/plain": [
              "(True, True, False)"
            ]
          },
          "execution_count": 2,
          "metadata": {},
          "output_type": "execute_result"
        }
      ],
      "source": [
        "True, True, True == (True, True, True)"
      ]
    },
    {
      "cell_type": "code",
      "execution_count": null,
      "metadata": {
        "colab": {
          "base_uri": "https://localhost:8080/"
        },
        "id": "XrkJjVaNDjLM",
        "outputId": "96d9f6e3-29bf-4723-aa5b-33b9e0da0691"
      },
      "outputs": [
        {
          "data": {
            "text/plain": [
              "0.30000000000000004"
            ]
          },
          "execution_count": 3,
          "metadata": {},
          "output_type": "execute_result"
        }
      ],
      "source": [
        "0.1+0.2"
      ]
    },
    {
      "cell_type": "markdown",
      "metadata": {
        "id": "rrq1oA5QFhXp"
      },
      "source": [
        "### Continue, break, pass "
      ]
    },
    {
      "cell_type": "code",
      "execution_count": null,
      "metadata": {
        "colab": {
          "base_uri": "https://localhost:8080/"
        },
        "id": "WxBiZ_yyDjIt",
        "outputId": "3899fe21-52de-4261-ea37-db69f03f9a99"
      },
      "outputs": [
        {
          "name": "stdout",
          "output_type": "stream",
          "text": [
            "0\n",
            "1\n",
            "2\n",
            "3\n",
            "4\n",
            "5\n",
            "6\n",
            "Here was 7\n",
            "8\n",
            "9\n"
          ]
        }
      ],
      "source": [
        "# for i in range(10):\n",
        "#   if i == 7:\n",
        "#     print('Here was 7')\n",
        "#     continue\n",
        "#   print(i)\n",
        "\n",
        "# for i in range(10):\n",
        "#   if i == 7:\n",
        "#     print('Here was 7')\n",
        "#     break\n",
        "#   print(i)\n",
        "\n",
        "for i in range(10):\n",
        "  if i == 7:\n",
        "    print('Here was 7')\n",
        "    pass\n",
        "  else:\n",
        "    print(i)"
      ]
    },
    {
      "cell_type": "markdown",
      "metadata": {
        "id": "taRB25-8L_ww"
      },
      "source": [
        "### Try Except Else Finally"
      ]
    },
    {
      "cell_type": "code",
      "execution_count": null,
      "metadata": {
        "id": "i7d4kwYHFkGq"
      },
      "outputs": [],
      "source": []
    },
    {
      "cell_type": "code",
      "execution_count": null,
      "metadata": {
        "id": "NWcaAadT1Maq"
      },
      "outputs": [],
      "source": []
    },
    {
      "cell_type": "code",
      "execution_count": null,
      "metadata": {
        "colab": {
          "base_uri": "https://localhost:8080/"
        },
        "id": "zgs_XMHB1MXN",
        "outputId": "97b48931-e209-4d1a-efdb-9508220db636"
      },
      "outputs": [
        {
          "data": {
            "text/plain": [
              "2"
            ]
          },
          "execution_count": 49,
          "metadata": {},
          "output_type": "execute_result"
        }
      ],
      "source": [
        "s1 = 5432\n",
        "l2 = \"1010100110010\"\n",
        "\n",
        "s2 = int(l2, 2)\n",
        "bin(s1^s2).count('1')"
      ]
    },
    {
      "cell_type": "code",
      "execution_count": null,
      "metadata": {
        "colab": {
          "base_uri": "https://localhost:8080/",
          "height": 35
        },
        "id": "6qAmhnz11MVH",
        "outputId": "39872ac2-396f-4653-bdb6-9cd074aa587b"
      },
      "outputs": [
        {
          "data": {
            "application/vnd.google.colaboratory.intrinsic+json": {
              "type": "string"
            },
            "text/plain": [
              "'1010100111000'"
            ]
          },
          "execution_count": 51,
          "metadata": {},
          "output_type": "execute_result"
        }
      ],
      "source": [
        "bin(s1)[2:]"
      ]
    },
    {
      "cell_type": "code",
      "execution_count": null,
      "metadata": {
        "id": "1JXYkVo3EmtV"
      },
      "outputs": [],
      "source": []
    },
    {
      "cell_type": "code",
      "execution_count": null,
      "metadata": {
        "colab": {
          "base_uri": "https://localhost:8080/"
        },
        "id": "vLcJKJm8DHHu",
        "outputId": "b2a3d30e-9b27-4531-d379-c546072166c9"
      },
      "outputs": [
        {
          "data": {
            "text/plain": [
              "[1, 2, 3, 4]"
            ]
          },
          "execution_count": 41,
          "metadata": {},
          "output_type": "execute_result"
        }
      ],
      "source": [
        "l = [2,3,4]\n",
        "l.insert(0,1)\n",
        "l"
      ]
    },
    {
      "cell_type": "code",
      "execution_count": null,
      "metadata": {
        "colab": {
          "base_uri": "https://localhost:8080/"
        },
        "id": "53y4UXlgEbQ4",
        "outputId": "4fea8adb-057e-4cb7-ca1d-97274b14e121"
      },
      "outputs": [
        {
          "data": {
            "text/plain": [
              "False"
            ]
          },
          "execution_count": 54,
          "metadata": {},
          "output_type": "execute_result"
        }
      ],
      "source": [
        "True^True"
      ]
    },
    {
      "cell_type": "code",
      "execution_count": null,
      "metadata": {
        "colab": {
          "base_uri": "https://localhost:8080/"
        },
        "id": "MZGkQrAXEbLd",
        "outputId": "a54d95bf-7905-4c3d-986c-d41c954b6e87"
      },
      "outputs": [
        {
          "data": {
            "text/plain": [
              "{1: 4, 2: 5, 3: 6}"
            ]
          },
          "execution_count": 2,
          "metadata": {},
          "output_type": "execute_result"
        }
      ],
      "source": [
        "l1 = [1,2,3]\n",
        "l2 = [4,5,6]\n",
        "d = {}\n",
        "for i in range(len(l1)):\n",
        "    d[l1[i]]=l2[i]\n",
        "    \n",
        "d"
      ]
    },
    {
      "cell_type": "code",
      "execution_count": null,
      "metadata": {
        "colab": {
          "base_uri": "https://localhost:8080/"
        },
        "id": "iDstue0WEbJO",
        "outputId": "510df093-0b5c-45ee-a4fd-022f9ed0d1b0"
      },
      "outputs": [
        {
          "data": {
            "text/plain": [
              "{1: 4, 2: 5, 3: 6}"
            ]
          },
          "execution_count": 4,
          "metadata": {},
          "output_type": "execute_result"
        }
      ],
      "source": [
        "d2 = {}\n",
        "for k,v in zip(l1,l2):\n",
        "  d2[k] = v\n",
        "\n",
        "d2"
      ]
    },
    {
      "cell_type": "code",
      "execution_count": null,
      "metadata": {
        "colab": {
          "base_uri": "https://localhost:8080/"
        },
        "id": "pKC4CmtI7IjR",
        "outputId": "19994f8e-1b10-48a4-deda-c8633ed00bb1"
      },
      "outputs": [
        {
          "data": {
            "text/plain": [
              "{1: 4, 2: 5, 3: 6}"
            ]
          },
          "execution_count": 14,
          "metadata": {},
          "output_type": "execute_result"
        }
      ],
      "source": [
        "d3 = {k:v for k,v in zip(l1,l2)}\n",
        "d3"
      ]
    },
    {
      "cell_type": "code",
      "execution_count": null,
      "metadata": {
        "id": "mqnFTRGp-eQx"
      },
      "outputs": [],
      "source": [
        "# to delete element from nested inner dictionary\n",
        "# dic[<key of outer dic>].pop(<key of inner dic>)\n",
        "# ex :- d[3].pop(5) "
      ]
    },
    {
      "cell_type": "code",
      "execution_count": null,
      "metadata": {
        "colab": {
          "base_uri": "https://localhost:8080/",
          "height": 201
        },
        "id": "_NSMYZ-L_dkK",
        "outputId": "5650f1ca-8f39-4e25-883e-eec85b3290b4"
      },
      "outputs": [
        {
          "ename": "Exception",
          "evalue": "ignored",
          "output_type": "error",
          "traceback": [
            "\u001b[0;31m---------------------------------------------------------------------------\u001b[0m",
            "\u001b[0;31mException\u001b[0m                                 Traceback (most recent call last)",
            "\u001b[0;32m<ipython-input-20-f73fb0046cc4>\u001b[0m in \u001b[0;36m<module>\u001b[0;34m()\u001b[0m\n\u001b[1;32m      3\u001b[0m \u001b[0;34m\u001b[0m\u001b[0m\n\u001b[1;32m      4\u001b[0m \u001b[0;32mif\u001b[0m \u001b[0mx\u001b[0m \u001b[0;34m<\u001b[0m \u001b[0;36m18\u001b[0m\u001b[0;34m:\u001b[0m\u001b[0;34m\u001b[0m\u001b[0;34m\u001b[0m\u001b[0m\n\u001b[0;32m----> 5\u001b[0;31m   \u001b[0;32mraise\u001b[0m \u001b[0mException\u001b[0m\u001b[0;34m(\u001b[0m\u001b[0;34m\"Baccha hai tu BC\"\u001b[0m\u001b[0;34m)\u001b[0m\u001b[0;34m\u001b[0m\u001b[0;34m\u001b[0m\u001b[0m\n\u001b[0m",
            "\u001b[0;31mException\u001b[0m: Baccha hai tu BC"
          ]
        }
      ],
      "source": [
        "# Raise exception\n",
        "x = 14\n",
        "\n",
        "if x < 18:\n",
        "  raise Exception(\"Baccha hai tu BC\")\n"
      ]
    },
    {
      "cell_type": "code",
      "execution_count": null,
      "metadata": {
        "colab": {
          "base_uri": "https://localhost:8080/"
        },
        "id": "nwbItRiA_qgI",
        "outputId": "5b0bcfd5-20d7-4348-e992-63a7bc97c49e"
      },
      "outputs": [
        {
          "name": "stdout",
          "output_type": "stream",
          "text": [
            "This was the Issue ------ Baccha hai tu BC\n",
            "Finally Done\n"
          ]
        }
      ],
      "source": [
        "# x = \"a\"\n",
        "# x = 25\n",
        "x = 2\n",
        "\n",
        "# x>20\n",
        "\n",
        "try:\n",
        "  x>20\n",
        "  if x < 20:\n",
        "    raise Exception(\"Baccha hai tu BC\")\n",
        "except TypeError as e:\n",
        "  print(\"This was the Issue ------\",e)\n",
        "except Exception as e:\n",
        "  print(\"This was the Issue ------\",e)  \n",
        "else:\n",
        "  print(\"No Issues \")\n",
        "finally :\n",
        "  print(\"Finally Done\")"
      ]
    },
    {
      "cell_type": "code",
      "execution_count": null,
      "metadata": {
        "colab": {
          "base_uri": "https://localhost:8080/"
        },
        "id": "WkrfP-4HDoYW",
        "outputId": "4d93ee1f-489b-4a2f-fa75-b23c7f1db999"
      },
      "outputs": [
        {
          "name": "stdout",
          "output_type": "stream",
          "text": [
            "Assertion Error !\n"
          ]
        }
      ],
      "source": [
        "# assert\n",
        "try:\n",
        "  assert 4<3\n",
        "  print('age is good')\n",
        "except Exception:\n",
        "  print(\"Assertion Error !\")"
      ]
    },
    {
      "cell_type": "code",
      "execution_count": null,
      "metadata": {
        "colab": {
          "base_uri": "https://localhost:8080/"
        },
        "id": "DPKT2MveLCYT",
        "outputId": "09d49b5f-dc61-4c8f-fb70-c40d488c0d92"
      },
      "outputs": [
        {
          "name": "stdout",
          "output_type": "stream",
          "text": [
            "Resultant prefix ak\n"
          ]
        }
      ],
      "source": [
        "# Python code to demonstrate\n",
        "# to find common prefix\n",
        "# from set of strings\n",
        "\n",
        "# Initialising string\n",
        "ini_strlist = ['akshat', 'akash', 'akshay', 'akshita']\n",
        "\n",
        "# Finding common prefix using Naive Approach\n",
        "res = ''\n",
        "prefix = ini_strlist[0]\n",
        "\n",
        "for string in ini_strlist[1:]:\n",
        "\twhile string[:len(prefix)] != prefix and prefix:\n",
        "\t\tprefix = prefix[:len(prefix)-1]\n",
        "\tif not prefix:\n",
        "\t\tbreak\n",
        "res = prefix\n",
        "\n",
        "# Printing result\n",
        "print(\"Resultant prefix\", str(res))\n"
      ]
    },
    {
      "cell_type": "code",
      "execution_count": null,
      "metadata": {
        "colab": {
          "base_uri": "https://localhost:8080/"
        },
        "id": "mndm6K5ALCV5",
        "outputId": "07e0b235-9f2a-4340-c811-75ba80d6c374"
      },
      "outputs": [
        {
          "name": "stdout",
          "output_type": "stream",
          "text": [
            "Resultant prefix ak\n"
          ]
        }
      ],
      "source": [
        "# Python code to demonstrate\n",
        "# to find common prefix\n",
        "# from set of strings\n",
        "\n",
        "from itertools import takewhile\n",
        "\n",
        "# Initialising string\n",
        "ini_strlist = ['akshat', 'akash', 'akshay', 'akshita']\n",
        "\n",
        "# Finding common prefix using Naive Approach\n",
        "res = ''.join(c[0] for c in takewhile(lambda x:\n",
        "\t\tall(x[0] == y for y in x), zip(*ini_strlist)))\n",
        "\n",
        "# Printing result\n",
        "print(\"Resultant prefix\", str(res))\n"
      ]
    },
    {
      "cell_type": "code",
      "execution_count": null,
      "metadata": {
        "colab": {
          "base_uri": "https://localhost:8080/"
        },
        "id": "bHAqQKmyLCSU",
        "outputId": "4f2c5941-5769-48f1-e371-6fef1c24c0ad"
      },
      "outputs": [
        {
          "data": {
            "text/plain": [
              "[('a', 'a', 'a', 'a'),\n",
              " ('k', 'k', 'k', 'k'),\n",
              " ('s', 'a', 's', 's'),\n",
              " ('h', 's', 'h', 'h'),\n",
              " ('a', 'h', 'a', 'i')]"
            ]
          },
          "execution_count": 9,
          "metadata": {},
          "output_type": "execute_result"
        }
      ],
      "source": [
        "[l for l in zip(*ini_strlist)]\n",
        "# print(l)"
      ]
    },
    {
      "cell_type": "code",
      "execution_count": null,
      "metadata": {
        "colab": {
          "base_uri": "https://localhost:8080/"
        },
        "id": "YuxUxrEvLCPe",
        "outputId": "5aae884f-ebb4-4f37-80b8-ab901bceb176"
      },
      "outputs": [
        {
          "name": "stdout",
          "output_type": "stream",
          "text": [
            "Testing: 1\n",
            "Testing: 2\n",
            "Testing: 3\n",
            "Testing: p\n"
          ]
        },
        {
          "data": {
            "text/plain": [
              "['1', '2', '3']"
            ]
          },
          "execution_count": 15,
          "metadata": {},
          "output_type": "execute_result"
        }
      ],
      "source": [
        "a = '123passW0rd'\n",
        "def test_func(x):\n",
        "    print(\"Testing:\", x)\n",
        "    return(x.isdigit())\n",
        "l = [i for i in takewhile(test_func ,a)]\n",
        "l"
      ]
    },
    {
      "cell_type": "code",
      "execution_count": null,
      "metadata": {
        "colab": {
          "base_uri": "https://localhost:8080/"
        },
        "id": "1CtRMNrJx4wi",
        "outputId": "2fc551ff-7d9c-4f7c-bac5-fea28c78ab78"
      },
      "outputs": [
        {
          "data": {
            "text/plain": [
              "True"
            ]
          },
          "execution_count": 30,
          "metadata": {},
          "output_type": "execute_result"
        }
      ],
      "source": [
        "a = 'passW0rd'\n",
        "any(i.isdigit() for i in a)"
      ]
    },
    {
      "cell_type": "code",
      "execution_count": null,
      "metadata": {
        "colab": {
          "base_uri": "https://localhost:8080/"
        },
        "id": "srxRKEO8LCIg",
        "outputId": "5dd893a5-fc60-4be1-c8e3-b82cd0ba019c"
      },
      "outputs": [
        {
          "data": {
            "text/plain": [
              "[True, True, True, True, True, True, True, True]"
            ]
          },
          "execution_count": 37,
          "metadata": {},
          "output_type": "execute_result"
        }
      ],
      "source": [
        "# a = ['akshat', 'akash', 'akshay', 'akshita']\n",
        "a = 'passW0rd'\n",
        "list(map(lambda x: all(x[0] == y for y in x) ,  a))"
      ]
    },
    {
      "cell_type": "code",
      "execution_count": null,
      "metadata": {
        "id": "waneHY6O7J-d"
      },
      "outputs": [],
      "source": [
        "n = 48\n",
        "m1 = 4\n",
        "m2 = 12\n",
        "m3 = 8\n"
      ]
    },
    {
      "cell_type": "markdown",
      "metadata": {
        "id": "NlPWH3K4OfWE"
      },
      "source": [
        "### Fibonacci Series Questions"
      ]
    },
    {
      "cell_type": "code",
      "execution_count": null,
      "metadata": {
        "id": "MWmMBrfH7J6p"
      },
      "outputs": [],
      "source": [
        "# 1 2 3 4 5 6 7\n",
        "# 0 1 1 2 3 5 8 \n",
        "def fibseries(n):  \n",
        "  l = [0,1]\n",
        "  def fib(n):\n",
        "    if n==1:\n",
        "      return 0\n",
        "    elif n==2:\n",
        "      return 1\n",
        "    return fib(n-1)+fib(n-2)\n",
        "  if n==1:\n",
        "    return 0\n",
        "  elif n==2:\n",
        "    return l\n",
        "  [l.append(fib(i)) for i in range(3,n+1)]\n",
        "  return l"
      ]
    },
    {
      "cell_type": "code",
      "execution_count": null,
      "metadata": {
        "id": "0YpN_bGVK3sO"
      },
      "outputs": [],
      "source": [
        "def fibseries(n):  \n",
        "  l = [0,1]\n",
        "  if n==1:\n",
        "    return 0\n",
        "  elif n==2:\n",
        "    return l\n",
        "  [l.append(l[i-2]+l[i-3]) for i in range(3,n+1)]\n",
        "  return l"
      ]
    },
    {
      "cell_type": "code",
      "execution_count": null,
      "metadata": {
        "colab": {
          "base_uri": "https://localhost:8080/"
        },
        "id": "7k88XDYB7J3O",
        "outputId": "733ebe8d-849e-4e85-f143-38f859a54359"
      },
      "outputs": [
        {
          "name": "stdout",
          "output_type": "stream",
          "text": [
            "[0, 1, 1, 2, 3, 5]\n"
          ]
        }
      ],
      "source": [
        "n = 6\n",
        "# print(fib(n))\n",
        "print(fibseries(n))"
      ]
    },
    {
      "cell_type": "code",
      "execution_count": null,
      "metadata": {
        "colab": {
          "base_uri": "https://localhost:8080/"
        },
        "id": "u7d-V56XMqMs",
        "outputId": "1e9bdc8d-1079-4b58-decc-dbf4deb63325"
      },
      "outputs": [
        {
          "name": "stdout",
          "output_type": "stream",
          "text": [
            "[0, 1, 1, 2, 3, 5]\n"
          ]
        }
      ],
      "source": [
        "# 1 2 3 4 5 6 7\n",
        "# 0 1 1 2 3 5 8 \n",
        "def fibs(n): \n",
        "  if n<1:\n",
        "    return \"Enter Valid Number\"\n",
        "  elif n==1:\n",
        "    return [0]\n",
        "  elif n==2:\n",
        "    return [0, 1]\n",
        "  l = fibs(n-1) + [0]\n",
        "  # l = fibs(n-1).append(0)     # Gives error\n",
        "  l[-1] = l[-2] + l[-3]\n",
        "  # fibs(n-1)[-1]+fibs(n-1)[-2]\n",
        "  return l\n",
        "\n",
        "n = 6\n",
        "print(fibs(n))"
      ]
    },
    {
      "cell_type": "code",
      "execution_count": null,
      "metadata": {
        "colab": {
          "base_uri": "https://localhost:8080/"
        },
        "id": "AMkZfbvRM8vV",
        "outputId": "896add70-ae57-4a31-b970-e95601fa5479"
      },
      "outputs": [
        {
          "name": "stdout",
          "output_type": "stream",
          "text": [
            "[0, 1]\n"
          ]
        }
      ],
      "source": [
        "n = 2\n",
        "print(fibs(n))"
      ]
    },
    {
      "cell_type": "code",
      "execution_count": null,
      "metadata": {
        "colab": {
          "base_uri": "https://localhost:8080/"
        },
        "id": "NOAcAAy2dsQM",
        "outputId": "43c85e12-0151-4ccf-fafd-8594bced5b97"
      },
      "outputs": [
        {
          "data": {
            "text/plain": [
              "[0, 0, 5]"
            ]
          },
          "execution_count": 145,
          "metadata": {},
          "output_type": "execute_result"
        }
      ],
      "source": [
        "l = [0]*3\n",
        "l[2]=5\n",
        "l"
      ]
    },
    {
      "cell_type": "code",
      "execution_count": null,
      "metadata": {
        "colab": {
          "base_uri": "https://localhost:8080/"
        },
        "id": "xk4zl5zUiWuw",
        "outputId": "b83910b7-ed29-45c8-a59f-9e0e7074ce4d"
      },
      "outputs": [
        {
          "data": {
            "text/plain": [
              "[0, 1, 1, 2]"
            ]
          },
          "execution_count": 158,
          "metadata": {},
          "output_type": "execute_result"
        }
      ],
      "source": [
        "[0,1,1]+[2]"
      ]
    },
    {
      "cell_type": "code",
      "execution_count": null,
      "metadata": {
        "id": "5_L8CUip-WZb"
      },
      "outputs": [],
      "source": [
        "n = 48\n",
        "m1 = 4\n",
        "m2 = 12\n",
        "m3 = 8\n",
        "\n",
        "def func(n,m1,m2,m3):\n",
        "  3"
      ]
    },
    {
      "cell_type": "markdown",
      "metadata": {
        "id": "dRSrxmnGk1Af"
      },
      "source": [
        "### Enumerate"
      ]
    },
    {
      "cell_type": "code",
      "execution_count": null,
      "metadata": {
        "colab": {
          "base_uri": "https://localhost:8080/"
        },
        "id": "-FyCmEMP-WWk",
        "outputId": "58c62475-def2-4200-bbb5-22466cfc50c3"
      },
      "outputs": [
        {
          "name": "stdout",
          "output_type": "stream",
          "text": [
            "1 Winter\n",
            "2 Spring\n",
            "3 Summer\n",
            "4 Autumn\n"
          ]
        }
      ],
      "source": [
        "seasons = ['Winter','Spring','Summer','Autumn']\n",
        "'''\n",
        "c=1\n",
        "for i in seasons:\n",
        "  print(c, i)\n",
        "  c+=1\n",
        "'''\n",
        "'''\n",
        "for i in range(len(seasons)):\n",
        "  print(i+1,seasons[i])\n",
        "'''\n",
        "for c,i in enumerate(seasons, start=1):\n",
        "  print(c,i)"
      ]
    },
    {
      "cell_type": "markdown",
      "metadata": {
        "id": "zMQS--AMmHaa"
      },
      "source": [
        "### pprint - pretty print json format\n"
      ]
    },
    {
      "cell_type": "code",
      "execution_count": null,
      "metadata": {
        "colab": {
          "base_uri": "https://localhost:8080/"
        },
        "id": "I9jbEE67-WUV",
        "outputId": "f48a6c11-3dea-47c8-d3f4-71f71817a48f"
      },
      "outputs": [
        {
          "name": "stdout",
          "output_type": "stream",
          "text": [
            "{'error_message': 'You must use an API key to authenticate each request to '\n",
            "                  'Google Maps Platform APIs. For additional information, '\n",
            "                  'please refer to http://g.co/dev/maps-no-account',\n",
            " 'results': [],\n",
            " 'status': 'REQUEST_DENIED'}\n"
          ]
        }
      ],
      "source": [
        "import requests\n",
        "from pprint import pprint\n",
        " \n",
        "def geocode(address):\n",
        "    url = \"https://maps.googleapis.com/maps/api/geocode/json\"\n",
        "    resp = requests.get(url, params = {'address': address})\n",
        "    return resp.json()\n",
        " \n",
        "# calling geocode function\n",
        "data = geocode('India gate')\n",
        " \n",
        "# pretty-printing json response\n",
        "# print(data)\n",
        "pprint(data)"
      ]
    },
    {
      "cell_type": "markdown",
      "metadata": {
        "id": "cgj9UWLsUiwX"
      },
      "source": [
        "### l.count(i) gives count of occurance ith element in list l "
      ]
    },
    {
      "cell_type": "code",
      "execution_count": null,
      "metadata": {
        "colab": {
          "base_uri": "https://localhost:8080/"
        },
        "id": "KR-p2TjvQROY",
        "outputId": "cf01b6af-f29a-4f55-ac54-59008e469163"
      },
      "outputs": [
        {
          "data": {
            "text/plain": [
              "[1, 3, 4, 5]"
            ]
          },
          "execution_count": 54,
          "metadata": {},
          "output_type": "execute_result"
        }
      ],
      "source": [
        "l1 = [1,2,3,3,4,4]\n",
        "l2 = [1,5,6,5,7,8]\n",
        "l = l1+l2\n",
        "\n",
        "# [l.append(i) for i in l1 if l1.count(i)>1 or i in l2] + [l.append(j) for j in l2 if l2.count(j)>1]\n",
        "\n",
        "\n",
        "list(set([i for i in l if l.count(i)>1]))\n",
        "#  l1.count(i)>1 or l2.count(i)>1 or i in set(l1).intersection(set(l2))]\n",
        "# print(list(set(l)))"
      ]
    },
    {
      "cell_type": "markdown",
      "metadata": {
        "id": "Xwpq6HvpnnTF"
      },
      "source": [
        "### pep8 ie python enhancement proposals "
      ]
    },
    {
      "cell_type": "code",
      "execution_count": null,
      "metadata": {
        "colab": {
          "base_uri": "https://localhost:8080/"
        },
        "id": "ssPZQfWq-WSK",
        "outputId": "9adc53ef-fe10-44b2-b969-4529d0c2d5f8"
      },
      "outputs": [
        {
          "name": "stdout",
          "output_type": "stream",
          "text": [
            "Answer is 2\n"
          ]
        }
      ],
      "source": [
        "a=2\n",
        "print(f\"Answer is {a}\")"
      ]
    },
    {
      "cell_type": "markdown",
      "metadata": {
        "id": "_4b3Irc_EAO5"
      },
      "source": [
        "### Column combination for dashboard"
      ]
    },
    {
      "cell_type": "code",
      "execution_count": null,
      "metadata": {
        "id": "yxZcZCUp-WPN"
      },
      "outputs": [],
      "source": [
        "columns = ['Continent','Country','State','Name','Gender','Age','Married','Education']\n",
        "loc = ['Continent','Country','State']"
      ]
    },
    {
      "cell_type": "code",
      "execution_count": null,
      "metadata": {
        "colab": {
          "base_uri": "https://localhost:8080/"
        },
        "id": "xD4fHvk4R7DD",
        "outputId": "a8dd637a-8056-47b5-b539-138a26b48106"
      },
      "outputs": [
        {
          "name": "stdout",
          "output_type": "stream",
          "text": [
            "6720\n"
          ]
        }
      ],
      "source": [
        "# Max Possible Combinations\n",
        "import itertools\n",
        "c=0\n",
        "l_all = []\n",
        "for subarr in itertools.permutations(columns, 5):\n",
        "  # print(list(subarr))\n",
        "  l_all.append(list(subarr))\n",
        "  c+=1 \n",
        "\n",
        "# print(c)\n",
        "print(len(l_all))"
      ]
    },
    {
      "cell_type": "code",
      "execution_count": null,
      "metadata": {
        "colab": {
          "base_uri": "https://localhost:8080/"
        },
        "id": "KE2op_y_Epqg",
        "outputId": "2603d293-a617-4e00-e9da-ef895faf2d2f"
      },
      "outputs": [
        {
          "name": "stdout",
          "output_type": "stream",
          "text": [
            "680\n"
          ]
        }
      ],
      "source": [
        "# List of Valid combinations\n",
        "import itertools\n",
        "c=0\n",
        "l_corr = []\n",
        "for subarr in itertools.combinations(columns, 5):\n",
        "    l1 = list(itertools.takewhile(lambda i: i in loc, subarr))\n",
        "    l2 = list(itertools.dropwhile(lambda i: i in loc, subarr))\n",
        "    for sub in itertools.permutations(l2):\n",
        "      # print(l1+list(sub))\n",
        "      l_corr.append(l1+list(sub))\n",
        "  # print(subarr)\n",
        "    # print(l1,'-----',l2)\n",
        "      c+=1 \n",
        "# print(c)\n",
        "print(len(l_corr))"
      ]
    },
    {
      "cell_type": "code",
      "execution_count": null,
      "metadata": {
        "colab": {
          "base_uri": "https://localhost:8080/"
        },
        "id": "z93D7x63Un17",
        "outputId": "4db0d14d-cfd1-48e1-da41-0c325901540b"
      },
      "outputs": [
        {
          "name": "stdout",
          "output_type": "stream",
          "text": [
            "6040\n"
          ]
        }
      ],
      "source": [
        "# List of invalid combinations\n",
        "l_inv = []\n",
        "for l in l_all:\n",
        "  if l not in l_corr:\n",
        "    l_inv.append(l)\n",
        "    # print(l)\n",
        "\n",
        "print(len(l_inv))"
      ]
    },
    {
      "cell_type": "markdown",
      "metadata": {
        "id": "J1PxvGmeWte9"
      },
      "source": [
        "#### permutations "
      ]
    },
    {
      "cell_type": "code",
      "execution_count": null,
      "metadata": {
        "colab": {
          "base_uri": "https://localhost:8080/"
        },
        "id": "476v2gACEQNx",
        "outputId": "b942b9f5-1b94-4e2f-a97e-2dd8429d1754"
      },
      "outputs": [
        {
          "name": "stdout",
          "output_type": "stream",
          "text": [
            "[(1, 2), (1, 3), (2, 1), (2, 3), (3, 1), (3, 2)]\n"
          ]
        }
      ],
      "source": [
        "from itertools import permutations\n",
        "l = list(permutations(range(1, 4),2))\n",
        "print(l)"
      ]
    },
    {
      "cell_type": "markdown",
      "metadata": {
        "id": "5868CuVMgJbt"
      },
      "source": [
        "### test good question"
      ]
    },
    {
      "cell_type": "code",
      "execution_count": null,
      "metadata": {
        "colab": {
          "base_uri": "https://localhost:8080/"
        },
        "id": "ASl8RQ5rWh47",
        "outputId": "70e4d3d5-db33-4e26-c3ff-657e38e90346"
      },
      "outputs": [
        {
          "name": "stdout",
          "output_type": "stream",
          "text": [
            "56\n"
          ]
        }
      ],
      "source": [
        "n = 48          # initial coins\n",
        "\n",
        "def turn(n):\n",
        "  w = 0\n",
        "  m1 = 3          # 25 play win 20\n",
        "  m2 = 12         # 120 play win 80\n",
        "  m3 = 4          # 12 play win 8\n",
        "\n",
        "  if n//3<12-m3:\n",
        "    m1 = n//3 + m1\n",
        "    m2 = n//3 + m2\n",
        "    m3 = n//3 + m3\n",
        "    return n\n",
        "\n",
        "  elif n//3>12-m3 and n//3<25-m1 or 12-m3>25-m1:\n",
        "    m1 = n//3 + m1\n",
        "    m2 = n//3 + m2\n",
        "    m3 = n//3 - 12 - m3                         #16    12 -4 =8        16-8= 8\n",
        "    return n + turn(8)\n",
        "\n",
        "\n",
        "  elif n//3>25-m1 and n//3<120-m2:\n",
        "\n",
        "    return n + turn(20) + turn(8) * # no of times it smultiple of 12-m3\n",
        "  \n",
        "  elif n//3>120-m2:\n",
        "    return n + turn(80)\n",
        "\n",
        "print(turn(n))"
      ]
    },
    {
      "cell_type": "code",
      "execution_count": null,
      "metadata": {
        "colab": {
          "base_uri": "https://localhost:8080/"
        },
        "id": "lMmiikAtWhzG",
        "outputId": "bf82b08f-4557-43a4-b59f-130adced7b57"
      },
      "outputs": [
        {
          "data": {
            "text/plain": [
              "156"
            ]
          },
          "execution_count": 188,
          "metadata": {},
          "output_type": "execute_result"
        }
      ],
      "source": [
        "n = 120            # initial coins\n",
        "\n",
        "def turn(n):\n",
        "  m1 = 3          # 25 play win 20\n",
        "  m2 = 12         # 120 play win 80\n",
        "  m3 = 4          # 12 play win 8\n",
        "  c=0\n",
        "  while n>0:\n",
        "    if n/3 < 12-m3:\n",
        "      return n+c\n",
        "    else:\n",
        "      m1+=1\n",
        "      n-=1\n",
        "      c+=1\n",
        "      if m1==25 :\n",
        "        return n+c + turn(20) + turn(8)*2\n",
        "      m2+=1\n",
        "      n-=1\n",
        "      c+=1\n",
        "      if m2 == 120 and n/3>25-m1:\n",
        "        return n+c + turn(80) +turn(20)*4+turn(8)*10\n",
        "      m3+=1\n",
        "      n-=1\n",
        "      c+=1\n",
        "      if m3 == 12 and n/3<12-m3:\n",
        "        return n+c + turn(8)\n",
        "\n",
        "turn(n)"
      ]
    },
    {
      "cell_type": "markdown",
      "metadata": {
        "id": "xvI2rrMxolri"
      },
      "source": [
        "### Tiger Analytics Question"
      ]
    },
    {
      "cell_type": "code",
      "execution_count": null,
      "metadata": {
        "colab": {
          "base_uri": "https://localhost:8080/",
          "height": 35
        },
        "id": "AQx_1fwgxx6h",
        "outputId": "67a285fc-6b6c-45bf-b773-fafa1c5d5357"
      },
      "outputs": [
        {
          "data": {
            "application/vnd.google.colaboratory.intrinsic+json": {
              "type": "string"
            },
            "text/plain": [
              "'b'"
            ]
          },
          "execution_count": 15,
          "metadata": {},
          "output_type": "execute_result"
        }
      ],
      "source": [
        "minimum = min(d, key = d.get)\n",
        "minimum"
      ]
    },
    {
      "cell_type": "code",
      "execution_count": null,
      "metadata": {
        "id": "OU0Z1kaZvy3u"
      },
      "outputs": [],
      "source": [
        "d = {'a':2,'b':1,'c':4}"
      ]
    },
    {
      "cell_type": "code",
      "execution_count": null,
      "metadata": {
        "colab": {
          "base_uri": "https://localhost:8080/"
        },
        "id": "yu23ctFZxx90",
        "outputId": "65ee3197-cd23-4694-f050-fae91f774761"
      },
      "outputs": [
        {
          "name": "stdout",
          "output_type": "stream",
          "text": [
            "('b', 1)\n",
            "('c', 4)\n",
            "[('b', 1), ('a', 2), ('c', 4)]\n"
          ]
        }
      ],
      "source": [
        "for k,v in d.items():\n",
        "  if v == min(d.values()):\n",
        "    print(tuple([k,v]))\n",
        "  if v == max(d.values()):\n",
        "    print(tuple([k,v]))\n",
        "  \n",
        "print(sorted(d.items(), key=lambda item: item[1]))"
      ]
    },
    {
      "cell_type": "code",
      "execution_count": null,
      "metadata": {
        "colab": {
          "base_uri": "https://localhost:8080/"
        },
        "id": "mkb9WWtzoh-M",
        "outputId": "1abe4c6e-b459-414a-99f4-e466200600c0"
      },
      "outputs": [
        {
          "data": {
            "text/plain": [
              "1"
            ]
          },
          "execution_count": 37,
          "metadata": {},
          "output_type": "execute_result"
        }
      ],
      "source": [
        "min(d.values())"
      ]
    },
    {
      "cell_type": "code",
      "execution_count": null,
      "metadata": {
        "colab": {
          "base_uri": "https://localhost:8080/"
        },
        "id": "EZZCeatBxx4e",
        "outputId": "ac7c2cd0-5635-417e-a584-1759da2ef79f"
      },
      "outputs": [
        {
          "name": "stdout",
          "output_type": "stream",
          "text": [
            "a 2\n",
            "b 1\n",
            "c 4\n"
          ]
        }
      ],
      "source": [
        "for k,v in d.items():\n",
        "  print(k,v)"
      ]
    },
    {
      "cell_type": "code",
      "execution_count": null,
      "metadata": {
        "colab": {
          "base_uri": "https://localhost:8080/"
        },
        "id": "b1JiTbAKvy1f",
        "outputId": "5b8517ce-26de-4d59-9d7d-5ae51b400f21"
      },
      "outputs": [
        {
          "name": "stdout",
          "output_type": "stream",
          "text": [
            "(1, 6)\n",
            "(2, 5)\n",
            "(3, 4)\n"
          ]
        }
      ],
      "source": [
        "l1 = [1,2,3]\n",
        "l2 = [4,5,6]\n",
        "for i in zip(l1,l2[::-1]):\n",
        "  print(i)"
      ]
    },
    {
      "cell_type": "code",
      "execution_count": null,
      "metadata": {
        "colab": {
          "base_uri": "https://localhost:8080/"
        },
        "id": "0dMS7BHypnpS",
        "outputId": "6507337b-4074-42f3-c535-1d9010c7b7e6"
      },
      "outputs": [
        {
          "name": "stdout",
          "output_type": "stream",
          "text": [
            "[6, 5, 4]\n"
          ]
        }
      ],
      "source": [
        "l = l2.reverse()\n",
        "print(l2)"
      ]
    },
    {
      "cell_type": "code",
      "execution_count": null,
      "metadata": {
        "colab": {
          "base_uri": "https://localhost:8080/"
        },
        "id": "8SJXPAfuqbFI",
        "outputId": "2e4cc2f0-71d3-4134-9caa-8f8b2c3f1d89"
      },
      "outputs": [
        {
          "data": {
            "text/plain": [
              "['Dead_Bowie',\n",
              " 'Fake_Thomas_Jefferson',\n",
              " 'Fake_Thomas_Jefferson',\n",
              " 'Fury_Leika',\n",
              " 'Fury_Leika',\n",
              " 'Dead_Bowie']"
            ]
          },
          "execution_count": 25,
          "metadata": {},
          "output_type": "execute_result"
        }
      ],
      "source": [
        "# l =  [1,2,3,[4,5,6,[7,8,9]]]\n",
        "# l = [1,2,[3,4,[5,6]],7,8,[9,[10]]]\n",
        "l = [('Dead_Bowie', 'Fake_Thomas_Jefferson'), ('Fake_Thomas_Jefferson', 'Fury_Leika'), ('Fury_Leika', 'Dead_Bowie')]\n",
        "#    [1,2,3,4,5,6,7,8,9]\n",
        "o=[]\n",
        "\n",
        "def lst(l):\n",
        "  for i in l:\n",
        "    if type(i) ==tuple:\n",
        "      lst(i)\n",
        "    else: \n",
        "      o.append(i)\n",
        "  # print(o)\n",
        "  return o\n",
        "\n",
        "lst(l)"
      ]
    },
    {
      "cell_type": "code",
      "execution_count": null,
      "metadata": {
        "colab": {
          "base_uri": "https://localhost:8080/"
        },
        "id": "ZruQsqtdrvb-",
        "outputId": "a886e029-bbca-4fd8-afca-2180e3f51cc6"
      },
      "outputs": [
        {
          "data": {
            "text/plain": [
              "[1, 8, 27, 64]"
            ]
          },
          "execution_count": 18,
          "metadata": {},
          "output_type": "execute_result"
        }
      ],
      "source": [
        "l = [1,2,3,4]\n",
        "\n",
        "# [1,8,27,64]\n",
        "\n",
        "list(map(lambda x :x**3, l))"
      ]
    },
    {
      "cell_type": "code",
      "execution_count": null,
      "metadata": {
        "colab": {
          "base_uri": "https://localhost:8080/"
        },
        "id": "zDbx52iQpa4Q",
        "outputId": "0d4e14ea-f1a4-4ac4-e976-549c0ea86690"
      },
      "outputs": [
        {
          "data": {
            "text/plain": [
              "[<function __main__.<listcomp>.<lambda>>,\n",
              " <function __main__.<listcomp>.<lambda>>,\n",
              " <function __main__.<listcomp>.<lambda>>,\n",
              " <function __main__.<listcomp>.<lambda>>]"
            ]
          },
          "execution_count": 17,
          "metadata": {},
          "output_type": "execute_result"
        }
      ],
      "source": [
        "[lambda x:x**3 for x in l]"
      ]
    },
    {
      "cell_type": "markdown",
      "metadata": {
        "id": "7cNy4qcvvm5E"
      },
      "source": [
        "### Good Question BY sumit"
      ]
    },
    {
      "cell_type": "code",
      "execution_count": null,
      "metadata": {
        "id": "TtdsbhKc7851"
      },
      "outputs": [],
      "source": [
        "\"\"\"\n",
        "2\n",
        "1\n",
        "Dead_Bowie Fake_Thomas_Jefferson\n",
        "3\n",
        "Dead_Bowie Fake_Thomas_Jefferson\n",
        "Fake_Thomas_Jefferson Fury_Leika\n",
        "Fury_Leika Dead_Bowie\"\"\""
      ]
    },
    {
      "cell_type": "code",
      "execution_count": null,
      "metadata": {
        "colab": {
          "base_uri": "https://localhost:8080/"
        },
        "id": "zfBbhy5l782f",
        "outputId": "960a77d8-7b6a-4641-801c-b1fc456a2130"
      },
      "outputs": [
        {
          "name": "stdout",
          "output_type": "stream",
          "text": [
            "1\n",
            "3\n",
            "Dead_Bowie Fake_Thomas_Jefferson\n",
            "Fake_Thomas_Jefferson Fury_Leika\n",
            "Fury_Leika Dead_Bowie\n",
            "[('Dead_Bowie', 'Fake_Thomas_Jefferson'), ('Fake_Thomas_Jefferson', 'Fury_Leika'), ('Fury_Leika', 'Dead_Bowie')]\n"
          ]
        }
      ],
      "source": [
        "t = int(input())\n",
        "for _ in range(t):  \n",
        "  n = int(input())\n",
        "  pl = [tuple(input().split()) for _ in range(n)]\n",
        "  # for i in pl:\n",
        "  #   if i[0] not in a:\n",
        "  #     a = a + [i[0]]\n",
        "  #   if i[1] not in b:\n",
        "  #     b = b + [i[1]]\n",
        "print(pl)"
      ]
    },
    {
      "cell_type": "code",
      "execution_count": null,
      "metadata": {
        "id": "WGSazYN_0Shi"
      },
      "outputs": [],
      "source": [
        "\n",
        "t1 = [pl[0][0]]\n",
        "t2 = [pl[0][1]]\n",
        "# for i,j in pl:\n",
        "#   if i in t1 and j in t1:\n",
        "#     t1.append(i)\n",
        "#   elif i in t1 and j in t2:\n",
        "    \n",
        "#   if i in t2 and j in t1:\n",
        "\n",
        "#   if i in t2 and j in t2:\n"
      ]
    },
    {
      "cell_type": "markdown",
      "metadata": {
        "id": "MfnImmT8vjvh"
      },
      "source": [
        "### unzip zip(*l)"
      ]
    },
    {
      "cell_type": "code",
      "execution_count": null,
      "metadata": {
        "colab": {
          "base_uri": "https://localhost:8080/"
        },
        "id": "phUgEK4itP7L",
        "outputId": "92b7b842-0e63-48f9-c60d-f04711ac0dc2"
      },
      "outputs": [
        {
          "data": {
            "text/plain": [
              "[('Dead_Bowie', 'Fake_Thomas_Jefferson', 'Fury_Leika'),\n",
              " ('Fake_Thomas_Jefferson', 'Fury_Leika', 'Dead_Bowie')]"
            ]
          },
          "execution_count": 2,
          "metadata": {},
          "output_type": "execute_result"
        }
      ],
      "source": [
        "pl = [('Dead_Bowie', 'Fake_Thomas_Jefferson'), ('Fake_Thomas_Jefferson', 'Fury_Leika'), ('Fury_Leika', 'Dead_Bowie')]\n",
        "# a = list(list(zip(*pl))[0])\n",
        "# b = list(list(zip(*pl))[1])\n",
        "# print(a,b)\n",
        "list(zip(*pl))"
      ]
    },
    {
      "cell_type": "code",
      "execution_count": null,
      "metadata": {
        "colab": {
          "base_uri": "https://localhost:8080/"
        },
        "id": "P8cGfVpJvXuP",
        "outputId": "7b9584b0-a5c2-41fb-8c3b-d58a56f4d686"
      },
      "outputs": [
        {
          "data": {
            "text/plain": [
              "['Fury_Leika', 'Dead_Bowie', 'Fake_Thomas_Jefferson']"
            ]
          },
          "execution_count": 38,
          "metadata": {},
          "output_type": "execute_result"
        }
      ],
      "source": [
        "l = ['Dead_Bowie',\n",
        " 'Fake_Thomas_Jefferson',\n",
        " 'Fake_Thomas_Jefferson',\n",
        " 'Fury_Leika',\n",
        " 'Fury_Leika',\n",
        " 'Dead_Bowie']\n",
        "import collections\n",
        "# collections.Counter(l)\n",
        "list(set(l))"
      ]
    },
    {
      "cell_type": "code",
      "execution_count": null,
      "metadata": {
        "colab": {
          "base_uri": "https://localhost:8080/"
        },
        "id": "sIBmr7mvO4P9",
        "outputId": "423913c9-ea57-4e1d-93e6-643eee6caf04"
      },
      "outputs": [
        {
          "data": {
            "text/plain": [
              "[(1, 12, 23, 37, 47), (2, 13, 24, 38, 45), (3, 14, 25, 39, 46)]"
            ]
          },
          "execution_count": 3,
          "metadata": {},
          "output_type": "execute_result"
        }
      ],
      "source": [
        "l = [(1,2,3,4),(12,13,14),(23,24,25),(37,38,39),(47,45,46)]\n",
        "list(zip(*l))"
      ]
    },
    {
      "cell_type": "markdown",
      "metadata": {
        "id": "voIIqPruWh9j"
      },
      "source": [
        "### File Handling"
      ]
    },
    {
      "cell_type": "code",
      "execution_count": null,
      "metadata": {
        "id": "p2dT4FqPO-rd"
      },
      "outputs": [],
      "source": [
        "# a file named \"geek\", will be opened with the reading mode.\n",
        "file = open('geek.txt', 'r')\n",
        "# This will print every line one by one in the file\n",
        "for each in file:\n",
        "    print (each)"
      ]
    },
    {
      "cell_type": "code",
      "execution_count": null,
      "metadata": {
        "id": "Y0M_Mr2huqWS",
        "outputId": "c98835e8-9730-4ae3-e7fc-34cc09c46c1a"
      },
      "outputs": [
        {
          "data": {
            "text/plain": [
              "{3: 4}"
            ]
          },
          "execution_count": 18,
          "metadata": {},
          "output_type": "execute_result"
        }
      ],
      "source": [
        "d1={1:2,3:4,5:6}\n",
        "d2={1:2,5:6}\n",
        "# o = {}\n",
        "# for i in d1.keys():\n",
        "#     if i not in d2.keys():\n",
        "#         o[i]=j\n",
        "# print(o)\n",
        "{k:v for k,v in d1.items() if k not in d2}\n"
      ]
    },
    {
      "cell_type": "markdown",
      "metadata": {
        "id": "ge3stPcIuqWS"
      },
      "source": [
        "### Data Generator Code"
      ]
    },
    {
      "cell_type": "code",
      "execution_count": null,
      "metadata": {
        "id": "UIFi_ZBnuqWT"
      },
      "outputs": [],
      "source": [
        "import pandas as pd\n",
        "# from tqdm import tqdm\n",
        "import csv\n",
        "import random\n",
        "import string\n",
        "from pyspark.sql import SparkSession\n",
        "from pyspark.sql.functions import *"
      ]
    },
    {
      "cell_type": "code",
      "execution_count": null,
      "metadata": {
        "id": "4-Oep3d1uqWT",
        "outputId": "a695e701-79c2-443b-cf08-3fd3f086bbf0"
      },
      "outputs": [
        {
          "name": "stdout",
          "output_type": "stream",
          "text": [
            "ABCDEFGHIJKLMNOPQRSTUVWXYZ\n",
            "abcdefghijklmnopqrstuvwxyz\n"
          ]
        }
      ],
      "source": [
        "letters = string.ascii_lowercase\n",
        "letters_upper = string.ascii_uppercase\n",
        "# for _i in range(0, 10):\n",
        "#     letters += letters\n",
        "\n",
        "# for _i in range(0, 10):\n",
        "#     letters += letters_upper\n",
        "\n",
        "print(letters_upper)\n",
        "print(letters)"
      ]
    },
    {
      "cell_type": "code",
      "execution_count": null,
      "metadata": {
        "id": "5OlSrmF1uqWT",
        "outputId": "a69aca24-b319-4e0e-9c10-db60078555fd"
      },
      "outputs": [
        {
          "name": "stdout",
          "output_type": "stream",
          "text": [
            "awcXODFvtM\n"
          ]
        }
      ],
      "source": [
        "letters = letters + letters_upper\n",
        "def random_string(stringLength=10):\n",
        "    \"\"\"Generate a random string of fixed length \"\"\"\n",
        "    return ''.join(random.sample(letters, stringLength))\n",
        "    \n",
        "\n",
        "print(random_string())"
      ]
    },
    {
      "cell_type": "markdown",
      "metadata": {
        "id": "qqQudhxkuqWT"
      },
      "source": [
        "#### Date Time list between 2 given datetimes"
      ]
    },
    {
      "cell_type": "code",
      "execution_count": null,
      "metadata": {
        "id": "cTLfH7aGuqWU",
        "outputId": "098a418b-6e58-4fa0-8187-43174d2a1654"
      },
      "outputs": [
        {
          "data": {
            "text/plain": [
              "DatetimeIndex(['2012-05-25 00:00:00', '2012-05-25 02:30:00',\n",
              "               '2012-05-25 05:00:00', '2012-05-25 07:30:00',\n",
              "               '2012-05-25 10:00:00', '2012-05-25 12:30:00',\n",
              "               '2012-05-25 15:00:00', '2012-05-25 17:30:00',\n",
              "               '2012-05-25 20:00:00', '2012-05-25 22:30:00'],\n",
              "              dtype='datetime64[ns]', freq='150T')"
            ]
          },
          "execution_count": 42,
          "metadata": {},
          "output_type": "execute_result"
        }
      ],
      "source": [
        "import pandas as pd                                                             # Freq\n",
        "# pd.date_range('2012-05-25', '2012-05-30', freq='D')                             # Day\n",
        "# pd.date_range('2012-05-25', '2012-05-30', freq='B')                             # Business Day\n",
        "# pd.date_range('2012-05-25', '2012-06-30', freq='W')                             # Week days\n",
        "# pd.date_range('2012-05-25', '2012-06-25', freq='M')                             # month ends\n",
        "# pd.date_range('2012-05-25', '2012-05-26', freq='H')                             # Hourly\n",
        "# pd.date_range('2012-05-25', '2012-05-26', freq='2H')                            # 2-Hourly\n",
        "# pd.date_range('2012-05-25', '2012-05-26', freq='T')                             # Minutely \n",
        "# pd.date_range('2012-05-25 00:00:00', '2012-05-25 00:00:30', freq='S')           # Seconds\n",
        "pd.date_range('2012-05-25', '2012-05-26', freq='2h30min')                         # 2:30 freq\n",
        "\n"
      ]
    },
    {
      "cell_type": "code",
      "execution_count": null,
      "metadata": {
        "id": "w8jxRSVKuqWU",
        "outputId": "128f1a83-d505-4644-a804-1fe78d5fee58"
      },
      "outputs": [
        {
          "data": {
            "text/plain": [
              "'Saturday'"
            ]
          },
          "execution_count": 44,
          "metadata": {},
          "output_type": "execute_result"
        }
      ],
      "source": [
        "# day on date\n",
        "date = pd.Timestamp('2012-05-26 00:00:00')\n",
        "date.day_name()"
      ]
    },
    {
      "cell_type": "code",
      "execution_count": null,
      "metadata": {
        "id": "p1Q_bfZeuqWU",
        "outputId": "507bcc43-78a9-44b7-dae4-33fb68279f1d"
      },
      "outputs": [
        {
          "data": {
            "text/plain": [
              "1"
            ]
          },
          "execution_count": 56,
          "metadata": {},
          "output_type": "execute_result"
        }
      ],
      "source": [
        "int('1')"
      ]
    },
    {
      "cell_type": "markdown",
      "metadata": {
        "id": "nyR_Q7OxuqWU"
      },
      "source": [
        "### Longest Common Substring in an Array of Strings"
      ]
    },
    {
      "cell_type": "code",
      "execution_count": null,
      "metadata": {
        "id": "CV71YVYmuqWV",
        "outputId": "41fb4723-78b2-416c-c9e2-14141e6f257f"
      },
      "outputs": [
        {
          "name": "stdout",
          "output_type": "stream",
          "text": [
            "8\n",
            "grace\n"
          ]
        }
      ],
      "source": [
        "# arr = [\"flower\",\"floride\",\"flu\",\"fluent\"]\n",
        "arr = ['graceful','grace','disgraceful','gracefully']\n",
        "\n",
        "\n",
        "# Determine size of the array\n",
        "n = len(arr)\n",
        "\n",
        "# Take first word from array\n",
        "# as reference\n",
        "s = arr[0]\n",
        "l = len(s)\n",
        "\n",
        "res = \"\"\n",
        "\n",
        "for i in range(l):\n",
        "    for j in range(i + 1, l + 1):\n",
        "\n",
        "        # generating all possible substrings\n",
        "        # of our reference string arr[0] i.e s\n",
        "        stem = s[i:j]\n",
        "        k = 1\n",
        "        for k in range(1, n):\n",
        "\n",
        "            # Check if the generated stem is\n",
        "            # common to all words\n",
        "            if stem not in arr[k]:\n",
        "                break\n",
        "\n",
        "        # If current substring is present in\n",
        "        # all strings and its length is greater\n",
        "        # than current result\n",
        "        if (k + 1 == n and len(res) < len(stem)):\n",
        "            res = stem\n",
        "print(res)\n",
        "\n"
      ]
    },
    {
      "cell_type": "markdown",
      "metadata": {
        "id": "wLcmyPP-uqWV"
      },
      "source": [
        "### reverse a string"
      ]
    },
    {
      "cell_type": "code",
      "execution_count": null,
      "metadata": {
        "id": "BCP-oR7NuqWV",
        "outputId": "bf8611c7-00b3-4b4a-a726-a178d9737d05"
      },
      "outputs": [
        {
          "name": "stdout",
          "output_type": "stream",
          "text": [
            "yahba\n"
          ]
        }
      ],
      "source": [
        "# reverse a string\n",
        "s = 'abhay'\n",
        "o = []\n",
        "for i in range(len(s)-1,-1,-1):\n",
        "    o.append(s[i])\n",
        "    out = ''.join(o)\n",
        "print(out)"
      ]
    },
    {
      "cell_type": "markdown",
      "metadata": {
        "id": "20lWFZtfuqWV"
      },
      "source": [
        "### File Handling\n",
        "\n",
        "\n",
        "https://www.w3schools.com/python/python_ref_file.asp"
      ]
    },
    {
      "cell_type": "code",
      "execution_count": null,
      "metadata": {
        "id": "suL7HigbuqWV"
      },
      "outputs": [],
      "source": [
        "x = open(\"test.txt\",\"rt\")"
      ]
    },
    {
      "cell_type": "markdown",
      "metadata": {
        "id": "N-PnIGewuqWV"
      },
      "source": [
        "\"r\" - Read - Default value. Opens a file for reading, error if the file does not exist\n",
        "\n",
        "\"a\" - Append - Opens a file for appending, creates the file if it does not exist\n",
        "\n",
        "\"w\" - Write - Opens a file for writing, creates the file if it does not exist\n",
        "\n",
        "\"x\" - Create - Creates the specified file, returns an error if the file exists"
      ]
    },
    {
      "cell_type": "markdown",
      "metadata": {
        "id": "7awx4VanuqWW"
      },
      "source": [
        "\"t\" - Text - Default value. Text mode\n",
        "\n",
        "\"b\" - Binary - Binary mode (e.g. images)"
      ]
    },
    {
      "cell_type": "code",
      "execution_count": null,
      "metadata": {
        "id": "fFMnJrebuqWW",
        "outputId": "fa450b38-0bbf-4680-b9b9-009d051c0db4"
      },
      "outputs": [
        {
          "data": {
            "text/plain": [
              "'this file is used to learn python file handling\\n'"
            ]
          },
          "execution_count": 54,
          "metadata": {},
          "output_type": "execute_result"
        }
      ],
      "source": [
        "x.read()"
      ]
    },
    {
      "cell_type": "markdown",
      "metadata": {
        "id": "7eln2Jw0uqWW"
      },
      "source": [
        "#### open file from another location"
      ]
    },
    {
      "cell_type": "code",
      "execution_count": null,
      "metadata": {
        "id": "TxMAOXnvuqWW",
        "outputId": "5663c54e-5ee0-49fa-af93-84086d4afcfa"
      },
      "outputs": [
        {
          "data": {
            "text/plain": [
              "'this is another doc in Documents\\nto practice file handling'"
            ]
          },
          "execution_count": 66,
          "metadata": {},
          "output_type": "execute_result"
        }
      ],
      "source": [
        "x = open(\"/home/futurense/Documents/test2.txt\",\"rt\")\n",
        "x.read()"
      ]
    },
    {
      "cell_type": "code",
      "execution_count": null,
      "metadata": {
        "id": "5-KXVPluuqWW",
        "outputId": "e9fe3f44-677b-4fc9-88b4-c7f1eacb4aa3"
      },
      "outputs": [
        {
          "data": {
            "text/plain": [
              "'this is another doc in Documents\\n'"
            ]
          },
          "execution_count": 69,
          "metadata": {},
          "output_type": "execute_result"
        }
      ],
      "source": [
        "x = open(\"/home/futurense/Documents/test2.txt\",\"rt\")\n",
        "x.readline()"
      ]
    },
    {
      "cell_type": "code",
      "execution_count": null,
      "metadata": {
        "id": "_uJ0yfAWuqWW",
        "outputId": "5c4cfbad-2f21-47f6-f24c-fb69e42ed15f"
      },
      "outputs": [
        {
          "name": "stdout",
          "output_type": "stream",
          "text": [
            "this is another doc in Documents\n",
            "\n",
            "to practice file handling\n"
          ]
        }
      ],
      "source": [
        "x = open(\"/home/futurense/Documents/test2.txt\",\"rt\")\n",
        "for i in x:\n",
        "    print(i)\n",
        "\n",
        "x.close()"
      ]
    },
    {
      "cell_type": "markdown",
      "metadata": {
        "id": "1A02iStmuqWW"
      },
      "source": [
        "#### write to a exisiting file\n",
        "\n",
        "\"a\" - Append - will append to the end of the file\n",
        "\n",
        "\"w\" - Write - will overwrite any existing content\n",
        "\n"
      ]
    },
    {
      "cell_type": "code",
      "execution_count": null,
      "metadata": {
        "id": "xIJkrw7QuqWW",
        "outputId": "94eb8dfb-f764-4128-86a8-337b6ee14c21"
      },
      "outputs": [
        {
          "data": {
            "text/plain": [
              "'this file is used to learn python file handling\\nThis text is written via python codeThis text is written via python code'"
            ]
          },
          "execution_count": 75,
          "metadata": {},
          "output_type": "execute_result"
        }
      ],
      "source": [
        "x = open(\"test.txt\",\"a\")\n",
        "x.write(\"This text is written via python code\")\n",
        "x.close()\n",
        "\n",
        "x = open(\"test.txt\",\"rt\")\n",
        "x.read()"
      ]
    },
    {
      "cell_type": "markdown",
      "metadata": {
        "id": "anYKja00uqWX"
      },
      "source": [
        "#### create new file\n",
        "\"x\" - Create - will create a file, returns an error if the file exist\n",
        "\n",
        "\"a\" - Append - will create a file if the specified file does not exist\n",
        "\n",
        "\"w\" - Write - will create a file if the specified file does not exist\n"
      ]
    },
    {
      "cell_type": "code",
      "execution_count": null,
      "metadata": {
        "id": "RgTKf2bbuqWX",
        "outputId": "0f115882-b654-41f6-c63e-0585946ff0dd"
      },
      "outputs": [
        {
          "data": {
            "text/plain": [
              "'This text is written & created via python code'"
            ]
          },
          "execution_count": 78,
          "metadata": {},
          "output_type": "execute_result"
        }
      ],
      "source": [
        "x = open(\"test2.txt\",\"x\")\n",
        "x.write(\"This text is written & created via python code\")\n",
        "x.close()\n",
        "\n",
        "x = open(\"test2.txt\",\"rt\")\n",
        "x.read()"
      ]
    },
    {
      "cell_type": "markdown",
      "metadata": {
        "id": "GQUrHPyquqWX"
      },
      "source": [
        "#### remove file & folders"
      ]
    },
    {
      "cell_type": "code",
      "execution_count": null,
      "metadata": {
        "id": "DqrIYfwYuqWX"
      },
      "outputs": [],
      "source": [
        "# delete file if does not exist gives error\n",
        "\n",
        "import os\n",
        "os.remove(\"test2.txt\")\n"
      ]
    },
    {
      "cell_type": "code",
      "execution_count": null,
      "metadata": {
        "id": "U-VSgqjpuqWX",
        "outputId": "db4ca190-f3cf-43b8-926d-08a428ec1662"
      },
      "outputs": [
        {
          "name": "stdout",
          "output_type": "stream",
          "text": [
            "The file does not exist\n"
          ]
        }
      ],
      "source": [
        "# check file if exist delete\n",
        "import os\n",
        "if os.path.exists(\"test2.txt\"):\n",
        "  os.remove(\"test2.txt\")\n",
        "else:\n",
        "  print(\"The file does not exist\")\n"
      ]
    },
    {
      "cell_type": "code",
      "execution_count": null,
      "metadata": {
        "id": "_jq5NbmauqWX"
      },
      "outputs": [],
      "source": [
        "# deletes folder\n",
        "import os\n",
        "os.rmdir(\"myfolder\")"
      ]
    },
    {
      "cell_type": "markdown",
      "metadata": {
        "id": "XraM_j_SfUrD"
      },
      "source": [
        "### CamelCase and snake_case\n",
        "\n"
      ]
    },
    {
      "cell_type": "code",
      "execution_count": null,
      "metadata": {
        "colab": {
          "base_uri": "https://localhost:8080/"
        },
        "id": "da1CqXpWuqWX",
        "outputId": "6ce8e7a4-92f8-43d1-bfa4-a29517513b00"
      },
      "outputs": [
        {
          "name": "stdout",
          "output_type": "stream",
          "text": [
            "5\n"
          ]
        }
      ],
      "source": [
        "# find number of words in camel case\n",
        "\n",
        "s = \"saveChangesInTheEditor\"\n",
        "c = 1\n",
        "for i in s:\n",
        "  if i.isupper():\n",
        "    c += 1\n",
        "print(c)"
      ]
    },
    {
      "cell_type": "code",
      "execution_count": null,
      "metadata": {
        "id": "UymP01aRuqWX"
      },
      "outputs": [],
      "source": [
        "# Password\n",
        "\n",
        "numbers = \"0123456789\"\n",
        "lower_case = \"abcdefghijklmnopqrstuvwxyz\"\n",
        "upper_case = \"ABCDEFGHIJKLMNOPQRSTUVWXYZ\"\n",
        "special_characters = \"!@#$%^&*()-+\"\n",
        "\n"
      ]
    },
    {
      "cell_type": "code",
      "execution_count": null,
      "metadata": {
        "id": "Tesl8FIeuqWY"
      },
      "outputs": [],
      "source": [
        "### Sum of list"
      ]
    },
    {
      "cell_type": "code",
      "execution_count": null,
      "metadata": {
        "colab": {
          "base_uri": "https://localhost:8080/"
        },
        "id": "TTQM6pGsujS9",
        "outputId": "ebe81df2-1868-4f5e-d485-1a3aa5d85577"
      },
      "outputs": [
        {
          "name": "stdout",
          "output_type": "stream",
          "text": [
            "[1, 2, 3, 4, 'adfd']\n",
            "10(2, 3, 4, 5, 6)\n",
            "30(3, 4, 5, 6, 7)\n",
            "55{4, 5, 45, 23, 444}\n",
            "576['ineuron', 'data science']\n",
            "576\n",
            " 576\n"
          ]
        }
      ],
      "source": [
        "l=[[1,2,3,4,'adfd'],(2,3,4,5,6),(3,4,5,6,7),set([23,4,5,45,4,4,5,4,5,4,5,5]),{'k1':\"sudh\",'k2':'ineuron','k3':'kumar',3:6,7:8},[\"ineuron\",\"data science\"]]\n",
        "sum = 0\n",
        "for i in l:\n",
        "  if type(i) in [list,set,tuple]:\n",
        "    print(i)\n",
        "    for j in i:\n",
        "      if type(j) == int:\n",
        "        sum += j\n",
        "    print(sum,end = '')\n",
        "print('\\n',sum)"
      ]
    },
    {
      "cell_type": "code",
      "execution_count": null,
      "metadata": {
        "colab": {
          "base_uri": "https://localhost:8080/"
        },
        "id": "M_RzCkRgvh12",
        "outputId": "648a9e3f-8513-4e39-ff91-f3e7c450227b"
      },
      "outputs": [
        {
          "name": "stdout",
          "output_type": "stream",
          "text": [
            "yes\n"
          ]
        }
      ],
      "source": [
        "if type(l) == set:\n",
        "  # in ['list','set']:\n",
        "  print('yes')\n",
        "else:\n",
        "  print('no')"
      ]
    },
    {
      "cell_type": "markdown",
      "metadata": {
        "id": "NGnFg3QgJ4Hi"
      },
      "source": [
        "# Dynamic Programming\n",
        "\n",
        "https://www.youtube.com/watch?v=oBt53YbR9Kk&ab_channel=freeCodeCamp.org"
      ]
    },
    {
      "cell_type": "markdown",
      "metadata": {
        "id": "G-afkczxJnWl"
      },
      "source": [
        "### Find the n-th number in fibonacci series"
      ]
    },
    {
      "cell_type": "code",
      "execution_count": null,
      "metadata": {
        "id": "TgPP0rId-ezc"
      },
      "outputs": [],
      "source": [
        "def fib(n):\n",
        "  if n <= 2:\n",
        "    return 1\n",
        "  return fib(n-1)+fib(n-2)"
      ]
    },
    {
      "cell_type": "code",
      "execution_count": null,
      "metadata": {
        "colab": {
          "base_uri": "https://localhost:8080/"
        },
        "id": "b1iSdG54-9u-",
        "outputId": "53084b93-9082-4b77-fb96-e097a3f4d4f0"
      },
      "outputs": [
        {
          "data": {
            "text/plain": [
              "[1, 1, 2, 3, 5, 8, 13]"
            ]
          },
          "execution_count": 13,
          "metadata": {},
          "output_type": "execute_result"
        }
      ],
      "source": [
        "n = 7\n",
        "[fib(i) for i in range(1,n+1)]"
      ]
    },
    {
      "cell_type": "code",
      "execution_count": null,
      "metadata": {
        "colab": {
          "base_uri": "https://localhost:8080/"
        },
        "id": "TTPhoDK8S1Cm",
        "outputId": "6638a447-f89f-4510-f215-b31f5cae5a89"
      },
      "outputs": [
        {
          "data": {
            "text/plain": [
              "13"
            ]
          },
          "execution_count": 33,
          "metadata": {},
          "output_type": "execute_result"
        }
      ],
      "source": [
        "fib(7)"
      ]
    },
    {
      "cell_type": "markdown",
      "metadata": {
        "id": "fV-_ez57Jqav"
      },
      "source": [
        "#### Fibonacci using Dynamic programming"
      ]
    },
    {
      "cell_type": "code",
      "execution_count": null,
      "metadata": {
        "id": "3aR6GQvgF2co"
      },
      "outputs": [],
      "source": [
        "# memoization\n",
        "\n",
        "def fib_dyn(n, memo = {}):\n",
        "  if n in memo:\n",
        "    return memo[n]\n",
        "  if n <= 2:\n",
        "    return 1\n",
        "  memo[n] = fib(n-1, memo)+fib(n-2, memo)   \n",
        "  return memo[n]"
      ]
    },
    {
      "cell_type": "code",
      "execution_count": null,
      "metadata": {
        "colab": {
          "base_uri": "https://localhost:8080/"
        },
        "id": "oeOWAbUtHetL",
        "outputId": "3d84b3cc-2b1e-4aea-b5f8-2eabc8298ad4"
      },
      "outputs": [
        {
          "data": {
            "text/plain": [
              "12586269025"
            ]
          },
          "execution_count": 35,
          "metadata": {},
          "output_type": "execute_result"
        }
      ],
      "source": [
        "fib_dyn(50)"
      ]
    },
    {
      "cell_type": "markdown",
      "metadata": {
        "id": "iZAm5_rhJvXR"
      },
      "source": [
        "### Count the number of different ways to move through a 6×9 grid.\n",
        "'''\n",
        "Say that you are a traveler ona2D grid.You begin in the\n",
        "top-left corner and your goal is to travel to the bottom-right\n",
        "corner.You may only move down or right.\n",
        "In how many ways can you travel to the goal onagrid with\n",
        "dimensionsm*n?\n",
        "'''"
      ]
    },
    {
      "cell_type": "code",
      "execution_count": null,
      "metadata": {
        "id": "WSG1u9lH_9U-"
      },
      "outputs": [],
      "source": []
    },
    {
      "cell_type": "markdown",
      "metadata": {
        "id": "IlPYSupSJySQ"
      },
      "source": [
        "### Givenaset of coins,how can we make 27 cents in the least number of coins?"
      ]
    },
    {
      "cell_type": "code",
      "execution_count": null,
      "metadata": {
        "id": "9Yvb2b19_1gT"
      },
      "outputs": [],
      "source": []
    },
    {
      "cell_type": "code",
      "execution_count": null,
      "metadata": {
        "id": "Sb85WxoE_9rp"
      },
      "outputs": [],
      "source": []
    },
    {
      "cell_type": "markdown",
      "metadata": {
        "id": "mcikfFRFJ021"
      },
      "source": [
        "### Givenaset of substrings,what are the possible ways to construct the string'potentpot'"
      ]
    },
    {
      "cell_type": "code",
      "execution_count": null,
      "metadata": {
        "id": "Xg3OGQTRABZ_"
      },
      "outputs": [],
      "source": []
    },
    {
      "cell_type": "markdown",
      "metadata": {
        "id": "paWOlTba2HSq"
      },
      "source": [
        "# Tiger mettle test Questions"
      ]
    },
    {
      "cell_type": "code",
      "execution_count": null,
      "metadata": {
        "id": "mzdQfGb12KV0"
      },
      "outputs": [],
      "source": [
        "def foo(num1):\n",
        "  num1 = 6\n",
        "  def bar(num2):\n",
        "    num2 = 5\n",
        "    print(num1 * num2)\n",
        "  return bar"
      ]
    },
    {
      "cell_type": "code",
      "execution_count": null,
      "metadata": {
        "colab": {
          "base_uri": "https://localhost:8080/"
        },
        "id": "KyDMuQG82Xt6",
        "outputId": "b9746376-9e4e-4ad6-e6c9-397ac27d68ca"
      },
      "outputs": [
        {
          "name": "stdout",
          "output_type": "stream",
          "text": [
            "30\n"
          ]
        }
      ],
      "source": [
        "ans = foo(7)\n",
        "ans(3)"
      ]
    },
    {
      "cell_type": "code",
      "execution_count": null,
      "metadata": {
        "colab": {
          "base_uri": "https://localhost:8080/"
        },
        "id": "fDctnxIC2a4a",
        "outputId": "a803c99e-7bb5-4d79-bef5-64ececaedd93"
      },
      "outputs": [
        {
          "name": "stdout",
          "output_type": "stream",
          "text": [
            "30\n"
          ]
        }
      ],
      "source": [
        "ans = foo(9)\n",
        "ans(2)"
      ]
    },
    {
      "cell_type": "code",
      "execution_count": null,
      "metadata": {
        "colab": {
          "base_uri": "https://localhost:8080/"
        },
        "id": "x07pcPqn2iI3",
        "outputId": "fe9d48e3-69f5-4274-8195-35ded752746f"
      },
      "outputs": [
        {
          "data": {
            "text/plain": [
              "['12345678']"
            ]
          },
          "execution_count": 15,
          "metadata": {},
          "output_type": "execute_result"
        }
      ],
      "source": [
        "a = list(\"12345678\".split())\n",
        "\n",
        "a"
      ]
    },
    {
      "cell_type": "code",
      "execution_count": null,
      "metadata": {
        "id": "E4vPPUw72yxz"
      },
      "outputs": [],
      "source": [
        "a[0] = a[6] = 0\n",
        "a[1] = a[-7]"
      ]
    },
    {
      "cell_type": "code",
      "execution_count": null,
      "metadata": {
        "colab": {
          "base_uri": "https://localhost:8080/",
          "height": 165
        },
        "id": "4EpuhWB52zr2",
        "outputId": "f9482703-a28a-4321-fcac-6febe642c4e4"
      },
      "outputs": [
        {
          "ename": "TypeError",
          "evalue": "ignored",
          "output_type": "error",
          "traceback": [
            "\u001b[0;31m---------------------------------------------------------------------------\u001b[0m",
            "\u001b[0;31mTypeError\u001b[0m                                 Traceback (most recent call last)",
            "\u001b[0;32m<ipython-input-14-8b0d0d2bdf71>\u001b[0m in \u001b[0;36m<module>\u001b[0;34m()\u001b[0m\n\u001b[0;32m----> 1\u001b[0;31m \u001b[0;34m\"\"\u001b[0m\u001b[0;34m.\u001b[0m\u001b[0mjoin\u001b[0m\u001b[0;34m(\u001b[0m\u001b[0ma\u001b[0m\u001b[0;34m)\u001b[0m\u001b[0;34m\u001b[0m\u001b[0;34m\u001b[0m\u001b[0m\n\u001b[0m",
            "\u001b[0;31mTypeError\u001b[0m: sequence item 0: expected str instance, int found"
          ]
        }
      ],
      "source": [
        "\"\".join(a)"
      ]
    },
    {
      "cell_type": "code",
      "execution_count": null,
      "metadata": {
        "id": "bI-Kv9tM3krE"
      },
      "outputs": [],
      "source": []
    }
  ],
  "metadata": {
    "colab": {
      "include_colab_link": true,
      "provenance": [],
      "toc_visible": true
    },
    "kernelspec": {
      "display_name": "Python 3.10.5 64-bit (windows store)",
      "language": "python",
      "name": "python3"
    },
    "language_info": {
      "codemirror_mode": {
        "name": "ipython",
        "version": 3
      },
      "file_extension": ".py",
      "mimetype": "text/x-python",
      "name": "python",
      "nbconvert_exporter": "python",
      "pygments_lexer": "ipython3",
      "version": "3.10.5"
    },
    "vscode": {
      "interpreter": {
        "hash": "03907e5ccf5f560833f2bd58417c8a4a9322d425f1e41b3e0328c5bf27da6767"
      }
    }
  },
  "nbformat": 4,
  "nbformat_minor": 0
}
